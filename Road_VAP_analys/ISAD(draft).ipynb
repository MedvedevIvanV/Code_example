{
 "cells": [
  {
   "cell_type": "code",
   "execution_count": 1,
   "metadata": {},
   "outputs": [],
   "source": [
    "import networkx as nx\n",
    "import numpy as np\n",
    "import pandas as pd\n",
    "import seaborn as sns\n",
    "import matplotlib.pyplot as plt"
   ]
  },
  {
   "cell_type": "code",
   "execution_count": 3,
   "metadata": {},
   "outputs": [],
   "source": [
    "import struct\n",
    "\n",
    "N=944 # размер матрицы данных в файле grd\n",
    "R = np.zeros ((N, N)) # матрица для прочитанных данных\n",
    "\n",
    "def ReadFile(fname):\n",
    "    try:\n",
    "        f=open(fname, \"rb\")\n",
    "        C=f.read(4).decode(\"utf-8\")\n",
    "        N_x=int.from_bytes(f.read(2), \"little\") # кол-во ячеек по Х\n",
    "        N_y=int.from_bytes(f.read(2), \"little\") # кол-во ячеек по Y\n",
    "        P=struct.unpack('6d', f.read(6*8))\n",
    "        Matr = np.zeros ((N, N))\n",
    "        # далее читаем матрицу построчно и записываем в Matr\n",
    "        for i in range(N):\n",
    "            for j in range(N):\n",
    "                temp=struct.unpack('f', f.read(4))\n",
    "                Matr[i][j]=temp[0]     \n",
    "           \n",
    "    except IOError:\n",
    "        print(\"An IOError has occurred!\")\n",
    "    finally:\n",
    "        f.close()\n",
    "    return Matr"
   ]
  },
  {
   "cell_type": "code",
   "execution_count": 52,
   "metadata": {},
   "outputs": [],
   "source": [
    "df = pd.read_csv(\"Data/координаты_дорог_ВАП.txt\", sep=\"\\t\", names=['index', 'i', 'j', 'id_road'])"
   ]
  },
  {
   "cell_type": "code",
   "execution_count": 5,
   "metadata": {},
   "outputs": [
    {
     "data": {
      "text/html": [
       "<div>\n",
       "<style scoped>\n",
       "    .dataframe tbody tr th:only-of-type {\n",
       "        vertical-align: middle;\n",
       "    }\n",
       "\n",
       "    .dataframe tbody tr th {\n",
       "        vertical-align: top;\n",
       "    }\n",
       "\n",
       "    .dataframe thead th {\n",
       "        text-align: right;\n",
       "    }\n",
       "</style>\n",
       "<table border=\"1\" class=\"dataframe\">\n",
       "  <thead>\n",
       "    <tr style=\"text-align: right;\">\n",
       "      <th></th>\n",
       "      <th>index</th>\n",
       "      <th>i</th>\n",
       "      <th>j</th>\n",
       "      <th>id_road</th>\n",
       "    </tr>\n",
       "  </thead>\n",
       "  <tbody>\n",
       "    <tr>\n",
       "      <th>0</th>\n",
       "      <td>1</td>\n",
       "      <td>676</td>\n",
       "      <td>198</td>\n",
       "      <td>1</td>\n",
       "    </tr>\n",
       "    <tr>\n",
       "      <th>1</th>\n",
       "      <td>2</td>\n",
       "      <td>675</td>\n",
       "      <td>198</td>\n",
       "      <td>1</td>\n",
       "    </tr>\n",
       "    <tr>\n",
       "      <th>2</th>\n",
       "      <td>3</td>\n",
       "      <td>675</td>\n",
       "      <td>199</td>\n",
       "      <td>1</td>\n",
       "    </tr>\n",
       "    <tr>\n",
       "      <th>3</th>\n",
       "      <td>4</td>\n",
       "      <td>674</td>\n",
       "      <td>199</td>\n",
       "      <td>1</td>\n",
       "    </tr>\n",
       "    <tr>\n",
       "      <th>4</th>\n",
       "      <td>5</td>\n",
       "      <td>674</td>\n",
       "      <td>200</td>\n",
       "      <td>1</td>\n",
       "    </tr>\n",
       "  </tbody>\n",
       "</table>\n",
       "</div>"
      ],
      "text/plain": [
       "   index    i    j  id_road\n",
       "0      1  676  198        1\n",
       "1      2  675  198        1\n",
       "2      3  675  199        1\n",
       "3      4  674  199        1\n",
       "4      5  674  200        1"
      ]
     },
     "execution_count": 5,
     "metadata": {},
     "output_type": "execute_result"
    }
   ],
   "source": [
    "df.head()"
   ]
  },
  {
   "cell_type": "code",
   "execution_count": 53,
   "metadata": {},
   "outputs": [],
   "source": [
    "number_road = np.sort(df['id_road'].unique())\n",
    "# длина дороги\n",
    "road_len = [df[df['id_road'] == i]['id_road'].count() for i in number_road]\n",
    "# координаты дороги\n",
    "i_coordinate_road = pd.Series([i for i in df[df['id_road']==k]['i']] for k in number_road)\n",
    "j_coordinate_road = pd.Series([j for j in df[df['id_road']==k]['j']] for k in number_road)"
   ]
  },
  {
   "cell_type": "code",
   "execution_count": 54,
   "metadata": {},
   "outputs": [],
   "source": [
    "d = {'id_road' : number_road, 'i_coordinate' : i_coordinate_road, 'j_coordinate' : j_coordinate_road, 'len_road' : road_len}\n",
    "ds = pd.DataFrame(d)"
   ]
  },
  {
   "cell_type": "code",
   "execution_count": 8,
   "metadata": {},
   "outputs": [
    {
     "data": {
      "text/html": [
       "<div>\n",
       "<style scoped>\n",
       "    .dataframe tbody tr th:only-of-type {\n",
       "        vertical-align: middle;\n",
       "    }\n",
       "\n",
       "    .dataframe tbody tr th {\n",
       "        vertical-align: top;\n",
       "    }\n",
       "\n",
       "    .dataframe thead th {\n",
       "        text-align: right;\n",
       "    }\n",
       "</style>\n",
       "<table border=\"1\" class=\"dataframe\">\n",
       "  <thead>\n",
       "    <tr style=\"text-align: right;\">\n",
       "      <th></th>\n",
       "      <th>id_road</th>\n",
       "      <th>i_coordinate</th>\n",
       "      <th>j_coordinate</th>\n",
       "      <th>len_road</th>\n",
       "    </tr>\n",
       "  </thead>\n",
       "  <tbody>\n",
       "    <tr>\n",
       "      <th>0</th>\n",
       "      <td>1</td>\n",
       "      <td>[676, 675, 675, 674, 674, 674, 673, 673, 672, ...</td>\n",
       "      <td>[198, 198, 199, 199, 200, 201, 202, 203, 203, ...</td>\n",
       "      <td>110</td>\n",
       "    </tr>\n",
       "    <tr>\n",
       "      <th>1</th>\n",
       "      <td>2</td>\n",
       "      <td>[657, 656, 656, 655, 655, 654, 653, 653, 652, ...</td>\n",
       "      <td>[268, 268, 269, 269, 269, 269, 269, 269, 269, ...</td>\n",
       "      <td>44</td>\n",
       "    </tr>\n",
       "    <tr>\n",
       "      <th>2</th>\n",
       "      <td>3</td>\n",
       "      <td>[644, 644, 644, 644, 644, 644, 644, 644, 644, ...</td>\n",
       "      <td>[280, 279, 280, 281, 282, 283, 284, 285, 286, ...</td>\n",
       "      <td>35</td>\n",
       "    </tr>\n",
       "    <tr>\n",
       "      <th>3</th>\n",
       "      <td>4</td>\n",
       "      <td>[645, 645, 645, 645, 645, 645, 645, 645, 645, ...</td>\n",
       "      <td>[310, 310, 311, 311, 312, 312, 313, 313, 314, ...</td>\n",
       "      <td>44</td>\n",
       "    </tr>\n",
       "    <tr>\n",
       "      <th>4</th>\n",
       "      <td>5</td>\n",
       "      <td>[643, 643, 643, 643, 643, 642, 642, 642, 642, ...</td>\n",
       "      <td>[336, 337, 337, 338, 338, 339, 339, 340, 340, ...</td>\n",
       "      <td>33</td>\n",
       "    </tr>\n",
       "  </tbody>\n",
       "</table>\n",
       "</div>"
      ],
      "text/plain": [
       "   id_road                                       i_coordinate  \\\n",
       "0        1  [676, 675, 675, 674, 674, 674, 673, 673, 672, ...   \n",
       "1        2  [657, 656, 656, 655, 655, 654, 653, 653, 652, ...   \n",
       "2        3  [644, 644, 644, 644, 644, 644, 644, 644, 644, ...   \n",
       "3        4  [645, 645, 645, 645, 645, 645, 645, 645, 645, ...   \n",
       "4        5  [643, 643, 643, 643, 643, 642, 642, 642, 642, ...   \n",
       "\n",
       "                                        j_coordinate  len_road  \n",
       "0  [198, 198, 199, 199, 200, 201, 202, 203, 203, ...       110  \n",
       "1  [268, 268, 269, 269, 269, 269, 269, 269, 269, ...        44  \n",
       "2  [280, 279, 280, 281, 282, 283, 284, 285, 286, ...        35  \n",
       "3  [310, 310, 311, 311, 312, 312, 313, 313, 314, ...        44  \n",
       "4  [336, 337, 337, 338, 338, 339, 339, 340, 340, ...        33  "
      ]
     },
     "execution_count": 8,
     "metadata": {},
     "output_type": "execute_result"
    }
   ],
   "source": [
    "ds.head()"
   ]
  },
  {
   "cell_type": "code",
   "execution_count": 15,
   "metadata": {},
   "outputs": [
    {
     "data": {
      "image/png": "[encoded data removed]",
      "text/plain": [
       "<Figure size 640x480 with 1 Axes>"
      ]
     },
     "metadata": {},
     "output_type": "display_data"
    }
   ],
   "source": [
    "G = nx.path_graph(5)\n",
    "nx.draw(G, with_labels=True)"
   ]
  },
  {
   "cell_type": "code",
   "execution_count": 107,
   "metadata": {},
   "outputs": [
    {
     "data": {
      "text/html": [
       "<div>\n",
       "<style scoped>\n",
       "    .dataframe tbody tr th:only-of-type {\n",
       "        vertical-align: middle;\n",
       "    }\n",
       "\n",
       "    .dataframe tbody tr th {\n",
       "        vertical-align: top;\n",
       "    }\n",
       "\n",
       "    .dataframe thead th {\n",
       "        text-align: right;\n",
       "    }\n",
       "</style>\n",
       "<table border=\"1\" class=\"dataframe\">\n",
       "  <thead>\n",
       "    <tr style=\"text-align: right;\">\n",
       "      <th></th>\n",
       "      <th>id_road</th>\n",
       "      <th>i_coordinate</th>\n",
       "      <th>j_coordinate</th>\n",
       "      <th>len_road</th>\n",
       "      <th>x</th>\n",
       "      <th>y</th>\n",
       "      <th>x_last</th>\n",
       "      <th>y_last</th>\n",
       "      <th>xy_last</th>\n",
       "      <th>xy</th>\n",
       "      <th>coordinate</th>\n",
       "      <th>len_neighbours</th>\n",
       "      <th>neighbours</th>\n",
       "    </tr>\n",
       "  </thead>\n",
       "  <tbody>\n",
       "    <tr>\n",
       "      <th>0</th>\n",
       "      <td>1</td>\n",
       "      <td>[676, 675, 675, 674, 674, 674, 673, 673, 672, ...</td>\n",
       "      <td>[198, 198, 199, 199, 200, 201, 202, 203, 203, ...</td>\n",
       "      <td>110</td>\n",
       "      <td>198</td>\n",
       "      <td>676</td>\n",
       "      <td>268</td>\n",
       "      <td>657</td>\n",
       "      <td>(268, 657)</td>\n",
       "      <td>(198, 676)</td>\n",
       "      <td>[(676, 198), (675, 198), (675, 199), (674, 199...</td>\n",
       "      <td>[109, 8, 236]</td>\n",
       "      <td>[2, 15, 32]</td>\n",
       "    </tr>\n",
       "    <tr>\n",
       "      <th>1</th>\n",
       "      <td>2</td>\n",
       "      <td>[657, 656, 656, 655, 655, 654, 653, 653, 652, ...</td>\n",
       "      <td>[268, 268, 269, 269, 269, 269, 269, 269, 269, ...</td>\n",
       "      <td>44</td>\n",
       "      <td>268</td>\n",
       "      <td>657</td>\n",
       "      <td>279</td>\n",
       "      <td>644</td>\n",
       "      <td>(279, 644)</td>\n",
       "      <td>(268, 657)</td>\n",
       "      <td>[(657, 268), (656, 268), (656, 269), (655, 269...</td>\n",
       "      <td>[44, 1]</td>\n",
       "      <td>[3, 16]</td>\n",
       "    </tr>\n",
       "    <tr>\n",
       "      <th>2</th>\n",
       "      <td>3</td>\n",
       "      <td>[644, 644, 644, 644, 644, 644, 644, 644, 644, ...</td>\n",
       "      <td>[280, 279, 280, 281, 282, 283, 284, 285, 286, ...</td>\n",
       "      <td>35</td>\n",
       "      <td>280</td>\n",
       "      <td>644</td>\n",
       "      <td>309</td>\n",
       "      <td>645</td>\n",
       "      <td>(309, 645)</td>\n",
       "      <td>(280, 644)</td>\n",
       "      <td>[(644, 280), (644, 279), (644, 280), (644, 281...</td>\n",
       "      <td>[0, 77, 0]</td>\n",
       "      <td>[33, 34, 73]</td>\n",
       "    </tr>\n",
       "    <tr>\n",
       "      <th>3</th>\n",
       "      <td>4</td>\n",
       "      <td>[645, 645, 645, 645, 645, 645, 645, 645, 645, ...</td>\n",
       "      <td>[310, 310, 311, 311, 312, 312, 313, 313, 314, ...</td>\n",
       "      <td>44</td>\n",
       "      <td>310</td>\n",
       "      <td>645</td>\n",
       "      <td>336</td>\n",
       "      <td>643</td>\n",
       "      <td>(336, 643)</td>\n",
       "      <td>(310, 645)</td>\n",
       "      <td>[(645, 310), (645, 310), (645, 311), (645, 311...</td>\n",
       "      <td>[43, 57]</td>\n",
       "      <td>[5, 35]</td>\n",
       "    </tr>\n",
       "    <tr>\n",
       "      <th>4</th>\n",
       "      <td>5</td>\n",
       "      <td>[643, 643, 643, 643, 643, 642, 642, 642, 642, ...</td>\n",
       "      <td>[336, 337, 337, 338, 338, 339, 339, 340, 340, ...</td>\n",
       "      <td>33</td>\n",
       "      <td>336</td>\n",
       "      <td>643</td>\n",
       "      <td>352</td>\n",
       "      <td>633</td>\n",
       "      <td>(352, 633)</td>\n",
       "      <td>(336, 643)</td>\n",
       "      <td>[(643, 336), (643, 337), (643, 337), (643, 338...</td>\n",
       "      <td>[32, 29]</td>\n",
       "      <td>[6, 20]</td>\n",
       "    </tr>\n",
       "  </tbody>\n",
       "</table>\n",
       "</div>"
      ],
      "text/plain": [
       "   id_road                                       i_coordinate  \\\n",
       "0        1  [676, 675, 675, 674, 674, 674, 673, 673, 672, ...   \n",
       "1        2  [657, 656, 656, 655, 655, 654, 653, 653, 652, ...   \n",
       "2        3  [644, 644, 644, 644, 644, 644, 644, 644, 644, ...   \n",
       "3        4  [645, 645, 645, 645, 645, 645, 645, 645, 645, ...   \n",
       "4        5  [643, 643, 643, 643, 643, 642, 642, 642, 642, ...   \n",
       "\n",
       "                                        j_coordinate  len_road    x    y  \\\n",
       "0  [198, 198, 199, 199, 200, 201, 202, 203, 203, ...       110  198  676   \n",
       "1  [268, 268, 269, 269, 269, 269, 269, 269, 269, ...        44  268  657   \n",
       "2  [280, 279, 280, 281, 282, 283, 284, 285, 286, ...        35  280  644   \n",
       "3  [310, 310, 311, 311, 312, 312, 313, 313, 314, ...        44  310  645   \n",
       "4  [336, 337, 337, 338, 338, 339, 339, 340, 340, ...        33  336  643   \n",
       "\n",
       "   x_last  y_last     xy_last          xy  \\\n",
       "0     268     657  (268, 657)  (198, 676)   \n",
       "1     279     644  (279, 644)  (268, 657)   \n",
       "2     309     645  (309, 645)  (280, 644)   \n",
       "3     336     643  (336, 643)  (310, 645)   \n",
       "4     352     633  (352, 633)  (336, 643)   \n",
       "\n",
       "                                          coordinate len_neighbours  \\\n",
       "0  [(676, 198), (675, 198), (675, 199), (674, 199...  [109, 8, 236]   \n",
       "1  [(657, 268), (656, 268), (656, 269), (655, 269...        [44, 1]   \n",
       "2  [(644, 280), (644, 279), (644, 280), (644, 281...     [0, 77, 0]   \n",
       "3  [(645, 310), (645, 310), (645, 311), (645, 311...       [43, 57]   \n",
       "4  [(643, 336), (643, 337), (643, 337), (643, 338...       [32, 29]   \n",
       "\n",
       "     neighbours  \n",
       "0   [2, 15, 32]  \n",
       "1       [3, 16]  \n",
       "2  [33, 34, 73]  \n",
       "3       [5, 35]  \n",
       "4       [6, 20]  "
      ]
     },
     "execution_count": 107,
     "metadata": {},
     "output_type": "execute_result"
    }
   ],
   "source": [
    "ds.head()"
   ]
  },
  {
   "cell_type": "code",
   "execution_count": 128,
   "metadata": {},
   "outputs": [],
   "source": [
    "a = [(i, j, k) for i in ds['id_road'].values \\\n",
    "    for j, k in zip(ds[ds['id_road'] == i]['neighbours'].values[0], \\\n",
    "        ds[ds['id_road'] == i]['len_neighbours'].values[0])]\n",
    "b = [(j, i, k) for i in ds['id_road'].values \\\n",
    "    for j, k in zip(ds[ds['id_road'] == i]['neighbours'].values[0], \\\n",
    "        ds[ds['id_road'] == i]['len_neighbours'].values[0])]\n",
    "c = a + b"
   ]
  },
  {
   "cell_type": "code",
   "execution_count": 141,
   "metadata": {},
   "outputs": [
    {
     "data": {
      "text/plain": [
       "[(53, 74, 38),\n",
       " (55, 76, 88),\n",
       " (56, 76, 1),\n",
       " (57, 74, 34),\n",
       " (57, 76, 78),\n",
       " (58, 62, 0),\n",
       " (61, 63, 13),\n",
       " (66, 67, 112),\n",
       " (70, 71, 84),\n",
       " (72, 84, 17),\n",
       " (73, 95, 24),\n",
       " (2, 1, 109),\n",
       " (15, 1, 8),\n",
       " (32, 1, 236),\n",
       " (3, 2, 44),\n",
       " (16, 2, 1),\n",
       " (33, 3, 0),\n",
       " (34, 3, 77),\n",
       " (73, 3, 0),\n",
       " (5, 4, 43),\n",
       " (35, 4, 57),\n",
       " (6, 5, 32),\n",
       " (20, 5, 29),\n",
       " (23, 7, 35),\n",
       " (43, 9, 53),\n",
       " (31, 12, 99),\n",
       " (64, 22, 235),\n",
       " (25, 24, 132),\n",
       " (33, 32, 132),\n",
       " (48, 32, 123),\n",
       " (73, 33, 0),\n",
       " (41, 40, 34),\n",
       " (52, 51, 54),\n",
       " (53, 51, 153),\n",
       " (74, 52, 132),\n",
       " (74, 53, 38),\n",
       " (76, 55, 88),\n",
       " (76, 56, 1),\n",
       " (74, 57, 34),\n",
       " (76, 57, 78),\n",
       " (62, 58, 0),\n",
       " (63, 61, 13),\n",
       " (67, 66, 112),\n",
       " (71, 70, 84),\n",
       " (84, 72, 17),\n",
       " (95, 73, 24)]"
      ]
     },
     "execution_count": 141,
     "metadata": {},
     "output_type": "execute_result"
    }
   ],
   "source": [
    "c[24:]"
   ]
  },
  {
   "cell_type": "code",
   "execution_count": 185,
   "metadata": {},
   "outputs": [],
   "source": [
    "G = nx.DiGraph()\n",
    "a = [(i, j, k) for i in ds['id_road'].values \\\n",
    "    for j, k in zip(ds[ds['id_road'] == i]['neighbours'].values[0], \\\n",
    "        ds[ds['id_road'] == i]['len_neighbours'].values[0])]\n",
    "G.add_weighted_edges_from(a)"
   ]
  },
  {
   "cell_type": "code",
   "execution_count": 164,
   "metadata": {},
   "outputs": [
    {
     "data": {
      "text/html": [
       "<div>\n",
       "<style scoped>\n",
       "    .dataframe tbody tr th:only-of-type {\n",
       "        vertical-align: middle;\n",
       "    }\n",
       "\n",
       "    .dataframe tbody tr th {\n",
       "        vertical-align: top;\n",
       "    }\n",
       "\n",
       "    .dataframe thead th {\n",
       "        text-align: right;\n",
       "    }\n",
       "</style>\n",
       "<table border=\"1\" class=\"dataframe\">\n",
       "  <thead>\n",
       "    <tr style=\"text-align: right;\">\n",
       "      <th></th>\n",
       "      <th>id_road</th>\n",
       "      <th>i_coordinate</th>\n",
       "      <th>j_coordinate</th>\n",
       "      <th>len_road</th>\n",
       "      <th>x</th>\n",
       "      <th>y</th>\n",
       "      <th>x_last</th>\n",
       "      <th>y_last</th>\n",
       "      <th>xy_last</th>\n",
       "      <th>xy</th>\n",
       "      <th>coordinate</th>\n",
       "      <th>len_neighbours</th>\n",
       "      <th>neighbours</th>\n",
       "    </tr>\n",
       "  </thead>\n",
       "  <tbody>\n",
       "    <tr>\n",
       "      <th>0</th>\n",
       "      <td>1</td>\n",
       "      <td>[676, 675, 675, 674, 674, 674, 673, 673, 672, ...</td>\n",
       "      <td>[198, 198, 199, 199, 200, 201, 202, 203, 203, ...</td>\n",
       "      <td>110</td>\n",
       "      <td>198</td>\n",
       "      <td>676</td>\n",
       "      <td>268</td>\n",
       "      <td>657</td>\n",
       "      <td>(268, 657)</td>\n",
       "      <td>(198, 676)</td>\n",
       "      <td>[(676, 198), (675, 198), (675, 199), (674, 199...</td>\n",
       "      <td>[109, 8, 236]</td>\n",
       "      <td>[2, 15, 32]</td>\n",
       "    </tr>\n",
       "    <tr>\n",
       "      <th>1</th>\n",
       "      <td>2</td>\n",
       "      <td>[657, 656, 656, 655, 655, 654, 653, 653, 652, ...</td>\n",
       "      <td>[268, 268, 269, 269, 269, 269, 269, 269, 269, ...</td>\n",
       "      <td>44</td>\n",
       "      <td>268</td>\n",
       "      <td>657</td>\n",
       "      <td>279</td>\n",
       "      <td>644</td>\n",
       "      <td>(279, 644)</td>\n",
       "      <td>(268, 657)</td>\n",
       "      <td>[(657, 268), (656, 268), (656, 269), (655, 269...</td>\n",
       "      <td>[44, 1]</td>\n",
       "      <td>[3, 16]</td>\n",
       "    </tr>\n",
       "    <tr>\n",
       "      <th>2</th>\n",
       "      <td>3</td>\n",
       "      <td>[644, 644, 644, 644, 644, 644, 644, 644, 644, ...</td>\n",
       "      <td>[280, 279, 280, 281, 282, 283, 284, 285, 286, ...</td>\n",
       "      <td>35</td>\n",
       "      <td>280</td>\n",
       "      <td>644</td>\n",
       "      <td>309</td>\n",
       "      <td>645</td>\n",
       "      <td>(309, 645)</td>\n",
       "      <td>(280, 644)</td>\n",
       "      <td>[(644, 280), (644, 279), (644, 280), (644, 281...</td>\n",
       "      <td>[0, 77, 0]</td>\n",
       "      <td>[33, 34, 73]</td>\n",
       "    </tr>\n",
       "    <tr>\n",
       "      <th>3</th>\n",
       "      <td>4</td>\n",
       "      <td>[645, 645, 645, 645, 645, 645, 645, 645, 645, ...</td>\n",
       "      <td>[310, 310, 311, 311, 312, 312, 313, 313, 314, ...</td>\n",
       "      <td>44</td>\n",
       "      <td>310</td>\n",
       "      <td>645</td>\n",
       "      <td>336</td>\n",
       "      <td>643</td>\n",
       "      <td>(336, 643)</td>\n",
       "      <td>(310, 645)</td>\n",
       "      <td>[(645, 310), (645, 310), (645, 311), (645, 311...</td>\n",
       "      <td>[43, 57]</td>\n",
       "      <td>[5, 35]</td>\n",
       "    </tr>\n",
       "    <tr>\n",
       "      <th>4</th>\n",
       "      <td>5</td>\n",
       "      <td>[643, 643, 643, 643, 643, 642, 642, 642, 642, ...</td>\n",
       "      <td>[336, 337, 337, 338, 338, 339, 339, 340, 340, ...</td>\n",
       "      <td>33</td>\n",
       "      <td>336</td>\n",
       "      <td>643</td>\n",
       "      <td>352</td>\n",
       "      <td>633</td>\n",
       "      <td>(352, 633)</td>\n",
       "      <td>(336, 643)</td>\n",
       "      <td>[(643, 336), (643, 337), (643, 337), (643, 338...</td>\n",
       "      <td>[32, 29]</td>\n",
       "      <td>[6, 20]</td>\n",
       "    </tr>\n",
       "  </tbody>\n",
       "</table>\n",
       "</div>"
      ],
      "text/plain": [
       "   id_road                                       i_coordinate  \\\n",
       "0        1  [676, 675, 675, 674, 674, 674, 673, 673, 672, ...   \n",
       "1        2  [657, 656, 656, 655, 655, 654, 653, 653, 652, ...   \n",
       "2        3  [644, 644, 644, 644, 644, 644, 644, 644, 644, ...   \n",
       "3        4  [645, 645, 645, 645, 645, 645, 645, 645, 645, ...   \n",
       "4        5  [643, 643, 643, 643, 643, 642, 642, 642, 642, ...   \n",
       "\n",
       "                                        j_coordinate  len_road    x    y  \\\n",
       "0  [198, 198, 199, 199, 200, 201, 202, 203, 203, ...       110  198  676   \n",
       "1  [268, 268, 269, 269, 269, 269, 269, 269, 269, ...        44  268  657   \n",
       "2  [280, 279, 280, 281, 282, 283, 284, 285, 286, ...        35  280  644   \n",
       "3  [310, 310, 311, 311, 312, 312, 313, 313, 314, ...        44  310  645   \n",
       "4  [336, 337, 337, 338, 338, 339, 339, 340, 340, ...        33  336  643   \n",
       "\n",
       "   x_last  y_last     xy_last          xy  \\\n",
       "0     268     657  (268, 657)  (198, 676)   \n",
       "1     279     644  (279, 644)  (268, 657)   \n",
       "2     309     645  (309, 645)  (280, 644)   \n",
       "3     336     643  (336, 643)  (310, 645)   \n",
       "4     352     633  (352, 633)  (336, 643)   \n",
       "\n",
       "                                          coordinate len_neighbours  \\\n",
       "0  [(676, 198), (675, 198), (675, 199), (674, 199...  [109, 8, 236]   \n",
       "1  [(657, 268), (656, 268), (656, 269), (655, 269...        [44, 1]   \n",
       "2  [(644, 280), (644, 279), (644, 280), (644, 281...     [0, 77, 0]   \n",
       "3  [(645, 310), (645, 310), (645, 311), (645, 311...       [43, 57]   \n",
       "4  [(643, 336), (643, 337), (643, 337), (643, 338...       [32, 29]   \n",
       "\n",
       "     neighbours  \n",
       "0   [2, 15, 32]  \n",
       "1       [3, 16]  \n",
       "2  [33, 34, 73]  \n",
       "3       [5, 35]  \n",
       "4       [6, 20]  "
      ]
     },
     "execution_count": 164,
     "metadata": {},
     "output_type": "execute_result"
    }
   ],
   "source": [
    "ds.head()"
   ]
  },
  {
   "cell_type": "code",
   "execution_count": 191,
   "metadata": {},
   "outputs": [
    {
     "data": {
      "text/plain": [
       "14    [2]\n",
       "Name: neighbours, dtype: object"
      ]
     },
     "execution_count": 191,
     "metadata": {},
     "output_type": "execute_result"
    }
   ],
   "source": [
    "ds[ds['id_road'] == 16]['neighbours']"
   ]
  },
  {
   "cell_type": "code",
   "execution_count": 190,
   "metadata": {},
   "outputs": [
    {
     "data": {
      "image/png": "[encoded data removed]",
      "text/plain": [
       "<Figure size 640x480 with 1 Axes>"
      ]
     },
     "metadata": {},
     "output_type": "display_data"
    }
   ],
   "source": [
    "predecessors, _ = nx.floyd_warshall_predecessor_and_distance(G)\n",
    "j = int(input(\"Введите от какой дороги считать расстояние\"))\n",
    "try:\n",
    "    shortest_path_s_v = nx.reconstruct_path(1, j, predecessors)\n",
    "    for j in ds['id_road']:\n",
    "        plt.plot(np.array(ds[ds['id_road'] == j]['j_coordinate'].to_list()).reshape(\\\n",
    "          int(ds[ds['id_road'] == j]['len_road'])), np.array(ds[ds['id_road'] == j]['i_coordinate'].to_list()).reshape(\\\n",
    "          int(ds[ds['id_road'] == j]['len_road'])), color='000')\n",
    "        plt.scatter(ds[ds['id_road'] == j]['j_coordinate'].values[0][0], ds[ds['id_road'] == j]['i_coordinate'].values[0][0], s=25, edgecolors='red')\n",
    "    for i in shortest_path_s_v:\n",
    "        plt.plot(np.array(ds[ds['id_road'] == j]['j_coordinate'].to_list()).reshape(\\\n",
    "          int(ds[ds['id_road'] == j]['len_road'])), np.array(ds[ds['id_road'] == j]['i_coordinate'].to_list()).reshape(\\\n",
    "          int(ds[ds['id_road'] == j]['len_road'])), color='red')\n",
    "except:\n",
    "    print(\"Нет пути\")"
   ]
  },
  {
   "cell_type": "code",
   "execution_count": 188,
   "metadata": {},
   "outputs": [
    {
     "data": {
      "text/plain": [
       "11    [31]\n",
       "Name: neighbours, dtype: object"
      ]
     },
     "execution_count": 188,
     "metadata": {},
     "output_type": "execute_result"
    }
   ],
   "source": [
    "ds[ds['id_road']==12]['neighbours']"
   ]
  },
  {
   "cell_type": "code",
   "execution_count": 187,
   "metadata": {},
   "outputs": [
    {
     "data": {
      "text/html": [
       "<div>\n",
       "<style scoped>\n",
       "    .dataframe tbody tr th:only-of-type {\n",
       "        vertical-align: middle;\n",
       "    }\n",
       "\n",
       "    .dataframe tbody tr th {\n",
       "        vertical-align: top;\n",
       "    }\n",
       "\n",
       "    .dataframe thead th {\n",
       "        text-align: right;\n",
       "    }\n",
       "</style>\n",
       "<table border=\"1\" class=\"dataframe\">\n",
       "  <thead>\n",
       "    <tr style=\"text-align: right;\">\n",
       "      <th></th>\n",
       "      <th>id_road</th>\n",
       "      <th>i_coordinate</th>\n",
       "      <th>j_coordinate</th>\n",
       "      <th>len_road</th>\n",
       "      <th>x</th>\n",
       "      <th>y</th>\n",
       "      <th>x_last</th>\n",
       "      <th>y_last</th>\n",
       "      <th>xy_last</th>\n",
       "      <th>xy</th>\n",
       "      <th>coordinate</th>\n",
       "      <th>len_neighbours</th>\n",
       "      <th>neighbours</th>\n",
       "    </tr>\n",
       "  </thead>\n",
       "  <tbody>\n",
       "    <tr>\n",
       "      <th>0</th>\n",
       "      <td>1</td>\n",
       "      <td>[676, 675, 675, 674, 674, 674, 673, 673, 672, ...</td>\n",
       "      <td>[198, 198, 199, 199, 200, 201, 202, 203, 203, ...</td>\n",
       "      <td>110</td>\n",
       "      <td>198</td>\n",
       "      <td>676</td>\n",
       "      <td>268</td>\n",
       "      <td>657</td>\n",
       "      <td>(268, 657)</td>\n",
       "      <td>(198, 676)</td>\n",
       "      <td>[(676, 198), (675, 198), (675, 199), (674, 199...</td>\n",
       "      <td>[109, 8, 236]</td>\n",
       "      <td>[2, 15, 32]</td>\n",
       "    </tr>\n",
       "    <tr>\n",
       "      <th>1</th>\n",
       "      <td>2</td>\n",
       "      <td>[657, 656, 656, 655, 655, 654, 653, 653, 652, ...</td>\n",
       "      <td>[268, 268, 269, 269, 269, 269, 269, 269, 269, ...</td>\n",
       "      <td>44</td>\n",
       "      <td>268</td>\n",
       "      <td>657</td>\n",
       "      <td>279</td>\n",
       "      <td>644</td>\n",
       "      <td>(279, 644)</td>\n",
       "      <td>(268, 657)</td>\n",
       "      <td>[(657, 268), (656, 268), (656, 269), (655, 269...</td>\n",
       "      <td>[109, 44, 1]</td>\n",
       "      <td>[1, 3, 16]</td>\n",
       "    </tr>\n",
       "    <tr>\n",
       "      <th>2</th>\n",
       "      <td>3</td>\n",
       "      <td>[644, 644, 644, 644, 644, 644, 644, 644, 644, ...</td>\n",
       "      <td>[280, 279, 280, 281, 282, 283, 284, 285, 286, ...</td>\n",
       "      <td>35</td>\n",
       "      <td>280</td>\n",
       "      <td>644</td>\n",
       "      <td>309</td>\n",
       "      <td>645</td>\n",
       "      <td>(309, 645)</td>\n",
       "      <td>(280, 644)</td>\n",
       "      <td>[(644, 280), (644, 279), (644, 280), (644, 281...</td>\n",
       "      <td>[44, 0, 77, 0]</td>\n",
       "      <td>[2, 33, 34, 73]</td>\n",
       "    </tr>\n",
       "    <tr>\n",
       "      <th>3</th>\n",
       "      <td>4</td>\n",
       "      <td>[645, 645, 645, 645, 645, 645, 645, 645, 645, ...</td>\n",
       "      <td>[310, 310, 311, 311, 312, 312, 313, 313, 314, ...</td>\n",
       "      <td>44</td>\n",
       "      <td>310</td>\n",
       "      <td>645</td>\n",
       "      <td>336</td>\n",
       "      <td>643</td>\n",
       "      <td>(336, 643)</td>\n",
       "      <td>(310, 645)</td>\n",
       "      <td>[(645, 310), (645, 310), (645, 311), (645, 311...</td>\n",
       "      <td>[43, 57]</td>\n",
       "      <td>[5, 35]</td>\n",
       "    </tr>\n",
       "    <tr>\n",
       "      <th>4</th>\n",
       "      <td>5</td>\n",
       "      <td>[643, 643, 643, 643, 643, 642, 642, 642, 642, ...</td>\n",
       "      <td>[336, 337, 337, 338, 338, 339, 339, 340, 340, ...</td>\n",
       "      <td>33</td>\n",
       "      <td>336</td>\n",
       "      <td>643</td>\n",
       "      <td>352</td>\n",
       "      <td>633</td>\n",
       "      <td>(352, 633)</td>\n",
       "      <td>(336, 643)</td>\n",
       "      <td>[(643, 336), (643, 337), (643, 337), (643, 338...</td>\n",
       "      <td>[43, 32, 29]</td>\n",
       "      <td>[4, 6, 20]</td>\n",
       "    </tr>\n",
       "  </tbody>\n",
       "</table>\n",
       "</div>"
      ],
      "text/plain": [
       "   id_road                                       i_coordinate  \\\n",
       "0        1  [676, 675, 675, 674, 674, 674, 673, 673, 672, ...   \n",
       "1        2  [657, 656, 656, 655, 655, 654, 653, 653, 652, ...   \n",
       "2        3  [644, 644, 644, 644, 644, 644, 644, 644, 644, ...   \n",
       "3        4  [645, 645, 645, 645, 645, 645, 645, 645, 645, ...   \n",
       "4        5  [643, 643, 643, 643, 643, 642, 642, 642, 642, ...   \n",
       "\n",
       "                                        j_coordinate  len_road    x    y  \\\n",
       "0  [198, 198, 199, 199, 200, 201, 202, 203, 203, ...       110  198  676   \n",
       "1  [268, 268, 269, 269, 269, 269, 269, 269, 269, ...        44  268  657   \n",
       "2  [280, 279, 280, 281, 282, 283, 284, 285, 286, ...        35  280  644   \n",
       "3  [310, 310, 311, 311, 312, 312, 313, 313, 314, ...        44  310  645   \n",
       "4  [336, 337, 337, 338, 338, 339, 339, 340, 340, ...        33  336  643   \n",
       "\n",
       "   x_last  y_last     xy_last          xy  \\\n",
       "0     268     657  (268, 657)  (198, 676)   \n",
       "1     279     644  (279, 644)  (268, 657)   \n",
       "2     309     645  (309, 645)  (280, 644)   \n",
       "3     336     643  (336, 643)  (310, 645)   \n",
       "4     352     633  (352, 633)  (336, 643)   \n",
       "\n",
       "                                          coordinate  len_neighbours  \\\n",
       "0  [(676, 198), (675, 198), (675, 199), (674, 199...   [109, 8, 236]   \n",
       "1  [(657, 268), (656, 268), (656, 269), (655, 269...    [109, 44, 1]   \n",
       "2  [(644, 280), (644, 279), (644, 280), (644, 281...  [44, 0, 77, 0]   \n",
       "3  [(645, 310), (645, 310), (645, 311), (645, 311...        [43, 57]   \n",
       "4  [(643, 336), (643, 337), (643, 337), (643, 338...    [43, 32, 29]   \n",
       "\n",
       "        neighbours  \n",
       "0      [2, 15, 32]  \n",
       "1       [1, 3, 16]  \n",
       "2  [2, 33, 34, 73]  \n",
       "3          [5, 35]  \n",
       "4       [4, 6, 20]  "
      ]
     },
     "execution_count": 187,
     "metadata": {},
     "output_type": "execute_result"
    }
   ],
   "source": [
    "ds.head()"
   ]
  },
  {
   "cell_type": "code",
   "execution_count": 149,
   "metadata": {},
   "outputs": [
    {
     "data": {
      "text/plain": [
       "[34, 3, 2, 1]"
      ]
     },
     "execution_count": 149,
     "metadata": {},
     "output_type": "execute_result"
    }
   ],
   "source": [
    "shortest_path_s_v"
   ]
  },
  {
   "cell_type": "code",
   "execution_count": 112,
   "metadata": {},
   "outputs": [
    {
     "data": {
      "text/plain": [
       "[2, 15, 32]"
      ]
     },
     "execution_count": 112,
     "metadata": {},
     "output_type": "execute_result"
    }
   ],
   "source": [
    "ds[ds['id_road'] == 1]['neighbours'].values[0]"
   ]
  },
  {
   "cell_type": "code",
   "execution_count": 16,
   "metadata": {},
   "outputs": [
    {
     "data": {
      "text/plain": [
       "Text(0.5, 1.0, 'Shortest path between [s] and [v]: s -> x -> u -> v')"
      ]
     },
     "execution_count": 16,
     "metadata": {},
     "output_type": "execute_result"
    },
    {
     "data": {
      "image/png": "[encoded data removed]",
      "text/plain": [
       "<Figure size 640x480 with 1 Axes>"
      ]
     },
     "metadata": {},
     "output_type": "display_data"
    }
   ],
   "source": [
    "G = nx.DiGraph()\n",
    "G.add_weighted_edges_from([\n",
    "    ('s', 'u', 10), ('s', 'x', 5), ('u', 'v', 1), ('u', 'x', 2), \n",
    "    ('v', 'y', 1), ('x', 'u', 3), ('x', 'v', 5), ('x', 'y', 2), \n",
    "    ('y', 's', 7), ('y', 'v', 6)])\n",
    "predecessors, _ = nx.floyd_warshall_predecessor_and_distance(G)\n",
    "shortest_path_s_v = nx.reconstruct_path('s', 'v', predecessors)\n",
    "edges = [(a,b) for a,b in zip(shortest_path_s_v, shortest_path_s_v[1:])]\n",
    "weights = nx.get_edge_attributes(G, 'weight')\n",
    "pos = nx.circular_layout(G)\n",
    "nx.draw_networkx(G, pos=pos)\n",
    "nx.draw_networkx_edge_labels(G, pos, edge_labels=weights)\n",
    "nx.draw_networkx_edges(G, pos=pos, edgelist=edges, edge_color=\"r\", width=3)\n",
    "title = \"Shortest path between [{}] and [{}]: {}\"\\\n",
    "        .format(\"s\", \"v\", \" -> \".join(shortest_path_s_v))\n",
    "plt.title(title)"
   ]
  },
  {
   "cell_type": "code",
   "execution_count": 20,
   "metadata": {},
   "outputs": [
    {
     "data": {
      "image/png": "[encoded data removed]",
      "text/plain": [
       "<Figure size 640x480 with 1 Axes>"
      ]
     },
     "metadata": {},
     "output_type": "display_data"
    }
   ],
   "source": [
    "for j in ds['id_road']:\n",
    "     plt.plot(np.array(ds[ds['id_road'] == j]['j_coordinate'].to_list()).reshape(\\\n",
    "          int(ds[ds['id_road'] == j]['len_road'])), np.array(ds[ds['id_road'] == j]['i_coordinate'].to_list()).reshape(\\\n",
    "          int(ds[ds['id_road'] == j]['len_road'])), color='000')\n",
    "     plt.scatter(ds[ds['id_road'] == j]['j_coordinate'].values[0][0], ds[ds['id_road'] == j]['i_coordinate'].values[0][0], s=25, edgecolors='red')"
   ]
  },
  {
   "cell_type": "code",
   "execution_count": 15,
   "metadata": {},
   "outputs": [
    {
     "data": {
      "text/plain": [
       "268"
      ]
     },
     "execution_count": 15,
     "metadata": {},
     "output_type": "execute_result"
    }
   ],
   "source": [
    "ds[ds['id_road'] == 1]['j_coordinate'].values[0][-1]"
   ]
  },
  {
   "cell_type": "code",
   "execution_count": 55,
   "metadata": {},
   "outputs": [],
   "source": [
    "ds['x'] = [ds[ds['id_road'] == j]['j_coordinate'].values[0][0] for j in ds['id_road'].unique()]\n",
    "ds['y'] = [ds[ds['id_road'] == j]['i_coordinate'].values[0][0] for j in ds['id_road'].unique()]"
   ]
  },
  {
   "cell_type": "code",
   "execution_count": 56,
   "metadata": {},
   "outputs": [],
   "source": [
    "ds['x_last'] = [ds[ds['id_road'] == j]['j_coordinate'].values[0][-1] for j in ds['id_road'].unique()]\n",
    "ds['y_last'] = [ds[ds['id_road'] == j]['i_coordinate'].values[0][-1] for j in ds['id_road'].unique()]\n",
    "ds['xy_last'] = [(int(ds[ds['id_road'] == j]['x_last']), int(ds[ds['id_road'] == j]['y_last'])) \\\n",
    "    for j in ds['id_road'].unique()]"
   ]
  },
  {
   "cell_type": "code",
   "execution_count": 17,
   "metadata": {},
   "outputs": [
    {
     "data": {
      "text/html": [
       "<div>\n",
       "<style scoped>\n",
       "    .dataframe tbody tr th:only-of-type {\n",
       "        vertical-align: middle;\n",
       "    }\n",
       "\n",
       "    .dataframe tbody tr th {\n",
       "        vertical-align: top;\n",
       "    }\n",
       "\n",
       "    .dataframe thead th {\n",
       "        text-align: right;\n",
       "    }\n",
       "</style>\n",
       "<table border=\"1\" class=\"dataframe\">\n",
       "  <thead>\n",
       "    <tr style=\"text-align: right;\">\n",
       "      <th></th>\n",
       "      <th>id_road</th>\n",
       "      <th>i_coordinate</th>\n",
       "      <th>j_coordinate</th>\n",
       "      <th>len_road</th>\n",
       "      <th>x</th>\n",
       "      <th>y</th>\n",
       "      <th>xy</th>\n",
       "      <th>x_last</th>\n",
       "      <th>y_last</th>\n",
       "      <th>xy_last</th>\n",
       "    </tr>\n",
       "  </thead>\n",
       "  <tbody>\n",
       "    <tr>\n",
       "      <th>0</th>\n",
       "      <td>1</td>\n",
       "      <td>[676, 675, 675, 674, 674, 674, 673, 673, 672, ...</td>\n",
       "      <td>[198, 198, 199, 199, 200, 201, 202, 203, 203, ...</td>\n",
       "      <td>110</td>\n",
       "      <td>198</td>\n",
       "      <td>676</td>\n",
       "      <td>(198, 676)</td>\n",
       "      <td>268</td>\n",
       "      <td>657</td>\n",
       "      <td>(268, 657)</td>\n",
       "    </tr>\n",
       "    <tr>\n",
       "      <th>1</th>\n",
       "      <td>2</td>\n",
       "      <td>[657, 656, 656, 655, 655, 654, 653, 653, 652, ...</td>\n",
       "      <td>[268, 268, 269, 269, 269, 269, 269, 269, 269, ...</td>\n",
       "      <td>44</td>\n",
       "      <td>268</td>\n",
       "      <td>657</td>\n",
       "      <td>(268, 657)</td>\n",
       "      <td>279</td>\n",
       "      <td>644</td>\n",
       "      <td>(279, 644)</td>\n",
       "    </tr>\n",
       "    <tr>\n",
       "      <th>2</th>\n",
       "      <td>3</td>\n",
       "      <td>[644, 644, 644, 644, 644, 644, 644, 644, 644, ...</td>\n",
       "      <td>[280, 279, 280, 281, 282, 283, 284, 285, 286, ...</td>\n",
       "      <td>35</td>\n",
       "      <td>280</td>\n",
       "      <td>644</td>\n",
       "      <td>(280, 644)</td>\n",
       "      <td>309</td>\n",
       "      <td>645</td>\n",
       "      <td>(309, 645)</td>\n",
       "    </tr>\n",
       "    <tr>\n",
       "      <th>3</th>\n",
       "      <td>4</td>\n",
       "      <td>[645, 645, 645, 645, 645, 645, 645, 645, 645, ...</td>\n",
       "      <td>[310, 310, 311, 311, 312, 312, 313, 313, 314, ...</td>\n",
       "      <td>44</td>\n",
       "      <td>310</td>\n",
       "      <td>645</td>\n",
       "      <td>(310, 645)</td>\n",
       "      <td>336</td>\n",
       "      <td>643</td>\n",
       "      <td>(336, 643)</td>\n",
       "    </tr>\n",
       "    <tr>\n",
       "      <th>4</th>\n",
       "      <td>5</td>\n",
       "      <td>[643, 643, 643, 643, 643, 642, 642, 642, 642, ...</td>\n",
       "      <td>[336, 337, 337, 338, 338, 339, 339, 340, 340, ...</td>\n",
       "      <td>33</td>\n",
       "      <td>336</td>\n",
       "      <td>643</td>\n",
       "      <td>(336, 643)</td>\n",
       "      <td>352</td>\n",
       "      <td>633</td>\n",
       "      <td>(352, 633)</td>\n",
       "    </tr>\n",
       "  </tbody>\n",
       "</table>\n",
       "</div>"
      ],
      "text/plain": [
       "   id_road                                       i_coordinate  \\\n",
       "0        1  [676, 675, 675, 674, 674, 674, 673, 673, 672, ...   \n",
       "1        2  [657, 656, 656, 655, 655, 654, 653, 653, 652, ...   \n",
       "2        3  [644, 644, 644, 644, 644, 644, 644, 644, 644, ...   \n",
       "3        4  [645, 645, 645, 645, 645, 645, 645, 645, 645, ...   \n",
       "4        5  [643, 643, 643, 643, 643, 642, 642, 642, 642, ...   \n",
       "\n",
       "                                        j_coordinate  len_road    x    y  \\\n",
       "0  [198, 198, 199, 199, 200, 201, 202, 203, 203, ...       110  198  676   \n",
       "1  [268, 268, 269, 269, 269, 269, 269, 269, 269, ...        44  268  657   \n",
       "2  [280, 279, 280, 281, 282, 283, 284, 285, 286, ...        35  280  644   \n",
       "3  [310, 310, 311, 311, 312, 312, 313, 313, 314, ...        44  310  645   \n",
       "4  [336, 337, 337, 338, 338, 339, 339, 340, 340, ...        33  336  643   \n",
       "\n",
       "           xy  x_last  y_last     xy_last  \n",
       "0  (198, 676)     268     657  (268, 657)  \n",
       "1  (268, 657)     279     644  (279, 644)  \n",
       "2  (280, 644)     309     645  (309, 645)  \n",
       "3  (310, 645)     336     643  (336, 643)  \n",
       "4  (336, 643)     352     633  (352, 633)  "
      ]
     },
     "execution_count": 17,
     "metadata": {},
     "output_type": "execute_result"
    }
   ],
   "source": [
    "ds.head()"
   ]
  },
  {
   "cell_type": "code",
   "execution_count": 57,
   "metadata": {},
   "outputs": [],
   "source": [
    "ds['xy'] = [(int(ds[ds['id_road'] == j]['x']), int(ds[ds['id_road'] == j]['y'])) \\\n",
    "    for j in ds['id_road'].unique()]"
   ]
  },
  {
   "cell_type": "code",
   "execution_count": 12,
   "metadata": {},
   "outputs": [
    {
     "data": {
      "text/html": [
       "<div>\n",
       "<style scoped>\n",
       "    .dataframe tbody tr th:only-of-type {\n",
       "        vertical-align: middle;\n",
       "    }\n",
       "\n",
       "    .dataframe tbody tr th {\n",
       "        vertical-align: top;\n",
       "    }\n",
       "\n",
       "    .dataframe thead th {\n",
       "        text-align: right;\n",
       "    }\n",
       "</style>\n",
       "<table border=\"1\" class=\"dataframe\">\n",
       "  <thead>\n",
       "    <tr style=\"text-align: right;\">\n",
       "      <th></th>\n",
       "      <th>id_road</th>\n",
       "      <th>i_coordinate</th>\n",
       "      <th>j_coordinate</th>\n",
       "      <th>len_road</th>\n",
       "      <th>x</th>\n",
       "      <th>y</th>\n",
       "      <th>xy</th>\n",
       "    </tr>\n",
       "  </thead>\n",
       "  <tbody>\n",
       "    <tr>\n",
       "      <th>0</th>\n",
       "      <td>1</td>\n",
       "      <td>[676, 675, 675, 674, 674, 674, 673, 673, 672, ...</td>\n",
       "      <td>[198, 198, 199, 199, 200, 201, 202, 203, 203, ...</td>\n",
       "      <td>110</td>\n",
       "      <td>198</td>\n",
       "      <td>676</td>\n",
       "      <td>(198, 676)</td>\n",
       "    </tr>\n",
       "    <tr>\n",
       "      <th>1</th>\n",
       "      <td>2</td>\n",
       "      <td>[657, 656, 656, 655, 655, 654, 653, 653, 652, ...</td>\n",
       "      <td>[268, 268, 269, 269, 269, 269, 269, 269, 269, ...</td>\n",
       "      <td>44</td>\n",
       "      <td>268</td>\n",
       "      <td>657</td>\n",
       "      <td>(268, 657)</td>\n",
       "    </tr>\n",
       "    <tr>\n",
       "      <th>2</th>\n",
       "      <td>3</td>\n",
       "      <td>[644, 644, 644, 644, 644, 644, 644, 644, 644, ...</td>\n",
       "      <td>[280, 279, 280, 281, 282, 283, 284, 285, 286, ...</td>\n",
       "      <td>35</td>\n",
       "      <td>280</td>\n",
       "      <td>644</td>\n",
       "      <td>(280, 644)</td>\n",
       "    </tr>\n",
       "    <tr>\n",
       "      <th>3</th>\n",
       "      <td>4</td>\n",
       "      <td>[645, 645, 645, 645, 645, 645, 645, 645, 645, ...</td>\n",
       "      <td>[310, 310, 311, 311, 312, 312, 313, 313, 314, ...</td>\n",
       "      <td>44</td>\n",
       "      <td>310</td>\n",
       "      <td>645</td>\n",
       "      <td>(310, 645)</td>\n",
       "    </tr>\n",
       "    <tr>\n",
       "      <th>4</th>\n",
       "      <td>5</td>\n",
       "      <td>[643, 643, 643, 643, 643, 642, 642, 642, 642, ...</td>\n",
       "      <td>[336, 337, 337, 338, 338, 339, 339, 340, 340, ...</td>\n",
       "      <td>33</td>\n",
       "      <td>336</td>\n",
       "      <td>643</td>\n",
       "      <td>(336, 643)</td>\n",
       "    </tr>\n",
       "  </tbody>\n",
       "</table>\n",
       "</div>"
      ],
      "text/plain": [
       "   id_road                                       i_coordinate  \\\n",
       "0        1  [676, 675, 675, 674, 674, 674, 673, 673, 672, ...   \n",
       "1        2  [657, 656, 656, 655, 655, 654, 653, 653, 652, ...   \n",
       "2        3  [644, 644, 644, 644, 644, 644, 644, 644, 644, ...   \n",
       "3        4  [645, 645, 645, 645, 645, 645, 645, 645, 645, ...   \n",
       "4        5  [643, 643, 643, 643, 643, 642, 642, 642, 642, ...   \n",
       "\n",
       "                                        j_coordinate  len_road    x    y  \\\n",
       "0  [198, 198, 199, 199, 200, 201, 202, 203, 203, ...       110  198  676   \n",
       "1  [268, 268, 269, 269, 269, 269, 269, 269, 269, ...        44  268  657   \n",
       "2  [280, 279, 280, 281, 282, 283, 284, 285, 286, ...        35  280  644   \n",
       "3  [310, 310, 311, 311, 312, 312, 313, 313, 314, ...        44  310  645   \n",
       "4  [336, 337, 337, 338, 338, 339, 339, 340, 340, ...        33  336  643   \n",
       "\n",
       "           xy  \n",
       "0  (198, 676)  \n",
       "1  (268, 657)  \n",
       "2  (280, 644)  \n",
       "3  (310, 645)  \n",
       "4  (336, 643)  "
      ]
     },
     "execution_count": 12,
     "metadata": {},
     "output_type": "execute_result"
    }
   ],
   "source": [
    "ds.head()"
   ]
  },
  {
   "cell_type": "code",
   "execution_count": 58,
   "metadata": {},
   "outputs": [],
   "source": [
    "# координаты дороги\n",
    "coordinate_road = pd.Series([(i, j) for i, j in zip(df[df['id_road']==k]['i'], df[df['id_road']==k]['j'])] \\\n",
    "    for k in number_road)\n",
    "ds['coordinate'] = coordinate_road"
   ]
  },
  {
   "cell_type": "code",
   "execution_count": 115,
   "metadata": {},
   "outputs": [
    {
     "data": {
      "text/html": [
       "<div>\n",
       "<style scoped>\n",
       "    .dataframe tbody tr th:only-of-type {\n",
       "        vertical-align: middle;\n",
       "    }\n",
       "\n",
       "    .dataframe tbody tr th {\n",
       "        vertical-align: top;\n",
       "    }\n",
       "\n",
       "    .dataframe thead th {\n",
       "        text-align: right;\n",
       "    }\n",
       "</style>\n",
       "<table border=\"1\" class=\"dataframe\">\n",
       "  <thead>\n",
       "    <tr style=\"text-align: right;\">\n",
       "      <th></th>\n",
       "      <th>id_road</th>\n",
       "      <th>i_coordinate</th>\n",
       "      <th>j_coordinate</th>\n",
       "      <th>len_road</th>\n",
       "      <th>x</th>\n",
       "      <th>y</th>\n",
       "      <th>xy</th>\n",
       "      <th>x_last</th>\n",
       "      <th>y_last</th>\n",
       "      <th>xy_last</th>\n",
       "      <th>coordinate</th>\n",
       "    </tr>\n",
       "  </thead>\n",
       "  <tbody>\n",
       "    <tr>\n",
       "      <th>0</th>\n",
       "      <td>1</td>\n",
       "      <td>[676, 675, 675, 674, 674, 674, 673, 673, 672, ...</td>\n",
       "      <td>[198, 198, 199, 199, 200, 201, 202, 203, 203, ...</td>\n",
       "      <td>110</td>\n",
       "      <td>198</td>\n",
       "      <td>676</td>\n",
       "      <td>(198, 676)</td>\n",
       "      <td>268</td>\n",
       "      <td>657</td>\n",
       "      <td>(268, 657)</td>\n",
       "      <td>[(676, 198), (675, 198), (675, 199), (674, 199...</td>\n",
       "    </tr>\n",
       "    <tr>\n",
       "      <th>1</th>\n",
       "      <td>2</td>\n",
       "      <td>[657, 656, 656, 655, 655, 654, 653, 653, 652, ...</td>\n",
       "      <td>[268, 268, 269, 269, 269, 269, 269, 269, 269, ...</td>\n",
       "      <td>44</td>\n",
       "      <td>268</td>\n",
       "      <td>657</td>\n",
       "      <td>(268, 657)</td>\n",
       "      <td>279</td>\n",
       "      <td>644</td>\n",
       "      <td>(279, 644)</td>\n",
       "      <td>[(657, 268), (656, 268), (656, 269), (655, 269...</td>\n",
       "    </tr>\n",
       "    <tr>\n",
       "      <th>2</th>\n",
       "      <td>3</td>\n",
       "      <td>[644, 644, 644, 644, 644, 644, 644, 644, 644, ...</td>\n",
       "      <td>[280, 279, 280, 281, 282, 283, 284, 285, 286, ...</td>\n",
       "      <td>35</td>\n",
       "      <td>280</td>\n",
       "      <td>644</td>\n",
       "      <td>(280, 644)</td>\n",
       "      <td>309</td>\n",
       "      <td>645</td>\n",
       "      <td>(309, 645)</td>\n",
       "      <td>[(644, 280), (644, 279), (644, 280), (644, 281...</td>\n",
       "    </tr>\n",
       "    <tr>\n",
       "      <th>3</th>\n",
       "      <td>4</td>\n",
       "      <td>[645, 645, 645, 645, 645, 645, 645, 645, 645, ...</td>\n",
       "      <td>[310, 310, 311, 311, 312, 312, 313, 313, 314, ...</td>\n",
       "      <td>44</td>\n",
       "      <td>310</td>\n",
       "      <td>645</td>\n",
       "      <td>(310, 645)</td>\n",
       "      <td>336</td>\n",
       "      <td>643</td>\n",
       "      <td>(336, 643)</td>\n",
       "      <td>[(645, 310), (645, 310), (645, 311), (645, 311...</td>\n",
       "    </tr>\n",
       "    <tr>\n",
       "      <th>4</th>\n",
       "      <td>5</td>\n",
       "      <td>[643, 643, 643, 643, 643, 642, 642, 642, 642, ...</td>\n",
       "      <td>[336, 337, 337, 338, 338, 339, 339, 340, 340, ...</td>\n",
       "      <td>33</td>\n",
       "      <td>336</td>\n",
       "      <td>643</td>\n",
       "      <td>(336, 643)</td>\n",
       "      <td>352</td>\n",
       "      <td>633</td>\n",
       "      <td>(352, 633)</td>\n",
       "      <td>[(643, 336), (643, 337), (643, 337), (643, 338...</td>\n",
       "    </tr>\n",
       "  </tbody>\n",
       "</table>\n",
       "</div>"
      ],
      "text/plain": [
       "   id_road                                       i_coordinate  \\\n",
       "0        1  [676, 675, 675, 674, 674, 674, 673, 673, 672, ...   \n",
       "1        2  [657, 656, 656, 655, 655, 654, 653, 653, 652, ...   \n",
       "2        3  [644, 644, 644, 644, 644, 644, 644, 644, 644, ...   \n",
       "3        4  [645, 645, 645, 645, 645, 645, 645, 645, 645, ...   \n",
       "4        5  [643, 643, 643, 643, 643, 642, 642, 642, 642, ...   \n",
       "\n",
       "                                        j_coordinate  len_road    x    y  \\\n",
       "0  [198, 198, 199, 199, 200, 201, 202, 203, 203, ...       110  198  676   \n",
       "1  [268, 268, 269, 269, 269, 269, 269, 269, 269, ...        44  268  657   \n",
       "2  [280, 279, 280, 281, 282, 283, 284, 285, 286, ...        35  280  644   \n",
       "3  [310, 310, 311, 311, 312, 312, 313, 313, 314, ...        44  310  645   \n",
       "4  [336, 337, 337, 338, 338, 339, 339, 340, 340, ...        33  336  643   \n",
       "\n",
       "           xy  x_last  y_last     xy_last  \\\n",
       "0  (198, 676)     268     657  (268, 657)   \n",
       "1  (268, 657)     279     644  (279, 644)   \n",
       "2  (280, 644)     309     645  (309, 645)   \n",
       "3  (310, 645)     336     643  (336, 643)   \n",
       "4  (336, 643)     352     633  (352, 633)   \n",
       "\n",
       "                                          coordinate  \n",
       "0  [(676, 198), (675, 198), (675, 199), (674, 199...  \n",
       "1  [(657, 268), (656, 268), (656, 269), (655, 269...  \n",
       "2  [(644, 280), (644, 279), (644, 280), (644, 281...  \n",
       "3  [(645, 310), (645, 310), (645, 311), (645, 311...  \n",
       "4  [(643, 336), (643, 337), (643, 337), (643, 338...  "
      ]
     },
     "execution_count": 115,
     "metadata": {},
     "output_type": "execute_result"
    }
   ],
   "source": [
    "ds.head()"
   ]
  },
  {
   "cell_type": "code",
   "execution_count": 183,
   "metadata": {},
   "outputs": [],
   "source": [
    "# Поиск соседей\n",
    "ds['neighbours'] = [[] for i in range(ds['id_road'].values.size)]\n",
    "for j in ds['id_road'].values:\n",
    "    k = ds[ds['id_road']==j]['id_road'].index.values[0]\n",
    "    for i in ds[ds['id_road']!=j]['id_road'].values:\n",
    "        if(np.in1d([str(item) for item in ds[ds['id_road']==j]['coordinate'].values[0]], [str(item) for item in ds[ds['id_road']==i]['coordinate'].values[0]]).sum() > 0):\n",
    "            ds[ds['id_road']==j]['neighbours'].values[0].append(i)\n"
   ]
  },
  {
   "cell_type": "code",
   "execution_count": 184,
   "metadata": {},
   "outputs": [],
   "source": [
    "# Расстояния между соседями\n",
    "ds['len_neighbours'] = [[] for i in range(ds['id_road'].values.size)]\n",
    "for j in ds['id_road'].values:\n",
    "    for i in ds[ds['id_road']==j]['neighbours'].values[0]:\n",
    "        # Расстояние между узлами дорог\n",
    "        dist1 = np.argwhere(np.in1d([str(item) for item in ds[ds['id_road']==j]['coordinate'].values[0]], [str(item) for item in ds[ds['id_road']==i]['coordinate'].values[0]]))[0][0]\n",
    "        j_ = ds[ds['id_road']==j]['j_coordinate'].values[0][dist1]\n",
    "        i_ = ds[ds['id_road']==j]['i_coordinate'].values[0][dist1]\n",
    "        dist2 = np.intersect1d(np.argwhere(np.array(ds[ds['id_road']==i]['i_coordinate'].values[0]) == i_).ravel(), \\\n",
    "            np.argwhere(np.array(ds[ds['id_road']==i]['j_coordinate'].values[0]) == j_).ravel())[0]\n",
    "        ds[ds['id_road']==j]['len_neighbours'].values[0].append(dist1 + dist2)\n"
   ]
  },
  {
   "cell_type": "code",
   "execution_count": 97,
   "metadata": {},
   "outputs": [
    {
     "data": {
      "text/html": [
       "<div>\n",
       "<style scoped>\n",
       "    .dataframe tbody tr th:only-of-type {\n",
       "        vertical-align: middle;\n",
       "    }\n",
       "\n",
       "    .dataframe tbody tr th {\n",
       "        vertical-align: top;\n",
       "    }\n",
       "\n",
       "    .dataframe thead th {\n",
       "        text-align: right;\n",
       "    }\n",
       "</style>\n",
       "<table border=\"1\" class=\"dataframe\">\n",
       "  <thead>\n",
       "    <tr style=\"text-align: right;\">\n",
       "      <th></th>\n",
       "      <th>id_road</th>\n",
       "      <th>i_coordinate</th>\n",
       "      <th>j_coordinate</th>\n",
       "      <th>len_road</th>\n",
       "      <th>x</th>\n",
       "      <th>y</th>\n",
       "      <th>x_last</th>\n",
       "      <th>y_last</th>\n",
       "      <th>xy_last</th>\n",
       "      <th>xy</th>\n",
       "      <th>coordinate</th>\n",
       "      <th>len_neighbours</th>\n",
       "      <th>neighbours</th>\n",
       "    </tr>\n",
       "  </thead>\n",
       "  <tbody>\n",
       "    <tr>\n",
       "      <th>0</th>\n",
       "      <td>1</td>\n",
       "      <td>[676, 675, 675, 674, 674, 674, 673, 673, 672, ...</td>\n",
       "      <td>[198, 198, 199, 199, 200, 201, 202, 203, 203, ...</td>\n",
       "      <td>110</td>\n",
       "      <td>198</td>\n",
       "      <td>676</td>\n",
       "      <td>268</td>\n",
       "      <td>657</td>\n",
       "      <td>(268, 657)</td>\n",
       "      <td>(198, 676)</td>\n",
       "      <td>[(676, 198), (675, 198), (675, 199), (674, 199...</td>\n",
       "      <td>[109, 8, 236]</td>\n",
       "      <td>[2, 15, 32]</td>\n",
       "    </tr>\n",
       "    <tr>\n",
       "      <th>1</th>\n",
       "      <td>2</td>\n",
       "      <td>[657, 656, 656, 655, 655, 654, 653, 653, 652, ...</td>\n",
       "      <td>[268, 268, 269, 269, 269, 269, 269, 269, 269, ...</td>\n",
       "      <td>44</td>\n",
       "      <td>268</td>\n",
       "      <td>657</td>\n",
       "      <td>279</td>\n",
       "      <td>644</td>\n",
       "      <td>(279, 644)</td>\n",
       "      <td>(268, 657)</td>\n",
       "      <td>[(657, 268), (656, 268), (656, 269), (655, 269...</td>\n",
       "      <td>[44, 1]</td>\n",
       "      <td>[3, 16]</td>\n",
       "    </tr>\n",
       "    <tr>\n",
       "      <th>2</th>\n",
       "      <td>3</td>\n",
       "      <td>[644, 644, 644, 644, 644, 644, 644, 644, 644, ...</td>\n",
       "      <td>[280, 279, 280, 281, 282, 283, 284, 285, 286, ...</td>\n",
       "      <td>35</td>\n",
       "      <td>280</td>\n",
       "      <td>644</td>\n",
       "      <td>309</td>\n",
       "      <td>645</td>\n",
       "      <td>(309, 645)</td>\n",
       "      <td>(280, 644)</td>\n",
       "      <td>[(644, 280), (644, 279), (644, 280), (644, 281...</td>\n",
       "      <td>[0, 77, 0]</td>\n",
       "      <td>[33, 34, 73]</td>\n",
       "    </tr>\n",
       "    <tr>\n",
       "      <th>3</th>\n",
       "      <td>4</td>\n",
       "      <td>[645, 645, 645, 645, 645, 645, 645, 645, 645, ...</td>\n",
       "      <td>[310, 310, 311, 311, 312, 312, 313, 313, 314, ...</td>\n",
       "      <td>44</td>\n",
       "      <td>310</td>\n",
       "      <td>645</td>\n",
       "      <td>336</td>\n",
       "      <td>643</td>\n",
       "      <td>(336, 643)</td>\n",
       "      <td>(310, 645)</td>\n",
       "      <td>[(645, 310), (645, 310), (645, 311), (645, 311...</td>\n",
       "      <td>[43, 57]</td>\n",
       "      <td>[5, 35]</td>\n",
       "    </tr>\n",
       "    <tr>\n",
       "      <th>4</th>\n",
       "      <td>5</td>\n",
       "      <td>[643, 643, 643, 643, 643, 642, 642, 642, 642, ...</td>\n",
       "      <td>[336, 337, 337, 338, 338, 339, 339, 340, 340, ...</td>\n",
       "      <td>33</td>\n",
       "      <td>336</td>\n",
       "      <td>643</td>\n",
       "      <td>352</td>\n",
       "      <td>633</td>\n",
       "      <td>(352, 633)</td>\n",
       "      <td>(336, 643)</td>\n",
       "      <td>[(643, 336), (643, 337), (643, 337), (643, 338...</td>\n",
       "      <td>[32, 29]</td>\n",
       "      <td>[6, 20]</td>\n",
       "    </tr>\n",
       "  </tbody>\n",
       "</table>\n",
       "</div>"
      ],
      "text/plain": [
       "   id_road                                       i_coordinate  \\\n",
       "0        1  [676, 675, 675, 674, 674, 674, 673, 673, 672, ...   \n",
       "1        2  [657, 656, 656, 655, 655, 654, 653, 653, 652, ...   \n",
       "2        3  [644, 644, 644, 644, 644, 644, 644, 644, 644, ...   \n",
       "3        4  [645, 645, 645, 645, 645, 645, 645, 645, 645, ...   \n",
       "4        5  [643, 643, 643, 643, 643, 642, 642, 642, 642, ...   \n",
       "\n",
       "                                        j_coordinate  len_road    x    y  \\\n",
       "0  [198, 198, 199, 199, 200, 201, 202, 203, 203, ...       110  198  676   \n",
       "1  [268, 268, 269, 269, 269, 269, 269, 269, 269, ...        44  268  657   \n",
       "2  [280, 279, 280, 281, 282, 283, 284, 285, 286, ...        35  280  644   \n",
       "3  [310, 310, 311, 311, 312, 312, 313, 313, 314, ...        44  310  645   \n",
       "4  [336, 337, 337, 338, 338, 339, 339, 340, 340, ...        33  336  643   \n",
       "\n",
       "   x_last  y_last     xy_last          xy  \\\n",
       "0     268     657  (268, 657)  (198, 676)   \n",
       "1     279     644  (279, 644)  (268, 657)   \n",
       "2     309     645  (309, 645)  (280, 644)   \n",
       "3     336     643  (336, 643)  (310, 645)   \n",
       "4     352     633  (352, 633)  (336, 643)   \n",
       "\n",
       "                                          coordinate len_neighbours  \\\n",
       "0  [(676, 198), (675, 198), (675, 199), (674, 199...  [109, 8, 236]   \n",
       "1  [(657, 268), (656, 268), (656, 269), (655, 269...        [44, 1]   \n",
       "2  [(644, 280), (644, 279), (644, 280), (644, 281...     [0, 77, 0]   \n",
       "3  [(645, 310), (645, 310), (645, 311), (645, 311...       [43, 57]   \n",
       "4  [(643, 336), (643, 337), (643, 337), (643, 338...       [32, 29]   \n",
       "\n",
       "     neighbours  \n",
       "0   [2, 15, 32]  \n",
       "1       [3, 16]  \n",
       "2  [33, 34, 73]  \n",
       "3       [5, 35]  \n",
       "4       [6, 20]  "
      ]
     },
     "execution_count": 97,
     "metadata": {},
     "output_type": "execute_result"
    }
   ],
   "source": [
    "ds.head()"
   ]
  },
  {
   "cell_type": "code",
   "execution_count": 86,
   "metadata": {},
   "outputs": [
    {
     "data": {
      "text/plain": [
       "31"
      ]
     },
     "execution_count": 86,
     "metadata": {},
     "output_type": "execute_result"
    }
   ],
   "source": [
    "np.argwhere(np.in1d([str(item) for item in ds[ds['id_road']==3]['coordinate'].values[0]], [str(item) for item in ds[ds['id_road']==34]['coordinate'].values[0]]))[0][0]"
   ]
  },
  {
   "cell_type": "code",
   "execution_count": 27,
   "metadata": {},
   "outputs": [
    {
     "ename": "IndexError",
     "evalue": "index 0 is out of bounds for axis 0 with size 0",
     "output_type": "error",
     "traceback": [
      "\u001b[1;31m---------------------------------------------------------------------------\u001b[0m",
      "\u001b[1;31mIndexError\u001b[0m                                Traceback (most recent call last)",
      "Cell \u001b[1;32mIn [27], line 10\u001b[0m\n\u001b[0;32m      8\u001b[0m j_ \u001b[39m=\u001b[39m ds[ds[\u001b[39m'\u001b[39m\u001b[39mid_road\u001b[39m\u001b[39m'\u001b[39m]\u001b[39m==\u001b[39mj][\u001b[39m'\u001b[39m\u001b[39mj_coordinate\u001b[39m\u001b[39m'\u001b[39m]\u001b[39m.\u001b[39mvalues[\u001b[39m0\u001b[39m][dist1]\n\u001b[0;32m      9\u001b[0m i_ \u001b[39m=\u001b[39m ds[ds[\u001b[39m'\u001b[39m\u001b[39mid_road\u001b[39m\u001b[39m'\u001b[39m]\u001b[39m==\u001b[39mj][\u001b[39m'\u001b[39m\u001b[39mi_coordinate\u001b[39m\u001b[39m'\u001b[39m]\u001b[39m.\u001b[39mvalues[\u001b[39m0\u001b[39m][dist1]\n\u001b[1;32m---> 10\u001b[0m dist2 \u001b[39m=\u001b[39m np\u001b[39m.\u001b[39;49mintersect1d(np\u001b[39m.\u001b[39;49margwhere(np\u001b[39m.\u001b[39;49marray(ds[ds[\u001b[39m'\u001b[39;49m\u001b[39mid_road\u001b[39;49m\u001b[39m'\u001b[39;49m]\u001b[39m==\u001b[39;49mi][\u001b[39m'\u001b[39;49m\u001b[39mi_coordinate\u001b[39;49m\u001b[39m'\u001b[39;49m]\u001b[39m.\u001b[39;49mvalues[\u001b[39m0\u001b[39;49m]) \u001b[39m==\u001b[39;49m i_)\u001b[39m.\u001b[39;49mravel(), \\\n\u001b[0;32m     11\u001b[0m     np\u001b[39m.\u001b[39;49margwhere(np\u001b[39m.\u001b[39;49marray(ds[ds[\u001b[39m'\u001b[39;49m\u001b[39mid_road\u001b[39;49m\u001b[39m'\u001b[39;49m]\u001b[39m==\u001b[39;49mi][\u001b[39m'\u001b[39;49m\u001b[39mj_coordinate\u001b[39;49m\u001b[39m'\u001b[39;49m]\u001b[39m.\u001b[39;49mvalues[\u001b[39m0\u001b[39;49m]) \u001b[39m==\u001b[39;49m j_)\u001b[39m.\u001b[39;49mravel())[\u001b[39m0\u001b[39;49m]\n\u001b[0;32m     12\u001b[0m ds[ds[\u001b[39m'\u001b[39m\u001b[39mid_road\u001b[39m\u001b[39m'\u001b[39m]\u001b[39m==\u001b[39mj][\u001b[39m'\u001b[39m\u001b[39mlen_neighbours\u001b[39m\u001b[39m'\u001b[39m]\u001b[39m.\u001b[39mvalues[\u001b[39m0\u001b[39m]\u001b[39m.\u001b[39mappend(dist1 \u001b[39m+\u001b[39m dist2)\n",
      "\u001b[1;31mIndexError\u001b[0m: index 0 is out of bounds for axis 0 with size 0"
     ]
    }
   ],
   "source": [
    "ds['len_neighbours'] = [[] for i in range(ds['id_road'].values.size)]\n",
    "for j in ds['id_road'].values:\n",
    "    for i in ds[ds['id_road']==j]['neighbours'].values[0]:\n",
    "        # Расстояние между узлами дорог\n",
    "        a = np.in1d(ds[ds['id_road']==j]['i_coordinate'].values[0], ds[ds['id_road']==i]['i_coordinate'].values[0])\n",
    "        b = np.in1d(ds[ds['id_road']==j]['j_coordinate'].values[0], ds[ds['id_road']==i]['j_coordinate'].values[0])\n",
    "        dist1 = np.argwhere(np.logical_and(a, b) == True)[0][0]\n",
    "        j_ = ds[ds['id_road']==j]['j_coordinate'].values[0][dist1]\n",
    "        i_ = ds[ds['id_road']==j]['i_coordinate'].values[0][dist1]\n",
    "        dist2 = np.intersect1d(np.argwhere(np.array(ds[ds['id_road']==i]['i_coordinate'].values[0]) == i_).ravel(), \\\n",
    "            np.argwhere(np.array(ds[ds['id_road']==i]['j_coordinate'].values[0]) == j_).ravel())[0]\n",
    "        ds[ds['id_road']==j]['len_neighbours'].values[0].append(dist1 + dist2)\n"
   ]
  },
  {
   "cell_type": "code",
   "execution_count": 28,
   "metadata": {},
   "outputs": [
    {
     "data": {
      "text/html": [
       "<div>\n",
       "<style scoped>\n",
       "    .dataframe tbody tr th:only-of-type {\n",
       "        vertical-align: middle;\n",
       "    }\n",
       "\n",
       "    .dataframe tbody tr th {\n",
       "        vertical-align: top;\n",
       "    }\n",
       "\n",
       "    .dataframe thead th {\n",
       "        text-align: right;\n",
       "    }\n",
       "</style>\n",
       "<table border=\"1\" class=\"dataframe\">\n",
       "  <thead>\n",
       "    <tr style=\"text-align: right;\">\n",
       "      <th></th>\n",
       "      <th>id_road</th>\n",
       "      <th>i_coordinate</th>\n",
       "      <th>j_coordinate</th>\n",
       "      <th>len_road</th>\n",
       "      <th>x</th>\n",
       "      <th>y</th>\n",
       "      <th>x_last</th>\n",
       "      <th>y_last</th>\n",
       "      <th>xy_last</th>\n",
       "      <th>xy</th>\n",
       "      <th>coordinate</th>\n",
       "      <th>neighbours</th>\n",
       "      <th>len_neighbours</th>\n",
       "    </tr>\n",
       "  </thead>\n",
       "  <tbody>\n",
       "    <tr>\n",
       "      <th>0</th>\n",
       "      <td>1</td>\n",
       "      <td>[676, 675, 675, 674, 674, 674, 673, 673, 672, ...</td>\n",
       "      <td>[198, 198, 199, 199, 200, 201, 202, 203, 203, ...</td>\n",
       "      <td>110</td>\n",
       "      <td>198</td>\n",
       "      <td>676</td>\n",
       "      <td>268</td>\n",
       "      <td>657</td>\n",
       "      <td>(268, 657)</td>\n",
       "      <td>(198, 676)</td>\n",
       "      <td>[(676, 198), (675, 198), (675, 199), (674, 199...</td>\n",
       "      <td>[2, 15, 32]</td>\n",
       "      <td>[109, 8, 236]</td>\n",
       "    </tr>\n",
       "    <tr>\n",
       "      <th>1</th>\n",
       "      <td>2</td>\n",
       "      <td>[657, 656, 656, 655, 655, 654, 653, 653, 652, ...</td>\n",
       "      <td>[268, 268, 269, 269, 269, 269, 269, 269, 269, ...</td>\n",
       "      <td>44</td>\n",
       "      <td>268</td>\n",
       "      <td>657</td>\n",
       "      <td>279</td>\n",
       "      <td>644</td>\n",
       "      <td>(279, 644)</td>\n",
       "      <td>(268, 657)</td>\n",
       "      <td>[(657, 268), (656, 268), (656, 269), (655, 269...</td>\n",
       "      <td>[3, 16]</td>\n",
       "      <td>[44, 1]</td>\n",
       "    </tr>\n",
       "    <tr>\n",
       "      <th>2</th>\n",
       "      <td>3</td>\n",
       "      <td>[644, 644, 644, 644, 644, 644, 644, 644, 644, ...</td>\n",
       "      <td>[280, 279, 280, 281, 282, 283, 284, 285, 286, ...</td>\n",
       "      <td>35</td>\n",
       "      <td>280</td>\n",
       "      <td>644</td>\n",
       "      <td>309</td>\n",
       "      <td>645</td>\n",
       "      <td>(309, 645)</td>\n",
       "      <td>(280, 644)</td>\n",
       "      <td>[(644, 280), (644, 279), (644, 280), (644, 281...</td>\n",
       "      <td>[33, 34, 73]</td>\n",
       "      <td>[0]</td>\n",
       "    </tr>\n",
       "    <tr>\n",
       "      <th>3</th>\n",
       "      <td>4</td>\n",
       "      <td>[645, 645, 645, 645, 645, 645, 645, 645, 645, ...</td>\n",
       "      <td>[310, 310, 311, 311, 312, 312, 313, 313, 314, ...</td>\n",
       "      <td>44</td>\n",
       "      <td>310</td>\n",
       "      <td>645</td>\n",
       "      <td>336</td>\n",
       "      <td>643</td>\n",
       "      <td>(336, 643)</td>\n",
       "      <td>(310, 645)</td>\n",
       "      <td>[(645, 310), (645, 310), (645, 311), (645, 311...</td>\n",
       "      <td>[5, 35]</td>\n",
       "      <td>[]</td>\n",
       "    </tr>\n",
       "    <tr>\n",
       "      <th>4</th>\n",
       "      <td>5</td>\n",
       "      <td>[643, 643, 643, 643, 643, 642, 642, 642, 642, ...</td>\n",
       "      <td>[336, 337, 337, 338, 338, 339, 339, 340, 340, ...</td>\n",
       "      <td>33</td>\n",
       "      <td>336</td>\n",
       "      <td>643</td>\n",
       "      <td>352</td>\n",
       "      <td>633</td>\n",
       "      <td>(352, 633)</td>\n",
       "      <td>(336, 643)</td>\n",
       "      <td>[(643, 336), (643, 337), (643, 337), (643, 338...</td>\n",
       "      <td>[6, 20]</td>\n",
       "      <td>[]</td>\n",
       "    </tr>\n",
       "    <tr>\n",
       "      <th>...</th>\n",
       "      <td>...</td>\n",
       "      <td>...</td>\n",
       "      <td>...</td>\n",
       "      <td>...</td>\n",
       "      <td>...</td>\n",
       "      <td>...</td>\n",
       "      <td>...</td>\n",
       "      <td>...</td>\n",
       "      <td>...</td>\n",
       "      <td>...</td>\n",
       "      <td>...</td>\n",
       "      <td>...</td>\n",
       "      <td>...</td>\n",
       "    </tr>\n",
       "    <tr>\n",
       "      <th>78</th>\n",
       "      <td>84</td>\n",
       "      <td>[453, 453, 453, 453, 453, 452, 452, 451, 450, ...</td>\n",
       "      <td>[639, 639, 638, 638, 638, 638, 637, 637, 636, ...</td>\n",
       "      <td>18</td>\n",
       "      <td>639</td>\n",
       "      <td>453</td>\n",
       "      <td>636</td>\n",
       "      <td>443</td>\n",
       "      <td>(636, 443)</td>\n",
       "      <td>(639, 453)</td>\n",
       "      <td>[(453, 639), (453, 639), (453, 638), (453, 638...</td>\n",
       "      <td>[]</td>\n",
       "      <td>[]</td>\n",
       "    </tr>\n",
       "    <tr>\n",
       "      <th>79</th>\n",
       "      <td>88</td>\n",
       "      <td>[515, 515, 514, 514, 513, 513, 513, 513, 513, ...</td>\n",
       "      <td>[492, 492, 492, 493, 493, 494, 495, 496, 496, ...</td>\n",
       "      <td>310</td>\n",
       "      <td>492</td>\n",
       "      <td>515</td>\n",
       "      <td>481</td>\n",
       "      <td>364</td>\n",
       "      <td>(481, 364)</td>\n",
       "      <td>(492, 515)</td>\n",
       "      <td>[(515, 492), (515, 492), (514, 492), (514, 493...</td>\n",
       "      <td>[]</td>\n",
       "      <td>[]</td>\n",
       "    </tr>\n",
       "    <tr>\n",
       "      <th>80</th>\n",
       "      <td>95</td>\n",
       "      <td>[624, 624, 625, 625, 625, 626, 626, 627, 627, ...</td>\n",
       "      <td>[282, 283, 284, 284, 285, 285, 286, 286, 287, ...</td>\n",
       "      <td>43</td>\n",
       "      <td>282</td>\n",
       "      <td>624</td>\n",
       "      <td>309</td>\n",
       "      <td>644</td>\n",
       "      <td>(309, 644)</td>\n",
       "      <td>(282, 624)</td>\n",
       "      <td>[(624, 282), (624, 283), (625, 284), (625, 284...</td>\n",
       "      <td>[]</td>\n",
       "      <td>[]</td>\n",
       "    </tr>\n",
       "    <tr>\n",
       "      <th>81</th>\n",
       "      <td>96</td>\n",
       "      <td>[644, 643, 643, 642, 642, 642, 642, 642, 642, ...</td>\n",
       "      <td>[317, 317, 318, 319, 320, 320, 320, 321, 321, ...</td>\n",
       "      <td>81</td>\n",
       "      <td>317</td>\n",
       "      <td>644</td>\n",
       "      <td>297</td>\n",
       "      <td>602</td>\n",
       "      <td>(297, 602)</td>\n",
       "      <td>(317, 644)</td>\n",
       "      <td>[(644, 317), (643, 317), (643, 318), (642, 319...</td>\n",
       "      <td>[]</td>\n",
       "      <td>[]</td>\n",
       "    </tr>\n",
       "    <tr>\n",
       "      <th>82</th>\n",
       "      <td>98</td>\n",
       "      <td>[731, 731, 730, 729, 729, 729, 728, 728, 728, ...</td>\n",
       "      <td>[278, 276, 275, 274, 273, 271, 270, 269, 267, ...</td>\n",
       "      <td>16</td>\n",
       "      <td>278</td>\n",
       "      <td>731</td>\n",
       "      <td>260</td>\n",
       "      <td>725</td>\n",
       "      <td>(260, 725)</td>\n",
       "      <td>(278, 731)</td>\n",
       "      <td>[(731, 278), (731, 276), (730, 275), (729, 274...</td>\n",
       "      <td>[]</td>\n",
       "      <td>[]</td>\n",
       "    </tr>\n",
       "  </tbody>\n",
       "</table>\n",
       "<p>83 rows × 13 columns</p>\n",
       "</div>"
      ],
      "text/plain": [
       "    id_road                                       i_coordinate  \\\n",
       "0         1  [676, 675, 675, 674, 674, 674, 673, 673, 672, ...   \n",
       "1         2  [657, 656, 656, 655, 655, 654, 653, 653, 652, ...   \n",
       "2         3  [644, 644, 644, 644, 644, 644, 644, 644, 644, ...   \n",
       "3         4  [645, 645, 645, 645, 645, 645, 645, 645, 645, ...   \n",
       "4         5  [643, 643, 643, 643, 643, 642, 642, 642, 642, ...   \n",
       "..      ...                                                ...   \n",
       "78       84  [453, 453, 453, 453, 453, 452, 452, 451, 450, ...   \n",
       "79       88  [515, 515, 514, 514, 513, 513, 513, 513, 513, ...   \n",
       "80       95  [624, 624, 625, 625, 625, 626, 626, 627, 627, ...   \n",
       "81       96  [644, 643, 643, 642, 642, 642, 642, 642, 642, ...   \n",
       "82       98  [731, 731, 730, 729, 729, 729, 728, 728, 728, ...   \n",
       "\n",
       "                                         j_coordinate  len_road    x    y  \\\n",
       "0   [198, 198, 199, 199, 200, 201, 202, 203, 203, ...       110  198  676   \n",
       "1   [268, 268, 269, 269, 269, 269, 269, 269, 269, ...        44  268  657   \n",
       "2   [280, 279, 280, 281, 282, 283, 284, 285, 286, ...        35  280  644   \n",
       "3   [310, 310, 311, 311, 312, 312, 313, 313, 314, ...        44  310  645   \n",
       "4   [336, 337, 337, 338, 338, 339, 339, 340, 340, ...        33  336  643   \n",
       "..                                                ...       ...  ...  ...   \n",
       "78  [639, 639, 638, 638, 638, 638, 637, 637, 636, ...        18  639  453   \n",
       "79  [492, 492, 492, 493, 493, 494, 495, 496, 496, ...       310  492  515   \n",
       "80  [282, 283, 284, 284, 285, 285, 286, 286, 287, ...        43  282  624   \n",
       "81  [317, 317, 318, 319, 320, 320, 320, 321, 321, ...        81  317  644   \n",
       "82  [278, 276, 275, 274, 273, 271, 270, 269, 267, ...        16  278  731   \n",
       "\n",
       "    x_last  y_last     xy_last          xy  \\\n",
       "0      268     657  (268, 657)  (198, 676)   \n",
       "1      279     644  (279, 644)  (268, 657)   \n",
       "2      309     645  (309, 645)  (280, 644)   \n",
       "3      336     643  (336, 643)  (310, 645)   \n",
       "4      352     633  (352, 633)  (336, 643)   \n",
       "..     ...     ...         ...         ...   \n",
       "78     636     443  (636, 443)  (639, 453)   \n",
       "79     481     364  (481, 364)  (492, 515)   \n",
       "80     309     644  (309, 644)  (282, 624)   \n",
       "81     297     602  (297, 602)  (317, 644)   \n",
       "82     260     725  (260, 725)  (278, 731)   \n",
       "\n",
       "                                           coordinate    neighbours  \\\n",
       "0   [(676, 198), (675, 198), (675, 199), (674, 199...   [2, 15, 32]   \n",
       "1   [(657, 268), (656, 268), (656, 269), (655, 269...       [3, 16]   \n",
       "2   [(644, 280), (644, 279), (644, 280), (644, 281...  [33, 34, 73]   \n",
       "3   [(645, 310), (645, 310), (645, 311), (645, 311...       [5, 35]   \n",
       "4   [(643, 336), (643, 337), (643, 337), (643, 338...       [6, 20]   \n",
       "..                                                ...           ...   \n",
       "78  [(453, 639), (453, 639), (453, 638), (453, 638...            []   \n",
       "79  [(515, 492), (515, 492), (514, 492), (514, 493...            []   \n",
       "80  [(624, 282), (624, 283), (625, 284), (625, 284...            []   \n",
       "81  [(644, 317), (643, 317), (643, 318), (642, 319...            []   \n",
       "82  [(731, 278), (731, 276), (730, 275), (729, 274...            []   \n",
       "\n",
       "   len_neighbours  \n",
       "0   [109, 8, 236]  \n",
       "1         [44, 1]  \n",
       "2             [0]  \n",
       "3              []  \n",
       "4              []  \n",
       "..            ...  \n",
       "78             []  \n",
       "79             []  \n",
       "80             []  \n",
       "81             []  \n",
       "82             []  \n",
       "\n",
       "[83 rows x 13 columns]"
      ]
     },
     "execution_count": 28,
     "metadata": {},
     "output_type": "execute_result"
    }
   ],
   "source": [
    "ds"
   ]
  },
  {
   "cell_type": "code",
   "execution_count": 21,
   "metadata": {},
   "outputs": [
    {
     "data": {
      "text/plain": [
       "104"
      ]
     },
     "execution_count": 21,
     "metadata": {},
     "output_type": "execute_result"
    }
   ],
   "source": [
    "np.in1d(ds[ds['id_road']==1]['i_coordinate'].values[0], ds[ds['id_road']==32]['i_coordinate'].values[0]).sum()"
   ]
  },
  {
   "cell_type": "code",
   "execution_count": 16,
   "metadata": {},
   "outputs": [
    {
     "data": {
      "text/html": [
       "<div>\n",
       "<style scoped>\n",
       "    .dataframe tbody tr th:only-of-type {\n",
       "        vertical-align: middle;\n",
       "    }\n",
       "\n",
       "    .dataframe tbody tr th {\n",
       "        vertical-align: top;\n",
       "    }\n",
       "\n",
       "    .dataframe thead th {\n",
       "        text-align: right;\n",
       "    }\n",
       "</style>\n",
       "<table border=\"1\" class=\"dataframe\">\n",
       "  <thead>\n",
       "    <tr style=\"text-align: right;\">\n",
       "      <th></th>\n",
       "      <th>id_road</th>\n",
       "      <th>i_coordinate</th>\n",
       "      <th>j_coordinate</th>\n",
       "      <th>len_road</th>\n",
       "      <th>x</th>\n",
       "      <th>y</th>\n",
       "      <th>x_last</th>\n",
       "      <th>y_last</th>\n",
       "      <th>xy_last</th>\n",
       "      <th>xy</th>\n",
       "      <th>coordinate</th>\n",
       "      <th>neighbours</th>\n",
       "    </tr>\n",
       "  </thead>\n",
       "  <tbody>\n",
       "    <tr>\n",
       "      <th>0</th>\n",
       "      <td>1</td>\n",
       "      <td>[676, 675, 675, 674, 674, 674, 673, 673, 672, ...</td>\n",
       "      <td>[198, 198, 199, 199, 200, 201, 202, 203, 203, ...</td>\n",
       "      <td>110</td>\n",
       "      <td>198</td>\n",
       "      <td>676</td>\n",
       "      <td>268</td>\n",
       "      <td>657</td>\n",
       "      <td>(268, 657)</td>\n",
       "      <td>(198, 676)</td>\n",
       "      <td>[(676, 198), (675, 198), (675, 199), (674, 199...</td>\n",
       "      <td>[2, 15, 32]</td>\n",
       "    </tr>\n",
       "    <tr>\n",
       "      <th>1</th>\n",
       "      <td>2</td>\n",
       "      <td>[657, 656, 656, 655, 655, 654, 653, 653, 652, ...</td>\n",
       "      <td>[268, 268, 269, 269, 269, 269, 269, 269, 269, ...</td>\n",
       "      <td>44</td>\n",
       "      <td>268</td>\n",
       "      <td>657</td>\n",
       "      <td>279</td>\n",
       "      <td>644</td>\n",
       "      <td>(279, 644)</td>\n",
       "      <td>(268, 657)</td>\n",
       "      <td>[(657, 268), (656, 268), (656, 269), (655, 269...</td>\n",
       "      <td>[3, 16]</td>\n",
       "    </tr>\n",
       "    <tr>\n",
       "      <th>2</th>\n",
       "      <td>3</td>\n",
       "      <td>[644, 644, 644, 644, 644, 644, 644, 644, 644, ...</td>\n",
       "      <td>[280, 279, 280, 281, 282, 283, 284, 285, 286, ...</td>\n",
       "      <td>35</td>\n",
       "      <td>280</td>\n",
       "      <td>644</td>\n",
       "      <td>309</td>\n",
       "      <td>645</td>\n",
       "      <td>(309, 645)</td>\n",
       "      <td>(280, 644)</td>\n",
       "      <td>[(644, 280), (644, 279), (644, 280), (644, 281...</td>\n",
       "      <td>[33, 34, 73]</td>\n",
       "    </tr>\n",
       "    <tr>\n",
       "      <th>3</th>\n",
       "      <td>4</td>\n",
       "      <td>[645, 645, 645, 645, 645, 645, 645, 645, 645, ...</td>\n",
       "      <td>[310, 310, 311, 311, 312, 312, 313, 313, 314, ...</td>\n",
       "      <td>44</td>\n",
       "      <td>310</td>\n",
       "      <td>645</td>\n",
       "      <td>336</td>\n",
       "      <td>643</td>\n",
       "      <td>(336, 643)</td>\n",
       "      <td>(310, 645)</td>\n",
       "      <td>[(645, 310), (645, 310), (645, 311), (645, 311...</td>\n",
       "      <td>[5, 35]</td>\n",
       "    </tr>\n",
       "    <tr>\n",
       "      <th>4</th>\n",
       "      <td>5</td>\n",
       "      <td>[643, 643, 643, 643, 643, 642, 642, 642, 642, ...</td>\n",
       "      <td>[336, 337, 337, 338, 338, 339, 339, 340, 340, ...</td>\n",
       "      <td>33</td>\n",
       "      <td>336</td>\n",
       "      <td>643</td>\n",
       "      <td>352</td>\n",
       "      <td>633</td>\n",
       "      <td>(352, 633)</td>\n",
       "      <td>(336, 643)</td>\n",
       "      <td>[(643, 336), (643, 337), (643, 337), (643, 338...</td>\n",
       "      <td>[6, 20]</td>\n",
       "    </tr>\n",
       "  </tbody>\n",
       "</table>\n",
       "</div>"
      ],
      "text/plain": [
       "   id_road                                       i_coordinate  \\\n",
       "0        1  [676, 675, 675, 674, 674, 674, 673, 673, 672, ...   \n",
       "1        2  [657, 656, 656, 655, 655, 654, 653, 653, 652, ...   \n",
       "2        3  [644, 644, 644, 644, 644, 644, 644, 644, 644, ...   \n",
       "3        4  [645, 645, 645, 645, 645, 645, 645, 645, 645, ...   \n",
       "4        5  [643, 643, 643, 643, 643, 642, 642, 642, 642, ...   \n",
       "\n",
       "                                        j_coordinate  len_road    x    y  \\\n",
       "0  [198, 198, 199, 199, 200, 201, 202, 203, 203, ...       110  198  676   \n",
       "1  [268, 268, 269, 269, 269, 269, 269, 269, 269, ...        44  268  657   \n",
       "2  [280, 279, 280, 281, 282, 283, 284, 285, 286, ...        35  280  644   \n",
       "3  [310, 310, 311, 311, 312, 312, 313, 313, 314, ...        44  310  645   \n",
       "4  [336, 337, 337, 338, 338, 339, 339, 340, 340, ...        33  336  643   \n",
       "\n",
       "   x_last  y_last     xy_last          xy  \\\n",
       "0     268     657  (268, 657)  (198, 676)   \n",
       "1     279     644  (279, 644)  (268, 657)   \n",
       "2     309     645  (309, 645)  (280, 644)   \n",
       "3     336     643  (336, 643)  (310, 645)   \n",
       "4     352     633  (352, 633)  (336, 643)   \n",
       "\n",
       "                                          coordinate    neighbours  \n",
       "0  [(676, 198), (675, 198), (675, 199), (674, 199...   [2, 15, 32]  \n",
       "1  [(657, 268), (656, 268), (656, 269), (655, 269...       [3, 16]  \n",
       "2  [(644, 280), (644, 279), (644, 280), (644, 281...  [33, 34, 73]  \n",
       "3  [(645, 310), (645, 310), (645, 311), (645, 311...       [5, 35]  \n",
       "4  [(643, 336), (643, 337), (643, 337), (643, 338...       [6, 20]  "
      ]
     },
     "execution_count": 16,
     "metadata": {},
     "output_type": "execute_result"
    }
   ],
   "source": [
    "ds.head()"
   ]
  },
  {
   "cell_type": "code",
   "execution_count": null,
   "metadata": {},
   "outputs": [],
   "source": [
    "# по другому\n",
    "ds['neighbours'] = [[] for i in range(ds['id_road'].values.size)]\n",
    "for j in ds['id_road'].values:\n",
    "    k = ds[ds['id_road']==j]['id_road'].index.values[0]\n",
    "    for i in ds[ds['id_road']!=j]['id_road'].values[k:]:\n",
    "        if(np.in1d([str(item) for item in ds[ds['id_road']==i]['coordinate'].values[0]], [str(item) for item in ds[ds['id_road']==j]['coordinate'].values[0]]).sum() > 0):\n",
    "            ds[ds['id_road']==j]['neighbours'].values[0].append(i)\n"
   ]
  },
  {
   "cell_type": "code",
   "execution_count": 262,
   "metadata": {},
   "outputs": [
    {
     "data": {
      "text/plain": [
       "236"
      ]
     },
     "execution_count": 262,
     "metadata": {},
     "output_type": "execute_result"
    }
   ],
   "source": [
    "# Расстояние между узлами дорог\n",
    "a = np.in1d(ds[ds['id_road']==1]['i_coordinate'].values[0], ds[ds['id_road']==32]['i_coordinate'].values[0])\n",
    "b = np.in1d(ds[ds['id_road']==1]['j_coordinate'].values[0], ds[ds['id_road']==32]['j_coordinate'].values[0])\n",
    "c = np.argwhere(np.logical_and(a, b) == True)[0][0]\n",
    "j = ds[ds['id_road']==1]['j_coordinate'].values[0][c]\n",
    "i = ds[ds['id_road']==1]['i_coordinate'].values[0][c]\n",
    "d = np.intersect1d(np.argwhere(np.array(ds[ds['id_road']==32]['i_coordinate'].values[0]) == i).ravel(), \\\n",
    "    np.argwhere(np.array(ds[ds['id_road']==32]['j_coordinate'].values[0]) == j).ravel())[0]\n",
    "c + d"
   ]
  },
  {
   "cell_type": "code",
   "execution_count": null,
   "metadata": {},
   "outputs": [],
   "source": [
    "np.intersect1d"
   ]
  },
  {
   "cell_type": "code",
   "execution_count": 223,
   "metadata": {},
   "outputs": [
    {
     "data": {
      "text/plain": [
       "(660, 267)"
      ]
     },
     "execution_count": 223,
     "metadata": {},
     "output_type": "execute_result"
    }
   ],
   "source": [
    "i, j"
   ]
  },
  {
   "cell_type": "code",
   "execution_count": 224,
   "metadata": {},
   "outputs": [
    {
     "data": {
      "text/plain": [
       "[(665, 275),\n",
       " (665, 274),\n",
       " (666, 273),\n",
       " (666, 272),\n",
       " (665, 272),\n",
       " (665, 271),\n",
       " (664, 271),\n",
       " (664, 271),\n",
       " (663, 270),\n",
       " (662, 269),\n",
       " (661, 269),\n",
       " (661, 268),\n",
       " (660, 268),\n",
       " (660, 267)]"
      ]
     },
     "execution_count": 224,
     "metadata": {},
     "output_type": "execute_result"
    }
   ],
   "source": [
    "ds[ds['id_road']==32]['coordinate'].values[0][120:]"
   ]
  },
  {
   "cell_type": "code",
   "execution_count": 227,
   "metadata": {},
   "outputs": [
    {
     "data": {
      "text/plain": [
       "True"
      ]
     },
     "execution_count": 227,
     "metadata": {},
     "output_type": "execute_result"
    }
   ],
   "source": [
    "ds[ds['id_road']==32]['coordinate'].values[0][-1] == (660, 267)"
   ]
  },
  {
   "cell_type": "code",
   "execution_count": 235,
   "metadata": {},
   "outputs": [
    {
     "data": {
      "text/plain": [
       "[734,\n",
       " 734,\n",
       " 734,\n",
       " 733,\n",
       " 732,\n",
       " 731,\n",
       " 731,\n",
       " 730,\n",
       " 730,\n",
       " 730,\n",
       " 730,\n",
       " 729,\n",
       " 728,\n",
       " 727,\n",
       " 726,\n",
       " 725,\n",
       " 724,\n",
       " 723,\n",
       " 723,\n",
       " 722,\n",
       " 722,\n",
       " 721,\n",
       " 721,\n",
       " 720,\n",
       " 720,\n",
       " 719,\n",
       " 719,\n",
       " 719,\n",
       " 719,\n",
       " 719,\n",
       " 718,\n",
       " 718,\n",
       " 717,\n",
       " 717,\n",
       " 716,\n",
       " 715,\n",
       " 715,\n",
       " 714,\n",
       " 713,\n",
       " 712,\n",
       " 711,\n",
       " 710,\n",
       " 709,\n",
       " 708,\n",
       " 707,\n",
       " 706,\n",
       " 705,\n",
       " 705,\n",
       " 704,\n",
       " 703,\n",
       " 703,\n",
       " 702,\n",
       " 702,\n",
       " 701,\n",
       " 700,\n",
       " 699,\n",
       " 699,\n",
       " 698,\n",
       " 697,\n",
       " 696,\n",
       " 695,\n",
       " 694,\n",
       " 692,\n",
       " 691,\n",
       " 690,\n",
       " 689,\n",
       " 688,\n",
       " 687,\n",
       " 687,\n",
       " 687,\n",
       " 687,\n",
       " 686,\n",
       " 686,\n",
       " 685,\n",
       " 684,\n",
       " 684,\n",
       " 683,\n",
       " 682,\n",
       " 682,\n",
       " 681,\n",
       " 680,\n",
       " 679,\n",
       " 679,\n",
       " 678,\n",
       " 678,\n",
       " 677,\n",
       " 677,\n",
       " 676,\n",
       " 675,\n",
       " 675,\n",
       " 675,\n",
       " 675,\n",
       " 675,\n",
       " 675,\n",
       " 674,\n",
       " 673,\n",
       " 673,\n",
       " 673,\n",
       " 672,\n",
       " 671,\n",
       " 670,\n",
       " 670,\n",
       " 670,\n",
       " 669,\n",
       " 669,\n",
       " 669,\n",
       " 669,\n",
       " 668,\n",
       " 668,\n",
       " 668,\n",
       " 668,\n",
       " 667,\n",
       " 667,\n",
       " 667,\n",
       " 666,\n",
       " 666,\n",
       " 665,\n",
       " 665,\n",
       " 664,\n",
       " 664,\n",
       " 665,\n",
       " 665,\n",
       " 666,\n",
       " 666,\n",
       " 665,\n",
       " 665,\n",
       " 664,\n",
       " 664,\n",
       " 663,\n",
       " 662,\n",
       " 661,\n",
       " 661,\n",
       " 660,\n",
       " 660]"
      ]
     },
     "execution_count": 235,
     "metadata": {},
     "output_type": "execute_result"
    }
   ],
   "source": [
    "ds[ds['id_road']==32]['i_coordinate'].values[0]"
   ]
  },
  {
   "cell_type": "code",
   "execution_count": 239,
   "metadata": {},
   "outputs": [
    {
     "data": {
      "text/plain": [
       "734"
      ]
     },
     "execution_count": 239,
     "metadata": {},
     "output_type": "execute_result"
    }
   ],
   "source": [
    "ds[ds['id_road']==32]['i_coordinate'].values[0][ds[ds['id_road']==32]['i_coordinate'].values[0]== 660]"
   ]
  },
  {
   "cell_type": "code",
   "execution_count": 255,
   "metadata": {},
   "outputs": [
    {
     "data": {
      "text/plain": [
       "array([[132,   0],\n",
       "       [133,   0],\n",
       "       [133,   1]], dtype=int64)"
      ]
     },
     "execution_count": 255,
     "metadata": {},
     "output_type": "execute_result"
    }
   ],
   "source": [
    "np.argwhere(np.array(ds[ds['id_road']==32]['coordinate'].values[0]) == (i, j))"
   ]
  },
  {
   "cell_type": "code",
   "execution_count": 258,
   "metadata": {},
   "outputs": [
    {
     "data": {
      "text/plain": [
       "array([132, 133], dtype=int64)"
      ]
     },
     "execution_count": 258,
     "metadata": {},
     "output_type": "execute_result"
    }
   ],
   "source": [
    "np.argwhere(np.array(ds[ds['id_road']==32]['i_coordinate'].values[0]) == i).ravel()"
   ]
  },
  {
   "cell_type": "code",
   "execution_count": 259,
   "metadata": {},
   "outputs": [
    {
     "data": {
      "text/plain": [
       "array([133], dtype=int64)"
      ]
     },
     "execution_count": 259,
     "metadata": {},
     "output_type": "execute_result"
    }
   ],
   "source": [
    "np.argwhere(np.array(ds[ds['id_road']==32]['j_coordinate'].values[0]) == j).ravel()"
   ]
  },
  {
   "cell_type": "code",
   "execution_count": 261,
   "metadata": {},
   "outputs": [
    {
     "data": {
      "text/plain": [
       "133"
      ]
     },
     "execution_count": 261,
     "metadata": {},
     "output_type": "execute_result"
    }
   ],
   "source": [
    "np.intersect1d(np.argwhere(np.array(ds[ds['id_road']==32]['i_coordinate'].values[0]) == i).ravel(), np.argwhere(np.array(ds[ds['id_road']==32]['j_coordinate'].values[0]) == j).ravel())[0]"
   ]
  },
  {
   "cell_type": "code",
   "execution_count": 211,
   "metadata": {},
   "outputs": [
    {
     "data": {
      "text/plain": [
       "267"
      ]
     },
     "execution_count": 211,
     "metadata": {},
     "output_type": "execute_result"
    }
   ],
   "source": [
    "ds[ds['id_road']==32]['j_coordinate'].values[0][-1]"
   ]
  },
  {
   "cell_type": "code",
   "execution_count": 175,
   "metadata": {},
   "outputs": [
    {
     "data": {
      "text/plain": [
       "27    [335, 335, 335, 335, 335, 335, 335, 335, 334, ...\n",
       "Name: j_coordinate, dtype: object"
      ]
     },
     "execution_count": 175,
     "metadata": {},
     "output_type": "execute_result"
    }
   ],
   "source": [
    "ds[ds['id_road']==32]['j_coordinate']"
   ]
  },
  {
   "cell_type": "code",
   "execution_count": 176,
   "metadata": {},
   "outputs": [
    {
     "data": {
      "text/plain": [
       "3"
      ]
     },
     "execution_count": 176,
     "metadata": {},
     "output_type": "execute_result"
    }
   ],
   "source": [
    "len([1, 3, 4])"
   ]
  },
  {
   "cell_type": "code",
   "execution_count": 182,
   "metadata": {},
   "outputs": [
    {
     "data": {
      "text/plain": [
       "4"
      ]
     },
     "execution_count": 182,
     "metadata": {},
     "output_type": "execute_result"
    }
   ],
   "source": [
    "[1, 3, 4][3-1]"
   ]
  },
  {
   "cell_type": "code",
   "execution_count": 163,
   "metadata": {},
   "outputs": [
    {
     "data": {
      "text/html": [
       "<div>\n",
       "<style scoped>\n",
       "    .dataframe tbody tr th:only-of-type {\n",
       "        vertical-align: middle;\n",
       "    }\n",
       "\n",
       "    .dataframe tbody tr th {\n",
       "        vertical-align: top;\n",
       "    }\n",
       "\n",
       "    .dataframe thead th {\n",
       "        text-align: right;\n",
       "    }\n",
       "</style>\n",
       "<table border=\"1\" class=\"dataframe\">\n",
       "  <thead>\n",
       "    <tr style=\"text-align: right;\">\n",
       "      <th></th>\n",
       "      <th>id_road</th>\n",
       "      <th>i_coordinate</th>\n",
       "      <th>j_coordinate</th>\n",
       "      <th>len_road</th>\n",
       "      <th>x</th>\n",
       "      <th>y</th>\n",
       "      <th>xy</th>\n",
       "      <th>x_last</th>\n",
       "      <th>y_last</th>\n",
       "      <th>xy_last</th>\n",
       "      <th>coordinate</th>\n",
       "      <th>neighbours</th>\n",
       "    </tr>\n",
       "  </thead>\n",
       "  <tbody>\n",
       "    <tr>\n",
       "      <th>0</th>\n",
       "      <td>1</td>\n",
       "      <td>[676, 675, 675, 674, 674, 674, 673, 673, 672, ...</td>\n",
       "      <td>[198, 198, 199, 199, 200, 201, 202, 203, 203, ...</td>\n",
       "      <td>110</td>\n",
       "      <td>198</td>\n",
       "      <td>676</td>\n",
       "      <td>(198, 676)</td>\n",
       "      <td>268</td>\n",
       "      <td>657</td>\n",
       "      <td>(268, 657)</td>\n",
       "      <td>[(676, 198), (675, 198), (675, 199), (674, 199...</td>\n",
       "      <td>[2, 15, 32]</td>\n",
       "    </tr>\n",
       "    <tr>\n",
       "      <th>1</th>\n",
       "      <td>2</td>\n",
       "      <td>[657, 656, 656, 655, 655, 654, 653, 653, 652, ...</td>\n",
       "      <td>[268, 268, 269, 269, 269, 269, 269, 269, 269, ...</td>\n",
       "      <td>44</td>\n",
       "      <td>268</td>\n",
       "      <td>657</td>\n",
       "      <td>(268, 657)</td>\n",
       "      <td>279</td>\n",
       "      <td>644</td>\n",
       "      <td>(279, 644)</td>\n",
       "      <td>[(657, 268), (656, 268), (656, 269), (655, 269...</td>\n",
       "      <td>[3, 16, 73]</td>\n",
       "    </tr>\n",
       "    <tr>\n",
       "      <th>2</th>\n",
       "      <td>3</td>\n",
       "      <td>[644, 644, 644, 644, 644, 644, 644, 644, 644, ...</td>\n",
       "      <td>[280, 279, 280, 281, 282, 283, 284, 285, 286, ...</td>\n",
       "      <td>35</td>\n",
       "      <td>280</td>\n",
       "      <td>644</td>\n",
       "      <td>(280, 644)</td>\n",
       "      <td>309</td>\n",
       "      <td>645</td>\n",
       "      <td>(309, 645)</td>\n",
       "      <td>[(644, 280), (644, 279), (644, 280), (644, 281...</td>\n",
       "      <td>[33, 34, 73, 95, 96]</td>\n",
       "    </tr>\n",
       "    <tr>\n",
       "      <th>3</th>\n",
       "      <td>4</td>\n",
       "      <td>[645, 645, 645, 645, 645, 645, 645, 645, 645, ...</td>\n",
       "      <td>[310, 310, 311, 311, 312, 312, 313, 313, 314, ...</td>\n",
       "      <td>44</td>\n",
       "      <td>310</td>\n",
       "      <td>645</td>\n",
       "      <td>(310, 645)</td>\n",
       "      <td>336</td>\n",
       "      <td>643</td>\n",
       "      <td>(336, 643)</td>\n",
       "      <td>[(645, 310), (645, 310), (645, 311), (645, 311...</td>\n",
       "      <td>[5, 34, 35, 96]</td>\n",
       "    </tr>\n",
       "    <tr>\n",
       "      <th>4</th>\n",
       "      <td>5</td>\n",
       "      <td>[643, 643, 643, 643, 643, 642, 642, 642, 642, ...</td>\n",
       "      <td>[336, 337, 337, 338, 338, 339, 339, 340, 340, ...</td>\n",
       "      <td>33</td>\n",
       "      <td>336</td>\n",
       "      <td>643</td>\n",
       "      <td>(336, 643)</td>\n",
       "      <td>352</td>\n",
       "      <td>633</td>\n",
       "      <td>(352, 633)</td>\n",
       "      <td>[(643, 336), (643, 337), (643, 337), (643, 338...</td>\n",
       "      <td>[6, 20, 36, 37]</td>\n",
       "    </tr>\n",
       "  </tbody>\n",
       "</table>\n",
       "</div>"
      ],
      "text/plain": [
       "   id_road                                       i_coordinate  \\\n",
       "0        1  [676, 675, 675, 674, 674, 674, 673, 673, 672, ...   \n",
       "1        2  [657, 656, 656, 655, 655, 654, 653, 653, 652, ...   \n",
       "2        3  [644, 644, 644, 644, 644, 644, 644, 644, 644, ...   \n",
       "3        4  [645, 645, 645, 645, 645, 645, 645, 645, 645, ...   \n",
       "4        5  [643, 643, 643, 643, 643, 642, 642, 642, 642, ...   \n",
       "\n",
       "                                        j_coordinate  len_road    x    y  \\\n",
       "0  [198, 198, 199, 199, 200, 201, 202, 203, 203, ...       110  198  676   \n",
       "1  [268, 268, 269, 269, 269, 269, 269, 269, 269, ...        44  268  657   \n",
       "2  [280, 279, 280, 281, 282, 283, 284, 285, 286, ...        35  280  644   \n",
       "3  [310, 310, 311, 311, 312, 312, 313, 313, 314, ...        44  310  645   \n",
       "4  [336, 337, 337, 338, 338, 339, 339, 340, 340, ...        33  336  643   \n",
       "\n",
       "           xy  x_last  y_last     xy_last  \\\n",
       "0  (198, 676)     268     657  (268, 657)   \n",
       "1  (268, 657)     279     644  (279, 644)   \n",
       "2  (280, 644)     309     645  (309, 645)   \n",
       "3  (310, 645)     336     643  (336, 643)   \n",
       "4  (336, 643)     352     633  (352, 633)   \n",
       "\n",
       "                                          coordinate            neighbours  \n",
       "0  [(676, 198), (675, 198), (675, 199), (674, 199...           [2, 15, 32]  \n",
       "1  [(657, 268), (656, 268), (656, 269), (655, 269...           [3, 16, 73]  \n",
       "2  [(644, 280), (644, 279), (644, 280), (644, 281...  [33, 34, 73, 95, 96]  \n",
       "3  [(645, 310), (645, 310), (645, 311), (645, 311...       [5, 34, 35, 96]  \n",
       "4  [(643, 336), (643, 337), (643, 337), (643, 338...       [6, 20, 36, 37]  "
      ]
     },
     "execution_count": 163,
     "metadata": {},
     "output_type": "execute_result"
    }
   ],
   "source": [
    "ds.head()"
   ]
  },
  {
   "cell_type": "code",
   "execution_count": 193,
   "metadata": {},
   "outputs": [
    {
     "data": {
      "text/plain": [
       "[<matplotlib.lines.Line2D at 0x193f5400580>]"
      ]
     },
     "execution_count": 193,
     "metadata": {},
     "output_type": "execute_result"
    },
    {
     "data": {
      "image/png": "[encoded data removed]",
      "text/plain": [
       "<Figure size 640x480 with 1 Axes>"
      ]
     },
     "metadata": {},
     "output_type": "display_data"
    }
   ],
   "source": [
    "plt.plot(np.array(ds[ds['id_road'] == 16]['coordinate'].to_list()).reshape(\\\n",
    "     np.array(ds[ds['id_road'] == 16]['coordinate'].to_list()).shape[1],\\\n",
    "          2)[0:int(ds[ds['id_road'] == 16]['len_road']), 1], \\\n",
    "              np.array(ds[ds['id_road'] == 16]['coordinate'].to_list()).reshape(\\\n",
    "     np.array(ds[ds['id_road'] == 16]['coordinate'].to_list()).shape[1],\\\n",
    "          2)[0:int(ds[ds['id_road'] == 16]['len_road']), 0], label='Дорога1')\n",
    "plt.plot(np.array(ds[ds['id_road'] == 58]['coordinate'].to_list()).reshape(\\\n",
    "     np.array(ds[ds['id_road'] == 58]['coordinate'].to_list()).shape[1],\\\n",
    "          2)[0:int(ds[ds['id_road'] == 58]['len_road']), 1], \\\n",
    "              np.array(ds[ds['id_road'] == 58]['coordinate'].to_list()).reshape(\\\n",
    "     np.array(ds[ds['id_road'] == 58]['coordinate'].to_list()).shape[1],\\\n",
    "          2)[0:int(ds[ds['id_road'] == 58]['len_road']), 0], label='Дорога1')"
   ]
  },
  {
   "cell_type": "markdown",
   "metadata": {},
   "source": [
    "Диапазон"
   ]
  },
  {
   "cell_type": "code",
   "execution_count": 181,
   "metadata": {},
   "outputs": [
    {
     "data": {
      "text/plain": [
       "[<matplotlib.lines.Line2D at 0x193f5067a00>]"
      ]
     },
     "execution_count": 181,
     "metadata": {},
     "output_type": "execute_result"
    },
    {
     "data": {
      "image/png": "[encoded data removed]",
      "text/plain": [
       "<Figure size 640x480 with 1 Axes>"
      ]
     },
     "metadata": {},
     "output_type": "display_data"
    }
   ],
   "source": [
    "plt.plot(np.array(ds[ds['id_road'] == 16]['coordinate'].to_list()).reshape(\\\n",
    "     np.array(ds[ds['id_road'] == 16]['coordinate'].to_list()).shape[1],\\\n",
    "          2)[0:int(ds[ds['id_road'] == 16]['len_road']), 1], \\\n",
    "              np.array(ds[ds['id_road'] == 16]['coordinate'].to_list()).reshape(\\\n",
    "     np.array(ds[ds['id_road'] == 16]['coordinate'].to_list()).shape[1],\\\n",
    "          2)[0:int(ds[ds['id_road'] == 16]['len_road']), 0], label='Дорога1')\n",
    "plt.plot(np.array(ds[ds['id_road'] == 2]['coordinate'].to_list()).reshape(\\\n",
    "     np.array(ds[ds['id_road'] == 2]['coordinate'].to_list()).shape[1],\\\n",
    "          2)[0:int(ds[ds['id_road'] == 2]['len_road']), 1], \\\n",
    "              np.array(ds[ds['id_road'] == 2]['coordinate'].to_list()).reshape(\\\n",
    "     np.array(ds[ds['id_road'] == 2]['coordinate'].to_list()).shape[1],\\\n",
    "          2)[0:int(ds[ds['id_road'] == 2]['len_road']), 0], label='Дорога1')"
   ]
  },
  {
   "cell_type": "code",
   "execution_count": 182,
   "metadata": {},
   "outputs": [
    {
     "data": {
      "text/plain": [
       "1    [3, 16]\n",
       "Name: neighbours, dtype: object"
      ]
     },
     "execution_count": 182,
     "metadata": {},
     "output_type": "execute_result"
    }
   ],
   "source": [
    "ds[ds['id_road'] == 2]['neighbours']"
   ]
  },
  {
   "cell_type": "code",
   "execution_count": 136,
   "metadata": {},
   "outputs": [
    {
     "data": {
      "image/png": "[encoded data removed]",
      "text/plain": [
       "<Figure size 640x480 with 1 Axes>"
      ]
     },
     "metadata": {},
     "output_type": "display_data"
    }
   ],
   "source": [
    "for i in ds['id_road']:\n",
    "     plt.plot(np.array(ds[ds['id_road'] == i]['coordinate'].to_list()).reshape(\\\n",
    "     np.array(ds[ds['id_road'] == i]['coordinate'].to_list()).shape[1],\\\n",
    "          2)[0:int(ds[ds['id_road'] == i]['len_road']), 1], \\\n",
    "              np.array(ds[ds['id_road'] == i]['coordinate'].to_list()).reshape(\\\n",
    "     np.array(ds[ds['id_road'] == i]['coordinate'].to_list()).shape[1],\\\n",
    "          2)[0:int(ds[ds['id_road'] == i]['len_road']), 0], label='Дорога1')"
   ]
  },
  {
   "cell_type": "code",
   "execution_count": 137,
   "metadata": {},
   "outputs": [
    {
     "data": {
      "text/plain": [
       "array([ 1,  2,  3,  4,  5,  6,  7,  8,  9, 10, 11, 12, 14, 15, 16, 20, 21,\n",
       "       22, 23, 24, 25, 26, 27, 28, 29, 30, 31, 32, 33, 34, 35, 36, 37, 38,\n",
       "       39, 40, 41, 42, 43, 44, 45, 46, 47, 48, 49, 50, 51, 52, 53, 54, 55,\n",
       "       56, 57, 58, 59, 60, 61, 62, 63, 64, 65, 66, 67, 68, 69, 70, 71, 72,\n",
       "       73, 74, 75, 76, 77, 78, 80, 81, 82, 83, 84, 88, 95, 96, 98],\n",
       "      dtype=int64)"
      ]
     },
     "execution_count": 137,
     "metadata": {},
     "output_type": "execute_result"
    }
   ],
   "source": [
    "ds['id_road'].values"
   ]
  },
  {
   "cell_type": "code",
   "execution_count": 139,
   "metadata": {},
   "outputs": [
    {
     "data": {
      "text/plain": [
       "array([15, 16, 20, 21, 22, 23, 24, 25, 26, 27, 28, 29, 30, 31, 32, 33, 34,\n",
       "       35, 36, 37, 38, 39, 40, 41, 42, 43, 44, 45, 46, 47, 48, 49, 50, 51,\n",
       "       52, 53, 54, 55, 56, 57, 58, 59, 60, 61, 62, 63, 64, 65, 66, 67, 68,\n",
       "       69, 70, 71, 72, 73, 74, 75, 76, 77, 78, 80, 81, 82, 83, 84, 88, 95,\n",
       "       96, 98], dtype=int64)"
      ]
     },
     "execution_count": 139,
     "metadata": {},
     "output_type": "execute_result"
    }
   ],
   "source": [
    "k = ds[ds['id_road']==14]['id_road'].index.values[0]\n",
    "ds[ds['id_road']!=14]['id_road'].values[k:]"
   ]
  },
  {
   "cell_type": "code",
   "execution_count": 338,
   "metadata": {},
   "outputs": [],
   "source": [
    "ds['neighbours'] = [[] for i in range(ds['id_road'].values.size)]"
   ]
  },
  {
   "cell_type": "markdown",
   "metadata": {},
   "source": [
    "asd"
   ]
  },
  {
   "cell_type": "code",
   "execution_count": 344,
   "metadata": {},
   "outputs": [
    {
     "data": {
      "text/plain": [
       "False"
      ]
     },
     "execution_count": 344,
     "metadata": {},
     "output_type": "execute_result"
    }
   ],
   "source": [
    "ds[ds['id_road']==1]['len_road'].values[0] < ds[ds['id_road']==14]['len_road'].values[0]"
   ]
  },
  {
   "cell_type": "code",
   "execution_count": 347,
   "metadata": {},
   "outputs": [
    {
     "data": {
      "text/plain": [
       "110"
      ]
     },
     "execution_count": 347,
     "metadata": {},
     "output_type": "execute_result"
    }
   ],
   "source": [
    "ds[ds['id_road']==1]['len_road'].values[0]"
   ]
  },
  {
   "cell_type": "code",
   "execution_count": 348,
   "metadata": {},
   "outputs": [
    {
     "data": {
      "text/plain": [
       "30"
      ]
     },
     "execution_count": 348,
     "metadata": {},
     "output_type": "execute_result"
    }
   ],
   "source": [
    "ds[ds['id_road']==14]['len_road'].values[0]"
   ]
  },
  {
   "cell_type": "code",
   "execution_count": null,
   "metadata": {},
   "outputs": [],
   "source": [
    "a = np.in1d(ds[ds['id_road']==j]['i_coordinate'].values[0], ds[ds['id_road']==i]['i_coordinate'].values[0])"
   ]
  },
  {
   "cell_type": "code",
   "execution_count": null,
   "metadata": {},
   "outputs": [],
   "source": [
    "ds[ds['id_road']==i]['len_road'].values[0] < ds[ds['id_road']==j]['len_road'].values[0]"
   ]
  },
  {
   "cell_type": "code",
   "execution_count": 349,
   "metadata": {},
   "outputs": [],
   "source": [
    "a = np.intersect1d(ds[ds['id_road']==1]['i_coordinate'].values[0], ds[ds['id_road']==14]['i_coordinate'].values[0])\n",
    "b = np.intersect1d(ds[ds['id_road']==1]['j_coordinate'].values[0], ds[ds['id_road']==14]['j_coordinate'].values[0])"
   ]
  },
  {
   "cell_type": "code",
   "execution_count": 367,
   "metadata": {},
   "outputs": [
    {
     "data": {
      "text/plain": [
       "1"
      ]
     },
     "execution_count": 367,
     "metadata": {},
     "output_type": "execute_result"
    }
   ],
   "source": [
    "np.in1d([str(item) for item in ds[ds['id_road']==1]['coordinate'].values[0]], [str(item) for item in ds[ds['id_road']==32]['coordinate'].values[0]]).sum()"
   ]
  },
  {
   "cell_type": "code",
   "execution_count": 14,
   "metadata": {},
   "outputs": [],
   "source": [
    "# по другому\n",
    "ds['neighbours'] = [[] for i in range(ds['id_road'].values.size)]\n",
    "for j in ds['id_road'].values:\n",
    "    k = ds[ds['id_road']==j]['id_road'].index.values[0]\n",
    "    for i in ds[ds['id_road']!=j]['id_road'].values[k:]:\n",
    "        if(np.in1d([str(item) for item in ds[ds['id_road']==i]['coordinate'].values[0]], [str(item) for item in ds[ds['id_road']==j]['coordinate'].values[0]]).sum() > 0):\n",
    "            ds[ds['id_road']==j]['neighbours'].values[0].append(i)\n"
   ]
  },
  {
   "cell_type": "code",
   "execution_count": 15,
   "metadata": {},
   "outputs": [
    {
     "data": {
      "text/html": [
       "<div>\n",
       "<style scoped>\n",
       "    .dataframe tbody tr th:only-of-type {\n",
       "        vertical-align: middle;\n",
       "    }\n",
       "\n",
       "    .dataframe tbody tr th {\n",
       "        vertical-align: top;\n",
       "    }\n",
       "\n",
       "    .dataframe thead th {\n",
       "        text-align: right;\n",
       "    }\n",
       "</style>\n",
       "<table border=\"1\" class=\"dataframe\">\n",
       "  <thead>\n",
       "    <tr style=\"text-align: right;\">\n",
       "      <th></th>\n",
       "      <th>id_road</th>\n",
       "      <th>i_coordinate</th>\n",
       "      <th>j_coordinate</th>\n",
       "      <th>len_road</th>\n",
       "      <th>x</th>\n",
       "      <th>y</th>\n",
       "      <th>x_last</th>\n",
       "      <th>y_last</th>\n",
       "      <th>xy_last</th>\n",
       "      <th>xy</th>\n",
       "      <th>coordinate</th>\n",
       "      <th>neighbours</th>\n",
       "    </tr>\n",
       "  </thead>\n",
       "  <tbody>\n",
       "    <tr>\n",
       "      <th>0</th>\n",
       "      <td>1</td>\n",
       "      <td>[676, 675, 675, 674, 674, 674, 673, 673, 672, ...</td>\n",
       "      <td>[198, 198, 199, 199, 200, 201, 202, 203, 203, ...</td>\n",
       "      <td>110</td>\n",
       "      <td>198</td>\n",
       "      <td>676</td>\n",
       "      <td>268</td>\n",
       "      <td>657</td>\n",
       "      <td>(268, 657)</td>\n",
       "      <td>(198, 676)</td>\n",
       "      <td>[(676, 198), (675, 198), (675, 199), (674, 199...</td>\n",
       "      <td>[2, 15, 32]</td>\n",
       "    </tr>\n",
       "    <tr>\n",
       "      <th>1</th>\n",
       "      <td>2</td>\n",
       "      <td>[657, 656, 656, 655, 655, 654, 653, 653, 652, ...</td>\n",
       "      <td>[268, 268, 269, 269, 269, 269, 269, 269, 269, ...</td>\n",
       "      <td>44</td>\n",
       "      <td>268</td>\n",
       "      <td>657</td>\n",
       "      <td>279</td>\n",
       "      <td>644</td>\n",
       "      <td>(279, 644)</td>\n",
       "      <td>(268, 657)</td>\n",
       "      <td>[(657, 268), (656, 268), (656, 269), (655, 269...</td>\n",
       "      <td>[3, 16]</td>\n",
       "    </tr>\n",
       "    <tr>\n",
       "      <th>2</th>\n",
       "      <td>3</td>\n",
       "      <td>[644, 644, 644, 644, 644, 644, 644, 644, 644, ...</td>\n",
       "      <td>[280, 279, 280, 281, 282, 283, 284, 285, 286, ...</td>\n",
       "      <td>35</td>\n",
       "      <td>280</td>\n",
       "      <td>644</td>\n",
       "      <td>309</td>\n",
       "      <td>645</td>\n",
       "      <td>(309, 645)</td>\n",
       "      <td>(280, 644)</td>\n",
       "      <td>[(644, 280), (644, 279), (644, 280), (644, 281...</td>\n",
       "      <td>[33, 34, 73]</td>\n",
       "    </tr>\n",
       "    <tr>\n",
       "      <th>3</th>\n",
       "      <td>4</td>\n",
       "      <td>[645, 645, 645, 645, 645, 645, 645, 645, 645, ...</td>\n",
       "      <td>[310, 310, 311, 311, 312, 312, 313, 313, 314, ...</td>\n",
       "      <td>44</td>\n",
       "      <td>310</td>\n",
       "      <td>645</td>\n",
       "      <td>336</td>\n",
       "      <td>643</td>\n",
       "      <td>(336, 643)</td>\n",
       "      <td>(310, 645)</td>\n",
       "      <td>[(645, 310), (645, 310), (645, 311), (645, 311...</td>\n",
       "      <td>[5, 35]</td>\n",
       "    </tr>\n",
       "    <tr>\n",
       "      <th>4</th>\n",
       "      <td>5</td>\n",
       "      <td>[643, 643, 643, 643, 643, 642, 642, 642, 642, ...</td>\n",
       "      <td>[336, 337, 337, 338, 338, 339, 339, 340, 340, ...</td>\n",
       "      <td>33</td>\n",
       "      <td>336</td>\n",
       "      <td>643</td>\n",
       "      <td>352</td>\n",
       "      <td>633</td>\n",
       "      <td>(352, 633)</td>\n",
       "      <td>(336, 643)</td>\n",
       "      <td>[(643, 336), (643, 337), (643, 337), (643, 338...</td>\n",
       "      <td>[6, 20]</td>\n",
       "    </tr>\n",
       "  </tbody>\n",
       "</table>\n",
       "</div>"
      ],
      "text/plain": [
       "   id_road                                       i_coordinate  \\\n",
       "0        1  [676, 675, 675, 674, 674, 674, 673, 673, 672, ...   \n",
       "1        2  [657, 656, 656, 655, 655, 654, 653, 653, 652, ...   \n",
       "2        3  [644, 644, 644, 644, 644, 644, 644, 644, 644, ...   \n",
       "3        4  [645, 645, 645, 645, 645, 645, 645, 645, 645, ...   \n",
       "4        5  [643, 643, 643, 643, 643, 642, 642, 642, 642, ...   \n",
       "\n",
       "                                        j_coordinate  len_road    x    y  \\\n",
       "0  [198, 198, 199, 199, 200, 201, 202, 203, 203, ...       110  198  676   \n",
       "1  [268, 268, 269, 269, 269, 269, 269, 269, 269, ...        44  268  657   \n",
       "2  [280, 279, 280, 281, 282, 283, 284, 285, 286, ...        35  280  644   \n",
       "3  [310, 310, 311, 311, 312, 312, 313, 313, 314, ...        44  310  645   \n",
       "4  [336, 337, 337, 338, 338, 339, 339, 340, 340, ...        33  336  643   \n",
       "\n",
       "   x_last  y_last     xy_last          xy  \\\n",
       "0     268     657  (268, 657)  (198, 676)   \n",
       "1     279     644  (279, 644)  (268, 657)   \n",
       "2     309     645  (309, 645)  (280, 644)   \n",
       "3     336     643  (336, 643)  (310, 645)   \n",
       "4     352     633  (352, 633)  (336, 643)   \n",
       "\n",
       "                                          coordinate    neighbours  \n",
       "0  [(676, 198), (675, 198), (675, 199), (674, 199...   [2, 15, 32]  \n",
       "1  [(657, 268), (656, 268), (656, 269), (655, 269...       [3, 16]  \n",
       "2  [(644, 280), (644, 279), (644, 280), (644, 281...  [33, 34, 73]  \n",
       "3  [(645, 310), (645, 310), (645, 311), (645, 311...       [5, 35]  \n",
       "4  [(643, 336), (643, 337), (643, 337), (643, 338...       [6, 20]  "
      ]
     },
     "execution_count": 15,
     "metadata": {},
     "output_type": "execute_result"
    }
   ],
   "source": [
    "ds.head()"
   ]
  },
  {
   "cell_type": "code",
   "execution_count": null,
   "metadata": {},
   "outputs": [],
   "source": [
    "# по другому\n",
    "ds['neighbours'] = [[] for i in range(ds['id_road'].values.size)]\n",
    "for j in ds['id_road'].values:\n",
    "    k = ds[ds['id_road']==j]['id_road'].index.values[0]\n",
    "    for i in ds[ds['id_road']!=j]['id_road'].values[k:]:\n",
    "        a = np.in1d(ds[ds['id_road']==i]['i_coordinate'].values[0], ds[ds['id_road']==j]['i_coordinate'].values[0])\n",
    "        b = np.in1d(ds[ds['id_road']==i]['j_coordinate'].values[0], ds[ds['id_road']==j]['j_coordinate'].values[0])\n",
    "        if(np.logical_and(a, b).sum() > 0):\n",
    "            ds[ds['id_road']==j]['neighbours'].values[0].append(i)\n"
   ]
  },
  {
   "cell_type": "code",
   "execution_count": 360,
   "metadata": {},
   "outputs": [
    {
     "data": {
      "text/plain": [
       "[(676, 198),\n",
       " (675, 198),\n",
       " (675, 199),\n",
       " (674, 199),\n",
       " (674, 200),\n",
       " (674, 201),\n",
       " (673, 202),\n",
       " (673, 203),\n",
       " (672, 203),\n",
       " (672, 204),\n",
       " (672, 205),\n",
       " (672, 206),\n",
       " (671, 206),\n",
       " (671, 207),\n",
       " (671, 208),\n",
       " (670, 209),\n",
       " (670, 210),\n",
       " (670, 211),\n",
       " (669, 212),\n",
       " (669, 213),\n",
       " (669, 214),\n",
       " (669, 214),\n",
       " (669, 215),\n",
       " (668, 216),\n",
       " (668, 216),\n",
       " (668, 216),\n",
       " (668, 217),\n",
       " (668, 217),\n",
       " (668, 218),\n",
       " (668, 218),\n",
       " (668, 219),\n",
       " (668, 220),\n",
       " (668, 220),\n",
       " (668, 221),\n",
       " (668, 222),\n",
       " (668, 222),\n",
       " (668, 223),\n",
       " (667, 224),\n",
       " (667, 225),\n",
       " (667, 225),\n",
       " (667, 226),\n",
       " (667, 226),\n",
       " (667, 227),\n",
       " (667, 227),\n",
       " (667, 228),\n",
       " (667, 229),\n",
       " (666, 230),\n",
       " (666, 230),\n",
       " (666, 231),\n",
       " (666, 232),\n",
       " (666, 232),\n",
       " (666, 233),\n",
       " (666, 234),\n",
       " (666, 235),\n",
       " (666, 235),\n",
       " (666, 236),\n",
       " (665, 237),\n",
       " (665, 238),\n",
       " (665, 238),\n",
       " (665, 239),\n",
       " (665, 240),\n",
       " (665, 241),\n",
       " (665, 241),\n",
       " (665, 242),\n",
       " (665, 243),\n",
       " (664, 243),\n",
       " (664, 244),\n",
       " (664, 245),\n",
       " (664, 245),\n",
       " (664, 246),\n",
       " (664, 247),\n",
       " (664, 247),\n",
       " (664, 248),\n",
       " (663, 249),\n",
       " (663, 249),\n",
       " (663, 250),\n",
       " (663, 250),\n",
       " (663, 251),\n",
       " (663, 251),\n",
       " (663, 252),\n",
       " (663, 253),\n",
       " (663, 253),\n",
       " (662, 254),\n",
       " (662, 254),\n",
       " (662, 255),\n",
       " (662, 256),\n",
       " (662, 257),\n",
       " (662, 257),\n",
       " (662, 258),\n",
       " (662, 258),\n",
       " (662, 259),\n",
       " (662, 259),\n",
       " (661, 260),\n",
       " (661, 261),\n",
       " (661, 261),\n",
       " (661, 262),\n",
       " (661, 263),\n",
       " (661, 264),\n",
       " (661, 264),\n",
       " (660, 265),\n",
       " (660, 265),\n",
       " (660, 266),\n",
       " (660, 266),\n",
       " (660, 267),\n",
       " (659, 267),\n",
       " (659, 267),\n",
       " (659, 268),\n",
       " (658, 268),\n",
       " (658, 268)]"
      ]
     },
     "execution_count": 360,
     "metadata": {},
     "output_type": "execute_result"
    }
   ],
   "source": [
    "ds[ds['id_road']==1]['coordinate'].values[0]"
   ]
  },
  {
   "cell_type": "code",
   "execution_count": 350,
   "metadata": {},
   "outputs": [
    {
     "data": {
      "text/plain": [
       "array([673, 674, 676])"
      ]
     },
     "execution_count": 350,
     "metadata": {},
     "output_type": "execute_result"
    }
   ],
   "source": [
    "a"
   ]
  },
  {
   "cell_type": "code",
   "execution_count": 351,
   "metadata": {},
   "outputs": [
    {
     "data": {
      "text/plain": [
       "array([204, 205, 206, 207, 208, 209, 210, 211, 212, 213, 214, 215, 216,\n",
       "       217, 218, 219, 220, 221])"
      ]
     },
     "execution_count": 351,
     "metadata": {},
     "output_type": "execute_result"
    }
   ],
   "source": [
    "b"
   ]
  },
  {
   "cell_type": "code",
   "execution_count": 345,
   "metadata": {},
   "outputs": [],
   "source": [
    "# по другому\n",
    "ds['neighbours'] = [[] for i in range(ds['id_road'].values.size)]\n",
    "for j in ds['id_road'].values:\n",
    "    k = ds[ds['id_road']==j]['id_road'].index.values[0]\n",
    "    for i in ds[ds['id_road']!=j]['id_road'].values[k:]:\n",
    "        if  ds[ds['id_road']==i]['len_road'].values[0] < ds[ds['id_road']==j]['len_road'].values[0]:\n",
    "            a = np.in1d(ds[ds['id_road']==i]['i_coordinate'].values[0], ds[ds['id_road']==j]['i_coordinate'].values[0])\n",
    "            b = np.in1d(ds[ds['id_road']==i]['j_coordinate'].values[0], ds[ds['id_road']==j]['j_coordinate'].values[0])\n",
    "        else:\n",
    "            a = np.in1d(ds[ds['id_road']==j]['i_coordinate'].values[0], ds[ds['id_road']==i]['i_coordinate'].values[0])\n",
    "            b = np.in1d(ds[ds['id_road']==j]['j_coordinate'].values[0], ds[ds['id_road']==i]['j_coordinate'].values[0])\n",
    "        if(np.logical_and(a, b).sum() > 0):\n",
    "            ds[ds['id_road']==j]['neighbours'].values[0].append(i)\n"
   ]
  },
  {
   "cell_type": "code",
   "execution_count": 346,
   "metadata": {},
   "outputs": [
    {
     "data": {
      "text/html": [
       "<div>\n",
       "<style scoped>\n",
       "    .dataframe tbody tr th:only-of-type {\n",
       "        vertical-align: middle;\n",
       "    }\n",
       "\n",
       "    .dataframe tbody tr th {\n",
       "        vertical-align: top;\n",
       "    }\n",
       "\n",
       "    .dataframe thead th {\n",
       "        text-align: right;\n",
       "    }\n",
       "</style>\n",
       "<table border=\"1\" class=\"dataframe\">\n",
       "  <thead>\n",
       "    <tr style=\"text-align: right;\">\n",
       "      <th></th>\n",
       "      <th>id_road</th>\n",
       "      <th>i_coordinate</th>\n",
       "      <th>j_coordinate</th>\n",
       "      <th>len_road</th>\n",
       "      <th>x</th>\n",
       "      <th>y</th>\n",
       "      <th>xy</th>\n",
       "      <th>x_last</th>\n",
       "      <th>y_last</th>\n",
       "      <th>xy_last</th>\n",
       "      <th>coordinate</th>\n",
       "      <th>neighbours</th>\n",
       "      <th>len_neighbours</th>\n",
       "    </tr>\n",
       "  </thead>\n",
       "  <tbody>\n",
       "    <tr>\n",
       "      <th>0</th>\n",
       "      <td>1</td>\n",
       "      <td>[676, 675, 675, 674, 674, 674, 673, 673, 672, ...</td>\n",
       "      <td>[198, 198, 199, 199, 200, 201, 202, 203, 203, ...</td>\n",
       "      <td>110</td>\n",
       "      <td>198</td>\n",
       "      <td>676</td>\n",
       "      <td>(198, 676)</td>\n",
       "      <td>268</td>\n",
       "      <td>657</td>\n",
       "      <td>(268, 657)</td>\n",
       "      <td>[(676, 198), (675, 198), (675, 199), (674, 199...</td>\n",
       "      <td>[2, 14, 15, 32]</td>\n",
       "      <td>[109]</td>\n",
       "    </tr>\n",
       "    <tr>\n",
       "      <th>1</th>\n",
       "      <td>2</td>\n",
       "      <td>[657, 656, 656, 655, 655, 654, 653, 653, 652, ...</td>\n",
       "      <td>[268, 268, 269, 269, 269, 269, 269, 269, 269, ...</td>\n",
       "      <td>44</td>\n",
       "      <td>268</td>\n",
       "      <td>657</td>\n",
       "      <td>(268, 657)</td>\n",
       "      <td>279</td>\n",
       "      <td>644</td>\n",
       "      <td>(279, 644)</td>\n",
       "      <td>[(657, 268), (656, 268), (656, 269), (655, 269...</td>\n",
       "      <td>[3, 16, 73]</td>\n",
       "      <td>[]</td>\n",
       "    </tr>\n",
       "    <tr>\n",
       "      <th>2</th>\n",
       "      <td>3</td>\n",
       "      <td>[644, 644, 644, 644, 644, 644, 644, 644, 644, ...</td>\n",
       "      <td>[280, 279, 280, 281, 282, 283, 284, 285, 286, ...</td>\n",
       "      <td>35</td>\n",
       "      <td>280</td>\n",
       "      <td>644</td>\n",
       "      <td>(280, 644)</td>\n",
       "      <td>309</td>\n",
       "      <td>645</td>\n",
       "      <td>(309, 645)</td>\n",
       "      <td>[(644, 280), (644, 279), (644, 280), (644, 281...</td>\n",
       "      <td>[33, 34, 73, 95, 96]</td>\n",
       "      <td>[]</td>\n",
       "    </tr>\n",
       "    <tr>\n",
       "      <th>3</th>\n",
       "      <td>4</td>\n",
       "      <td>[645, 645, 645, 645, 645, 645, 645, 645, 645, ...</td>\n",
       "      <td>[310, 310, 311, 311, 312, 312, 313, 313, 314, ...</td>\n",
       "      <td>44</td>\n",
       "      <td>310</td>\n",
       "      <td>645</td>\n",
       "      <td>(310, 645)</td>\n",
       "      <td>336</td>\n",
       "      <td>643</td>\n",
       "      <td>(336, 643)</td>\n",
       "      <td>[(645, 310), (645, 310), (645, 311), (645, 311...</td>\n",
       "      <td>[5, 34, 35, 96]</td>\n",
       "      <td>[]</td>\n",
       "    </tr>\n",
       "    <tr>\n",
       "      <th>4</th>\n",
       "      <td>5</td>\n",
       "      <td>[643, 643, 643, 643, 643, 642, 642, 642, 642, ...</td>\n",
       "      <td>[336, 337, 337, 338, 338, 339, 339, 340, 340, ...</td>\n",
       "      <td>33</td>\n",
       "      <td>336</td>\n",
       "      <td>643</td>\n",
       "      <td>(336, 643)</td>\n",
       "      <td>352</td>\n",
       "      <td>633</td>\n",
       "      <td>(352, 633)</td>\n",
       "      <td>[(643, 336), (643, 337), (643, 337), (643, 338...</td>\n",
       "      <td>[6, 20, 36, 37]</td>\n",
       "      <td>[]</td>\n",
       "    </tr>\n",
       "  </tbody>\n",
       "</table>\n",
       "</div>"
      ],
      "text/plain": [
       "   id_road                                       i_coordinate  \\\n",
       "0        1  [676, 675, 675, 674, 674, 674, 673, 673, 672, ...   \n",
       "1        2  [657, 656, 656, 655, 655, 654, 653, 653, 652, ...   \n",
       "2        3  [644, 644, 644, 644, 644, 644, 644, 644, 644, ...   \n",
       "3        4  [645, 645, 645, 645, 645, 645, 645, 645, 645, ...   \n",
       "4        5  [643, 643, 643, 643, 643, 642, 642, 642, 642, ...   \n",
       "\n",
       "                                        j_coordinate  len_road    x    y  \\\n",
       "0  [198, 198, 199, 199, 200, 201, 202, 203, 203, ...       110  198  676   \n",
       "1  [268, 268, 269, 269, 269, 269, 269, 269, 269, ...        44  268  657   \n",
       "2  [280, 279, 280, 281, 282, 283, 284, 285, 286, ...        35  280  644   \n",
       "3  [310, 310, 311, 311, 312, 312, 313, 313, 314, ...        44  310  645   \n",
       "4  [336, 337, 337, 338, 338, 339, 339, 340, 340, ...        33  336  643   \n",
       "\n",
       "           xy  x_last  y_last     xy_last  \\\n",
       "0  (198, 676)     268     657  (268, 657)   \n",
       "1  (268, 657)     279     644  (279, 644)   \n",
       "2  (280, 644)     309     645  (309, 645)   \n",
       "3  (310, 645)     336     643  (336, 643)   \n",
       "4  (336, 643)     352     633  (352, 633)   \n",
       "\n",
       "                                          coordinate            neighbours  \\\n",
       "0  [(676, 198), (675, 198), (675, 199), (674, 199...       [2, 14, 15, 32]   \n",
       "1  [(657, 268), (656, 268), (656, 269), (655, 269...           [3, 16, 73]   \n",
       "2  [(644, 280), (644, 279), (644, 280), (644, 281...  [33, 34, 73, 95, 96]   \n",
       "3  [(645, 310), (645, 310), (645, 311), (645, 311...       [5, 34, 35, 96]   \n",
       "4  [(643, 336), (643, 337), (643, 337), (643, 338...       [6, 20, 36, 37]   \n",
       "\n",
       "  len_neighbours  \n",
       "0          [109]  \n",
       "1             []  \n",
       "2             []  \n",
       "3             []  \n",
       "4             []  "
      ]
     },
     "execution_count": 346,
     "metadata": {},
     "output_type": "execute_result"
    }
   ],
   "source": [
    "ds.head()"
   ]
  },
  {
   "cell_type": "code",
   "execution_count": 150,
   "metadata": {},
   "outputs": [
    {
     "data": {
      "text/plain": [
       "[]"
      ]
     },
     "execution_count": 150,
     "metadata": {},
     "output_type": "execute_result"
    }
   ],
   "source": [
    "ds[ds['id_road']==2]['neighbours'].values[0]"
   ]
  },
  {
   "cell_type": "code",
   "execution_count": 146,
   "metadata": {},
   "outputs": [
    {
     "data": {
      "text/html": [
       "<div>\n",
       "<style scoped>\n",
       "    .dataframe tbody tr th:only-of-type {\n",
       "        vertical-align: middle;\n",
       "    }\n",
       "\n",
       "    .dataframe tbody tr th {\n",
       "        vertical-align: top;\n",
       "    }\n",
       "\n",
       "    .dataframe thead th {\n",
       "        text-align: right;\n",
       "    }\n",
       "</style>\n",
       "<table border=\"1\" class=\"dataframe\">\n",
       "  <thead>\n",
       "    <tr style=\"text-align: right;\">\n",
       "      <th></th>\n",
       "      <th>id_road</th>\n",
       "      <th>i_coordinate</th>\n",
       "      <th>j_coordinate</th>\n",
       "      <th>len_road</th>\n",
       "      <th>x</th>\n",
       "      <th>y</th>\n",
       "      <th>xy</th>\n",
       "      <th>x_last</th>\n",
       "      <th>y_last</th>\n",
       "      <th>xy_last</th>\n",
       "      <th>coordinate</th>\n",
       "      <th>neighbours</th>\n",
       "    </tr>\n",
       "  </thead>\n",
       "  <tbody>\n",
       "    <tr>\n",
       "      <th>0</th>\n",
       "      <td>1</td>\n",
       "      <td>[676, 675, 675, 674, 674, 674, 673, 673, 672, ...</td>\n",
       "      <td>[198, 198, 199, 199, 200, 201, 202, 203, 203, ...</td>\n",
       "      <td>110</td>\n",
       "      <td>198</td>\n",
       "      <td>676</td>\n",
       "      <td>(198, 676)</td>\n",
       "      <td>268</td>\n",
       "      <td>657</td>\n",
       "      <td>(268, 657)</td>\n",
       "      <td>[(676, 198), (675, 198), (675, 199), (674, 199...</td>\n",
       "      <td>[]</td>\n",
       "    </tr>\n",
       "    <tr>\n",
       "      <th>1</th>\n",
       "      <td>2</td>\n",
       "      <td>[657, 656, 656, 655, 655, 654, 653, 653, 652, ...</td>\n",
       "      <td>[268, 268, 269, 269, 269, 269, 269, 269, 269, ...</td>\n",
       "      <td>44</td>\n",
       "      <td>268</td>\n",
       "      <td>657</td>\n",
       "      <td>(268, 657)</td>\n",
       "      <td>279</td>\n",
       "      <td>644</td>\n",
       "      <td>(279, 644)</td>\n",
       "      <td>[(657, 268), (656, 268), (656, 269), (655, 269...</td>\n",
       "      <td>[]</td>\n",
       "    </tr>\n",
       "    <tr>\n",
       "      <th>2</th>\n",
       "      <td>3</td>\n",
       "      <td>[644, 644, 644, 644, 644, 644, 644, 644, 644, ...</td>\n",
       "      <td>[280, 279, 280, 281, 282, 283, 284, 285, 286, ...</td>\n",
       "      <td>35</td>\n",
       "      <td>280</td>\n",
       "      <td>644</td>\n",
       "      <td>(280, 644)</td>\n",
       "      <td>309</td>\n",
       "      <td>645</td>\n",
       "      <td>(309, 645)</td>\n",
       "      <td>[(644, 280), (644, 279), (644, 280), (644, 281...</td>\n",
       "      <td>[]</td>\n",
       "    </tr>\n",
       "    <tr>\n",
       "      <th>3</th>\n",
       "      <td>4</td>\n",
       "      <td>[645, 645, 645, 645, 645, 645, 645, 645, 645, ...</td>\n",
       "      <td>[310, 310, 311, 311, 312, 312, 313, 313, 314, ...</td>\n",
       "      <td>44</td>\n",
       "      <td>310</td>\n",
       "      <td>645</td>\n",
       "      <td>(310, 645)</td>\n",
       "      <td>336</td>\n",
       "      <td>643</td>\n",
       "      <td>(336, 643)</td>\n",
       "      <td>[(645, 310), (645, 310), (645, 311), (645, 311...</td>\n",
       "      <td>[]</td>\n",
       "    </tr>\n",
       "    <tr>\n",
       "      <th>4</th>\n",
       "      <td>5</td>\n",
       "      <td>[643, 643, 643, 643, 643, 642, 642, 642, 642, ...</td>\n",
       "      <td>[336, 337, 337, 338, 338, 339, 339, 340, 340, ...</td>\n",
       "      <td>33</td>\n",
       "      <td>336</td>\n",
       "      <td>643</td>\n",
       "      <td>(336, 643)</td>\n",
       "      <td>352</td>\n",
       "      <td>633</td>\n",
       "      <td>(352, 633)</td>\n",
       "      <td>[(643, 336), (643, 337), (643, 337), (643, 338...</td>\n",
       "      <td>[]</td>\n",
       "    </tr>\n",
       "  </tbody>\n",
       "</table>\n",
       "</div>"
      ],
      "text/plain": [
       "   id_road                                       i_coordinate  \\\n",
       "0        1  [676, 675, 675, 674, 674, 674, 673, 673, 672, ...   \n",
       "1        2  [657, 656, 656, 655, 655, 654, 653, 653, 652, ...   \n",
       "2        3  [644, 644, 644, 644, 644, 644, 644, 644, 644, ...   \n",
       "3        4  [645, 645, 645, 645, 645, 645, 645, 645, 645, ...   \n",
       "4        5  [643, 643, 643, 643, 643, 642, 642, 642, 642, ...   \n",
       "\n",
       "                                        j_coordinate  len_road    x    y  \\\n",
       "0  [198, 198, 199, 199, 200, 201, 202, 203, 203, ...       110  198  676   \n",
       "1  [268, 268, 269, 269, 269, 269, 269, 269, 269, ...        44  268  657   \n",
       "2  [280, 279, 280, 281, 282, 283, 284, 285, 286, ...        35  280  644   \n",
       "3  [310, 310, 311, 311, 312, 312, 313, 313, 314, ...        44  310  645   \n",
       "4  [336, 337, 337, 338, 338, 339, 339, 340, 340, ...        33  336  643   \n",
       "\n",
       "           xy  x_last  y_last     xy_last  \\\n",
       "0  (198, 676)     268     657  (268, 657)   \n",
       "1  (268, 657)     279     644  (279, 644)   \n",
       "2  (280, 644)     309     645  (309, 645)   \n",
       "3  (310, 645)     336     643  (336, 643)   \n",
       "4  (336, 643)     352     633  (352, 633)   \n",
       "\n",
       "                                          coordinate neighbours  \n",
       "0  [(676, 198), (675, 198), (675, 199), (674, 199...         []  \n",
       "1  [(657, 268), (656, 268), (656, 269), (655, 269...         []  \n",
       "2  [(644, 280), (644, 279), (644, 280), (644, 281...         []  \n",
       "3  [(645, 310), (645, 310), (645, 311), (645, 311...         []  \n",
       "4  [(643, 336), (643, 337), (643, 337), (643, 338...         []  "
      ]
     },
     "execution_count": 146,
     "metadata": {},
     "output_type": "execute_result"
    }
   ],
   "source": [
    "ds.head()"
   ]
  },
  {
   "cell_type": "code",
   "execution_count": null,
   "metadata": {},
   "outputs": [],
   "source": [
    "ds[ds['id_road']==2]['neighbours'].values[0]"
   ]
  },
  {
   "cell_type": "code",
   "execution_count": 322,
   "metadata": {},
   "outputs": [
    {
     "data": {
      "text/plain": [
       "array([False, False, False, False,  True, False, False, False,  True])"
      ]
     },
     "execution_count": 322,
     "metadata": {},
     "output_type": "execute_result"
    }
   ],
   "source": [
    "np.in1d(np.array([3, 6, 10, 12, 1, 0, 5, 201, 2]), np.array([1, 2]))"
   ]
  },
  {
   "cell_type": "code",
   "execution_count": 336,
   "metadata": {},
   "outputs": [
    {
     "data": {
      "text/plain": [
       "2"
      ]
     },
     "execution_count": 336,
     "metadata": {},
     "output_type": "execute_result"
    }
   ],
   "source": [
    "np.in1d(np.array([1, -1, 2]), np.array([3, 6, 10, 12, 1, 0, 5, 201, 2])).sum()"
   ]
  },
  {
   "cell_type": "code",
   "execution_count": 335,
   "metadata": {},
   "outputs": [
    {
     "data": {
      "text/plain": [
       "2"
      ]
     },
     "execution_count": 335,
     "metadata": {},
     "output_type": "execute_result"
    }
   ],
   "source": [
    "np.in1d( np.array([3, 6, 10, 12, 1, 0, 5, 201, 2]), np.array([1, -1, 2])).sum()"
   ]
  },
  {
   "cell_type": "code",
   "execution_count": 330,
   "metadata": {},
   "outputs": [
    {
     "data": {
      "text/plain": [
       "(22, 110)"
      ]
     },
     "execution_count": 330,
     "metadata": {},
     "output_type": "execute_result"
    }
   ],
   "source": [
    "np.array(ds[ds['id_road']==15]['i_coordinate'].values[0]).size, np.array(ds[ds['id_road']==1]['i_coordinate'].values[0]).size"
   ]
  },
  {
   "cell_type": "code",
   "execution_count": 333,
   "metadata": {},
   "outputs": [
    {
     "data": {
      "text/plain": [
       "22"
      ]
     },
     "execution_count": 333,
     "metadata": {},
     "output_type": "execute_result"
    }
   ],
   "source": [
    "a = np.in1d(np.array(ds[ds['id_road']==15]['i_coordinate'].values[0]), np.array(ds[ds['id_road']==1]['i_coordinate'].values[0]))\n",
    "b = np.in1d(np.array(ds[ds['id_road']==15]['j_coordinate'].values[0]), np.array(ds[ds['id_road']==1]['j_coordinate'].values[0]))\n",
    "np.logical_and(a, b).sum()"
   ]
  },
  {
   "cell_type": "code",
   "execution_count": null,
   "metadata": {},
   "outputs": [],
   "source": [
    "ds['len_road']"
   ]
  },
  {
   "cell_type": "code",
   "execution_count": 300,
   "metadata": {},
   "outputs": [
    {
     "data": {
      "text/plain": [
       "array([44], dtype=int64)"
      ]
     },
     "execution_count": 300,
     "metadata": {},
     "output_type": "execute_result"
    }
   ],
   "source": [
    "ds[ds['id_road']==2]['len_road'].values"
   ]
  },
  {
   "cell_type": "code",
   "execution_count": 301,
   "metadata": {},
   "outputs": [
    {
     "data": {
      "text/plain": [
       "array([50], dtype=int64)"
      ]
     },
     "execution_count": 301,
     "metadata": {},
     "output_type": "execute_result"
    }
   ],
   "source": [
    "ds[ds['id_road']==73]['len_road'].values"
   ]
  },
  {
   "cell_type": "code",
   "execution_count": 317,
   "metadata": {},
   "outputs": [
    {
     "ename": "ValueError",
     "evalue": "operands could not be broadcast together with shapes (12,) (7,) ",
     "output_type": "error",
     "traceback": [
      "\u001b[1;31m---------------------------------------------------------------------------\u001b[0m",
      "\u001b[1;31mValueError\u001b[0m                                Traceback (most recent call last)",
      "Cell \u001b[1;32mIn [317], line 3\u001b[0m\n\u001b[0;32m      1\u001b[0m a \u001b[39m=\u001b[39m np\u001b[39m.\u001b[39mintersect1d(ds[ds[\u001b[39m'\u001b[39m\u001b[39mid_road\u001b[39m\u001b[39m'\u001b[39m]\u001b[39m==\u001b[39m\u001b[39m1\u001b[39m][\u001b[39m'\u001b[39m\u001b[39mi_coordinate\u001b[39m\u001b[39m'\u001b[39m]\u001b[39m.\u001b[39mvalues[\u001b[39m0\u001b[39m], ds[ds[\u001b[39m'\u001b[39m\u001b[39mid_road\u001b[39m\u001b[39m'\u001b[39m]\u001b[39m==\u001b[39m\u001b[39m15\u001b[39m][\u001b[39m'\u001b[39m\u001b[39mi_coordinate\u001b[39m\u001b[39m'\u001b[39m]\u001b[39m.\u001b[39mvalues[\u001b[39m0\u001b[39m])\n\u001b[0;32m      2\u001b[0m b \u001b[39m=\u001b[39m np\u001b[39m.\u001b[39mintersect1d(ds[ds[\u001b[39m'\u001b[39m\u001b[39mid_road\u001b[39m\u001b[39m'\u001b[39m]\u001b[39m==\u001b[39m\u001b[39m1\u001b[39m][\u001b[39m'\u001b[39m\u001b[39mj_coordinate\u001b[39m\u001b[39m'\u001b[39m]\u001b[39m.\u001b[39mvalues[\u001b[39m0\u001b[39m], ds[ds[\u001b[39m'\u001b[39m\u001b[39mid_road\u001b[39m\u001b[39m'\u001b[39m]\u001b[39m==\u001b[39m\u001b[39m15\u001b[39m][\u001b[39m'\u001b[39m\u001b[39mj_coordinate\u001b[39m\u001b[39m'\u001b[39m]\u001b[39m.\u001b[39mvalues[\u001b[39m0\u001b[39m])\n\u001b[1;32m----> 3\u001b[0m np\u001b[39m.\u001b[39;49mlogical_and(a, b)\u001b[39m.\u001b[39msum()\n",
      "\u001b[1;31mValueError\u001b[0m: operands could not be broadcast together with shapes (12,) (7,) "
     ]
    }
   ],
   "source": [
    "a = np.intersect1d(ds[ds['id_road']==1]['i_coordinate'].values[0], ds[ds['id_road']==15]['i_coordinate'].values[0])\n",
    "b = np.intersect1d(ds[ds['id_road']==1]['j_coordinate'].values[0], ds[ds['id_road']==15]['j_coordinate'].values[0])\n",
    "np.logical_and(a, b).sum()"
   ]
  },
  {
   "cell_type": "code",
   "execution_count": 314,
   "metadata": {},
   "outputs": [
    {
     "data": {
      "text/plain": [
       "array([list([(676, 198), (675, 198), (675, 199), (674, 199), (674, 200), (674, 201), (673, 202), (673, 203), (672, 203), (672, 204), (672, 205), (672, 206), (671, 206), (671, 207), (671, 208), (670, 209), (670, 210), (670, 211), (669, 212), (669, 213), (669, 214), (669, 214), (669, 215), (668, 216), (668, 216), (668, 216), (668, 217), (668, 217), (668, 218), (668, 218), (668, 219), (668, 220), (668, 220), (668, 221), (668, 222), (668, 222), (668, 223), (667, 224), (667, 225), (667, 225), (667, 226), (667, 226), (667, 227), (667, 227), (667, 228), (667, 229), (666, 230), (666, 230), (666, 231), (666, 232), (666, 232), (666, 233), (666, 234), (666, 235), (666, 235), (666, 236), (665, 237), (665, 238), (665, 238), (665, 239), (665, 240), (665, 241), (665, 241), (665, 242), (665, 243), (664, 243), (664, 244), (664, 245), (664, 245), (664, 246), (664, 247), (664, 247), (664, 248), (663, 249), (663, 249), (663, 250), (663, 250), (663, 251), (663, 251), (663, 252), (663, 253), (663, 253), (662, 254), (662, 254), (662, 255), (662, 256), (662, 257), (662, 257), (662, 258), (662, 258), (662, 259), (662, 259), (661, 260), (661, 261), (661, 261), (661, 262), (661, 263), (661, 264), (661, 264), (660, 265), (660, 265), (660, 266), (660, 266), (660, 267), (659, 267), (659, 267), (659, 268), (658, 268), (658, 268), (657, 268)])],\n",
       "      dtype=object)"
      ]
     },
     "execution_count": 314,
     "metadata": {},
     "output_type": "execute_result"
    }
   ],
   "source": [
    "ds[ds['id_road']==1]['coordinate'].values"
   ]
  },
  {
   "cell_type": "code",
   "execution_count": 315,
   "metadata": {},
   "outputs": [
    {
     "data": {
      "text/plain": [
       "array([list([(672, 203), (671, 203), (670, 202), (669, 202), (668, 202), (666, 201), (665, 201), (664, 200), (663, 199), (662, 199), (661, 199), (661, 200), (662, 200), (663, 201), (664, 202), (665, 202), (666, 203), (667, 204), (669, 204), (669, 204), (670, 205), (670, 205)])],\n",
       "      dtype=object)"
      ]
     },
     "execution_count": 315,
     "metadata": {},
     "output_type": "execute_result"
    }
   ],
   "source": [
    "ds[ds['id_road']==15]['coordinate'].values"
   ]
  },
  {
   "cell_type": "code",
   "execution_count": 305,
   "metadata": {},
   "outputs": [],
   "source": [
    "A = np.array([1, 512, 2, 0, -1])\n",
    "A.sort()"
   ]
  },
  {
   "cell_type": "code",
   "execution_count": 306,
   "metadata": {},
   "outputs": [
    {
     "data": {
      "text/plain": [
       "array([ -1,   0,   1,   2, 512])"
      ]
     },
     "execution_count": 306,
     "metadata": {},
     "output_type": "execute_result"
    }
   ],
   "source": [
    "A"
   ]
  },
  {
   "cell_type": "code",
   "execution_count": 303,
   "metadata": {},
   "outputs": [
    {
     "data": {
      "text/plain": [
       "array([list([(657, 268), (656, 268), (656, 269), (655, 269), (655, 269), (654, 269), (653, 269), (653, 269), (652, 269), (652, 269), (651, 269), (651, 269), (650, 268), (649, 268), (649, 268), (648, 268), (648, 268), (647, 268), (647, 267), (646, 267), (645, 267), (644, 267), (644, 266), (643, 266), (643, 266), (642, 266), (642, 267), (642, 268), (642, 269), (643, 270), (643, 271), (643, 272), (643, 273), (643, 273), (643, 274), (643, 274), (643, 275), (643, 275), (643, 276), (643, 277), (643, 277), (643, 278), (644, 278), (644, 279)])],\n",
       "      dtype=object)"
      ]
     },
     "execution_count": 303,
     "metadata": {},
     "output_type": "execute_result"
    }
   ],
   "source": [
    "ds[ds['id_road']==2]['coordinate'].values"
   ]
  },
  {
   "cell_type": "code",
   "execution_count": 296,
   "metadata": {},
   "outputs": [
    {
     "data": {
      "text/plain": [
       "array([642, 643, 644])"
      ]
     },
     "execution_count": 296,
     "metadata": {},
     "output_type": "execute_result"
    }
   ],
   "source": [
    "a"
   ]
  },
  {
   "cell_type": "code",
   "execution_count": 309,
   "metadata": {},
   "outputs": [
    {
     "data": {
      "text/plain": [
       "array([642, 642, 642, 642, 643, 643, 643, 643, 643, 643, 643, 643, 643,\n",
       "       643, 643, 643, 643, 643, 643, 644, 644, 644, 644, 645, 646, 647,\n",
       "       647, 648, 648, 649, 649, 650, 651, 651, 652, 652, 653, 653, 654,\n",
       "       655, 655, 656, 656, 657])"
      ]
     },
     "execution_count": 309,
     "metadata": {},
     "output_type": "execute_result"
    }
   ],
   "source": [
    "np.sort(ds[ds['id_road']==2]['i_coordinate'].values[0])"
   ]
  },
  {
   "cell_type": "code",
   "execution_count": 310,
   "metadata": {},
   "outputs": [
    {
     "data": {
      "text/plain": [
       "0"
      ]
     },
     "execution_count": 310,
     "metadata": {},
     "output_type": "execute_result"
    }
   ],
   "source": [
    "a = np.in1d(np.sort(ds[ds['id_road']==73]['i_coordinate'].values[0]), np.sort(ds[ds['id_road']==2]['i_coordinate'].values[0]))\n",
    "b = np.in1d(np.sort(ds[ds['id_road']==73]['j_coordinate'].values[0]), np.sort(ds[ds['id_road']==2]['j_coordinate'].values[0]))\n",
    "np.logical_and(a, b).sum()"
   ]
  },
  {
   "cell_type": "code",
   "execution_count": 308,
   "metadata": {},
   "outputs": [
    {
     "data": {
      "text/plain": [
       "0"
      ]
     },
     "execution_count": 308,
     "metadata": {},
     "output_type": "execute_result"
    }
   ],
   "source": [
    "a = np.in1d(np.sort(ds[ds['id_road']==2]['i_coordinate'].values[0]), np.sort(ds[ds['id_road']==73]['i_coordinate'].values[0]))\n",
    "b = np.in1d(np.sort(ds[ds['id_road']==2]['j_coordinate'].values[0]), np.sort(ds[ds['id_road']==73]['j_coordinate'].values[0]))\n",
    "np.logical_and(a, b).sum()"
   ]
  },
  {
   "cell_type": "code",
   "execution_count": 294,
   "metadata": {},
   "outputs": [
    {
     "data": {
      "text/plain": [
       "array([False, False, False, False, False, False, False, False, False,\n",
       "       False, False, False, False, False, False, False, False, False,\n",
       "       False, False, False, False, False, False, False, False, False,\n",
       "       False, False, False, False, False, False, False, False, False,\n",
       "       False, False, False,  True,  True,  True,  True,  True])"
      ]
     },
     "execution_count": 294,
     "metadata": {},
     "output_type": "execute_result"
    }
   ],
   "source": [
    "b"
   ]
  },
  {
   "cell_type": "code",
   "execution_count": 286,
   "metadata": {},
   "outputs": [],
   "source": [
    "for j in ds['id_road'].values:\n",
    "    k = ds[ds['id_road']==j]['id_road'].index.values[0]\n",
    "    for i in ds[ds['id_road']!=j]['id_road'].values[k:]:\n",
    "        a = np.in1d(np.sort(ds[ds['id_road']==j]['i_coordinate'].values[0]), np.sort(ds[ds['id_road']==i]['i_coordinate'].values[0]))\n",
    "        b = np.in1d(np.sort(ds[ds['id_road']==j]['j_coordinate'].values[0]), np.sort(ds[ds['id_road']==i]['j_coordinate'].values[0]))\n",
    "        if(np.logical_and(a, b).sum() > 0):\n",
    "            ds[ds['id_road']==j]['neighbours'].values[0].append(i)\n"
   ]
  },
  {
   "cell_type": "code",
   "execution_count": 287,
   "metadata": {},
   "outputs": [
    {
     "data": {
      "text/html": [
       "<div>\n",
       "<style scoped>\n",
       "    .dataframe tbody tr th:only-of-type {\n",
       "        vertical-align: middle;\n",
       "    }\n",
       "\n",
       "    .dataframe tbody tr th {\n",
       "        vertical-align: top;\n",
       "    }\n",
       "\n",
       "    .dataframe thead th {\n",
       "        text-align: right;\n",
       "    }\n",
       "</style>\n",
       "<table border=\"1\" class=\"dataframe\">\n",
       "  <thead>\n",
       "    <tr style=\"text-align: right;\">\n",
       "      <th></th>\n",
       "      <th>id_road</th>\n",
       "      <th>i_coordinate</th>\n",
       "      <th>j_coordinate</th>\n",
       "      <th>len_road</th>\n",
       "      <th>x</th>\n",
       "      <th>y</th>\n",
       "      <th>xy</th>\n",
       "      <th>x_last</th>\n",
       "      <th>y_last</th>\n",
       "      <th>xy_last</th>\n",
       "      <th>coordinate</th>\n",
       "      <th>neighbours</th>\n",
       "      <th>len_neighbours</th>\n",
       "    </tr>\n",
       "  </thead>\n",
       "  <tbody>\n",
       "    <tr>\n",
       "      <th>0</th>\n",
       "      <td>1</td>\n",
       "      <td>[676, 675, 675, 674, 674, 674, 673, 673, 672, ...</td>\n",
       "      <td>[198, 198, 199, 199, 200, 201, 202, 203, 203, ...</td>\n",
       "      <td>110</td>\n",
       "      <td>198</td>\n",
       "      <td>676</td>\n",
       "      <td>(198, 676)</td>\n",
       "      <td>268</td>\n",
       "      <td>657</td>\n",
       "      <td>(268, 657)</td>\n",
       "      <td>[(676, 198), (675, 198), (675, 199), (674, 199...</td>\n",
       "      <td>[2, 15, 32]</td>\n",
       "      <td>[109, 8, 236]</td>\n",
       "    </tr>\n",
       "    <tr>\n",
       "      <th>1</th>\n",
       "      <td>2</td>\n",
       "      <td>[657, 656, 656, 655, 655, 654, 653, 653, 652, ...</td>\n",
       "      <td>[268, 268, 269, 269, 269, 269, 269, 269, 269, ...</td>\n",
       "      <td>44</td>\n",
       "      <td>268</td>\n",
       "      <td>657</td>\n",
       "      <td>(268, 657)</td>\n",
       "      <td>279</td>\n",
       "      <td>644</td>\n",
       "      <td>(279, 644)</td>\n",
       "      <td>[(657, 268), (656, 268), (656, 269), (655, 269...</td>\n",
       "      <td>[3, 16, 73]</td>\n",
       "      <td>[44, 1]</td>\n",
       "    </tr>\n",
       "    <tr>\n",
       "      <th>2</th>\n",
       "      <td>3</td>\n",
       "      <td>[644, 644, 644, 644, 644, 644, 644, 644, 644, ...</td>\n",
       "      <td>[280, 279, 280, 281, 282, 283, 284, 285, 286, ...</td>\n",
       "      <td>35</td>\n",
       "      <td>280</td>\n",
       "      <td>644</td>\n",
       "      <td>(280, 644)</td>\n",
       "      <td>309</td>\n",
       "      <td>645</td>\n",
       "      <td>(309, 645)</td>\n",
       "      <td>[(644, 280), (644, 279), (644, 280), (644, 281...</td>\n",
       "      <td>[33, 34, 73, 95, 96]</td>\n",
       "      <td>[]</td>\n",
       "    </tr>\n",
       "    <tr>\n",
       "      <th>3</th>\n",
       "      <td>4</td>\n",
       "      <td>[645, 645, 645, 645, 645, 645, 645, 645, 645, ...</td>\n",
       "      <td>[310, 310, 311, 311, 312, 312, 313, 313, 314, ...</td>\n",
       "      <td>44</td>\n",
       "      <td>310</td>\n",
       "      <td>645</td>\n",
       "      <td>(310, 645)</td>\n",
       "      <td>336</td>\n",
       "      <td>643</td>\n",
       "      <td>(336, 643)</td>\n",
       "      <td>[(645, 310), (645, 310), (645, 311), (645, 311...</td>\n",
       "      <td>[5, 34, 35, 96]</td>\n",
       "      <td>[]</td>\n",
       "    </tr>\n",
       "    <tr>\n",
       "      <th>4</th>\n",
       "      <td>5</td>\n",
       "      <td>[643, 643, 643, 643, 643, 642, 642, 642, 642, ...</td>\n",
       "      <td>[336, 337, 337, 338, 338, 339, 339, 340, 340, ...</td>\n",
       "      <td>33</td>\n",
       "      <td>336</td>\n",
       "      <td>643</td>\n",
       "      <td>(336, 643)</td>\n",
       "      <td>352</td>\n",
       "      <td>633</td>\n",
       "      <td>(352, 633)</td>\n",
       "      <td>[(643, 336), (643, 337), (643, 337), (643, 338...</td>\n",
       "      <td>[6, 20, 36, 37]</td>\n",
       "      <td>[]</td>\n",
       "    </tr>\n",
       "  </tbody>\n",
       "</table>\n",
       "</div>"
      ],
      "text/plain": [
       "   id_road                                       i_coordinate  \\\n",
       "0        1  [676, 675, 675, 674, 674, 674, 673, 673, 672, ...   \n",
       "1        2  [657, 656, 656, 655, 655, 654, 653, 653, 652, ...   \n",
       "2        3  [644, 644, 644, 644, 644, 644, 644, 644, 644, ...   \n",
       "3        4  [645, 645, 645, 645, 645, 645, 645, 645, 645, ...   \n",
       "4        5  [643, 643, 643, 643, 643, 642, 642, 642, 642, ...   \n",
       "\n",
       "                                        j_coordinate  len_road    x    y  \\\n",
       "0  [198, 198, 199, 199, 200, 201, 202, 203, 203, ...       110  198  676   \n",
       "1  [268, 268, 269, 269, 269, 269, 269, 269, 269, ...        44  268  657   \n",
       "2  [280, 279, 280, 281, 282, 283, 284, 285, 286, ...        35  280  644   \n",
       "3  [310, 310, 311, 311, 312, 312, 313, 313, 314, ...        44  310  645   \n",
       "4  [336, 337, 337, 338, 338, 339, 339, 340, 340, ...        33  336  643   \n",
       "\n",
       "           xy  x_last  y_last     xy_last  \\\n",
       "0  (198, 676)     268     657  (268, 657)   \n",
       "1  (268, 657)     279     644  (279, 644)   \n",
       "2  (280, 644)     309     645  (309, 645)   \n",
       "3  (310, 645)     336     643  (336, 643)   \n",
       "4  (336, 643)     352     633  (352, 633)   \n",
       "\n",
       "                                          coordinate            neighbours  \\\n",
       "0  [(676, 198), (675, 198), (675, 199), (674, 199...           [2, 15, 32]   \n",
       "1  [(657, 268), (656, 268), (656, 269), (655, 269...           [3, 16, 73]   \n",
       "2  [(644, 280), (644, 279), (644, 280), (644, 281...  [33, 34, 73, 95, 96]   \n",
       "3  [(645, 310), (645, 310), (645, 311), (645, 311...       [5, 34, 35, 96]   \n",
       "4  [(643, 336), (643, 337), (643, 337), (643, 338...       [6, 20, 36, 37]   \n",
       "\n",
       "  len_neighbours  \n",
       "0  [109, 8, 236]  \n",
       "1        [44, 1]  \n",
       "2             []  \n",
       "3             []  \n",
       "4             []  "
      ]
     },
     "execution_count": 287,
     "metadata": {},
     "output_type": "execute_result"
    }
   ],
   "source": [
    "ds.head()"
   ]
  },
  {
   "cell_type": "code",
   "execution_count": 132,
   "metadata": {},
   "outputs": [
    {
     "name": "stdout",
     "output_type": "stream",
     "text": [
      "1 Соседи 2\n",
      "1 Соседи 15\n",
      "1 Соседи 32\n",
      "2 Соседи 3\n",
      "2 Соседи 16\n",
      "2 Соседи 73\n",
      "3 Соседи 33\n",
      "3 Соседи 34\n",
      "3 Соседи 73\n",
      "3 Соседи 95\n",
      "3 Соседи 96\n",
      "4 Соседи 5\n",
      "4 Соседи 34\n",
      "4 Соседи 35\n",
      "4 Соседи 96\n",
      "5 Соседи 6\n",
      "5 Соседи 20\n",
      "5 Соседи 36\n",
      "5 Соседи 37\n",
      "6 Соседи 20\n",
      "6 Соседи 21\n",
      "6 Соседи 38\n",
      "6 Соседи 82\n",
      "7 Соседи 23\n",
      "8 Соседи 23\n",
      "8 Соседи 40\n",
      "9 Соседи 25\n",
      "9 Соседи 43\n",
      "10 Соседи 26\n",
      "10 Соседи 45\n",
      "10 Соседи 46\n",
      "12 Соседи 28\n",
      "12 Соседи 31\n",
      "16 Соседи 58\n",
      "20 Соседи 37\n",
      "21 Соседи 82\n",
      "22 Соседи 64\n",
      "24 Соседи 25\n",
      "29 Соседи 30\n",
      "30 Соседи 31\n",
      "32 Соседи 33\n",
      "32 Соседи 48\n",
      "33 Соседи 48\n",
      "33 Соседи 73\n",
      "36 Соседи 37\n",
      "37 Соседи 38\n",
      "39 Соседи 40\n",
      "40 Соседи 41\n",
      "43 Соседи 44\n",
      "44 Соседи 45\n",
      "45 Соседи 47\n",
      "46 Соседи 47\n",
      "49 Соседи 78\n",
      "51 Соседи 52\n",
      "51 Соседи 53\n",
      "52 Соседи 53\n",
      "52 Соседи 74\n",
      "53 Соседи 74\n",
      "54 Соседи 76\n",
      "55 Соседи 76\n",
      "56 Соседи 76\n",
      "57 Соседи 74\n",
      "57 Соседи 76\n",
      "58 Соседи 61\n",
      "58 Соседи 62\n",
      "59 Соседи 73\n",
      "61 Соседи 62\n",
      "61 Соседи 63\n",
      "61 Соседи 83\n",
      "64 Соседи 66\n",
      "66 Соседи 67\n",
      "69 Соседи 70\n",
      "70 Соседи 71\n",
      "72 Соседи 84\n",
      "73 Соседи 95\n",
      "95 Соседи 96\n"
     ]
    }
   ],
   "source": [
    "sosedi = []\n",
    "for j in ds['id_road'].values:\n",
    "    k = ds[ds['id_road']==j]['id_road'].index.values[0]\n",
    "    for i in ds[ds['id_road']!=j]['id_road'].values[k:]:\n",
    "        a = np.in1d(ds[ds['id_road']==j]['i_coordinate'].values[0], ds[ds['id_road']==i]['i_coordinate'].values[0])\n",
    "        b = np.in1d(ds[ds['id_road']==j]['j_coordinate'].values[0], ds[ds['id_road']==i]['j_coordinate'].values[0])\n",
    "        np.logical_and(a, b).sum()\n",
    "        if(np.logical_and(a, b).sum() > 0):\n",
    "            print(str(j) + ' Соседи ' + str(i))"
   ]
  },
  {
   "cell_type": "code",
   "execution_count": 157,
   "metadata": {},
   "outputs": [
    {
     "data": {
      "text/plain": [
       "[(644, 280),\n",
       " (644, 279),\n",
       " (644, 280),\n",
       " (644, 281),\n",
       " (644, 282),\n",
       " (644, 283),\n",
       " (644, 284),\n",
       " (644, 285),\n",
       " (644, 286),\n",
       " (644, 287),\n",
       " (644, 288),\n",
       " (644, 289),\n",
       " (644, 290),\n",
       " (644, 291),\n",
       " (644, 292),\n",
       " (644, 293),\n",
       " (644, 293),\n",
       " (644, 294),\n",
       " (644, 295),\n",
       " (644, 296),\n",
       " (644, 295),\n",
       " (644, 297),\n",
       " (644, 298),\n",
       " (645, 299),\n",
       " (645, 300),\n",
       " (645, 301),\n",
       " (645, 302),\n",
       " (645, 303),\n",
       " (645, 303),\n",
       " (645, 304),\n",
       " (645, 305),\n",
       " (645, 306),\n",
       " (645, 307),\n",
       " (645, 308),\n",
       " (645, 309)]"
      ]
     },
     "execution_count": 157,
     "metadata": {},
     "output_type": "execute_result"
    }
   ],
   "source": [
    "ds[ds['id_road'] == 2]['coordinate'].values[0]\n",
    "ds[ds['id_road'] == 3]['coordinate'].values[0]"
   ]
  },
  {
   "cell_type": "code",
   "execution_count": 158,
   "metadata": {},
   "outputs": [
    {
     "data": {
      "text/plain": [
       "[644,\n",
       " 644,\n",
       " 644,\n",
       " 644,\n",
       " 644,\n",
       " 644,\n",
       " 644,\n",
       " 644,\n",
       " 644,\n",
       " 644,\n",
       " 644,\n",
       " 644,\n",
       " 644,\n",
       " 644,\n",
       " 644,\n",
       " 644,\n",
       " 644,\n",
       " 644,\n",
       " 644,\n",
       " 644,\n",
       " 644,\n",
       " 644,\n",
       " 644,\n",
       " 645,\n",
       " 645,\n",
       " 645,\n",
       " 645,\n",
       " 645,\n",
       " 645,\n",
       " 645,\n",
       " 645,\n",
       " 645,\n",
       " 645,\n",
       " 645,\n",
       " 645]"
      ]
     },
     "execution_count": 158,
     "metadata": {},
     "output_type": "execute_result"
    }
   ],
   "source": [
    "ds[ds['id_road'] == 2]['j_coordinate'].values[0]\n",
    "ds[ds['id_road'] == 2]['i_coordinate'].values[0]\n",
    "ds[ds['id_road'] == 3]['j_coordinate'].values[0]\n",
    "ds[ds['id_road'] == 3]['i_coordinate'].values[0]"
   ]
  },
  {
   "cell_type": "code",
   "execution_count": 154,
   "metadata": {},
   "outputs": [
    {
     "data": {
      "text/html": [
       "<div>\n",
       "<style scoped>\n",
       "    .dataframe tbody tr th:only-of-type {\n",
       "        vertical-align: middle;\n",
       "    }\n",
       "\n",
       "    .dataframe tbody tr th {\n",
       "        vertical-align: top;\n",
       "    }\n",
       "\n",
       "    .dataframe thead th {\n",
       "        text-align: right;\n",
       "    }\n",
       "</style>\n",
       "<table border=\"1\" class=\"dataframe\">\n",
       "  <thead>\n",
       "    <tr style=\"text-align: right;\">\n",
       "      <th></th>\n",
       "      <th>id_road</th>\n",
       "      <th>i_coordinate</th>\n",
       "      <th>j_coordinate</th>\n",
       "      <th>len_road</th>\n",
       "      <th>x</th>\n",
       "      <th>y</th>\n",
       "      <th>xy</th>\n",
       "      <th>x_last</th>\n",
       "      <th>y_last</th>\n",
       "      <th>xy_last</th>\n",
       "      <th>coordinate</th>\n",
       "      <th>neighbours</th>\n",
       "    </tr>\n",
       "  </thead>\n",
       "  <tbody>\n",
       "    <tr>\n",
       "      <th>0</th>\n",
       "      <td>1</td>\n",
       "      <td>[676, 675, 675, 674, 674, 674, 673, 673, 672, ...</td>\n",
       "      <td>[198, 198, 199, 199, 200, 201, 202, 203, 203, ...</td>\n",
       "      <td>110</td>\n",
       "      <td>198</td>\n",
       "      <td>676</td>\n",
       "      <td>(198, 676)</td>\n",
       "      <td>268</td>\n",
       "      <td>657</td>\n",
       "      <td>(268, 657)</td>\n",
       "      <td>[(676, 198), (675, 198), (675, 199), (674, 199...</td>\n",
       "      <td>[2, 15, 32]</td>\n",
       "    </tr>\n",
       "    <tr>\n",
       "      <th>1</th>\n",
       "      <td>2</td>\n",
       "      <td>[657, 656, 656, 655, 655, 654, 653, 653, 652, ...</td>\n",
       "      <td>[268, 268, 269, 269, 269, 269, 269, 269, 269, ...</td>\n",
       "      <td>44</td>\n",
       "      <td>268</td>\n",
       "      <td>657</td>\n",
       "      <td>(268, 657)</td>\n",
       "      <td>279</td>\n",
       "      <td>644</td>\n",
       "      <td>(279, 644)</td>\n",
       "      <td>[(657, 268), (656, 268), (656, 269), (655, 269...</td>\n",
       "      <td>[3, 16, 73]</td>\n",
       "    </tr>\n",
       "    <tr>\n",
       "      <th>2</th>\n",
       "      <td>3</td>\n",
       "      <td>[644, 644, 644, 644, 644, 644, 644, 644, 644, ...</td>\n",
       "      <td>[280, 279, 280, 281, 282, 283, 284, 285, 286, ...</td>\n",
       "      <td>35</td>\n",
       "      <td>280</td>\n",
       "      <td>644</td>\n",
       "      <td>(280, 644)</td>\n",
       "      <td>309</td>\n",
       "      <td>645</td>\n",
       "      <td>(309, 645)</td>\n",
       "      <td>[(644, 280), (644, 279), (644, 280), (644, 281...</td>\n",
       "      <td>[33, 34, 73, 95, 96]</td>\n",
       "    </tr>\n",
       "    <tr>\n",
       "      <th>3</th>\n",
       "      <td>4</td>\n",
       "      <td>[645, 645, 645, 645, 645, 645, 645, 645, 645, ...</td>\n",
       "      <td>[310, 310, 311, 311, 312, 312, 313, 313, 314, ...</td>\n",
       "      <td>44</td>\n",
       "      <td>310</td>\n",
       "      <td>645</td>\n",
       "      <td>(310, 645)</td>\n",
       "      <td>336</td>\n",
       "      <td>643</td>\n",
       "      <td>(336, 643)</td>\n",
       "      <td>[(645, 310), (645, 310), (645, 311), (645, 311...</td>\n",
       "      <td>[5, 34, 35, 96]</td>\n",
       "    </tr>\n",
       "    <tr>\n",
       "      <th>4</th>\n",
       "      <td>5</td>\n",
       "      <td>[643, 643, 643, 643, 643, 642, 642, 642, 642, ...</td>\n",
       "      <td>[336, 337, 337, 338, 338, 339, 339, 340, 340, ...</td>\n",
       "      <td>33</td>\n",
       "      <td>336</td>\n",
       "      <td>643</td>\n",
       "      <td>(336, 643)</td>\n",
       "      <td>352</td>\n",
       "      <td>633</td>\n",
       "      <td>(352, 633)</td>\n",
       "      <td>[(643, 336), (643, 337), (643, 337), (643, 338...</td>\n",
       "      <td>[6, 20, 36, 37]</td>\n",
       "    </tr>\n",
       "  </tbody>\n",
       "</table>\n",
       "</div>"
      ],
      "text/plain": [
       "   id_road                                       i_coordinate  \\\n",
       "0        1  [676, 675, 675, 674, 674, 674, 673, 673, 672, ...   \n",
       "1        2  [657, 656, 656, 655, 655, 654, 653, 653, 652, ...   \n",
       "2        3  [644, 644, 644, 644, 644, 644, 644, 644, 644, ...   \n",
       "3        4  [645, 645, 645, 645, 645, 645, 645, 645, 645, ...   \n",
       "4        5  [643, 643, 643, 643, 643, 642, 642, 642, 642, ...   \n",
       "\n",
       "                                        j_coordinate  len_road    x    y  \\\n",
       "0  [198, 198, 199, 199, 200, 201, 202, 203, 203, ...       110  198  676   \n",
       "1  [268, 268, 269, 269, 269, 269, 269, 269, 269, ...        44  268  657   \n",
       "2  [280, 279, 280, 281, 282, 283, 284, 285, 286, ...        35  280  644   \n",
       "3  [310, 310, 311, 311, 312, 312, 313, 313, 314, ...        44  310  645   \n",
       "4  [336, 337, 337, 338, 338, 339, 339, 340, 340, ...        33  336  643   \n",
       "\n",
       "           xy  x_last  y_last     xy_last  \\\n",
       "0  (198, 676)     268     657  (268, 657)   \n",
       "1  (268, 657)     279     644  (279, 644)   \n",
       "2  (280, 644)     309     645  (309, 645)   \n",
       "3  (310, 645)     336     643  (336, 643)   \n",
       "4  (336, 643)     352     633  (352, 633)   \n",
       "\n",
       "                                          coordinate            neighbours  \n",
       "0  [(676, 198), (675, 198), (675, 199), (674, 199...           [2, 15, 32]  \n",
       "1  [(657, 268), (656, 268), (656, 269), (655, 269...           [3, 16, 73]  \n",
       "2  [(644, 280), (644, 279), (644, 280), (644, 281...  [33, 34, 73, 95, 96]  \n",
       "3  [(645, 310), (645, 310), (645, 311), (645, 311...       [5, 34, 35, 96]  \n",
       "4  [(643, 336), (643, 337), (643, 337), (643, 338...       [6, 20, 36, 37]  "
      ]
     },
     "execution_count": 154,
     "metadata": {},
     "output_type": "execute_result"
    }
   ],
   "source": [
    "ds.head()"
   ]
  },
  {
   "cell_type": "code",
   "execution_count": 57,
   "metadata": {},
   "outputs": [
    {
     "data": {
      "text/plain": [
       "[(268, 657)]"
      ]
     },
     "execution_count": 57,
     "metadata": {},
     "output_type": "execute_result"
    }
   ],
   "source": [
    "ds[ds['id_road']==2]['xy'].to_list()"
   ]
  },
  {
   "cell_type": "code",
   "execution_count": 86,
   "metadata": {},
   "outputs": [
    {
     "data": {
      "text/plain": [
       "True"
      ]
     },
     "execution_count": 86,
     "metadata": {},
     "output_type": "execute_result"
    }
   ],
   "source": [
    "for j in ds[ds['id_road']]['id_road'].values:\n",
    "    k = ds[ds['id_road']==1]['id_road'].index.values[0]\n",
    "    for i in ds[ds['id_road']!=1]['id_road'].values[k:]:\n",
    "        if(ds[ds['id_road']==i]['xy_last'].values[0] == ds[ds['id_road']==j]['xy_last'].values[0]):\n",
    "            print(2+2)\n",
    "np.intersect1d(np.array([(36, 11), (32, 11), (36, 11), (36, 12), (36, 11)]), \n",
    "               np.array([(37, 15), (36, 12)]))"
   ]
  },
  {
   "cell_type": "code",
   "execution_count": 89,
   "metadata": {},
   "outputs": [
    {
     "data": {
      "text/plain": [
       "0"
      ]
     },
     "execution_count": 89,
     "metadata": {},
     "output_type": "execute_result"
    }
   ],
   "source": [
    "np.array([]).size"
   ]
  },
  {
   "cell_type": "code",
   "execution_count": 28,
   "metadata": {},
   "outputs": [
    {
     "data": {
      "text/plain": [
       "False"
      ]
     },
     "execution_count": 28,
     "metadata": {},
     "output_type": "execute_result"
    }
   ],
   "source": [
    "ds[ds['id_road']==2]['xy'].to_list() == ds[ds['id_road']==1]['xy'].to_list()"
   ]
  },
  {
   "cell_type": "code",
   "execution_count": 38,
   "metadata": {},
   "outputs": [],
   "source": [
    "if(ds[ds['id_road']==1]['xy'].to_list() == ds[ds['id_road']==2]['xy'].to_list()):\n",
    "    print('+')"
   ]
  },
  {
   "cell_type": "code",
   "execution_count": 42,
   "metadata": {},
   "outputs": [
    {
     "data": {
      "text/plain": [
       "array([82, 83, 84, 88, 95, 96, 98], dtype=int64)"
      ]
     },
     "execution_count": 42,
     "metadata": {},
     "output_type": "execute_result"
    }
   ],
   "source": [
    "ds[ds['id_road']!=76]['id_road'].values[76-1:]"
   ]
  },
  {
   "cell_type": "code",
   "execution_count": 49,
   "metadata": {},
   "outputs": [
    {
     "data": {
      "text/plain": [
       "array([1, 1, 1, 1, 1, 1, 1, 1, 1, 1, 1, 1, 1, 1, 1, 1, 1, 1, 1, 1, 1, 1,\n",
       "       1, 1, 1, 1, 1, 1, 1, 1, 1, 1, 1, 1, 1, 1, 1, 1, 1, 1, 1, 1, 1, 1,\n",
       "       1, 1, 1, 1, 1, 1, 1, 1, 1, 1, 1, 1, 1, 1, 1, 1, 1, 1, 1, 1, 1, 1,\n",
       "       1, 1, 1, 1, 1, 1, 1, 1, 1, 1, 1, 1, 1, 1, 1, 1, 1], dtype=int64)"
      ]
     },
     "execution_count": 49,
     "metadata": {},
     "output_type": "execute_result"
    }
   ],
   "source": [
    "ds['xy_last'].value_counts().values"
   ]
  },
  {
   "cell_type": "code",
   "execution_count": 53,
   "metadata": {},
   "outputs": [
    {
     "data": {
      "text/plain": [
       "(0    (198, 676)\n",
       " Name: xy, dtype: object,\n",
       " 0    (268, 657)\n",
       " Name: xy_last, dtype: object)"
      ]
     },
     "execution_count": 53,
     "metadata": {},
     "output_type": "execute_result"
    }
   ],
   "source": [
    "ds[ds['id_road']==1]['xy'], ds[ds['id_road']==1]['xy_last']"
   ]
  },
  {
   "cell_type": "code",
   "execution_count": 54,
   "metadata": {},
   "outputs": [
    {
     "data": {
      "text/plain": [
       "(14    (214, 616)\n",
       " Name: xy_last, dtype: object,\n",
       " 14    (268, 656)\n",
       " Name: xy, dtype: object)"
      ]
     },
     "execution_count": 54,
     "metadata": {},
     "output_type": "execute_result"
    }
   ],
   "source": [
    "ds[ds['id_road']==16]['xy_last'], ds[ds['id_road']==16]['xy']"
   ]
  },
  {
   "cell_type": "code",
   "execution_count": 52,
   "metadata": {},
   "outputs": [
    {
     "data": {
      "text/plain": [
       "(12    (204, 673)\n",
       " Name: xy_last, dtype: object,\n",
       " 12    (221, 708)\n",
       " Name: xy, dtype: object)"
      ]
     },
     "execution_count": 52,
     "metadata": {},
     "output_type": "execute_result"
    }
   ],
   "source": [
    "ds[ds['id_road']==14]['xy_last'], ds[ds['id_road']==14]['xy']"
   ]
  },
  {
   "cell_type": "code",
   "execution_count": 46,
   "metadata": {},
   "outputs": [
    {
     "data": {
      "text/plain": [
       "(280, 644)    3\n",
       "(213, 616)    2\n",
       "(198, 676)    1\n",
       "(369, 779)    1\n",
       "(414, 408)    1\n",
       "             ..\n",
       "(620, 642)    1\n",
       "(622, 633)    1\n",
       "(614, 642)    1\n",
       "(537, 666)    1\n",
       "(278, 731)    1\n",
       "Name: xy, Length: 80, dtype: int64"
      ]
     },
     "execution_count": 46,
     "metadata": {},
     "output_type": "execute_result"
    }
   ],
   "source": [
    "ds['xy'].value_counts()"
   ]
  },
  {
   "cell_type": "code",
   "execution_count": 48,
   "metadata": {},
   "outputs": [
    {
     "name": "stdout",
     "output_type": "stream",
     "text": [
      "84\n"
     ]
    }
   ],
   "source": [
    "for j in ds['id_road'].values:\n",
    "    for i in ds[ds['id_road']!=j]['id_road'].values[j-1:]:\n",
    "        if(ds[ds['id_road']==i]['xy_last'].to_list() == ds[ds['id_road']==j]['xy'].to_list()):\n",
    "            print(i)"
   ]
  },
  {
   "cell_type": "code",
   "execution_count": 61,
   "metadata": {},
   "outputs": [
    {
     "data": {
      "text/plain": [
       "(279, 644)"
      ]
     },
     "execution_count": 61,
     "metadata": {},
     "output_type": "execute_result"
    }
   ],
   "source": [
    "ds[ds['id_road']==2]['xy_last'].values[0]"
   ]
  },
  {
   "cell_type": "code",
   "execution_count": 67,
   "metadata": {},
   "outputs": [
    {
     "data": {
      "text/plain": [
       "array([ 6,  7,  8,  9, 10, 11, 12, 14, 15, 16, 20, 21, 22, 23, 24, 25, 26,\n",
       "       27, 28, 29, 30, 31, 32, 33, 34, 35, 36, 37, 38, 39, 40, 41, 42, 43,\n",
       "       44, 45, 46, 47, 48, 49, 50, 51, 52, 53, 54, 55, 56, 57, 58, 59, 60,\n",
       "       61, 62, 63, 64, 65, 66, 67, 68, 69, 70, 71, 72, 73, 74, 75, 76, 77,\n",
       "       78, 80, 81, 82, 83, 84, 88, 95, 96, 98], dtype=int64)"
      ]
     },
     "execution_count": 67,
     "metadata": {},
     "output_type": "execute_result"
    }
   ],
   "source": [
    "ds[ds['id_road']!=5]['id_road'].values[5-1:]"
   ]
  },
  {
   "cell_type": "code",
   "execution_count": 74,
   "metadata": {},
   "outputs": [
    {
     "data": {
      "text/plain": [
       "80"
      ]
     },
     "execution_count": 74,
     "metadata": {},
     "output_type": "execute_result"
    }
   ],
   "source": [
    "ds[ds['id_road']==95]['id_road'].index.values[0]"
   ]
  },
  {
   "cell_type": "code",
   "execution_count": 78,
   "metadata": {},
   "outputs": [
    {
     "data": {
      "text/plain": [
       "array([ 2,  3,  4,  5,  6,  7,  8,  9, 10, 11, 12, 14, 15, 16, 20, 21, 22,\n",
       "       23, 24, 25, 26, 27, 28, 29, 30, 31, 32, 33, 34, 35, 36, 37, 38, 39,\n",
       "       40, 41, 42, 43, 44, 45, 46, 47, 48, 49, 50, 51, 52, 53, 54, 55, 56,\n",
       "       57, 58, 59, 60, 61, 62, 63, 64, 65, 66, 67, 68, 69, 70, 71, 72, 73,\n",
       "       74, 75, 76, 77, 78, 80, 81, 82, 83, 84, 88, 95, 96, 98],\n",
       "      dtype=int64)"
      ]
     },
     "execution_count": 78,
     "metadata": {},
     "output_type": "execute_result"
    }
   ],
   "source": [
    "k = ds[ds['id_road']==1]['id_road'].index.values[0]\n",
    "ds[ds['id_road']!=1]['id_road'].values[k:]"
   ]
  },
  {
   "cell_type": "code",
   "execution_count": 40,
   "metadata": {},
   "outputs": [
    {
     "ename": "KeyError",
     "evalue": "\"None of [Int64Index([ 1,  2,  3,  4,  5,  6,  7,  8,  9, 10, 11, 12, 14, 15, 16, 20, 21,\\n            22, 23, 24, 25, 26, 27, 28, 29, 30, 31, 32, 33, 34, 35, 36, 37, 38,\\n            39, 40, 41, 42, 43, 44, 45, 46, 47, 48, 49, 50, 51, 52, 53, 54, 55,\\n            56, 57, 58, 59, 60, 61, 62, 63, 64, 65, 66, 67, 68, 69, 70, 71, 72,\\n            73, 74, 75, 76, 77, 78, 80, 81, 82, 83, 84, 88, 95, 96, 98],\\n           dtype='int64')] are in the [columns]\"",
     "output_type": "error",
     "traceback": [
      "\u001b[1;31m---------------------------------------------------------------------------\u001b[0m",
      "\u001b[1;31mKeyError\u001b[0m                                  Traceback (most recent call last)",
      "Cell \u001b[1;32mIn [40], line 1\u001b[0m\n\u001b[1;32m----> 1\u001b[0m \u001b[39mfor\u001b[39;00m j \u001b[39min\u001b[39;00m ds[ds[\u001b[39m'\u001b[39;49m\u001b[39mid_road\u001b[39;49m\u001b[39m'\u001b[39;49m]][\u001b[39m'\u001b[39m\u001b[39mid_road\u001b[39m\u001b[39m'\u001b[39m]\u001b[39m.\u001b[39mvalues:\n\u001b[0;32m      2\u001b[0m     \u001b[39mfor\u001b[39;00m i \u001b[39min\u001b[39;00m ds[ds[\u001b[39m'\u001b[39m\u001b[39mid_road\u001b[39m\u001b[39m'\u001b[39m]\u001b[39m!=\u001b[39mj][\u001b[39m'\u001b[39m\u001b[39mid_road\u001b[39m\u001b[39m'\u001b[39m]\u001b[39m.\u001b[39mvalues[j\u001b[39m-\u001b[39m\u001b[39m1\u001b[39m:]:\n\u001b[0;32m      3\u001b[0m         \u001b[39mif\u001b[39;00m(ds[ds[\u001b[39m'\u001b[39m\u001b[39mid_road\u001b[39m\u001b[39m'\u001b[39m]\u001b[39m==\u001b[39mi][\u001b[39m'\u001b[39m\u001b[39mxy\u001b[39m\u001b[39m'\u001b[39m]\u001b[39m.\u001b[39mto_list() \u001b[39m==\u001b[39m ds[ds[\u001b[39m'\u001b[39m\u001b[39mid_road\u001b[39m\u001b[39m'\u001b[39m]\u001b[39m==\u001b[39mj][\u001b[39m'\u001b[39m\u001b[39mxy\u001b[39m\u001b[39m'\u001b[39m]\u001b[39m.\u001b[39mto_list()):\n",
      "File \u001b[1;32mc:\\anaconda3\\lib\\site-packages\\pandas\\core\\frame.py:3511\u001b[0m, in \u001b[0;36mDataFrame.__getitem__\u001b[1;34m(self, key)\u001b[0m\n\u001b[0;32m   3509\u001b[0m     \u001b[39mif\u001b[39;00m is_iterator(key):\n\u001b[0;32m   3510\u001b[0m         key \u001b[39m=\u001b[39m \u001b[39mlist\u001b[39m(key)\n\u001b[1;32m-> 3511\u001b[0m     indexer \u001b[39m=\u001b[39m \u001b[39mself\u001b[39;49m\u001b[39m.\u001b[39;49mcolumns\u001b[39m.\u001b[39;49m_get_indexer_strict(key, \u001b[39m\"\u001b[39;49m\u001b[39mcolumns\u001b[39;49m\u001b[39m\"\u001b[39;49m)[\u001b[39m1\u001b[39m]\n\u001b[0;32m   3513\u001b[0m \u001b[39m# take() does not accept boolean indexers\u001b[39;00m\n\u001b[0;32m   3514\u001b[0m \u001b[39mif\u001b[39;00m \u001b[39mgetattr\u001b[39m(indexer, \u001b[39m\"\u001b[39m\u001b[39mdtype\u001b[39m\u001b[39m\"\u001b[39m, \u001b[39mNone\u001b[39;00m) \u001b[39m==\u001b[39m \u001b[39mbool\u001b[39m:\n",
      "File \u001b[1;32mc:\\anaconda3\\lib\\site-packages\\pandas\\core\\indexes\\base.py:5796\u001b[0m, in \u001b[0;36mIndex._get_indexer_strict\u001b[1;34m(self, key, axis_name)\u001b[0m\n\u001b[0;32m   5793\u001b[0m \u001b[39melse\u001b[39;00m:\n\u001b[0;32m   5794\u001b[0m     keyarr, indexer, new_indexer \u001b[39m=\u001b[39m \u001b[39mself\u001b[39m\u001b[39m.\u001b[39m_reindex_non_unique(keyarr)\n\u001b[1;32m-> 5796\u001b[0m \u001b[39mself\u001b[39;49m\u001b[39m.\u001b[39;49m_raise_if_missing(keyarr, indexer, axis_name)\n\u001b[0;32m   5798\u001b[0m keyarr \u001b[39m=\u001b[39m \u001b[39mself\u001b[39m\u001b[39m.\u001b[39mtake(indexer)\n\u001b[0;32m   5799\u001b[0m \u001b[39mif\u001b[39;00m \u001b[39misinstance\u001b[39m(key, Index):\n\u001b[0;32m   5800\u001b[0m     \u001b[39m# GH 42790 - Preserve name from an Index\u001b[39;00m\n",
      "File \u001b[1;32mc:\\anaconda3\\lib\\site-packages\\pandas\\core\\indexes\\base.py:5856\u001b[0m, in \u001b[0;36mIndex._raise_if_missing\u001b[1;34m(self, key, indexer, axis_name)\u001b[0m\n\u001b[0;32m   5854\u001b[0m     \u001b[39mif\u001b[39;00m use_interval_msg:\n\u001b[0;32m   5855\u001b[0m         key \u001b[39m=\u001b[39m \u001b[39mlist\u001b[39m(key)\n\u001b[1;32m-> 5856\u001b[0m     \u001b[39mraise\u001b[39;00m \u001b[39mKeyError\u001b[39;00m(\u001b[39mf\u001b[39m\u001b[39m\"\u001b[39m\u001b[39mNone of [\u001b[39m\u001b[39m{\u001b[39;00mkey\u001b[39m}\u001b[39;00m\u001b[39m] are in the [\u001b[39m\u001b[39m{\u001b[39;00maxis_name\u001b[39m}\u001b[39;00m\u001b[39m]\u001b[39m\u001b[39m\"\u001b[39m)\n\u001b[0;32m   5858\u001b[0m not_found \u001b[39m=\u001b[39m \u001b[39mlist\u001b[39m(ensure_index(key)[missing_mask\u001b[39m.\u001b[39mnonzero()[\u001b[39m0\u001b[39m]]\u001b[39m.\u001b[39munique())\n\u001b[0;32m   5859\u001b[0m \u001b[39mraise\u001b[39;00m \u001b[39mKeyError\u001b[39;00m(\u001b[39mf\u001b[39m\u001b[39m\"\u001b[39m\u001b[39m{\u001b[39;00mnot_found\u001b[39m}\u001b[39;00m\u001b[39m not in index\u001b[39m\u001b[39m\"\u001b[39m)\n",
      "\u001b[1;31mKeyError\u001b[0m: \"None of [Int64Index([ 1,  2,  3,  4,  5,  6,  7,  8,  9, 10, 11, 12, 14, 15, 16, 20, 21,\\n            22, 23, 24, 25, 26, 27, 28, 29, 30, 31, 32, 33, 34, 35, 36, 37, 38,\\n            39, 40, 41, 42, 43, 44, 45, 46, 47, 48, 49, 50, 51, 52, 53, 54, 55,\\n            56, 57, 58, 59, 60, 61, 62, 63, 64, 65, 66, 67, 68, 69, 70, 71, 72,\\n            73, 74, 75, 76, 77, 78, 80, 81, 82, 83, 84, 88, 95, 96, 98],\\n           dtype='int64')] are in the [columns]\""
     ]
    }
   ],
   "source": [
    "for j in ds[ds['id_road']]['id_road'].values:\n",
    "    k = ds[ds['id_road']==1]['id_road'].index.values[0]\n",
    "    for i in ds[ds['id_road']!=1]['id_road'].values[k:]:\n",
    "        if(ds[ds['id_road']==i]['xy_last'].values[0] == ds[ds['id_road']==j]['xy_last'].values[0]):\n",
    "            print(2+2)"
   ]
  },
  {
   "cell_type": "code",
   "execution_count": null,
   "metadata": {},
   "outputs": [],
   "source": [
    "G.add_weighted_edges_from([\n",
    "    ('s', 'u', 10), ('s', 'x', 5), ('u', 'v', 1), ('u', 'x', 2), \n",
    "    ('v', 'y', 1), ('x', 'u', 3), ('x', 'v', 5), ('x', 'y', 2), \n",
    "    ('y', 's', 7), ('y', 'v', 6)])"
   ]
  },
  {
   "cell_type": "code",
   "execution_count": 8,
   "metadata": {},
   "outputs": [
    {
     "data": {
      "image/png": "[encoded data removed]",
      "text/plain": [
       "<Figure size 640x480 with 1 Axes>"
      ]
     },
     "metadata": {},
     "output_type": "display_data"
    }
   ],
   "source": [
    "edges = [(1, 2), (1, 3), (1, 4), (2, 3), (5, 3), (3, 4), (6, 5)]\n",
    "G = nx.Graph()\n",
    "G.add_weighted_edges_from([\n",
    "    ('s', 'u', 10), ('s', 'x', 5), ('u', 'v', 1), ('u', 'x', 2), \n",
    "    ('v', 'y', 1), ('x', 'u', 3), ('x', 'v', 5), ('x', 'y', 2), \n",
    "    ('y', 's', 7), ('y', 'v', 6)])\n",
    "nx.draw(G, with_labels=True)"
   ]
  },
  {
   "cell_type": "code",
   "execution_count": null,
   "metadata": {},
   "outputs": [],
   "source": []
  }
 ],
 "metadata": {
  "kernelspec": {
   "display_name": "Python 3.8.13 ('base')",
   "language": "python",
   "name": "python3"
  },
  "language_info": {
   "codemirror_mode": {
    "name": "ipython",
    "version": 3
   },
   "file_extension": ".py",
   "mimetype": "text/x-python",
   "name": "python",
   "nbconvert_exporter": "python",
   "pygments_lexer": "ipython3",
   "version": "3.8.13 (default, Oct 19 2022, 22:38:03) [MSC v.1916 64 bit (AMD64)]"
  },
  "orig_nbformat": 4,
  "vscode": {
   "interpreter": {
    "hash": "ff4f85d6e04298634172ac5d8264e7e9b556b95639fe52ebb9425c4d4cba0c9c"
   }
  }
 },
 "nbformat": 4,
 "nbformat_minor": 2
}
