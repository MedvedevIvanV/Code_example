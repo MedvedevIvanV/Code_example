{
  "cells": [
    {
      "cell_type": "markdown",
      "metadata": {
        "id": "view-in-github",
        "colab_type": "text"
      },
      "source": [
        "<a href=\"https://colab.research.google.com/github/MedvedevIvanV/Code_example/blob/master/act(30_10_2024).ipynb\" target=\"_parent\"><img src=\"https://colab.research.google.com/assets/colab-badge.svg\" alt=\"Open In Colab\"/></a>"
      ]
    },
    {
      "cell_type": "code",
      "execution_count": 1,
      "metadata": {
        "id": "aKinqJmdoQ1f"
      },
      "outputs": [],
      "source": [
        "import matplotlib.pyplot as plt\n",
        "import pandas as pd\n",
        "import math\n",
        "import numpy as np\n",
        "import os\n",
        "from sklearn.preprocessing import MinMaxScaler, StandardScaler\n",
        "from sklearn.metrics import mean_squared_error, r2_score, max_error, mean_absolute_percentage_error, mean_absolute_error\n",
        "from scipy import integrate\n",
        "from scipy.optimize import curve_fit"
      ]
    },
    {
      "cell_type": "code",
      "execution_count": 2,
      "metadata": {
        "colab": {
          "base_uri": "https://localhost:8080/"
        },
        "id": "-lRkoB5jCQTl",
        "outputId": "174fc0f3-6907-4dba-cf5a-615b814cb817"
      },
      "outputs": [
        {
          "output_type": "stream",
          "name": "stdout",
          "text": [
            "Collecting gdown==v4.6.0\n",
            "  Downloading gdown-4.6.0-py3-none-any.whl.metadata (4.4 kB)\n",
            "Requirement already satisfied: filelock in /usr/local/lib/python3.10/dist-packages (from gdown==v4.6.0) (3.16.1)\n",
            "Requirement already satisfied: requests[socks] in /usr/local/lib/python3.10/dist-packages (from gdown==v4.6.0) (2.32.3)\n",
            "Requirement already satisfied: six in /usr/local/lib/python3.10/dist-packages (from gdown==v4.6.0) (1.16.0)\n",
            "Requirement already satisfied: tqdm in /usr/local/lib/python3.10/dist-packages (from gdown==v4.6.0) (4.66.5)\n",
            "Requirement already satisfied: beautifulsoup4 in /usr/local/lib/python3.10/dist-packages (from gdown==v4.6.0) (4.12.3)\n",
            "Requirement already satisfied: soupsieve>1.2 in /usr/local/lib/python3.10/dist-packages (from beautifulsoup4->gdown==v4.6.0) (2.6)\n",
            "Requirement already satisfied: charset-normalizer<4,>=2 in /usr/local/lib/python3.10/dist-packages (from requests[socks]->gdown==v4.6.0) (3.4.0)\n",
            "Requirement already satisfied: idna<4,>=2.5 in /usr/local/lib/python3.10/dist-packages (from requests[socks]->gdown==v4.6.0) (3.10)\n",
            "Requirement already satisfied: urllib3<3,>=1.21.1 in /usr/local/lib/python3.10/dist-packages (from requests[socks]->gdown==v4.6.0) (2.2.3)\n",
            "Requirement already satisfied: certifi>=2017.4.17 in /usr/local/lib/python3.10/dist-packages (from requests[socks]->gdown==v4.6.0) (2024.8.30)\n",
            "Requirement already satisfied: PySocks!=1.5.7,>=1.5.6 in /usr/local/lib/python3.10/dist-packages (from requests[socks]->gdown==v4.6.0) (1.7.1)\n",
            "Downloading gdown-4.6.0-py3-none-any.whl (14 kB)\n",
            "Installing collected packages: gdown\n",
            "  Attempting uninstall: gdown\n",
            "    Found existing installation: gdown 5.2.0\n",
            "    Uninstalling gdown-5.2.0:\n",
            "      Successfully uninstalled gdown-5.2.0\n",
            "Successfully installed gdown-4.6.0\n"
          ]
        }
      ],
      "source": [
        "pip install gdown==v4.6.0"
      ]
    },
    {
      "cell_type": "code",
      "execution_count": 3,
      "metadata": {
        "colab": {
          "base_uri": "https://localhost:8080/"
        },
        "id": "p0yjCTtpP9iI",
        "outputId": "019a7b27-a8b5-4fc0-d9e9-357dab0e0c6e"
      },
      "outputs": [
        {
          "output_type": "stream",
          "name": "stdout",
          "text": [
            "Requirement already satisfied: gdown in /usr/local/lib/python3.10/dist-packages (4.6.0)\n",
            "Collecting gdown\n",
            "  Downloading gdown-5.2.0-py3-none-any.whl.metadata (5.8 kB)\n",
            "Requirement already satisfied: beautifulsoup4 in /usr/local/lib/python3.10/dist-packages (from gdown) (4.12.3)\n",
            "Requirement already satisfied: filelock in /usr/local/lib/python3.10/dist-packages (from gdown) (3.16.1)\n",
            "Requirement already satisfied: requests[socks] in /usr/local/lib/python3.10/dist-packages (from gdown) (2.32.3)\n",
            "Requirement already satisfied: tqdm in /usr/local/lib/python3.10/dist-packages (from gdown) (4.66.5)\n",
            "Requirement already satisfied: soupsieve>1.2 in /usr/local/lib/python3.10/dist-packages (from beautifulsoup4->gdown) (2.6)\n",
            "Requirement already satisfied: charset-normalizer<4,>=2 in /usr/local/lib/python3.10/dist-packages (from requests[socks]->gdown) (3.4.0)\n",
            "Requirement already satisfied: idna<4,>=2.5 in /usr/local/lib/python3.10/dist-packages (from requests[socks]->gdown) (3.10)\n",
            "Requirement already satisfied: urllib3<3,>=1.21.1 in /usr/local/lib/python3.10/dist-packages (from requests[socks]->gdown) (2.2.3)\n",
            "Requirement already satisfied: certifi>=2017.4.17 in /usr/local/lib/python3.10/dist-packages (from requests[socks]->gdown) (2024.8.30)\n",
            "Requirement already satisfied: PySocks!=1.5.7,>=1.5.6 in /usr/local/lib/python3.10/dist-packages (from requests[socks]->gdown) (1.7.1)\n",
            "Downloading gdown-5.2.0-py3-none-any.whl (18 kB)\n",
            "Installing collected packages: gdown\n",
            "  Attempting uninstall: gdown\n",
            "    Found existing installation: gdown 4.6.0\n",
            "    Uninstalling gdown-4.6.0:\n",
            "      Successfully uninstalled gdown-4.6.0\n",
            "Successfully installed gdown-5.2.0\n"
          ]
        }
      ],
      "source": [
        "!pip install --upgrade gdown"
      ]
    },
    {
      "cell_type": "code",
      "execution_count": 4,
      "metadata": {
        "colab": {
          "base_uri": "https://localhost:8080/"
        },
        "id": "NxJODs6voQ1h",
        "outputId": "07dc6ec2-3119-416a-b6e9-89533865fd93"
      },
      "outputs": [
        {
          "output_type": "stream",
          "name": "stdout",
          "text": [
            "/usr/local/lib/python3.10/dist-packages/gdown/__main__.py:140: FutureWarning: Option `--id` was deprecated in version 4.3.1 and will be removed in 5.0. You don't need to pass it anymore to use a file ID.\n",
            "  warnings.warn(\n",
            "Downloading...\n",
            "From: https://drive.google.com/uc?id=1sx0gy0Ku4yW__4lVbXBhPJ5HwORHL2_E\n",
            "To: /content/actual_data.xlsx\n",
            "100% 244k/244k [00:00<00:00, 34.3MB/s]\n"
          ]
        }
      ],
      "source": [
        "! gdown --id 1sx0gy0Ku4yW__4lVbXBhPJ5HwORHL2_E"
      ]
    },
    {
      "cell_type": "code",
      "execution_count": 5,
      "metadata": {
        "colab": {
          "base_uri": "https://localhost:8080/",
          "height": 273
        },
        "id": "da4APnPsoQ1i",
        "outputId": "a28bc349-f503-40ee-ea2c-f8d948c31464"
      },
      "outputs": [
        {
          "output_type": "execute_result",
          "data": {
            "text/plain": [
              "    min       day  A0('11-25')  A0('9-16' )  A0('9-10')  A0('9-20')  \\\n",
              "0   0.0  0.000000       0.0073       0.0000      0.0061      0.0032   \n",
              "1   5.0  0.003472       0.0394       0.0709      0.0035      0.0029   \n",
              "2  10.0  0.006944       0.0744       0.1349      0.0092      0.0099   \n",
              "3  15.0  0.010417       0.0727       0.1605      0.0179      0.0243   \n",
              "4  20.0  0.013889       0.0685       0.1656      0.0416      0.0458   \n",
              "\n",
              "   A0('9-24')  A0('9-27')  A0('9-11')  A0('11-28')  ...  C('11-20')  \\\n",
              "0      0.0107      0.0136      0.0142       0.0061  ...      0.0038   \n",
              "1      0.0432      0.0332      0.0124       0.0021  ...      0.0073   \n",
              "2      0.0819      0.0513      0.0044       0.0036  ...      0.0161   \n",
              "3      0.1011      0.0599      0.0044       0.0075  ...      0.0284   \n",
              "4      0.1104      0.0649      0.0047       0.0133  ...      0.0434   \n",
              "\n",
              "   C('11-04')  C(11-06')  C('10-28')  C('10-21')  C('11-13')  C('10-24')  \\\n",
              "0      0.0014     0.0013      0.0015      0.0008      0.0047      0.0009   \n",
              "1      0.0019     0.0040      0.0008      0.0004      0.0091      0.0008   \n",
              "2      0.0036     0.0094      0.0014      0.0006      0.0221      0.0014   \n",
              "3      0.0071     0.0176      0.0024      0.0008      0.0383      0.0024   \n",
              "4      0.0125     0.0279      0.0038      0.0011      0.0562      0.0039   \n",
              "\n",
              "   C('10-30')  Surname     hours  \n",
              "0      0.0075       s1  0.000000  \n",
              "1      0.0046       s2  0.083333  \n",
              "2      0.0025       s3  0.166667  \n",
              "3      0.0064       s4  0.250000  \n",
              "4      0.0126       s5  0.333333  \n",
              "\n",
              "[5 rows x 61 columns]"
            ],
            "text/html": [
              "\n",
              "  <div id=\"df-f79d5dce-7fc4-4c04-aa86-4f90a39147cd\" class=\"colab-df-container\">\n",
              "    <div>\n",
              "<style scoped>\n",
              "    .dataframe tbody tr th:only-of-type {\n",
              "        vertical-align: middle;\n",
              "    }\n",
              "\n",
              "    .dataframe tbody tr th {\n",
              "        vertical-align: top;\n",
              "    }\n",
              "\n",
              "    .dataframe thead th {\n",
              "        text-align: right;\n",
              "    }\n",
              "</style>\n",
              "<table border=\"1\" class=\"dataframe\">\n",
              "  <thead>\n",
              "    <tr style=\"text-align: right;\">\n",
              "      <th></th>\n",
              "      <th>min</th>\n",
              "      <th>day</th>\n",
              "      <th>A0('11-25')</th>\n",
              "      <th>A0('9-16' )</th>\n",
              "      <th>A0('9-10')</th>\n",
              "      <th>A0('9-20')</th>\n",
              "      <th>A0('9-24')</th>\n",
              "      <th>A0('9-27')</th>\n",
              "      <th>A0('9-11')</th>\n",
              "      <th>A0('11-28')</th>\n",
              "      <th>...</th>\n",
              "      <th>C('11-20')</th>\n",
              "      <th>C('11-04')</th>\n",
              "      <th>C(11-06')</th>\n",
              "      <th>C('10-28')</th>\n",
              "      <th>C('10-21')</th>\n",
              "      <th>C('11-13')</th>\n",
              "      <th>C('10-24')</th>\n",
              "      <th>C('10-30')</th>\n",
              "      <th>Surname</th>\n",
              "      <th>hours</th>\n",
              "    </tr>\n",
              "  </thead>\n",
              "  <tbody>\n",
              "    <tr>\n",
              "      <th>0</th>\n",
              "      <td>0.0</td>\n",
              "      <td>0.000000</td>\n",
              "      <td>0.0073</td>\n",
              "      <td>0.0000</td>\n",
              "      <td>0.0061</td>\n",
              "      <td>0.0032</td>\n",
              "      <td>0.0107</td>\n",
              "      <td>0.0136</td>\n",
              "      <td>0.0142</td>\n",
              "      <td>0.0061</td>\n",
              "      <td>...</td>\n",
              "      <td>0.0038</td>\n",
              "      <td>0.0014</td>\n",
              "      <td>0.0013</td>\n",
              "      <td>0.0015</td>\n",
              "      <td>0.0008</td>\n",
              "      <td>0.0047</td>\n",
              "      <td>0.0009</td>\n",
              "      <td>0.0075</td>\n",
              "      <td>s1</td>\n",
              "      <td>0.000000</td>\n",
              "    </tr>\n",
              "    <tr>\n",
              "      <th>1</th>\n",
              "      <td>5.0</td>\n",
              "      <td>0.003472</td>\n",
              "      <td>0.0394</td>\n",
              "      <td>0.0709</td>\n",
              "      <td>0.0035</td>\n",
              "      <td>0.0029</td>\n",
              "      <td>0.0432</td>\n",
              "      <td>0.0332</td>\n",
              "      <td>0.0124</td>\n",
              "      <td>0.0021</td>\n",
              "      <td>...</td>\n",
              "      <td>0.0073</td>\n",
              "      <td>0.0019</td>\n",
              "      <td>0.0040</td>\n",
              "      <td>0.0008</td>\n",
              "      <td>0.0004</td>\n",
              "      <td>0.0091</td>\n",
              "      <td>0.0008</td>\n",
              "      <td>0.0046</td>\n",
              "      <td>s2</td>\n",
              "      <td>0.083333</td>\n",
              "    </tr>\n",
              "    <tr>\n",
              "      <th>2</th>\n",
              "      <td>10.0</td>\n",
              "      <td>0.006944</td>\n",
              "      <td>0.0744</td>\n",
              "      <td>0.1349</td>\n",
              "      <td>0.0092</td>\n",
              "      <td>0.0099</td>\n",
              "      <td>0.0819</td>\n",
              "      <td>0.0513</td>\n",
              "      <td>0.0044</td>\n",
              "      <td>0.0036</td>\n",
              "      <td>...</td>\n",
              "      <td>0.0161</td>\n",
              "      <td>0.0036</td>\n",
              "      <td>0.0094</td>\n",
              "      <td>0.0014</td>\n",
              "      <td>0.0006</td>\n",
              "      <td>0.0221</td>\n",
              "      <td>0.0014</td>\n",
              "      <td>0.0025</td>\n",
              "      <td>s3</td>\n",
              "      <td>0.166667</td>\n",
              "    </tr>\n",
              "    <tr>\n",
              "      <th>3</th>\n",
              "      <td>15.0</td>\n",
              "      <td>0.010417</td>\n",
              "      <td>0.0727</td>\n",
              "      <td>0.1605</td>\n",
              "      <td>0.0179</td>\n",
              "      <td>0.0243</td>\n",
              "      <td>0.1011</td>\n",
              "      <td>0.0599</td>\n",
              "      <td>0.0044</td>\n",
              "      <td>0.0075</td>\n",
              "      <td>...</td>\n",
              "      <td>0.0284</td>\n",
              "      <td>0.0071</td>\n",
              "      <td>0.0176</td>\n",
              "      <td>0.0024</td>\n",
              "      <td>0.0008</td>\n",
              "      <td>0.0383</td>\n",
              "      <td>0.0024</td>\n",
              "      <td>0.0064</td>\n",
              "      <td>s4</td>\n",
              "      <td>0.250000</td>\n",
              "    </tr>\n",
              "    <tr>\n",
              "      <th>4</th>\n",
              "      <td>20.0</td>\n",
              "      <td>0.013889</td>\n",
              "      <td>0.0685</td>\n",
              "      <td>0.1656</td>\n",
              "      <td>0.0416</td>\n",
              "      <td>0.0458</td>\n",
              "      <td>0.1104</td>\n",
              "      <td>0.0649</td>\n",
              "      <td>0.0047</td>\n",
              "      <td>0.0133</td>\n",
              "      <td>...</td>\n",
              "      <td>0.0434</td>\n",
              "      <td>0.0125</td>\n",
              "      <td>0.0279</td>\n",
              "      <td>0.0038</td>\n",
              "      <td>0.0011</td>\n",
              "      <td>0.0562</td>\n",
              "      <td>0.0039</td>\n",
              "      <td>0.0126</td>\n",
              "      <td>s5</td>\n",
              "      <td>0.333333</td>\n",
              "    </tr>\n",
              "  </tbody>\n",
              "</table>\n",
              "<p>5 rows × 61 columns</p>\n",
              "</div>\n",
              "    <div class=\"colab-df-buttons\">\n",
              "\n",
              "  <div class=\"colab-df-container\">\n",
              "    <button class=\"colab-df-convert\" onclick=\"convertToInteractive('df-f79d5dce-7fc4-4c04-aa86-4f90a39147cd')\"\n",
              "            title=\"Convert this dataframe to an interactive table.\"\n",
              "            style=\"display:none;\">\n",
              "\n",
              "  <svg xmlns=\"http://www.w3.org/2000/svg\" height=\"24px\" viewBox=\"0 -960 960 960\">\n",
              "    <path d=\"M120-120v-720h720v720H120Zm60-500h600v-160H180v160Zm220 220h160v-160H400v160Zm0 220h160v-160H400v160ZM180-400h160v-160H180v160Zm440 0h160v-160H620v160ZM180-180h160v-160H180v160Zm440 0h160v-160H620v160Z\"/>\n",
              "  </svg>\n",
              "    </button>\n",
              "\n",
              "  <style>\n",
              "    .colab-df-container {\n",
              "      display:flex;\n",
              "      gap: 12px;\n",
              "    }\n",
              "\n",
              "    .colab-df-convert {\n",
              "      background-color: #E8F0FE;\n",
              "      border: none;\n",
              "      border-radius: 50%;\n",
              "      cursor: pointer;\n",
              "      display: none;\n",
              "      fill: #1967D2;\n",
              "      height: 32px;\n",
              "      padding: 0 0 0 0;\n",
              "      width: 32px;\n",
              "    }\n",
              "\n",
              "    .colab-df-convert:hover {\n",
              "      background-color: #E2EBFA;\n",
              "      box-shadow: 0px 1px 2px rgba(60, 64, 67, 0.3), 0px 1px 3px 1px rgba(60, 64, 67, 0.15);\n",
              "      fill: #174EA6;\n",
              "    }\n",
              "\n",
              "    .colab-df-buttons div {\n",
              "      margin-bottom: 4px;\n",
              "    }\n",
              "\n",
              "    [theme=dark] .colab-df-convert {\n",
              "      background-color: #3B4455;\n",
              "      fill: #D2E3FC;\n",
              "    }\n",
              "\n",
              "    [theme=dark] .colab-df-convert:hover {\n",
              "      background-color: #434B5C;\n",
              "      box-shadow: 0px 1px 3px 1px rgba(0, 0, 0, 0.15);\n",
              "      filter: drop-shadow(0px 1px 2px rgba(0, 0, 0, 0.3));\n",
              "      fill: #FFFFFF;\n",
              "    }\n",
              "  </style>\n",
              "\n",
              "    <script>\n",
              "      const buttonEl =\n",
              "        document.querySelector('#df-f79d5dce-7fc4-4c04-aa86-4f90a39147cd button.colab-df-convert');\n",
              "      buttonEl.style.display =\n",
              "        google.colab.kernel.accessAllowed ? 'block' : 'none';\n",
              "\n",
              "      async function convertToInteractive(key) {\n",
              "        const element = document.querySelector('#df-f79d5dce-7fc4-4c04-aa86-4f90a39147cd');\n",
              "        const dataTable =\n",
              "          await google.colab.kernel.invokeFunction('convertToInteractive',\n",
              "                                                    [key], {});\n",
              "        if (!dataTable) return;\n",
              "\n",
              "        const docLinkHtml = 'Like what you see? Visit the ' +\n",
              "          '<a target=\"_blank\" href=https://colab.research.google.com/notebooks/data_table.ipynb>data table notebook</a>'\n",
              "          + ' to learn more about interactive tables.';\n",
              "        element.innerHTML = '';\n",
              "        dataTable['output_type'] = 'display_data';\n",
              "        await google.colab.output.renderOutput(dataTable, element);\n",
              "        const docLink = document.createElement('div');\n",
              "        docLink.innerHTML = docLinkHtml;\n",
              "        element.appendChild(docLink);\n",
              "      }\n",
              "    </script>\n",
              "  </div>\n",
              "\n",
              "\n",
              "<div id=\"df-d777d77e-4693-4aef-90af-14984c41e111\">\n",
              "  <button class=\"colab-df-quickchart\" onclick=\"quickchart('df-d777d77e-4693-4aef-90af-14984c41e111')\"\n",
              "            title=\"Suggest charts\"\n",
              "            style=\"display:none;\">\n",
              "\n",
              "<svg xmlns=\"http://www.w3.org/2000/svg\" height=\"24px\"viewBox=\"0 0 24 24\"\n",
              "     width=\"24px\">\n",
              "    <g>\n",
              "        <path d=\"M19 3H5c-1.1 0-2 .9-2 2v14c0 1.1.9 2 2 2h14c1.1 0 2-.9 2-2V5c0-1.1-.9-2-2-2zM9 17H7v-7h2v7zm4 0h-2V7h2v10zm4 0h-2v-4h2v4z\"/>\n",
              "    </g>\n",
              "</svg>\n",
              "  </button>\n",
              "\n",
              "<style>\n",
              "  .colab-df-quickchart {\n",
              "      --bg-color: #E8F0FE;\n",
              "      --fill-color: #1967D2;\n",
              "      --hover-bg-color: #E2EBFA;\n",
              "      --hover-fill-color: #174EA6;\n",
              "      --disabled-fill-color: #AAA;\n",
              "      --disabled-bg-color: #DDD;\n",
              "  }\n",
              "\n",
              "  [theme=dark] .colab-df-quickchart {\n",
              "      --bg-color: #3B4455;\n",
              "      --fill-color: #D2E3FC;\n",
              "      --hover-bg-color: #434B5C;\n",
              "      --hover-fill-color: #FFFFFF;\n",
              "      --disabled-bg-color: #3B4455;\n",
              "      --disabled-fill-color: #666;\n",
              "  }\n",
              "\n",
              "  .colab-df-quickchart {\n",
              "    background-color: var(--bg-color);\n",
              "    border: none;\n",
              "    border-radius: 50%;\n",
              "    cursor: pointer;\n",
              "    display: none;\n",
              "    fill: var(--fill-color);\n",
              "    height: 32px;\n",
              "    padding: 0;\n",
              "    width: 32px;\n",
              "  }\n",
              "\n",
              "  .colab-df-quickchart:hover {\n",
              "    background-color: var(--hover-bg-color);\n",
              "    box-shadow: 0 1px 2px rgba(60, 64, 67, 0.3), 0 1px 3px 1px rgba(60, 64, 67, 0.15);\n",
              "    fill: var(--button-hover-fill-color);\n",
              "  }\n",
              "\n",
              "  .colab-df-quickchart-complete:disabled,\n",
              "  .colab-df-quickchart-complete:disabled:hover {\n",
              "    background-color: var(--disabled-bg-color);\n",
              "    fill: var(--disabled-fill-color);\n",
              "    box-shadow: none;\n",
              "  }\n",
              "\n",
              "  .colab-df-spinner {\n",
              "    border: 2px solid var(--fill-color);\n",
              "    border-color: transparent;\n",
              "    border-bottom-color: var(--fill-color);\n",
              "    animation:\n",
              "      spin 1s steps(1) infinite;\n",
              "  }\n",
              "\n",
              "  @keyframes spin {\n",
              "    0% {\n",
              "      border-color: transparent;\n",
              "      border-bottom-color: var(--fill-color);\n",
              "      border-left-color: var(--fill-color);\n",
              "    }\n",
              "    20% {\n",
              "      border-color: transparent;\n",
              "      border-left-color: var(--fill-color);\n",
              "      border-top-color: var(--fill-color);\n",
              "    }\n",
              "    30% {\n",
              "      border-color: transparent;\n",
              "      border-left-color: var(--fill-color);\n",
              "      border-top-color: var(--fill-color);\n",
              "      border-right-color: var(--fill-color);\n",
              "    }\n",
              "    40% {\n",
              "      border-color: transparent;\n",
              "      border-right-color: var(--fill-color);\n",
              "      border-top-color: var(--fill-color);\n",
              "    }\n",
              "    60% {\n",
              "      border-color: transparent;\n",
              "      border-right-color: var(--fill-color);\n",
              "    }\n",
              "    80% {\n",
              "      border-color: transparent;\n",
              "      border-right-color: var(--fill-color);\n",
              "      border-bottom-color: var(--fill-color);\n",
              "    }\n",
              "    90% {\n",
              "      border-color: transparent;\n",
              "      border-bottom-color: var(--fill-color);\n",
              "    }\n",
              "  }\n",
              "</style>\n",
              "\n",
              "  <script>\n",
              "    async function quickchart(key) {\n",
              "      const quickchartButtonEl =\n",
              "        document.querySelector('#' + key + ' button');\n",
              "      quickchartButtonEl.disabled = true;  // To prevent multiple clicks.\n",
              "      quickchartButtonEl.classList.add('colab-df-spinner');\n",
              "      try {\n",
              "        const charts = await google.colab.kernel.invokeFunction(\n",
              "            'suggestCharts', [key], {});\n",
              "      } catch (error) {\n",
              "        console.error('Error during call to suggestCharts:', error);\n",
              "      }\n",
              "      quickchartButtonEl.classList.remove('colab-df-spinner');\n",
              "      quickchartButtonEl.classList.add('colab-df-quickchart-complete');\n",
              "    }\n",
              "    (() => {\n",
              "      let quickchartButtonEl =\n",
              "        document.querySelector('#df-d777d77e-4693-4aef-90af-14984c41e111 button');\n",
              "      quickchartButtonEl.style.display =\n",
              "        google.colab.kernel.accessAllowed ? 'block' : 'none';\n",
              "    })();\n",
              "  </script>\n",
              "</div>\n",
              "    </div>\n",
              "  </div>\n"
            ],
            "application/vnd.google.colaboratory.intrinsic+json": {
              "type": "dataframe",
              "variable_name": "df"
            }
          },
          "metadata": {},
          "execution_count": 5
        }
      ],
      "source": [
        "df = pd.read_excel('actual_data.xlsx')\n",
        "second = np.array(df['min'])*60\n",
        "df['hours'] = df['min']/60\n",
        "REAL = np.array(df.iloc[1511, 2:59]).transpose()\n",
        "df.head()"
      ]
    },
    {
      "cell_type": "code",
      "execution_count": 6,
      "metadata": {
        "id": "W-kv_L6toQ1j"
      },
      "outputs": [],
      "source": [
        "# Linear BOI and Q\n",
        "def A_0(Q):\n",
        "  x = (Q + 39.478)/9.862\n",
        "  return x\n",
        "\n",
        "def A_1(Q):\n",
        "  x = (Q + 16.548)/7.9411\n",
        "  return x\n",
        "\n",
        "def B_0(Q):\n",
        "  x = (Q + 41.036)/9.9758\n",
        "  return x\n",
        "\n",
        "def B_1(Q):\n",
        "  x = (Q + 10.56)/7.9659\n",
        "  return x\n",
        "\n",
        "def C_0(Q):\n",
        "  x = (Q + 30.168)/8.7912\n",
        "  return x\n",
        "\n",
        "def C_1(Q):\n",
        "  x = (Q + 18.662)/7.3071\n",
        "  return x\n",
        "\n",
        "\n",
        "def renorm(New, Max, Min):\n",
        "  return New*(Max-Min)+Min\n",
        "\n",
        "def Renormalize(New, Max, Min):\n",
        "  NewN = pd.DataFrame()\n",
        "  for i in range(0, New.shape[1]-1):\n",
        "    NewN[New.columns[i+1]] = renorm(New.iloc[:, i+1], Max[i], Min[i])\n",
        "  return NewN\n",
        "\n",
        "def normal(X):\n",
        "  if X[25:].min() < 0.02:\n",
        "    return (X-X[25:].min())/(X.max()-X[25:].min())\n",
        "  else:\n",
        "    return (X-0.02)/(X.max()-0.02)\n",
        "\n",
        "def Normalize_time(k):\n",
        "  Data = pd.DataFrame()\n",
        "  for i in range(2, 59):\n",
        "    Data[df.columns[i]] = normal(df.iloc[1:k, i])\n",
        "  Max = []\n",
        "  for i in range(2, 59):\n",
        "    Max.append(df.iloc[1:k, i].max())\n",
        "  Min = []\n",
        "  for i in range(2, 59):\n",
        "    if df.iloc[25:k, i].min() < 0.02:\n",
        "      Min.append(df.iloc[25:k, i].min())\n",
        "    else:\n",
        "      Min.append(0.02)\n",
        "  return (Data, Max, Min)\n",
        "\n",
        "def left_rect(x, f):\n",
        "  Q=[]\n",
        "  SUM_Q = 0\n",
        "  h = x[1]-x[0]\n",
        "  for i in range(0, f.shape[0]):\n",
        "    SUM_Q+=h*f[i]\n",
        "    Q.append(SUM_Q)\n",
        "  return Q\n",
        "\n",
        "def BOI(Q_r, k=1):\n",
        "  BOIA0 = [A_0(Q_r.T.values[i][:np.count_nonzero(~np.isnan(Q_r.T.values[i]))][-1]) for i in range(0, 9)]\n",
        "  BOIB0 = [B_0(Q_r.T.values[i][:np.count_nonzero(~np.isnan(Q_r.T.values[i]))][-1]) for i in range(9, 18)]\n",
        "  BOIC0 = [C_0(Q_r.T.values[i][:np.count_nonzero(~np.isnan(Q_r.T.values[i]))][-1]) for i in range(18, 27)]\n",
        "  BOIA1 = [A_1(Q_r.T.values[i][:np.count_nonzero(~np.isnan(Q_r.T.values[i]))][-1]) for i in range(27, 37)]\n",
        "  BOIB1 = [B_1(Q_r.T.values[i][:np.count_nonzero(~np.isnan(Q_r.T.values[i]))][-1]) for i in range(37, 47)]\n",
        "  BOIC1 = [C_1(Q_r.T.values[i][:np.count_nonzero(~np.isnan(Q_r.T.values[i]))][-1]) for i in range(47, 57)]\n",
        "  return BOIA0 + BOIB0 + BOIC0 + BOIA1 + BOIB1 + BOIC1\n",
        "\n",
        "def MAPE(boi):\n",
        "  MAPE_PRED = []\n",
        "  for i in range(0, 57):\n",
        "    MAPE_PRED.append(mean_absolute_percentage_error([REAL[i]], [boi[i]]))\n",
        "  return MAPE_PRED"
      ]
    },
    {
      "cell_type": "code",
      "execution_count": 7,
      "metadata": {
        "id": "cxzJLwKWLdGl"
      },
      "outputs": [],
      "source": [
        "def QQQ(s, _Data):\n",
        "  Data = pd.DataFrame()\n",
        "  Data['long'] = pd.Series([i for i in range(1511)])\n",
        "  for i in range(_Data.shape[1]):\n",
        "    Q = left_rect(s, _Data.iloc[:, i].values[:np.count_nonzero(~np.isnan(_Data.iloc[:, i].values))]/100)\n",
        "    Data[_Data.columns[i]] = Q + [None] * (1511 - len(Q))\n",
        "\n",
        "  Data.drop('long', axis=1, inplace=True)\n",
        "  return Data"
      ]
    },
    {
      "cell_type": "code",
      "execution_count": 8,
      "metadata": {
        "id": "Mg1oj3sZoQ1k"
      },
      "outputs": [],
      "source": [
        "def new_Normalize_time(k, _Data):\n",
        "  Data = pd.DataFrame()\n",
        "  Data['long'] = pd.Series([i for i in range(1511)])\n",
        "  for i in range(_Data.shape[1]):\n",
        "    Data[_Data.columns[i]] = normal(_Data.iloc[1:k[i], i])\n",
        "\n",
        "  Max = []\n",
        "  Min = []\n",
        "\n",
        "  for i in range(_Data.shape[1]):\n",
        "    Max.append(_Data.iloc[1:k[i], i].max())\n",
        "    if _Data.iloc[25:k[i], i].min() < 0.02:\n",
        "      Min.append(_Data.iloc[25:k[i], i].min())\n",
        "    else:\n",
        "      Min.append(0.02)\n",
        "  Data.drop('long', axis=1, inplace=True)\n",
        "  Data.drop(Data.index[0], axis=0, inplace=True)\n",
        "\n",
        "  return (Data, Max, Min)"
      ]
    },
    {
      "cell_type": "code",
      "execution_count": 9,
      "metadata": {
        "id": "QdQZcxx_oQ1l"
      },
      "outputs": [],
      "source": [
        "B = df.iloc[:-1, 2:59]\n",
        "indexes = B.fillna(0).apply(lambda x: x.loc[x.idxmax():][x <= x.max() / 1.75].idxmax()).tolist()\n",
        "indexes = np.array(indexes)\n",
        "indexes= np.where(indexes > 289, 289, indexes)\n",
        "indexes= np.where(indexes < 49, 49, indexes)"
      ]
    },
    {
      "cell_type": "code",
      "source": [
        "B = B.drop(B.columns[[8, 17, 26]], axis=1)"
      ],
      "metadata": {
        "id": "DhHrrSiqp-e-"
      },
      "execution_count": 17,
      "outputs": []
    },
    {
      "cell_type": "code",
      "execution_count": 27,
      "metadata": {
        "colab": {
          "base_uri": "https://localhost:8080/"
        },
        "id": "jL-M1fhMbOT7",
        "outputId": "e73c7040-e9e2-40bd-d402-c11d4cc8fab4"
      },
      "outputs": [
        {
          "output_type": "stream",
          "name": "stdout",
          "text": [
            "Индексы, где средняя производная отрицательная для каждого столбца:\n",
            "A0('11-25'): [24]\n",
            "A0('9-16' ): [24]\n",
            "A0('9-10'): [24]\n",
            "A0('9-20'): [24]\n",
            "A0('9-24'): [24]\n",
            "A0('9-27'): [52]\n",
            "A0('9-11'): [160]\n",
            "A0('11-28'): [216]\n",
            "B0('11-25'): [24]\n",
            "B0('9-16'): [24]\n",
            "B0('9-10'): [24]\n",
            "B0('9-20'): [24]\n",
            "B0(9-24'): [24]\n",
            "B0('9-27'): [32]\n",
            "B0('9-11'): [184]\n",
            "B0('11-28'): [192]\n",
            "C0('11-25'): [24]\n",
            "C0('9-16'): [24]\n",
            "C0('9-10'): [24]\n",
            "C0('9-20'): [24]\n",
            "C0('9-24'): [24]\n",
            "C0('9-27'): [48]\n",
            "C0('9-11'): [152]\n",
            "C0('11-28'): [256]\n",
            "A('11-12'): [32]\n",
            "A('11-11'): [36]\n",
            "A('11-20'): [44]\n",
            "A('11-04'): [44]\n",
            "A(11-06'): [60]\n",
            "A('10-28'): [56]\n",
            "A('10-21'): [92]\n",
            "A('11-13'): [96]\n",
            "A('10-24'): [140]\n",
            "A('10-30'): [164]\n",
            "B('11-12'): [28]\n",
            "B('11-11'): [32]\n",
            "B('11-20'): [32]\n",
            "B('11-04'): [40]\n",
            "B(11-06'): [60]\n",
            "B('10-28'): [60]\n",
            "B('10-21'): [108]\n",
            "B('11-13'): [96]\n",
            "B('10-24'): [148]\n",
            "B('10-30'): [164]\n",
            "C('11-12'): [32]\n",
            "C('11-11'): [36]\n",
            "C('11-20'): [36]\n",
            "C('11-04'): [40]\n",
            "C(11-06'): [52]\n",
            "C('10-28'): [56]\n",
            "C('10-21'): [108]\n",
            "C('11-13'): [60]\n",
            "C('10-24'): [128]\n",
            "C('10-30'): [136]\n"
          ]
        }
      ],
      "source": [
        "# Функция для вычисления индексов\n",
        "def find_indices_multiple_columns(db, initial_points=12, total_points=289):\n",
        "    results = {}\n",
        "\n",
        "    for column in db.columns:\n",
        "        current_index = 12\n",
        "        indices = []\n",
        "        initial_points=12\n",
        "        total_points=289\n",
        "\n",
        "        while (current_index < len(db)) and (len(indices) < total_points):\n",
        "            end_index = current_index + initial_points\n",
        "\n",
        "            if end_index > len(db):\n",
        "                break\n",
        "\n",
        "            points = db[column][current_index:end_index]\n",
        "\n",
        "            # Вычисляем производную (разность)\n",
        "            derivative = np.diff(points)\n",
        "\n",
        "            # Находим среднее значение производной\n",
        "            mean_derivative = np.mean(derivative)\n",
        "\n",
        "            # Проверка знака производной\n",
        "            if mean_derivative < 0:\n",
        "                MR = (end_index + current_index)/2\n",
        "                indices.append(end_index)  # Добавляем текущий индекс\n",
        "                break  # Если отрицательное, выходим из цикла\n",
        "            else:\n",
        "                # Если положительное, увеличиваем количество точек\n",
        "                # initial_points += 24  # Увеличиваем количество точек на 24\n",
        "                current_index += 4  # Переходим к следующей части\n",
        "\n",
        "            if initial_points > 260:\n",
        "                indices.append(144)\n",
        "                break\n",
        "        if not indices:\n",
        "            indices.append(144)\n",
        "        results[column] = indices  # Сохраняем результаты для каждого столбца\n",
        "\n",
        "    return results\n",
        "\n",
        "# Получаем индексы для всех столбцов\n",
        "result_indices = find_indices_multiple_columns(B.iloc[:289, :])\n",
        "print(\"Индексы, где средняя производная отрицательная для каждого столбца:\")\n",
        "for col, indices in result_indices.items():\n",
        "    print(f\"{col}: {indices}\")"
      ]
    },
    {
      "cell_type": "code",
      "execution_count": 28,
      "metadata": {
        "id": "WJMQwxSGtQ_M"
      },
      "outputs": [],
      "source": [
        "idp = np.array([])\n",
        "for j in range(len(list(result_indices.values()))):\n",
        "    idp = np.append(idp, list(result_indices.values())[j][0])"
      ]
    },
    {
      "cell_type": "code",
      "execution_count": 29,
      "metadata": {
        "colab": {
          "base_uri": "https://localhost:8080/"
        },
        "id": "ahJ_jWppuK5e",
        "outputId": "272f9119-d545-47e6-cffe-109a216b886f"
      },
      "outputs": [
        {
          "output_type": "execute_result",
          "data": {
            "text/plain": [
              "array([ 24,  24,  24,  24,  24,  52, 160, 216,  24,  24,  24,  24,  24,\n",
              "        32, 184, 192,  24,  24,  24,  24,  24,  48, 152, 256,  32,  36,\n",
              "        44,  44,  60,  56,  92,  96, 140, 164,  28,  32,  32,  40,  60,\n",
              "        60, 108,  96, 148, 164,  32,  36,  36,  40,  52,  56, 108,  60,\n",
              "       128, 136])"
            ]
          },
          "metadata": {},
          "execution_count": 29
        }
      ],
      "source": [
        "idp = idp.astype(int)\n",
        "idp"
      ]
    },
    {
      "cell_type": "code",
      "execution_count": 30,
      "metadata": {
        "id": "Gn7iGTeZuLYL"
      },
      "outputs": [],
      "source": [
        "maxes = np.array([B.iloc[:idp[i], i].idxmax() for i in range(B.shape[1])])"
      ]
    },
    {
      "cell_type": "code",
      "execution_count": 22,
      "metadata": {
        "colab": {
          "base_uri": "https://localhost:8080/"
        },
        "id": "wVeINKPyv_RI",
        "outputId": "b14565fb-8bc4-464a-8f71-2228b2cab68d"
      },
      "outputs": [
        {
          "output_type": "execute_result",
          "data": {
            "text/plain": [
              "array([  2,   4,   5,   7,   7,  41, 148, 209,   2,   6,   6,   6,   7,\n",
              "        21,   0, 180,  13,  16,   4,   6,   7,  23,  23,  47,  23,  25,\n",
              "        35,  31,  35,  43,  43,  59,  55,  90,  20,  24,  23,  27,  31,\n",
              "        31,  39,  59,  59, 107,  21,  27,  26,  31,  35,  35,  39,  45,\n",
              "        55, 106])"
            ]
          },
          "metadata": {},
          "execution_count": 22
        }
      ],
      "source": [
        "maxes"
      ]
    },
    {
      "cell_type": "code",
      "execution_count": null,
      "metadata": {
        "id": "wDo11hqOokaM"
      },
      "outputs": [],
      "source": [
        "i = 6"
      ]
    },
    {
      "cell_type": "code",
      "execution_count": null,
      "metadata": {
        "id": "EkN5RlZXokaN",
        "outputId": "e7d31c8d-a9d2-4c01-8152-ea3a18b2b5f8"
      },
      "outputs": [
        {
          "data": {
            "text/plain": [
              "100    0.0192\n",
              "101    0.0193\n",
              "102    0.0193\n",
              "103    0.0194\n",
              "104    0.0194\n",
              "105    0.0195\n",
              "106    0.0196\n",
              "107    0.0195\n",
              "108    0.0196\n",
              "109    0.0198\n",
              "110    0.0198\n",
              "111    0.0199\n",
              "112    0.0199\n",
              "113    0.0200\n",
              "114    0.0200\n",
              "115    0.0201\n",
              "116    0.0202\n",
              "117    0.0202\n",
              "118    0.0202\n",
              "119    0.0203\n",
              "120    0.0204\n",
              "121    0.0204\n",
              "122    0.0204\n",
              "123    0.0204\n",
              "124    0.0204\n",
              "125    0.0204\n",
              "126    0.0205\n",
              "127    0.0206\n",
              "128    0.0206\n",
              "129    0.0207\n",
              "130    0.0207\n",
              "131    0.0208\n",
              "132    0.0209\n",
              "133    0.0209\n",
              "134    0.0209\n",
              "135    0.0209\n",
              "136    0.0209\n",
              "137    0.0210\n",
              "138    0.0210\n",
              "139    0.0210\n",
              "140    0.0211\n",
              "141    0.0210\n",
              "142    0.0211\n",
              "143    0.0211\n",
              "144    0.0211\n",
              "145    0.0212\n",
              "146    0.0212\n",
              "147    0.0212\n",
              "Name: A0('9-11'), dtype: float64"
            ]
          },
          "execution_count": 30,
          "metadata": {},
          "output_type": "execute_result"
        }
      ],
      "source": [
        "B.iloc[:maxes[i], i][B.iloc[:maxes[i], i] >= B.iloc[maxes[i], i] * 0.9]"
      ]
    },
    {
      "cell_type": "code",
      "execution_count": 23,
      "metadata": {
        "colab": {
          "base_uri": "https://localhost:8080/",
          "height": 572
        },
        "id": "_SKdVKTSokaO",
        "outputId": "62dca695-dd64-4233-c584-acd26bb7195a"
      },
      "outputs": [
        {
          "output_type": "error",
          "ename": "NameError",
          "evalue": "name 'i' is not defined",
          "traceback": [
            "\u001b[0;31m---------------------------------------------------------------------------\u001b[0m",
            "\u001b[0;31mNameError\u001b[0m                                 Traceback (most recent call last)",
            "\u001b[0;32m<ipython-input-23-433b72525ffb>\u001b[0m in \u001b[0;36m<cell line: 2>\u001b[0;34m()\u001b[0m\n\u001b[1;32m      1\u001b[0m \u001b[0mplt\u001b[0m\u001b[0;34m.\u001b[0m\u001b[0mplot\u001b[0m\u001b[0;34m(\u001b[0m\u001b[0mB\u001b[0m\u001b[0;34m.\u001b[0m\u001b[0miloc\u001b[0m\u001b[0;34m[\u001b[0m\u001b[0;34m:\u001b[0m\u001b[0;34m,\u001b[0m \u001b[0;36m6\u001b[0m\u001b[0;34m]\u001b[0m\u001b[0;34m)\u001b[0m\u001b[0;34m\u001b[0m\u001b[0;34m\u001b[0m\u001b[0m\n\u001b[0;32m----> 2\u001b[0;31m \u001b[0mplt\u001b[0m\u001b[0;34m.\u001b[0m\u001b[0mvlines\u001b[0m\u001b[0;34m(\u001b[0m\u001b[0mmaxes\u001b[0m\u001b[0;34m[\u001b[0m\u001b[0mi\u001b[0m\u001b[0;34m]\u001b[0m\u001b[0;34m,\u001b[0m \u001b[0;36m0\u001b[0m\u001b[0;34m,\u001b[0m \u001b[0mB\u001b[0m\u001b[0;34m.\u001b[0m\u001b[0miloc\u001b[0m\u001b[0;34m[\u001b[0m\u001b[0mmaxes\u001b[0m\u001b[0;34m[\u001b[0m\u001b[0mi\u001b[0m\u001b[0;34m]\u001b[0m\u001b[0;34m,\u001b[0m \u001b[0;36m6\u001b[0m\u001b[0;34m]\u001b[0m\u001b[0;34m)\u001b[0m\u001b[0;34m\u001b[0m\u001b[0;34m\u001b[0m\u001b[0m\n\u001b[0m",
            "\u001b[0;31mNameError\u001b[0m: name 'i' is not defined"
          ]
        },
        {
          "output_type": "display_data",
          "data": {
            "text/plain": [
              "<Figure size 640x480 with 1 Axes>"
            ],
            "image/png": "[encoded data removed]"
          },
          "metadata": {}
        }
      ],
      "source": [
        "plt.plot(B.iloc[:, 6])\n",
        "plt.vlines(maxes[i], 0, B.iloc[maxes[i], 6])"
      ]
    },
    {
      "cell_type": "code",
      "execution_count": null,
      "metadata": {
        "id": "AvHmmJXvokaO",
        "outputId": "0bb18f96-5759-4e15-da92-c93ae7bbaefa"
      },
      "outputs": [
        {
          "data": {
            "text/plain": [
              "293"
            ]
          },
          "execution_count": 36,
          "metadata": {},
          "output_type": "execute_result"
        }
      ],
      "source": [
        "B.iloc[maxes[i]:, i][B.iloc[maxes[i]:, i] <= B.iloc[maxes[i], i] * 0.9].index[0]"
      ]
    },
    {
      "cell_type": "code",
      "source": [
        "LEN = B.shape[1]"
      ],
      "metadata": {
        "id": "y6-DKLNmsMPX"
      },
      "execution_count": 25,
      "outputs": []
    },
    {
      "cell_type": "code",
      "execution_count": 31,
      "metadata": {
        "id": "mOBySz_SzCxi"
      },
      "outputs": [],
      "source": [
        "right_bound = np.zeros((9, LEN))\n",
        "left_bound = np.zeros((9, LEN))\n",
        "r_values = [0.9, 0.8, 0.75, 0.7, 0.6, 0.55, 0.5, 0.45, 0.4]\n",
        "l_values = [0.9, 0.8, 0.75, 0.7, 0.6, 0.55, 0.5, 0.45, 0.4]\n",
        "\n",
        "for j, k in enumerate(r_values):\n",
        "    for i in range(LEN):\n",
        "        filtered_indices = B.iloc[maxes[i]:, i][B.iloc[maxes[i]:, i] <= B.iloc[maxes[i], i] * k]\n",
        "\n",
        "        if not filtered_indices.empty:\n",
        "            right_bound[j, i] = filtered_indices.index[0]\n",
        "        else:\n",
        "            right_bound[j, i] = B.iloc[maxes[i]:, i].idxmin()\n",
        "\n",
        "for j, k in enumerate(l_values):\n",
        "    for i in range(LEN):\n",
        "        filtered_indices = B.iloc[:maxes[i], i][B.iloc[:maxes[i], i] >= B.iloc[maxes[i], i] * k]\n",
        "\n",
        "        if not filtered_indices.empty:\n",
        "            left_bound[j, i] = filtered_indices.index[0]\n",
        "        else:\n",
        "            left_bound[j, i] = B.iloc[:maxes[i], i].idxmin()"
      ]
    },
    {
      "cell_type": "code",
      "execution_count": 32,
      "metadata": {
        "id": "gNSb5vLxokaQ"
      },
      "outputs": [],
      "source": [
        "def new_Normalize_time(k, _Data):\n",
        "  Data = pd.DataFrame()\n",
        "  Data['long'] = pd.Series([i for i in range(1511)])\n",
        "  for i in range(_Data.shape[1]):\n",
        "    Data[_Data.columns[i]] = normal(_Data.iloc[1:k[i], i])\n",
        "\n",
        "  Max = []\n",
        "  Min = []\n",
        "\n",
        "  for i in range(_Data.shape[1]):\n",
        "    Max.append(_Data.iloc[maxes[i], i])\n",
        "    if _Data.iloc[25:k[i], i].min() < 0.02:\n",
        "      Min.append(_Data.iloc[25:k[i], i].min())\n",
        "    else:\n",
        "      Min.append(0.02)\n",
        "  Data.drop('long', axis=1, inplace=True)\n",
        "  Data.drop(Data.index[0], axis=0, inplace=True)\n",
        "\n",
        "  return (Data, Max, Min)"
      ]
    },
    {
      "cell_type": "code",
      "execution_count": 33,
      "metadata": {
        "id": "UsCmOzcNokaQ"
      },
      "outputs": [],
      "source": [
        "def f2(x, sigma, mu, a, b):\n",
        "  return (np.exp(-((np.log(x) - mu)**2) / (2 * sigma**2)) / (x * sigma * np.sqrt(2 * np.pi))) - a/(b + x**2)\n",
        "\n",
        "def mnk2(T, date, param, lst1, lst2):\n",
        "    try:\n",
        "        popt, pcov = curve_fit(f2, date, T, param, bounds=(lst1, lst2), method='trf')\n",
        "        return popt\n",
        "    except Exception as e:\n",
        "        print(f\"Ошибка при выполнении curve_fit: {e}. Используем параметры по умолчанию.\")\n",
        "        return (1.5, 0.5, 0.1, 0.5)\n",
        "\n",
        "def new_Method(Data, k, s, cluster):\n",
        "  New = pd.DataFrame()\n",
        "  coeff = pd.DataFrame()\n",
        "  New['long'] = df.iloc[1:-1, 1]\n",
        "  for i in range(0, Data.shape[1]):\n",
        "    if cluster==1:\n",
        "      param = (1.5, 0.5, 0.1, 0.5)\n",
        "      lst1, lst2 = [0, -1.5, -1.5, 0.05], [1.9, 0.55, 0.15, 1.2]\n",
        "    else:\n",
        "      param = (1.5, 0.5, -0.1, 1)\n",
        "      lst1, lst2 = [0, -0.3, -1, 0.8], [4, 3.5, 0.3, 1.2]\n",
        "    sigma, mu, a, b = mnk2(Data.iloc[s[i]:Data.iloc[:k[i], i].count(), i], df.iloc[s[i]+1:Data.iloc[:k[i], i].count()+1, 1], param, lst1, lst2)\n",
        "    coeff[Data.columns[i]] = sigma, mu, a, b\n",
        "    New[Data.columns[i]] = f2(df.iloc[1:1300, 1], sigma, mu, a, b)\n",
        "  return New, coeff"
      ]
    },
    {
      "cell_type": "code",
      "execution_count": 34,
      "metadata": {
        "id": "Ay9uEJchokaW"
      },
      "outputs": [],
      "source": [
        "right_bound = right_bound.astype(int)\n",
        "left_bound =  left_bound.astype(int)"
      ]
    },
    {
      "cell_type": "code",
      "execution_count": 37,
      "metadata": {
        "id": "SeVE1CXtokaY"
      },
      "outputs": [],
      "source": [
        "def f2(x, sigma, mu, a, b):\n",
        "  return (np.exp(-((np.log(x) - mu)**2) / (2 * sigma**2)) / (x * sigma * np.sqrt(2 * np.pi))) - a/(b + x**2)\n",
        "\n",
        "def mnk2(T, date, param, lst1, lst2):\n",
        "    try:\n",
        "        popt, pcov = curve_fit(f2, date, T, param, bounds=(lst1, lst2), method='trf')\n",
        "        return popt\n",
        "    except Exception as e:\n",
        "        print(f\"Ошибка при выполнении curve_fit: {e}. Используем параметры по умолчанию.\")\n",
        "        return (1.5, 0.5, 0.1, 0.5)\n",
        "\n",
        "def new_Method(Data, k, s, cluster):\n",
        "  New = pd.DataFrame()\n",
        "  coeff = pd.DataFrame()\n",
        "  New['long'] = df.iloc[1:-1, 1]\n",
        "  for i in range(0, Data.shape[1]):\n",
        "    if cluster==1:\n",
        "      param = (1.5, 0.5, 0.1, 0.5)\n",
        "      lst1, lst2 = [0, -1.5, -1.5, 0.05], [1.9, 0.55, 0.15, 1.2]\n",
        "    else:\n",
        "      param = (1.5, 0.5, -0.1, 1)\n",
        "      lst1, lst2 = [0, -0.3, -1, 0.8], [4, 3.5, 0.3, 1.2]\n",
        "    sigma, mu, a, b = mnk2(Data.iloc[s[i]:Data.iloc[:k[i], i].count(), i], df.iloc[s[i]+1:Data.iloc[:k[i], i].count()+1, 1], param, lst1, lst2)\n",
        "    coeff[Data.columns[i]] = sigma, mu, a, b\n",
        "    New[Data.columns[i]] = f2(df.iloc[1:1300, 1], sigma, mu, a, b)\n",
        "  return New, coeff"
      ]
    },
    {
      "cell_type": "code",
      "source": [
        "B1 = B.iloc[:, :24]\n",
        "B2 = B.iloc[:, 24:]"
      ],
      "metadata": {
        "id": "_BISlbNEuL5P"
      },
      "execution_count": 41,
      "outputs": []
    },
    {
      "cell_type": "code",
      "source": [
        "Q_realAll.ffill().iloc[-1]"
      ],
      "metadata": {
        "colab": {
          "base_uri": "https://localhost:8080/",
          "height": 837
        },
        "id": "AZnldYaxxIWO",
        "outputId": "03f7747e-bedd-4d59-e913-05f59ddd8fa6"
      },
      "execution_count": 45,
      "outputs": [
        {
          "output_type": "execute_result",
          "data": {
            "text/plain": [
              "A0('11-25')    126.028500\n",
              "A0('9-16' )    134.989500\n",
              "A0('9-10')      22.257589\n",
              "A0('9-20')      89.625600\n",
              "A0('9-24')     101.048700\n",
              "A0('9-27')     161.875011\n",
              "A0('9-11')      31.789500\n",
              "A0('11-28')    117.677700\n",
              "B0('11-25')    113.661600\n",
              "B0('9-16')     130.546500\n",
              "B0('9-10')      27.459525\n",
              "B0('9-20')      97.049400\n",
              "B0(9-24')      102.047700\n",
              "B0('9-27')     162.249900\n",
              "B0('9-11')      33.154200\n",
              "B0('11-28')    101.045700\n",
              "C0('11-25')    105.207300\n",
              "C0('9-16')     137.254545\n",
              "C0('9-10')      38.133304\n",
              "C0('9-20')     103.830000\n",
              "C0('9-24')     101.118300\n",
              "C0('9-27')     146.692359\n",
              "C0('9-11')      37.007700\n",
              "C0('11-28')     88.592700\n",
              "Name: 1510, dtype: float64"
            ],
            "text/html": [
              "<div>\n",
              "<style scoped>\n",
              "    .dataframe tbody tr th:only-of-type {\n",
              "        vertical-align: middle;\n",
              "    }\n",
              "\n",
              "    .dataframe tbody tr th {\n",
              "        vertical-align: top;\n",
              "    }\n",
              "\n",
              "    .dataframe thead th {\n",
              "        text-align: right;\n",
              "    }\n",
              "</style>\n",
              "<table border=\"1\" class=\"dataframe\">\n",
              "  <thead>\n",
              "    <tr style=\"text-align: right;\">\n",
              "      <th></th>\n",
              "      <th>1510</th>\n",
              "    </tr>\n",
              "  </thead>\n",
              "  <tbody>\n",
              "    <tr>\n",
              "      <th>A0('11-25')</th>\n",
              "      <td>126.028500</td>\n",
              "    </tr>\n",
              "    <tr>\n",
              "      <th>A0('9-16' )</th>\n",
              "      <td>134.989500</td>\n",
              "    </tr>\n",
              "    <tr>\n",
              "      <th>A0('9-10')</th>\n",
              "      <td>22.257589</td>\n",
              "    </tr>\n",
              "    <tr>\n",
              "      <th>A0('9-20')</th>\n",
              "      <td>89.625600</td>\n",
              "    </tr>\n",
              "    <tr>\n",
              "      <th>A0('9-24')</th>\n",
              "      <td>101.048700</td>\n",
              "    </tr>\n",
              "    <tr>\n",
              "      <th>A0('9-27')</th>\n",
              "      <td>161.875011</td>\n",
              "    </tr>\n",
              "    <tr>\n",
              "      <th>A0('9-11')</th>\n",
              "      <td>31.789500</td>\n",
              "    </tr>\n",
              "    <tr>\n",
              "      <th>A0('11-28')</th>\n",
              "      <td>117.677700</td>\n",
              "    </tr>\n",
              "    <tr>\n",
              "      <th>B0('11-25')</th>\n",
              "      <td>113.661600</td>\n",
              "    </tr>\n",
              "    <tr>\n",
              "      <th>B0('9-16')</th>\n",
              "      <td>130.546500</td>\n",
              "    </tr>\n",
              "    <tr>\n",
              "      <th>B0('9-10')</th>\n",
              "      <td>27.459525</td>\n",
              "    </tr>\n",
              "    <tr>\n",
              "      <th>B0('9-20')</th>\n",
              "      <td>97.049400</td>\n",
              "    </tr>\n",
              "    <tr>\n",
              "      <th>B0(9-24')</th>\n",
              "      <td>102.047700</td>\n",
              "    </tr>\n",
              "    <tr>\n",
              "      <th>B0('9-27')</th>\n",
              "      <td>162.249900</td>\n",
              "    </tr>\n",
              "    <tr>\n",
              "      <th>B0('9-11')</th>\n",
              "      <td>33.154200</td>\n",
              "    </tr>\n",
              "    <tr>\n",
              "      <th>B0('11-28')</th>\n",
              "      <td>101.045700</td>\n",
              "    </tr>\n",
              "    <tr>\n",
              "      <th>C0('11-25')</th>\n",
              "      <td>105.207300</td>\n",
              "    </tr>\n",
              "    <tr>\n",
              "      <th>C0('9-16')</th>\n",
              "      <td>137.254545</td>\n",
              "    </tr>\n",
              "    <tr>\n",
              "      <th>C0('9-10')</th>\n",
              "      <td>38.133304</td>\n",
              "    </tr>\n",
              "    <tr>\n",
              "      <th>C0('9-20')</th>\n",
              "      <td>103.830000</td>\n",
              "    </tr>\n",
              "    <tr>\n",
              "      <th>C0('9-24')</th>\n",
              "      <td>101.118300</td>\n",
              "    </tr>\n",
              "    <tr>\n",
              "      <th>C0('9-27')</th>\n",
              "      <td>146.692359</td>\n",
              "    </tr>\n",
              "    <tr>\n",
              "      <th>C0('9-11')</th>\n",
              "      <td>37.007700</td>\n",
              "    </tr>\n",
              "    <tr>\n",
              "      <th>C0('11-28')</th>\n",
              "      <td>88.592700</td>\n",
              "    </tr>\n",
              "  </tbody>\n",
              "</table>\n",
              "</div><br><label><b>dtype:</b> float64</label>"
            ]
          },
          "metadata": {},
          "execution_count": 45
        }
      ]
    },
    {
      "cell_type": "code",
      "execution_count": 46,
      "metadata": {
        "colab": {
          "base_uri": "https://localhost:8080/"
        },
        "id": "mg0Fzgf-okaa",
        "outputId": "cc4e36b5-9929-4dc2-f138-a34f098cd838"
      },
      "outputs": [
        {
          "output_type": "stream",
          "name": "stderr",
          "text": [
            "<ipython-input-37-9ee059636719>:6: OptimizeWarning: Covariance of the parameters could not be estimated\n",
            "  popt, pcov = curve_fit(f2, date, T, param, bounds=(lst1, lst2), method='trf')\n"
          ]
        },
        {
          "output_type": "stream",
          "name": "stdout",
          "text": [
            "Ошибка при выполнении curve_fit: Optimal parameters not found: The maximum number of function evaluations is exceeded.. Используем параметры по умолчанию.\n"
          ]
        },
        {
          "output_type": "stream",
          "name": "stderr",
          "text": [
            "<ipython-input-37-9ee059636719>:6: OptimizeWarning: Covariance of the parameters could not be estimated\n",
            "  popt, pcov = curve_fit(f2, date, T, param, bounds=(lst1, lst2), method='trf')\n",
            "<ipython-input-37-9ee059636719>:6: OptimizeWarning: Covariance of the parameters could not be estimated\n",
            "  popt, pcov = curve_fit(f2, date, T, param, bounds=(lst1, lst2), method='trf')\n"
          ]
        },
        {
          "output_type": "stream",
          "name": "stdout",
          "text": [
            "R^2 score: 0.7990380858599488\n",
            "Максимальная абсолютная ошибка: 42.35293028046878\n",
            "Средняя абсолютная ошибка: 13.185063520643267\n"
          ]
        },
        {
          "output_type": "stream",
          "name": "stderr",
          "text": [
            "<ipython-input-37-9ee059636719>:6: OptimizeWarning: Covariance of the parameters could not be estimated\n",
            "  popt, pcov = curve_fit(f2, date, T, param, bounds=(lst1, lst2), method='trf')\n"
          ]
        },
        {
          "output_type": "stream",
          "name": "stdout",
          "text": [
            "Ошибка при выполнении curve_fit: Optimal parameters not found: The maximum number of function evaluations is exceeded.. Используем параметры по умолчанию.\n"
          ]
        },
        {
          "output_type": "stream",
          "name": "stderr",
          "text": [
            "<ipython-input-37-9ee059636719>:6: OptimizeWarning: Covariance of the parameters could not be estimated\n",
            "  popt, pcov = curve_fit(f2, date, T, param, bounds=(lst1, lst2), method='trf')\n",
            "<ipython-input-37-9ee059636719>:6: OptimizeWarning: Covariance of the parameters could not be estimated\n",
            "  popt, pcov = curve_fit(f2, date, T, param, bounds=(lst1, lst2), method='trf')\n"
          ]
        },
        {
          "output_type": "stream",
          "name": "stdout",
          "text": [
            "R^2 score: 0.8086685990314852\n",
            "Максимальная абсолютная ошибка: 41.87625968290223\n",
            "Средняя абсолютная ошибка: 12.62600035602175\n"
          ]
        },
        {
          "output_type": "stream",
          "name": "stderr",
          "text": [
            "<ipython-input-37-9ee059636719>:6: OptimizeWarning: Covariance of the parameters could not be estimated\n",
            "  popt, pcov = curve_fit(f2, date, T, param, bounds=(lst1, lst2), method='trf')\n"
          ]
        },
        {
          "output_type": "stream",
          "name": "stdout",
          "text": [
            "Ошибка при выполнении curve_fit: Optimal parameters not found: The maximum number of function evaluations is exceeded.. Используем параметры по умолчанию.\n"
          ]
        },
        {
          "output_type": "stream",
          "name": "stderr",
          "text": [
            "<ipython-input-37-9ee059636719>:6: OptimizeWarning: Covariance of the parameters could not be estimated\n",
            "  popt, pcov = curve_fit(f2, date, T, param, bounds=(lst1, lst2), method='trf')\n",
            "<ipython-input-37-9ee059636719>:6: OptimizeWarning: Covariance of the parameters could not be estimated\n",
            "  popt, pcov = curve_fit(f2, date, T, param, bounds=(lst1, lst2), method='trf')\n"
          ]
        },
        {
          "output_type": "stream",
          "name": "stdout",
          "text": [
            "R^2 score: 0.8134876026663693\n",
            "Максимальная абсолютная ошибка: 41.87625968290223\n",
            "Средняя абсолютная ошибка: 12.529352689680076\n"
          ]
        },
        {
          "output_type": "stream",
          "name": "stderr",
          "text": [
            "<ipython-input-37-9ee059636719>:6: OptimizeWarning: Covariance of the parameters could not be estimated\n",
            "  popt, pcov = curve_fit(f2, date, T, param, bounds=(lst1, lst2), method='trf')\n"
          ]
        },
        {
          "output_type": "stream",
          "name": "stdout",
          "text": [
            "Ошибка при выполнении curve_fit: Optimal parameters not found: The maximum number of function evaluations is exceeded.. Используем параметры по умолчанию.\n"
          ]
        },
        {
          "output_type": "stream",
          "name": "stderr",
          "text": [
            "<ipython-input-37-9ee059636719>:6: OptimizeWarning: Covariance of the parameters could not be estimated\n",
            "  popt, pcov = curve_fit(f2, date, T, param, bounds=(lst1, lst2), method='trf')\n",
            "<ipython-input-37-9ee059636719>:6: OptimizeWarning: Covariance of the parameters could not be estimated\n",
            "  popt, pcov = curve_fit(f2, date, T, param, bounds=(lst1, lst2), method='trf')\n"
          ]
        },
        {
          "output_type": "stream",
          "name": "stdout",
          "text": [
            "R^2 score: 0.8143654208756042\n",
            "Максимальная абсолютная ошибка: 41.254842879069415\n",
            "Средняя абсолютная ошибка: 12.846143577002488\n"
          ]
        },
        {
          "output_type": "stream",
          "name": "stderr",
          "text": [
            "<ipython-input-37-9ee059636719>:6: OptimizeWarning: Covariance of the parameters could not be estimated\n",
            "  popt, pcov = curve_fit(f2, date, T, param, bounds=(lst1, lst2), method='trf')\n",
            "<ipython-input-37-9ee059636719>:6: OptimizeWarning: Covariance of the parameters could not be estimated\n",
            "  popt, pcov = curve_fit(f2, date, T, param, bounds=(lst1, lst2), method='trf')\n",
            "<ipython-input-37-9ee059636719>:6: OptimizeWarning: Covariance of the parameters could not be estimated\n",
            "  popt, pcov = curve_fit(f2, date, T, param, bounds=(lst1, lst2), method='trf')\n",
            "<ipython-input-37-9ee059636719>:6: OptimizeWarning: Covariance of the parameters could not be estimated\n",
            "  popt, pcov = curve_fit(f2, date, T, param, bounds=(lst1, lst2), method='trf')\n",
            "<ipython-input-37-9ee059636719>:6: OptimizeWarning: Covariance of the parameters could not be estimated\n",
            "  popt, pcov = curve_fit(f2, date, T, param, bounds=(lst1, lst2), method='trf')\n"
          ]
        },
        {
          "output_type": "stream",
          "name": "stdout",
          "text": [
            "R^2 score: 0.8108830602631139\n",
            "Максимальная абсолютная ошибка: 41.254842879069415\n",
            "Средняя абсолютная ошибка: 13.337997053196295\n"
          ]
        },
        {
          "output_type": "stream",
          "name": "stderr",
          "text": [
            "<ipython-input-37-9ee059636719>:6: OptimizeWarning: Covariance of the parameters could not be estimated\n",
            "  popt, pcov = curve_fit(f2, date, T, param, bounds=(lst1, lst2), method='trf')\n",
            "<ipython-input-37-9ee059636719>:6: OptimizeWarning: Covariance of the parameters could not be estimated\n",
            "  popt, pcov = curve_fit(f2, date, T, param, bounds=(lst1, lst2), method='trf')\n",
            "<ipython-input-37-9ee059636719>:6: OptimizeWarning: Covariance of the parameters could not be estimated\n",
            "  popt, pcov = curve_fit(f2, date, T, param, bounds=(lst1, lst2), method='trf')\n",
            "<ipython-input-37-9ee059636719>:6: OptimizeWarning: Covariance of the parameters could not be estimated\n",
            "  popt, pcov = curve_fit(f2, date, T, param, bounds=(lst1, lst2), method='trf')\n",
            "<ipython-input-37-9ee059636719>:6: OptimizeWarning: Covariance of the parameters could not be estimated\n",
            "  popt, pcov = curve_fit(f2, date, T, param, bounds=(lst1, lst2), method='trf')\n"
          ]
        },
        {
          "output_type": "stream",
          "name": "stdout",
          "text": [
            "R^2 score: 0.8255987486239392\n",
            "Максимальная абсолютная ошибка: 41.254842879069415\n",
            "Средняя абсолютная ошибка: 12.71357164447717\n"
          ]
        },
        {
          "output_type": "stream",
          "name": "stderr",
          "text": [
            "<ipython-input-37-9ee059636719>:6: OptimizeWarning: Covariance of the parameters could not be estimated\n",
            "  popt, pcov = curve_fit(f2, date, T, param, bounds=(lst1, lst2), method='trf')\n",
            "<ipython-input-37-9ee059636719>:6: OptimizeWarning: Covariance of the parameters could not be estimated\n",
            "  popt, pcov = curve_fit(f2, date, T, param, bounds=(lst1, lst2), method='trf')\n",
            "<ipython-input-37-9ee059636719>:6: OptimizeWarning: Covariance of the parameters could not be estimated\n",
            "  popt, pcov = curve_fit(f2, date, T, param, bounds=(lst1, lst2), method='trf')\n",
            "<ipython-input-37-9ee059636719>:6: OptimizeWarning: Covariance of the parameters could not be estimated\n",
            "  popt, pcov = curve_fit(f2, date, T, param, bounds=(lst1, lst2), method='trf')\n",
            "<ipython-input-37-9ee059636719>:6: OptimizeWarning: Covariance of the parameters could not be estimated\n",
            "  popt, pcov = curve_fit(f2, date, T, param, bounds=(lst1, lst2), method='trf')\n"
          ]
        },
        {
          "output_type": "stream",
          "name": "stdout",
          "text": [
            "R^2 score: 0.7821999477138095\n",
            "Максимальная абсолютная ошибка: 47.980558654504335\n",
            "Средняя абсолютная ошибка: 13.915151645037056\n"
          ]
        },
        {
          "output_type": "stream",
          "name": "stderr",
          "text": [
            "<ipython-input-37-9ee059636719>:6: OptimizeWarning: Covariance of the parameters could not be estimated\n",
            "  popt, pcov = curve_fit(f2, date, T, param, bounds=(lst1, lst2), method='trf')\n",
            "<ipython-input-37-9ee059636719>:6: OptimizeWarning: Covariance of the parameters could not be estimated\n",
            "  popt, pcov = curve_fit(f2, date, T, param, bounds=(lst1, lst2), method='trf')\n",
            "<ipython-input-37-9ee059636719>:6: OptimizeWarning: Covariance of the parameters could not be estimated\n",
            "  popt, pcov = curve_fit(f2, date, T, param, bounds=(lst1, lst2), method='trf')\n",
            "<ipython-input-37-9ee059636719>:6: OptimizeWarning: Covariance of the parameters could not be estimated\n",
            "  popt, pcov = curve_fit(f2, date, T, param, bounds=(lst1, lst2), method='trf')\n",
            "<ipython-input-37-9ee059636719>:6: OptimizeWarning: Covariance of the parameters could not be estimated\n",
            "  popt, pcov = curve_fit(f2, date, T, param, bounds=(lst1, lst2), method='trf')\n"
          ]
        },
        {
          "output_type": "stream",
          "name": "stdout",
          "text": [
            "R^2 score: 0.7823719320891368\n",
            "Максимальная абсолютная ошибка: 47.980558654504335\n",
            "Средняя абсолютная ошибка: 13.868833249457412\n"
          ]
        },
        {
          "output_type": "stream",
          "name": "stderr",
          "text": [
            "<ipython-input-37-9ee059636719>:6: OptimizeWarning: Covariance of the parameters could not be estimated\n",
            "  popt, pcov = curve_fit(f2, date, T, param, bounds=(lst1, lst2), method='trf')\n",
            "<ipython-input-37-9ee059636719>:6: OptimizeWarning: Covariance of the parameters could not be estimated\n",
            "  popt, pcov = curve_fit(f2, date, T, param, bounds=(lst1, lst2), method='trf')\n",
            "<ipython-input-37-9ee059636719>:6: OptimizeWarning: Covariance of the parameters could not be estimated\n",
            "  popt, pcov = curve_fit(f2, date, T, param, bounds=(lst1, lst2), method='trf')\n",
            "<ipython-input-37-9ee059636719>:6: OptimizeWarning: Covariance of the parameters could not be estimated\n",
            "  popt, pcov = curve_fit(f2, date, T, param, bounds=(lst1, lst2), method='trf')\n",
            "<ipython-input-37-9ee059636719>:6: OptimizeWarning: Covariance of the parameters could not be estimated\n",
            "  popt, pcov = curve_fit(f2, date, T, param, bounds=(lst1, lst2), method='trf')\n"
          ]
        },
        {
          "output_type": "stream",
          "name": "stdout",
          "text": [
            "R^2 score: 0.7889852423000477\n",
            "Максимальная абсолютная ошибка: 47.980558654504335\n",
            "Средняя абсолютная ошибка: 13.749290252131127\n"
          ]
        },
        {
          "output_type": "stream",
          "name": "stderr",
          "text": [
            "<ipython-input-37-9ee059636719>:6: OptimizeWarning: Covariance of the parameters could not be estimated\n",
            "  popt, pcov = curve_fit(f2, date, T, param, bounds=(lst1, lst2), method='trf')\n",
            "<ipython-input-37-9ee059636719>:6: OptimizeWarning: Covariance of the parameters could not be estimated\n",
            "  popt, pcov = curve_fit(f2, date, T, param, bounds=(lst1, lst2), method='trf')\n"
          ]
        },
        {
          "output_type": "stream",
          "name": "stdout",
          "text": [
            "R^2 score: 0.8578001270737144\n",
            "Максимальная абсолютная ошибка: 43.00097829511233\n",
            "Средняя абсолютная ошибка: 11.70600293917642\n"
          ]
        },
        {
          "output_type": "stream",
          "name": "stderr",
          "text": [
            "<ipython-input-37-9ee059636719>:6: OptimizeWarning: Covariance of the parameters could not be estimated\n",
            "  popt, pcov = curve_fit(f2, date, T, param, bounds=(lst1, lst2), method='trf')\n",
            "<ipython-input-37-9ee059636719>:6: OptimizeWarning: Covariance of the parameters could not be estimated\n",
            "  popt, pcov = curve_fit(f2, date, T, param, bounds=(lst1, lst2), method='trf')\n"
          ]
        },
        {
          "output_type": "stream",
          "name": "stdout",
          "text": [
            "R^2 score: 0.8547355361334311\n",
            "Максимальная абсолютная ошибка: 42.62855224304387\n",
            "Средняя абсолютная ошибка: 11.528070271421436\n"
          ]
        },
        {
          "output_type": "stream",
          "name": "stderr",
          "text": [
            "<ipython-input-37-9ee059636719>:6: OptimizeWarning: Covariance of the parameters could not be estimated\n",
            "  popt, pcov = curve_fit(f2, date, T, param, bounds=(lst1, lst2), method='trf')\n",
            "<ipython-input-37-9ee059636719>:6: OptimizeWarning: Covariance of the parameters could not be estimated\n",
            "  popt, pcov = curve_fit(f2, date, T, param, bounds=(lst1, lst2), method='trf')\n"
          ]
        },
        {
          "output_type": "stream",
          "name": "stdout",
          "text": [
            "R^2 score: 0.8580064218707462\n",
            "Максимальная абсолютная ошибка: 42.62855224304387\n",
            "Средняя абсолютная ошибка: 11.544865937743026\n"
          ]
        },
        {
          "output_type": "stream",
          "name": "stderr",
          "text": [
            "<ipython-input-37-9ee059636719>:6: OptimizeWarning: Covariance of the parameters could not be estimated\n",
            "  popt, pcov = curve_fit(f2, date, T, param, bounds=(lst1, lst2), method='trf')\n",
            "<ipython-input-37-9ee059636719>:6: OptimizeWarning: Covariance of the parameters could not be estimated\n",
            "  popt, pcov = curve_fit(f2, date, T, param, bounds=(lst1, lst2), method='trf')\n"
          ]
        },
        {
          "output_type": "stream",
          "name": "stdout",
          "text": [
            "R^2 score: 0.8611433770849842\n",
            "Максимальная абсолютная ошибка: 42.126397984037965\n",
            "Средняя абсолютная ошибка: 11.184070093992494\n"
          ]
        },
        {
          "output_type": "stream",
          "name": "stderr",
          "text": [
            "<ipython-input-37-9ee059636719>:6: OptimizeWarning: Covariance of the parameters could not be estimated\n",
            "  popt, pcov = curve_fit(f2, date, T, param, bounds=(lst1, lst2), method='trf')\n",
            "<ipython-input-37-9ee059636719>:6: OptimizeWarning: Covariance of the parameters could not be estimated\n",
            "  popt, pcov = curve_fit(f2, date, T, param, bounds=(lst1, lst2), method='trf')\n"
          ]
        },
        {
          "output_type": "stream",
          "name": "stdout",
          "text": [
            "R^2 score: 0.8192687560123284\n",
            "Максимальная абсолютная ошибка: 52.35280351595439\n",
            "Средняя абсолютная ошибка: 12.031713682750228\n"
          ]
        },
        {
          "output_type": "stream",
          "name": "stderr",
          "text": [
            "<ipython-input-37-9ee059636719>:6: OptimizeWarning: Covariance of the parameters could not be estimated\n",
            "  popt, pcov = curve_fit(f2, date, T, param, bounds=(lst1, lst2), method='trf')\n",
            "<ipython-input-37-9ee059636719>:6: OptimizeWarning: Covariance of the parameters could not be estimated\n",
            "  popt, pcov = curve_fit(f2, date, T, param, bounds=(lst1, lst2), method='trf')\n"
          ]
        },
        {
          "output_type": "stream",
          "name": "stdout",
          "text": [
            "R^2 score: 0.8186832369703487\n",
            "Максимальная абсолютная ошибка: 52.35280351595439\n",
            "Средняя абсолютная ошибка: 12.057146281024385\n"
          ]
        },
        {
          "output_type": "stream",
          "name": "stderr",
          "text": [
            "<ipython-input-37-9ee059636719>:6: OptimizeWarning: Covariance of the parameters could not be estimated\n",
            "  popt, pcov = curve_fit(f2, date, T, param, bounds=(lst1, lst2), method='trf')\n",
            "<ipython-input-37-9ee059636719>:6: OptimizeWarning: Covariance of the parameters could not be estimated\n",
            "  popt, pcov = curve_fit(f2, date, T, param, bounds=(lst1, lst2), method='trf')\n"
          ]
        },
        {
          "output_type": "stream",
          "name": "stdout",
          "text": [
            "R^2 score: 0.8371408980393713\n",
            "Максимальная абсолютная ошибка: 52.35280351595439\n",
            "Средняя абсолютная ошибка: 11.009120550771359\n"
          ]
        },
        {
          "output_type": "stream",
          "name": "stderr",
          "text": [
            "<ipython-input-37-9ee059636719>:6: OptimizeWarning: Covariance of the parameters could not be estimated\n",
            "  popt, pcov = curve_fit(f2, date, T, param, bounds=(lst1, lst2), method='trf')\n",
            "<ipython-input-37-9ee059636719>:6: OptimizeWarning: Covariance of the parameters could not be estimated\n",
            "  popt, pcov = curve_fit(f2, date, T, param, bounds=(lst1, lst2), method='trf')\n"
          ]
        },
        {
          "output_type": "stream",
          "name": "stdout",
          "text": [
            "R^2 score: 0.8373405708324938\n",
            "Максимальная абсолютная ошибка: 52.35280351595439\n",
            "Средняя абсолютная ошибка: 10.97134938811967\n"
          ]
        },
        {
          "output_type": "stream",
          "name": "stderr",
          "text": [
            "<ipython-input-37-9ee059636719>:6: OptimizeWarning: Covariance of the parameters could not be estimated\n",
            "  popt, pcov = curve_fit(f2, date, T, param, bounds=(lst1, lst2), method='trf')\n",
            "<ipython-input-37-9ee059636719>:6: OptimizeWarning: Covariance of the parameters could not be estimated\n",
            "  popt, pcov = curve_fit(f2, date, T, param, bounds=(lst1, lst2), method='trf')\n"
          ]
        },
        {
          "output_type": "stream",
          "name": "stdout",
          "text": [
            "R^2 score: 0.8124812998484021\n",
            "Максимальная абсолютная ошибка: 52.35280351595439\n",
            "Средняя абсолютная ошибка: 11.88914753856003\n"
          ]
        },
        {
          "output_type": "stream",
          "name": "stderr",
          "text": [
            "<ipython-input-37-9ee059636719>:6: OptimizeWarning: Covariance of the parameters could not be estimated\n",
            "  popt, pcov = curve_fit(f2, date, T, param, bounds=(lst1, lst2), method='trf')\n"
          ]
        },
        {
          "output_type": "stream",
          "name": "stdout",
          "text": [
            "R^2 score: 0.8263111969698792\n",
            "Максимальная абсолютная ошибка: 43.113312713844564\n",
            "Средняя абсолютная ошибка: 12.677952793403025\n"
          ]
        },
        {
          "output_type": "stream",
          "name": "stderr",
          "text": [
            "<ipython-input-37-9ee059636719>:6: OptimizeWarning: Covariance of the parameters could not be estimated\n",
            "  popt, pcov = curve_fit(f2, date, T, param, bounds=(lst1, lst2), method='trf')\n"
          ]
        },
        {
          "output_type": "stream",
          "name": "stdout",
          "text": [
            "R^2 score: 0.8355437066245603\n",
            "Максимальная абсолютная ошибка: 42.79178339475756\n",
            "Средняя абсолютная ошибка: 12.050034375773706\n"
          ]
        },
        {
          "output_type": "stream",
          "name": "stderr",
          "text": [
            "<ipython-input-37-9ee059636719>:6: OptimizeWarning: Covariance of the parameters could not be estimated\n",
            "  popt, pcov = curve_fit(f2, date, T, param, bounds=(lst1, lst2), method='trf')\n"
          ]
        },
        {
          "output_type": "stream",
          "name": "stdout",
          "text": [
            "R^2 score: 0.8384991810689818\n",
            "Максимальная абсолютная ошибка: 42.79178339475756\n",
            "Средняя абсолютная ошибка: 11.949063352843618\n"
          ]
        },
        {
          "output_type": "stream",
          "name": "stderr",
          "text": [
            "<ipython-input-37-9ee059636719>:6: OptimizeWarning: Covariance of the parameters could not be estimated\n",
            "  popt, pcov = curve_fit(f2, date, T, param, bounds=(lst1, lst2), method='trf')\n"
          ]
        },
        {
          "output_type": "stream",
          "name": "stdout",
          "text": [
            "R^2 score: 0.8411254913732232\n",
            "Максимальная абсолютная ошибка: 42.345779008252606\n",
            "Средняя абсолютная ошибка: 11.66328251150251\n"
          ]
        },
        {
          "output_type": "stream",
          "name": "stderr",
          "text": [
            "<ipython-input-37-9ee059636719>:6: OptimizeWarning: Covariance of the parameters could not be estimated\n",
            "  popt, pcov = curve_fit(f2, date, T, param, bounds=(lst1, lst2), method='trf')\n",
            "<ipython-input-37-9ee059636719>:6: OptimizeWarning: Covariance of the parameters could not be estimated\n",
            "  popt, pcov = curve_fit(f2, date, T, param, bounds=(lst1, lst2), method='trf')\n"
          ]
        },
        {
          "output_type": "stream",
          "name": "stdout",
          "text": [
            "R^2 score: 0.8035667880524305\n",
            "Максимальная абсолютная ошибка: 53.842995453759045\n",
            "Средняя абсолютная ошибка: 12.317348990882545\n"
          ]
        },
        {
          "output_type": "stream",
          "name": "stderr",
          "text": [
            "<ipython-input-37-9ee059636719>:6: OptimizeWarning: Covariance of the parameters could not be estimated\n",
            "  popt, pcov = curve_fit(f2, date, T, param, bounds=(lst1, lst2), method='trf')\n",
            "<ipython-input-37-9ee059636719>:6: OptimizeWarning: Covariance of the parameters could not be estimated\n",
            "  popt, pcov = curve_fit(f2, date, T, param, bounds=(lst1, lst2), method='trf')\n"
          ]
        },
        {
          "output_type": "stream",
          "name": "stdout",
          "text": [
            "R^2 score: 0.7975980536052194\n",
            "Максимальная абсолютная ошибка: 53.842995453759045\n",
            "Средняя абсолютная ошибка: 12.615703798222102\n"
          ]
        },
        {
          "output_type": "stream",
          "name": "stderr",
          "text": [
            "<ipython-input-37-9ee059636719>:6: OptimizeWarning: Covariance of the parameters could not be estimated\n",
            "  popt, pcov = curve_fit(f2, date, T, param, bounds=(lst1, lst2), method='trf')\n",
            "<ipython-input-37-9ee059636719>:6: OptimizeWarning: Covariance of the parameters could not be estimated\n",
            "  popt, pcov = curve_fit(f2, date, T, param, bounds=(lst1, lst2), method='trf')\n"
          ]
        },
        {
          "output_type": "stream",
          "name": "stdout",
          "text": [
            "R^2 score: 0.8058464171870809\n",
            "Максимальная абсолютная ошибка: 53.842995453759045\n",
            "Средняя абсолютная ошибка: 12.066141988927045\n"
          ]
        },
        {
          "output_type": "stream",
          "name": "stderr",
          "text": [
            "<ipython-input-37-9ee059636719>:6: OptimizeWarning: Covariance of the parameters could not be estimated\n",
            "  popt, pcov = curve_fit(f2, date, T, param, bounds=(lst1, lst2), method='trf')\n",
            "<ipython-input-37-9ee059636719>:6: OptimizeWarning: Covariance of the parameters could not be estimated\n",
            "  popt, pcov = curve_fit(f2, date, T, param, bounds=(lst1, lst2), method='trf')\n"
          ]
        },
        {
          "output_type": "stream",
          "name": "stdout",
          "text": [
            "R^2 score: 0.8060392108703094\n",
            "Максимальная абсолютная ошибка: 53.842995453759045\n",
            "Средняя абсолютная ошибка: 12.03104854886292\n"
          ]
        },
        {
          "output_type": "stream",
          "name": "stderr",
          "text": [
            "<ipython-input-37-9ee059636719>:6: OptimizeWarning: Covariance of the parameters could not be estimated\n",
            "  popt, pcov = curve_fit(f2, date, T, param, bounds=(lst1, lst2), method='trf')\n",
            "<ipython-input-37-9ee059636719>:6: OptimizeWarning: Covariance of the parameters could not be estimated\n",
            "  popt, pcov = curve_fit(f2, date, T, param, bounds=(lst1, lst2), method='trf')\n"
          ]
        },
        {
          "output_type": "stream",
          "name": "stdout",
          "text": [
            "R^2 score: 0.7979159051128882\n",
            "Максимальная абсолютная ошибка: 53.842995453759045\n",
            "Средняя абсолютная ошибка: 12.778950262527053\n"
          ]
        },
        {
          "output_type": "stream",
          "name": "stderr",
          "text": [
            "<ipython-input-37-9ee059636719>:6: OptimizeWarning: Covariance of the parameters could not be estimated\n",
            "  popt, pcov = curve_fit(f2, date, T, param, bounds=(lst1, lst2), method='trf')\n"
          ]
        },
        {
          "output_type": "stream",
          "name": "stdout",
          "text": [
            "R^2 score: 0.8302143591909176\n",
            "Максимальная абсолютная ошибка: 43.13883044164312\n",
            "Средняя абсолютная ошибка: 11.969575990673158\n"
          ]
        },
        {
          "output_type": "stream",
          "name": "stderr",
          "text": [
            "<ipython-input-37-9ee059636719>:6: OptimizeWarning: Covariance of the parameters could not be estimated\n",
            "  popt, pcov = curve_fit(f2, date, T, param, bounds=(lst1, lst2), method='trf')\n"
          ]
        },
        {
          "output_type": "stream",
          "name": "stdout",
          "text": [
            "R^2 score: 0.8320356430911505\n",
            "Максимальная абсолютная ошибка: 42.877965204721306\n",
            "Средняя абсолютная ошибка: 11.645918611592537\n"
          ]
        },
        {
          "output_type": "stream",
          "name": "stderr",
          "text": [
            "<ipython-input-37-9ee059636719>:6: OptimizeWarning: Covariance of the parameters could not be estimated\n",
            "  popt, pcov = curve_fit(f2, date, T, param, bounds=(lst1, lst2), method='trf')\n"
          ]
        },
        {
          "output_type": "stream",
          "name": "stdout",
          "text": [
            "R^2 score: 0.8343525820437276\n",
            "Максимальная абсолютная ошибка: 42.877965204721306\n",
            "Средняя абсолютная ошибка: 11.464118521038875\n"
          ]
        },
        {
          "output_type": "stream",
          "name": "stderr",
          "text": [
            "<ipython-input-37-9ee059636719>:6: OptimizeWarning: Covariance of the parameters could not be estimated\n",
            "  popt, pcov = curve_fit(f2, date, T, param, bounds=(lst1, lst2), method='trf')\n"
          ]
        },
        {
          "output_type": "stream",
          "name": "stdout",
          "text": [
            "R^2 score: 0.8362713963476277\n",
            "Максимальная абсолютная ошибка: 42.49955700645326\n",
            "Средняя абсолютная ошибка: 11.269051348265315\n"
          ]
        },
        {
          "output_type": "stream",
          "name": "stderr",
          "text": [
            "<ipython-input-37-9ee059636719>:6: OptimizeWarning: Covariance of the parameters could not be estimated\n",
            "  popt, pcov = curve_fit(f2, date, T, param, bounds=(lst1, lst2), method='trf')\n"
          ]
        },
        {
          "output_type": "stream",
          "name": "stdout",
          "text": [
            "R^2 score: 0.803439919150027\n",
            "Максимальная абсолютная ошибка: 53.952094048821905\n",
            "Средняя абсолютная ошибка: 11.786475616045655\n"
          ]
        },
        {
          "output_type": "stream",
          "name": "stderr",
          "text": [
            "<ipython-input-37-9ee059636719>:6: OptimizeWarning: Covariance of the parameters could not be estimated\n",
            "  popt, pcov = curve_fit(f2, date, T, param, bounds=(lst1, lst2), method='trf')\n"
          ]
        },
        {
          "output_type": "stream",
          "name": "stdout",
          "text": [
            "R^2 score: 0.7952722219504155\n",
            "Максимальная абсолютная ошибка: 53.952094048821905\n",
            "Средняя абсолютная ошибка: 12.200622364841024\n"
          ]
        },
        {
          "output_type": "stream",
          "name": "stderr",
          "text": [
            "<ipython-input-37-9ee059636719>:6: OptimizeWarning: Covariance of the parameters could not be estimated\n",
            "  popt, pcov = curve_fit(f2, date, T, param, bounds=(lst1, lst2), method='trf')\n"
          ]
        },
        {
          "output_type": "stream",
          "name": "stdout",
          "text": [
            "R^2 score: 0.7986833671261973\n",
            "Максимальная абсолютная ошибка: 53.952094048821905\n",
            "Средняя абсолютная ошибка: 11.9873320279643\n"
          ]
        },
        {
          "output_type": "stream",
          "name": "stderr",
          "text": [
            "<ipython-input-37-9ee059636719>:6: OptimizeWarning: Covariance of the parameters could not be estimated\n",
            "  popt, pcov = curve_fit(f2, date, T, param, bounds=(lst1, lst2), method='trf')\n"
          ]
        },
        {
          "output_type": "stream",
          "name": "stdout",
          "text": [
            "R^2 score: 0.7988622891197833\n",
            "Максимальная абсолютная ошибка: 53.952094048821905\n",
            "Средняя абсолютная ошибка: 11.954753923602398\n"
          ]
        },
        {
          "output_type": "stream",
          "name": "stderr",
          "text": [
            "<ipython-input-37-9ee059636719>:6: OptimizeWarning: Covariance of the parameters could not be estimated\n",
            "  popt, pcov = curve_fit(f2, date, T, param, bounds=(lst1, lst2), method='trf')\n"
          ]
        },
        {
          "output_type": "stream",
          "name": "stdout",
          "text": [
            "R^2 score: 0.7989078051065384\n",
            "Максимальная абсолютная ошибка: 53.952094048821905\n",
            "Средняя абсолютная ошибка: 12.269875912740117\n",
            "R^2 score: 0.8781479245036039\n",
            "Максимальная абсолютная ошибка: 42.85041967262363\n",
            "Средняя абсолютная ошибка: 9.607567538472304\n",
            "R^2 score: 0.8738854934432215\n",
            "Максимальная абсолютная ошибка: 42.85041967262363\n",
            "Средняя абсолютная ошибка: 9.733582656084254\n",
            "R^2 score: 0.8687427098505577\n",
            "Максимальная абсолютная ошибка: 42.85041967262363\n",
            "Средняя абсолютная ошибка: 9.920530458919137\n",
            "R^2 score: 0.8626513445944863\n",
            "Максимальная абсолютная ошибка: 42.85041967262363\n",
            "Средняя абсолютная ошибка: 10.034049434562258\n",
            "R^2 score: 0.8965093949930591\n",
            "Максимальная абсолютная ошибка: 41.72586716358727\n",
            "Средняя абсолютная ошибка: 9.07813134400994\n",
            "R^2 score: 0.8947164014959548\n",
            "Максимальная абсолютная ошибка: 41.72586716358727\n",
            "Средняя абсолютная ошибка: 9.175606985469651\n",
            "R^2 score: 0.8945483302244805\n",
            "Максимальная абсолютная ошибка: 41.72586716358727\n",
            "Средняя абсолютная ошибка: 9.180300427367902\n",
            "R^2 score: 0.8946929612477998\n",
            "Максимальная абсолютная ошибка: 41.72586716358727\n",
            "Средняя абсолютная ошибка: 9.152594211539851\n",
            "R^2 score: 0.8885753710912973\n",
            "Максимальная абсолютная ошибка: 41.72586716358727\n",
            "Средняя абсолютная ошибка: 9.605028850525336\n",
            "R^2 score: 0.9019984953466871\n",
            "Максимальная абсолютная ошибка: 42.80615701177639\n",
            "Средняя абсолютная ошибка: 8.931911897958981\n",
            "R^2 score: 0.898412336831388\n",
            "Максимальная абсолютная ошибка: 42.80615701177639\n",
            "Средняя абсолютная ошибка: 8.996522304554253\n",
            "R^2 score: 0.8966269461885137\n",
            "Максимальная абсолютная ошибка: 42.80615701177639\n",
            "Средняя абсолютная ошибка: 8.98874241948013\n",
            "R^2 score: 0.8924088647347423\n",
            "Максимальная абсолютная ошибка: 42.80615701177639\n",
            "Средняя абсолютная ошибка: 9.07850802848369\n",
            "R^2 score: 0.9093216525808212\n",
            "Максимальная абсолютная ошибка: 33.44810863748312\n",
            "Средняя абсолютная ошибка: 8.70816689897333\n",
            "R^2 score: 0.9077849034123551\n",
            "Максимальная абсолютная ошибка: 33.44810863748312\n",
            "Средняя абсолютная ошибка: 8.773597770515694\n",
            "R^2 score: 0.907442178325414\n",
            "Максимальная абсолютная ошибка: 33.44810863748312\n",
            "Средняя абсолютная ошибка: 8.772950055789707\n",
            "R^2 score: 0.9075665534018496\n",
            "Максимальная абсолютная ошибка: 33.44810863748312\n",
            "Средняя абсолютная ошибка: 8.747529783045541\n",
            "R^2 score: 0.8992414392111451\n",
            "Максимальная абсолютная ошибка: 33.44810863748312\n",
            "Средняя абсолютная ошибка: 9.253259423247423\n",
            "R^2 score: 0.9437047288353466\n",
            "Максимальная абсолютная ошибка: 25.562200294184933\n",
            "Средняя абсолютная ошибка: 7.356995985670288\n",
            "R^2 score: 0.9416845525424088\n",
            "Максимальная абсолютная ошибка: 25.562200294184933\n",
            "Средняя абсолютная ошибка: 7.418735129930545\n",
            "R^2 score: 0.9410766277292493\n",
            "Максимальная абсолютная ошибка: 25.562200294184933\n",
            "Средняя абсолютная ошибка: 7.368874774680553\n",
            "R^2 score: 0.9386436938484009\n",
            "Максимальная абсолютная ошибка: 25.562200294184933\n",
            "Средняя абсолютная ошибка: 7.436101627048537\n",
            "R^2 score: 0.5102405783141862\n",
            "Максимальная абсолютная ошибка: 137.83531532299355\n",
            "Средняя абсолютная ошибка: 12.118360351104739\n",
            "R^2 score: 0.5095044406825658\n",
            "Максимальная абсолютная ошибка: 137.83531532299355\n",
            "Средняя абсолютная ошибка: 12.148165916135008\n",
            "R^2 score: 0.5099038204583728\n",
            "Максимальная абсолютная ошибка: 137.83531532299355\n",
            "Средняя абсолютная ошибка: 12.090187803676857\n",
            "R^2 score: 0.5099642866678789\n",
            "Максимальная абсолютная ошибка: 137.83531532299355\n",
            "Средняя абсолютная ошибка: 12.078188177790347\n",
            "R^2 score: 0.5071253706543046\n",
            "Максимальная абсолютная ошибка: 137.83531532299355\n",
            "Средняя абсолютная ошибка: 12.313147954038648\n",
            "R^2 score: 0.9568839209425961\n",
            "Максимальная абсолютная ошибка: 26.594396770912653\n",
            "Средняя абсолютная ошибка: 6.226310532418606\n",
            "R^2 score: 0.9561402880153532\n",
            "Максимальная абсолютная ошибка: 26.594396770912653\n",
            "Средняя абсолютная ошибка: 6.268455376531591\n",
            "R^2 score: 0.9561070935791925\n",
            "Максимальная абсолютная ошибка: 26.594396770912653\n",
            "Средняя абсолютная ошибка: 6.253625357145974\n",
            "R^2 score: 0.9550894252514838\n",
            "Максимальная абсолютная ошибка: 26.594396770912653\n",
            "Средняя абсолютная ошибка: 6.277865394245598\n",
            "R^2 score: 0.9690420793090567\n",
            "Максимальная абсолютная ошибка: 17.972514812262844\n",
            "Средняя абсолютная ошибка: 5.642625748098084\n",
            "R^2 score: 0.9683933125620098\n",
            "Максимальная абсолютная ошибка: 17.972514812262844\n",
            "Средняя абсолютная ошибка: 5.677362172925986\n",
            "R^2 score: 0.9686252468281981\n",
            "Максимальная абсолютная ошибка: 17.972514812262844\n",
            "Средняя абсолютная ошибка: 5.635257205051002\n",
            "R^2 score: 0.9686983551308237\n",
            "Максимальная абсолютная ошибка: 17.972514812262844\n",
            "Средняя абсолютная ошибка: 5.61509146846916\n",
            "R^2 score: 0.9675834844753413\n",
            "Максимальная абсолютная ошибка: 17.972514812262844\n",
            "Средняя абсолютная ошибка: 5.730802828806568\n",
            "R^2 score: 0.9790536625075666\n",
            "Максимальная абсолютная ошибка: 17.69540227663721\n",
            "Средняя абсолютная ошибка: 4.2870530380920115\n",
            "R^2 score: 0.9788718967288754\n",
            "Максимальная абсолютная ошибка: 17.69540227663721\n",
            "Средняя абсолютная ошибка: 4.333473452418345\n",
            "R^2 score: 0.978985870383309\n",
            "Максимальная абсолютная ошибка: 17.69540227663721\n",
            "Средняя абсолютная ошибка: 4.320554304885758\n",
            "R^2 score: 0.9786302485654108\n",
            "Максимальная абсолютная ошибка: 17.69540227663721\n",
            "Средняя абсолютная ошибка: 4.312753052521066\n",
            "R^2 score: 0.9836228605306961\n",
            "Максимальная абсолютная ошибка: 12.057661259148375\n",
            "Средняя абсолютная ошибка: 4.022771115941295\n",
            "R^2 score: 0.9837005685885089\n",
            "Максимальная абсолютная ошибка: 12.057661259148375\n",
            "Средняя абсолютная ошибка: 3.9974972401420956\n",
            "R^2 score: 0.9839022775859607\n",
            "Максимальная абсолютная ошибка: 11.927711738066748\n",
            "Средняя абсолютная ошибка: 3.9728474359794927\n",
            "R^2 score: 0.9839544074757838\n",
            "Максимальная абсолютная ошибка: 11.927711738066748\n",
            "Средняя абсолютная ошибка: 3.9545337362349886\n",
            "R^2 score: 0.9833891872145615\n",
            "Максимальная абсолютная ошибка: 11.927711738066748\n",
            "Средняя абсолютная ошибка: 4.0419956266465915\n"
          ]
        }
      ],
      "source": [
        "results1 = []\n",
        "\n",
        "for I in range(right_bound.shape[0]):\n",
        "    Data_new, Max_new, Min_new = new_Normalize_time(right_bound[I, :], B1)\n",
        "    for J in range(left_bound.shape[0]):\n",
        "        New_new, coeff_new = new_Method(Data_new, right_bound[I, :], left_bound[J, :], 0)\n",
        "\n",
        "        NewN_new = Renormalize(New_new, Max_new, Min_new)\n",
        "        NewN_new[NewN_new < 0] = 0\n",
        "\n",
        "        Ad = pd.DataFrame()\n",
        "        Ad['long'] = pd.Series([i for i in range(1511)])\n",
        "        for i in range(B1.shape[1]):\n",
        "            Ad[df.columns[i+2]] = [NewN_new.iloc[:B1.iloc[:, i].count(), i] for i in range(B1.shape[1])][i]\n",
        "        Ad.drop('long', axis=1, inplace=True)\n",
        "        Ad.drop(Ad.index[0], axis=0, inplace=True)\n",
        "\n",
        "\n",
        "        Q_pred = QQQ(second[1:-1], Ad)\n",
        "        Q_real = QQQ(second[:-1], B1)\n",
        "\n",
        "        pred_Q = np.array([mean_absolute_percentage_error([Q_real.ffill().iloc[-1, i]], [Q_pred.ffill().iloc[-1, i]]) for i in range(B1.shape[1])])\n",
        "\n",
        "        r2 = r2_score(Q_real.ffill().iloc[-1], Q_pred.ffill().iloc[-1])\n",
        "        max_err = max_error(Q_real.ffill().iloc[-1], Q_pred.ffill().iloc[-1])\n",
        "        mae = mean_absolute_error(Q_real.ffill().iloc[-1], Q_pred.ffill().iloc[-1])\n",
        "\n",
        "        # boi_all_real = BOI(Q_realAll)\n",
        "        # boi = BOI(Q_real, k=1)\n",
        "\n",
        "\n",
        "        # # pred = np.round(np.array(MAPE(boi))*100, 3)\n",
        "        # # real_mape = np.round(np.array(MAPE(boi_all_real))*100, 3)\n",
        "\n",
        "        # pred_Q = np.array([mean_absolute_percentage_error([boi_all_real[i]], [boi[i]]) for i in range(57)])\n",
        "\n",
        "        # r2 = r2_score(boi_all_real, boi)\n",
        "        # max_err = max_error(boi_all_real, boi)\n",
        "        # mae = mean_absolute_error(boi_all_real, boi)\n",
        "\n",
        "        # print(real_mape.mean())\n",
        "        # print('newsssss ', pred.mean())\n",
        "        print(\"R^2 score:\", r2)\n",
        "        print(\"Максимальная абсолютная ошибка:\", max_err)\n",
        "        print(\"Средняя абсолютная ошибка:\", mae)\n",
        "        # print(\"Максимальная процентная ошибка:\", pred.max())\n",
        "\n",
        "        results1.append({\n",
        "            'I': I,\n",
        "            'J': J,\n",
        "            'coeff_new': coeff_new.to_dict(orient='records'),  # Преобразуем в список для хранения\n",
        "            #'real_mape_mean': real_mape.mean(),\n",
        "            #'pred_mean': pred.mean(),\n",
        "            'R2_score': r2,\n",
        "            'max_error': max_err,\n",
        "            'mae': mae,\n",
        "            #'max_percentage_error': pred.max(),\n",
        "            'pred_Q': pred_Q.mean(),\n",
        "            'pred_Qmax': pred_Q.max(),\n",
        "        })"
      ]
    },
    {
      "cell_type": "code",
      "source": [
        "B2"
      ],
      "metadata": {
        "colab": {
          "base_uri": "https://localhost:8080/",
          "height": 461
        },
        "id": "CaOOUJOZ5iR3",
        "outputId": "0b389b0c-432e-4de4-bf75-1c0a4aade4a8"
      },
      "execution_count": 61,
      "outputs": [
        {
          "output_type": "execute_result",
          "data": {
            "text/plain": [
              "      A('11-12')  A('11-11')  A('11-20')  A('11-04')  A(11-06')  A('10-28')  \\\n",
              "0         0.0044      0.0016      0.0000      0.0018     0.0003      0.0017   \n",
              "1         0.0006      0.0008      0.0002      0.0008     0.0006      0.0006   \n",
              "2         0.0007      0.0024      0.0562      0.0016     0.0014      0.0010   \n",
              "3         0.0011      0.0039      0.0577      0.0030     0.0030      0.0020   \n",
              "4         0.0017      0.0059      0.0659      0.0056     0.0053      0.0028   \n",
              "...          ...         ...         ...         ...        ...         ...   \n",
              "1506         NaN         NaN         NaN         NaN        NaN         NaN   \n",
              "1507         NaN         NaN         NaN         NaN        NaN         NaN   \n",
              "1508         NaN         NaN         NaN         NaN        NaN         NaN   \n",
              "1509         NaN         NaN         NaN         NaN        NaN         NaN   \n",
              "1510         NaN         NaN         NaN         NaN        NaN         NaN   \n",
              "\n",
              "      A('10-21')  A('11-13')  A('10-24')  A('10-30')  ...  C('11-12')  \\\n",
              "0         0.0017      0.0044      0.0019      0.0104  ...      0.0020   \n",
              "1         0.0009      0.0023      0.0010      0.0025  ...      0.0007   \n",
              "2         0.0012      0.0083      0.0018      0.0032  ...      0.0012   \n",
              "3         0.0014      0.0208      0.0034      0.0087  ...      0.0021   \n",
              "4         0.0017      0.0394      0.0060      0.0162  ...      0.0036   \n",
              "...          ...         ...         ...         ...  ...         ...   \n",
              "1506         NaN         NaN         NaN         NaN  ...         NaN   \n",
              "1507         NaN         NaN         NaN         NaN  ...         NaN   \n",
              "1508         NaN         NaN         NaN         NaN  ...         NaN   \n",
              "1509         NaN         NaN         NaN         NaN  ...         NaN   \n",
              "1510         NaN         NaN         NaN         NaN  ...         NaN   \n",
              "\n",
              "      C('11-11')  C('11-20')  C('11-04')  C(11-06')  C('10-28')  C('10-21')  \\\n",
              "0         0.0013      0.0038      0.0014     0.0013      0.0015      0.0008   \n",
              "1         0.0011      0.0073      0.0019     0.0040      0.0008      0.0004   \n",
              "2         0.0027      0.0161      0.0036     0.0094      0.0014      0.0006   \n",
              "3         0.0050      0.0284      0.0071     0.0176      0.0024      0.0008   \n",
              "4         0.0078      0.0434      0.0125     0.0279      0.0038      0.0011   \n",
              "...          ...         ...         ...        ...         ...         ...   \n",
              "1506         NaN         NaN         NaN        NaN         NaN         NaN   \n",
              "1507         NaN         NaN         NaN        NaN         NaN         NaN   \n",
              "1508         NaN         NaN         NaN        NaN         NaN         NaN   \n",
              "1509         NaN         NaN         NaN        NaN         NaN         NaN   \n",
              "1510         NaN         NaN         NaN        NaN         NaN         NaN   \n",
              "\n",
              "      C('11-13')  C('10-24')  C('10-30')  \n",
              "0         0.0047      0.0009      0.0075  \n",
              "1         0.0091      0.0008      0.0046  \n",
              "2         0.0221      0.0014      0.0025  \n",
              "3         0.0383      0.0024      0.0064  \n",
              "4         0.0562      0.0039      0.0126  \n",
              "...          ...         ...         ...  \n",
              "1506         NaN         NaN         NaN  \n",
              "1507         NaN         NaN         NaN  \n",
              "1508         NaN         NaN         NaN  \n",
              "1509         NaN         NaN         NaN  \n",
              "1510         NaN         NaN         NaN  \n",
              "\n",
              "[1511 rows x 30 columns]"
            ],
            "text/html": [
              "\n",
              "  <div id=\"df-5a297883-400b-4a88-901a-5fea7668d7f1\" class=\"colab-df-container\">\n",
              "    <div>\n",
              "<style scoped>\n",
              "    .dataframe tbody tr th:only-of-type {\n",
              "        vertical-align: middle;\n",
              "    }\n",
              "\n",
              "    .dataframe tbody tr th {\n",
              "        vertical-align: top;\n",
              "    }\n",
              "\n",
              "    .dataframe thead th {\n",
              "        text-align: right;\n",
              "    }\n",
              "</style>\n",
              "<table border=\"1\" class=\"dataframe\">\n",
              "  <thead>\n",
              "    <tr style=\"text-align: right;\">\n",
              "      <th></th>\n",
              "      <th>A('11-12')</th>\n",
              "      <th>A('11-11')</th>\n",
              "      <th>A('11-20')</th>\n",
              "      <th>A('11-04')</th>\n",
              "      <th>A(11-06')</th>\n",
              "      <th>A('10-28')</th>\n",
              "      <th>A('10-21')</th>\n",
              "      <th>A('11-13')</th>\n",
              "      <th>A('10-24')</th>\n",
              "      <th>A('10-30')</th>\n",
              "      <th>...</th>\n",
              "      <th>C('11-12')</th>\n",
              "      <th>C('11-11')</th>\n",
              "      <th>C('11-20')</th>\n",
              "      <th>C('11-04')</th>\n",
              "      <th>C(11-06')</th>\n",
              "      <th>C('10-28')</th>\n",
              "      <th>C('10-21')</th>\n",
              "      <th>C('11-13')</th>\n",
              "      <th>C('10-24')</th>\n",
              "      <th>C('10-30')</th>\n",
              "    </tr>\n",
              "  </thead>\n",
              "  <tbody>\n",
              "    <tr>\n",
              "      <th>0</th>\n",
              "      <td>0.0044</td>\n",
              "      <td>0.0016</td>\n",
              "      <td>0.0000</td>\n",
              "      <td>0.0018</td>\n",
              "      <td>0.0003</td>\n",
              "      <td>0.0017</td>\n",
              "      <td>0.0017</td>\n",
              "      <td>0.0044</td>\n",
              "      <td>0.0019</td>\n",
              "      <td>0.0104</td>\n",
              "      <td>...</td>\n",
              "      <td>0.0020</td>\n",
              "      <td>0.0013</td>\n",
              "      <td>0.0038</td>\n",
              "      <td>0.0014</td>\n",
              "      <td>0.0013</td>\n",
              "      <td>0.0015</td>\n",
              "      <td>0.0008</td>\n",
              "      <td>0.0047</td>\n",
              "      <td>0.0009</td>\n",
              "      <td>0.0075</td>\n",
              "    </tr>\n",
              "    <tr>\n",
              "      <th>1</th>\n",
              "      <td>0.0006</td>\n",
              "      <td>0.0008</td>\n",
              "      <td>0.0002</td>\n",
              "      <td>0.0008</td>\n",
              "      <td>0.0006</td>\n",
              "      <td>0.0006</td>\n",
              "      <td>0.0009</td>\n",
              "      <td>0.0023</td>\n",
              "      <td>0.0010</td>\n",
              "      <td>0.0025</td>\n",
              "      <td>...</td>\n",
              "      <td>0.0007</td>\n",
              "      <td>0.0011</td>\n",
              "      <td>0.0073</td>\n",
              "      <td>0.0019</td>\n",
              "      <td>0.0040</td>\n",
              "      <td>0.0008</td>\n",
              "      <td>0.0004</td>\n",
              "      <td>0.0091</td>\n",
              "      <td>0.0008</td>\n",
              "      <td>0.0046</td>\n",
              "    </tr>\n",
              "    <tr>\n",
              "      <th>2</th>\n",
              "      <td>0.0007</td>\n",
              "      <td>0.0024</td>\n",
              "      <td>0.0562</td>\n",
              "      <td>0.0016</td>\n",
              "      <td>0.0014</td>\n",
              "      <td>0.0010</td>\n",
              "      <td>0.0012</td>\n",
              "      <td>0.0083</td>\n",
              "      <td>0.0018</td>\n",
              "      <td>0.0032</td>\n",
              "      <td>...</td>\n",
              "      <td>0.0012</td>\n",
              "      <td>0.0027</td>\n",
              "      <td>0.0161</td>\n",
              "      <td>0.0036</td>\n",
              "      <td>0.0094</td>\n",
              "      <td>0.0014</td>\n",
              "      <td>0.0006</td>\n",
              "      <td>0.0221</td>\n",
              "      <td>0.0014</td>\n",
              "      <td>0.0025</td>\n",
              "    </tr>\n",
              "    <tr>\n",
              "      <th>3</th>\n",
              "      <td>0.0011</td>\n",
              "      <td>0.0039</td>\n",
              "      <td>0.0577</td>\n",
              "      <td>0.0030</td>\n",
              "      <td>0.0030</td>\n",
              "      <td>0.0020</td>\n",
              "      <td>0.0014</td>\n",
              "      <td>0.0208</td>\n",
              "      <td>0.0034</td>\n",
              "      <td>0.0087</td>\n",
              "      <td>...</td>\n",
              "      <td>0.0021</td>\n",
              "      <td>0.0050</td>\n",
              "      <td>0.0284</td>\n",
              "      <td>0.0071</td>\n",
              "      <td>0.0176</td>\n",
              "      <td>0.0024</td>\n",
              "      <td>0.0008</td>\n",
              "      <td>0.0383</td>\n",
              "      <td>0.0024</td>\n",
              "      <td>0.0064</td>\n",
              "    </tr>\n",
              "    <tr>\n",
              "      <th>4</th>\n",
              "      <td>0.0017</td>\n",
              "      <td>0.0059</td>\n",
              "      <td>0.0659</td>\n",
              "      <td>0.0056</td>\n",
              "      <td>0.0053</td>\n",
              "      <td>0.0028</td>\n",
              "      <td>0.0017</td>\n",
              "      <td>0.0394</td>\n",
              "      <td>0.0060</td>\n",
              "      <td>0.0162</td>\n",
              "      <td>...</td>\n",
              "      <td>0.0036</td>\n",
              "      <td>0.0078</td>\n",
              "      <td>0.0434</td>\n",
              "      <td>0.0125</td>\n",
              "      <td>0.0279</td>\n",
              "      <td>0.0038</td>\n",
              "      <td>0.0011</td>\n",
              "      <td>0.0562</td>\n",
              "      <td>0.0039</td>\n",
              "      <td>0.0126</td>\n",
              "    </tr>\n",
              "    <tr>\n",
              "      <th>...</th>\n",
              "      <td>...</td>\n",
              "      <td>...</td>\n",
              "      <td>...</td>\n",
              "      <td>...</td>\n",
              "      <td>...</td>\n",
              "      <td>...</td>\n",
              "      <td>...</td>\n",
              "      <td>...</td>\n",
              "      <td>...</td>\n",
              "      <td>...</td>\n",
              "      <td>...</td>\n",
              "      <td>...</td>\n",
              "      <td>...</td>\n",
              "      <td>...</td>\n",
              "      <td>...</td>\n",
              "      <td>...</td>\n",
              "      <td>...</td>\n",
              "      <td>...</td>\n",
              "      <td>...</td>\n",
              "      <td>...</td>\n",
              "      <td>...</td>\n",
              "    </tr>\n",
              "    <tr>\n",
              "      <th>1506</th>\n",
              "      <td>NaN</td>\n",
              "      <td>NaN</td>\n",
              "      <td>NaN</td>\n",
              "      <td>NaN</td>\n",
              "      <td>NaN</td>\n",
              "      <td>NaN</td>\n",
              "      <td>NaN</td>\n",
              "      <td>NaN</td>\n",
              "      <td>NaN</td>\n",
              "      <td>NaN</td>\n",
              "      <td>...</td>\n",
              "      <td>NaN</td>\n",
              "      <td>NaN</td>\n",
              "      <td>NaN</td>\n",
              "      <td>NaN</td>\n",
              "      <td>NaN</td>\n",
              "      <td>NaN</td>\n",
              "      <td>NaN</td>\n",
              "      <td>NaN</td>\n",
              "      <td>NaN</td>\n",
              "      <td>NaN</td>\n",
              "    </tr>\n",
              "    <tr>\n",
              "      <th>1507</th>\n",
              "      <td>NaN</td>\n",
              "      <td>NaN</td>\n",
              "      <td>NaN</td>\n",
              "      <td>NaN</td>\n",
              "      <td>NaN</td>\n",
              "      <td>NaN</td>\n",
              "      <td>NaN</td>\n",
              "      <td>NaN</td>\n",
              "      <td>NaN</td>\n",
              "      <td>NaN</td>\n",
              "      <td>...</td>\n",
              "      <td>NaN</td>\n",
              "      <td>NaN</td>\n",
              "      <td>NaN</td>\n",
              "      <td>NaN</td>\n",
              "      <td>NaN</td>\n",
              "      <td>NaN</td>\n",
              "      <td>NaN</td>\n",
              "      <td>NaN</td>\n",
              "      <td>NaN</td>\n",
              "      <td>NaN</td>\n",
              "    </tr>\n",
              "    <tr>\n",
              "      <th>1508</th>\n",
              "      <td>NaN</td>\n",
              "      <td>NaN</td>\n",
              "      <td>NaN</td>\n",
              "      <td>NaN</td>\n",
              "      <td>NaN</td>\n",
              "      <td>NaN</td>\n",
              "      <td>NaN</td>\n",
              "      <td>NaN</td>\n",
              "      <td>NaN</td>\n",
              "      <td>NaN</td>\n",
              "      <td>...</td>\n",
              "      <td>NaN</td>\n",
              "      <td>NaN</td>\n",
              "      <td>NaN</td>\n",
              "      <td>NaN</td>\n",
              "      <td>NaN</td>\n",
              "      <td>NaN</td>\n",
              "      <td>NaN</td>\n",
              "      <td>NaN</td>\n",
              "      <td>NaN</td>\n",
              "      <td>NaN</td>\n",
              "    </tr>\n",
              "    <tr>\n",
              "      <th>1509</th>\n",
              "      <td>NaN</td>\n",
              "      <td>NaN</td>\n",
              "      <td>NaN</td>\n",
              "      <td>NaN</td>\n",
              "      <td>NaN</td>\n",
              "      <td>NaN</td>\n",
              "      <td>NaN</td>\n",
              "      <td>NaN</td>\n",
              "      <td>NaN</td>\n",
              "      <td>NaN</td>\n",
              "      <td>...</td>\n",
              "      <td>NaN</td>\n",
              "      <td>NaN</td>\n",
              "      <td>NaN</td>\n",
              "      <td>NaN</td>\n",
              "      <td>NaN</td>\n",
              "      <td>NaN</td>\n",
              "      <td>NaN</td>\n",
              "      <td>NaN</td>\n",
              "      <td>NaN</td>\n",
              "      <td>NaN</td>\n",
              "    </tr>\n",
              "    <tr>\n",
              "      <th>1510</th>\n",
              "      <td>NaN</td>\n",
              "      <td>NaN</td>\n",
              "      <td>NaN</td>\n",
              "      <td>NaN</td>\n",
              "      <td>NaN</td>\n",
              "      <td>NaN</td>\n",
              "      <td>NaN</td>\n",
              "      <td>NaN</td>\n",
              "      <td>NaN</td>\n",
              "      <td>NaN</td>\n",
              "      <td>...</td>\n",
              "      <td>NaN</td>\n",
              "      <td>NaN</td>\n",
              "      <td>NaN</td>\n",
              "      <td>NaN</td>\n",
              "      <td>NaN</td>\n",
              "      <td>NaN</td>\n",
              "      <td>NaN</td>\n",
              "      <td>NaN</td>\n",
              "      <td>NaN</td>\n",
              "      <td>NaN</td>\n",
              "    </tr>\n",
              "  </tbody>\n",
              "</table>\n",
              "<p>1511 rows × 30 columns</p>\n",
              "</div>\n",
              "    <div class=\"colab-df-buttons\">\n",
              "\n",
              "  <div class=\"colab-df-container\">\n",
              "    <button class=\"colab-df-convert\" onclick=\"convertToInteractive('df-5a297883-400b-4a88-901a-5fea7668d7f1')\"\n",
              "            title=\"Convert this dataframe to an interactive table.\"\n",
              "            style=\"display:none;\">\n",
              "\n",
              "  <svg xmlns=\"http://www.w3.org/2000/svg\" height=\"24px\" viewBox=\"0 -960 960 960\">\n",
              "    <path d=\"M120-120v-720h720v720H120Zm60-500h600v-160H180v160Zm220 220h160v-160H400v160Zm0 220h160v-160H400v160ZM180-400h160v-160H180v160Zm440 0h160v-160H620v160ZM180-180h160v-160H180v160Zm440 0h160v-160H620v160Z\"/>\n",
              "  </svg>\n",
              "    </button>\n",
              "\n",
              "  <style>\n",
              "    .colab-df-container {\n",
              "      display:flex;\n",
              "      gap: 12px;\n",
              "    }\n",
              "\n",
              "    .colab-df-convert {\n",
              "      background-color: #E8F0FE;\n",
              "      border: none;\n",
              "      border-radius: 50%;\n",
              "      cursor: pointer;\n",
              "      display: none;\n",
              "      fill: #1967D2;\n",
              "      height: 32px;\n",
              "      padding: 0 0 0 0;\n",
              "      width: 32px;\n",
              "    }\n",
              "\n",
              "    .colab-df-convert:hover {\n",
              "      background-color: #E2EBFA;\n",
              "      box-shadow: 0px 1px 2px rgba(60, 64, 67, 0.3), 0px 1px 3px 1px rgba(60, 64, 67, 0.15);\n",
              "      fill: #174EA6;\n",
              "    }\n",
              "\n",
              "    .colab-df-buttons div {\n",
              "      margin-bottom: 4px;\n",
              "    }\n",
              "\n",
              "    [theme=dark] .colab-df-convert {\n",
              "      background-color: #3B4455;\n",
              "      fill: #D2E3FC;\n",
              "    }\n",
              "\n",
              "    [theme=dark] .colab-df-convert:hover {\n",
              "      background-color: #434B5C;\n",
              "      box-shadow: 0px 1px 3px 1px rgba(0, 0, 0, 0.15);\n",
              "      filter: drop-shadow(0px 1px 2px rgba(0, 0, 0, 0.3));\n",
              "      fill: #FFFFFF;\n",
              "    }\n",
              "  </style>\n",
              "\n",
              "    <script>\n",
              "      const buttonEl =\n",
              "        document.querySelector('#df-5a297883-400b-4a88-901a-5fea7668d7f1 button.colab-df-convert');\n",
              "      buttonEl.style.display =\n",
              "        google.colab.kernel.accessAllowed ? 'block' : 'none';\n",
              "\n",
              "      async function convertToInteractive(key) {\n",
              "        const element = document.querySelector('#df-5a297883-400b-4a88-901a-5fea7668d7f1');\n",
              "        const dataTable =\n",
              "          await google.colab.kernel.invokeFunction('convertToInteractive',\n",
              "                                                    [key], {});\n",
              "        if (!dataTable) return;\n",
              "\n",
              "        const docLinkHtml = 'Like what you see? Visit the ' +\n",
              "          '<a target=\"_blank\" href=https://colab.research.google.com/notebooks/data_table.ipynb>data table notebook</a>'\n",
              "          + ' to learn more about interactive tables.';\n",
              "        element.innerHTML = '';\n",
              "        dataTable['output_type'] = 'display_data';\n",
              "        await google.colab.output.renderOutput(dataTable, element);\n",
              "        const docLink = document.createElement('div');\n",
              "        docLink.innerHTML = docLinkHtml;\n",
              "        element.appendChild(docLink);\n",
              "      }\n",
              "    </script>\n",
              "  </div>\n",
              "\n",
              "\n",
              "<div id=\"df-72f9dfe5-994c-4add-ac22-a0f14ed70962\">\n",
              "  <button class=\"colab-df-quickchart\" onclick=\"quickchart('df-72f9dfe5-994c-4add-ac22-a0f14ed70962')\"\n",
              "            title=\"Suggest charts\"\n",
              "            style=\"display:none;\">\n",
              "\n",
              "<svg xmlns=\"http://www.w3.org/2000/svg\" height=\"24px\"viewBox=\"0 0 24 24\"\n",
              "     width=\"24px\">\n",
              "    <g>\n",
              "        <path d=\"M19 3H5c-1.1 0-2 .9-2 2v14c0 1.1.9 2 2 2h14c1.1 0 2-.9 2-2V5c0-1.1-.9-2-2-2zM9 17H7v-7h2v7zm4 0h-2V7h2v10zm4 0h-2v-4h2v4z\"/>\n",
              "    </g>\n",
              "</svg>\n",
              "  </button>\n",
              "\n",
              "<style>\n",
              "  .colab-df-quickchart {\n",
              "      --bg-color: #E8F0FE;\n",
              "      --fill-color: #1967D2;\n",
              "      --hover-bg-color: #E2EBFA;\n",
              "      --hover-fill-color: #174EA6;\n",
              "      --disabled-fill-color: #AAA;\n",
              "      --disabled-bg-color: #DDD;\n",
              "  }\n",
              "\n",
              "  [theme=dark] .colab-df-quickchart {\n",
              "      --bg-color: #3B4455;\n",
              "      --fill-color: #D2E3FC;\n",
              "      --hover-bg-color: #434B5C;\n",
              "      --hover-fill-color: #FFFFFF;\n",
              "      --disabled-bg-color: #3B4455;\n",
              "      --disabled-fill-color: #666;\n",
              "  }\n",
              "\n",
              "  .colab-df-quickchart {\n",
              "    background-color: var(--bg-color);\n",
              "    border: none;\n",
              "    border-radius: 50%;\n",
              "    cursor: pointer;\n",
              "    display: none;\n",
              "    fill: var(--fill-color);\n",
              "    height: 32px;\n",
              "    padding: 0;\n",
              "    width: 32px;\n",
              "  }\n",
              "\n",
              "  .colab-df-quickchart:hover {\n",
              "    background-color: var(--hover-bg-color);\n",
              "    box-shadow: 0 1px 2px rgba(60, 64, 67, 0.3), 0 1px 3px 1px rgba(60, 64, 67, 0.15);\n",
              "    fill: var(--button-hover-fill-color);\n",
              "  }\n",
              "\n",
              "  .colab-df-quickchart-complete:disabled,\n",
              "  .colab-df-quickchart-complete:disabled:hover {\n",
              "    background-color: var(--disabled-bg-color);\n",
              "    fill: var(--disabled-fill-color);\n",
              "    box-shadow: none;\n",
              "  }\n",
              "\n",
              "  .colab-df-spinner {\n",
              "    border: 2px solid var(--fill-color);\n",
              "    border-color: transparent;\n",
              "    border-bottom-color: var(--fill-color);\n",
              "    animation:\n",
              "      spin 1s steps(1) infinite;\n",
              "  }\n",
              "\n",
              "  @keyframes spin {\n",
              "    0% {\n",
              "      border-color: transparent;\n",
              "      border-bottom-color: var(--fill-color);\n",
              "      border-left-color: var(--fill-color);\n",
              "    }\n",
              "    20% {\n",
              "      border-color: transparent;\n",
              "      border-left-color: var(--fill-color);\n",
              "      border-top-color: var(--fill-color);\n",
              "    }\n",
              "    30% {\n",
              "      border-color: transparent;\n",
              "      border-left-color: var(--fill-color);\n",
              "      border-top-color: var(--fill-color);\n",
              "      border-right-color: var(--fill-color);\n",
              "    }\n",
              "    40% {\n",
              "      border-color: transparent;\n",
              "      border-right-color: var(--fill-color);\n",
              "      border-top-color: var(--fill-color);\n",
              "    }\n",
              "    60% {\n",
              "      border-color: transparent;\n",
              "      border-right-color: var(--fill-color);\n",
              "    }\n",
              "    80% {\n",
              "      border-color: transparent;\n",
              "      border-right-color: var(--fill-color);\n",
              "      border-bottom-color: var(--fill-color);\n",
              "    }\n",
              "    90% {\n",
              "      border-color: transparent;\n",
              "      border-bottom-color: var(--fill-color);\n",
              "    }\n",
              "  }\n",
              "</style>\n",
              "\n",
              "  <script>\n",
              "    async function quickchart(key) {\n",
              "      const quickchartButtonEl =\n",
              "        document.querySelector('#' + key + ' button');\n",
              "      quickchartButtonEl.disabled = true;  // To prevent multiple clicks.\n",
              "      quickchartButtonEl.classList.add('colab-df-spinner');\n",
              "      try {\n",
              "        const charts = await google.colab.kernel.invokeFunction(\n",
              "            'suggestCharts', [key], {});\n",
              "      } catch (error) {\n",
              "        console.error('Error during call to suggestCharts:', error);\n",
              "      }\n",
              "      quickchartButtonEl.classList.remove('colab-df-spinner');\n",
              "      quickchartButtonEl.classList.add('colab-df-quickchart-complete');\n",
              "    }\n",
              "    (() => {\n",
              "      let quickchartButtonEl =\n",
              "        document.querySelector('#df-72f9dfe5-994c-4add-ac22-a0f14ed70962 button');\n",
              "      quickchartButtonEl.style.display =\n",
              "        google.colab.kernel.accessAllowed ? 'block' : 'none';\n",
              "    })();\n",
              "  </script>\n",
              "</div>\n",
              "    </div>\n",
              "  </div>\n"
            ],
            "application/vnd.google.colaboratory.intrinsic+json": {
              "type": "dataframe",
              "variable_name": "B2"
            }
          },
          "metadata": {},
          "execution_count": 61
        }
      ]
    },
    {
      "cell_type": "code",
      "source": [
        "plt.plot(B2.iloc[:, 21])\n",
        "plt.plot(NewN_new.iloc[:, 21])"
      ],
      "metadata": {
        "colab": {
          "base_uri": "https://localhost:8080/",
          "height": 447
        },
        "id": "FAIaWizm5oQL",
        "outputId": "b8a761eb-0157-4d27-fec3-88c74bf3c0d2"
      },
      "execution_count": 65,
      "outputs": [
        {
          "output_type": "execute_result",
          "data": {
            "text/plain": [
              "[<matplotlib.lines.Line2D at 0x7fdc131453c0>]"
            ]
          },
          "metadata": {},
          "execution_count": 65
        },
        {
          "output_type": "display_data",
          "data": {
            "text/plain": [
              "<Figure size 640x480 with 1 Axes>"
            ],
            "image/png": "[encoded data removed]"
          },
          "metadata": {}
        }
      ]
    },
    {
      "cell_type": "code",
      "source": [
        "results2 = []\n",
        "\n",
        "for I in range(right_bound.shape[0]):\n",
        "    Data_new, Max_new, Min_new = new_Normalize_time(right_bound[I, :], B2)\n",
        "    for J in range(left_bound.shape[0]):\n",
        "        New_new, coeff_new = new_Method(Data_new, right_bound[I, :], left_bound[J, :], 1)\n",
        "\n",
        "        NewN_new = Renormalize(New_new, Max_new, Min_new)\n",
        "        NewN_new[NewN_new < 0] = 0\n",
        "\n",
        "        Ad = pd.DataFrame()\n",
        "        Ad['long'] = pd.Series([i for i in range(1511)])\n",
        "        for i in range(B2.shape[1]):\n",
        "            Ad[df.columns[i+2]] = [NewN_new.iloc[:B2.iloc[:, i].count(), i] for i in range(B2.shape[1])][i]\n",
        "        Ad.drop('long', axis=1, inplace=True)\n",
        "        Ad.drop(Ad.index[0], axis=0, inplace=True)\n",
        "\n",
        "\n",
        "        Q_pred = QQQ(second[1:-1], Ad)\n",
        "        Q_real = QQQ(second[:-1], B2)\n",
        "\n",
        "        pred_Q = np.array([mean_absolute_percentage_error([Q_real.ffill().iloc[-1, i]], [Q_pred.ffill().iloc[-1, i]]) for i in range(B2.shape[1])])\n",
        "\n",
        "        r2 = r2_score(Q_real.ffill().iloc[-1], Q_pred.ffill().iloc[-1])\n",
        "        max_err = max_error(Q_real.ffill().iloc[-1], Q_pred.ffill().iloc[-1])\n",
        "        mae = mean_absolute_error(Q_real.ffill().iloc[-1], Q_pred.ffill().iloc[-1])\n",
        "\n",
        "        # boi_all_real = BOI(Q_realAll)\n",
        "        # boi = BOI(Q_real, k=1)\n",
        "\n",
        "\n",
        "        # # pred = np.round(np.array(MAPE(boi))*100, 3)\n",
        "        # # real_mape = np.round(np.array(MAPE(boi_all_real))*100, 3)\n",
        "\n",
        "        # pred_Q = np.array([mean_absolute_percentage_error([boi_all_real[i]], [boi[i]]) for i in range(57)])\n",
        "\n",
        "        # r2 = r2_score(boi_all_real, boi)\n",
        "        # max_err = max_error(boi_all_real, boi)\n",
        "        # mae = mean_absolute_error(boi_all_real, boi)\n",
        "\n",
        "        # print(real_mape.mean())\n",
        "        # print('newsssss ', pred.mean())\n",
        "        print(\"R^2 score:\", r2)\n",
        "        print(\"Максимальная абсолютная ошибка:\", max_err)\n",
        "        print(\"Средняя абсолютная ошибка:\", mae)\n",
        "        # print(\"Максимальная процентная ошибка:\", pred.max())\n",
        "\n",
        "        results2.append({\n",
        "            'I': I,\n",
        "            'J': J,\n",
        "            'coeff_new': coeff_new.to_dict(orient='records'),  # Преобразуем в список для хранения\n",
        "            #'real_mape_mean': real_mape.mean(),\n",
        "            #'pred_mean': pred.mean(),\n",
        "            'R2_score': r2,\n",
        "            'max_error': max_err,\n",
        "            'mae': mae,\n",
        "            #'max_percentage_error': pred.max(),\n",
        "            'pred_Q': pred_Q.mean(),\n",
        "            'pred_Qmax': pred_Q.max(),\n",
        "        })"
      ],
      "metadata": {
        "colab": {
          "base_uri": "https://localhost:8080/"
        },
        "id": "VYeKqzqp0u3_",
        "outputId": "8b66c6d6-2c0d-4e30-dc42-25aab7e23b19"
      },
      "execution_count": 58,
      "outputs": [
        {
          "output_type": "stream",
          "name": "stderr",
          "text": [
            "<ipython-input-37-9ee059636719>:6: OptimizeWarning: Covariance of the parameters could not be estimated\n",
            "  popt, pcov = curve_fit(f2, date, T, param, bounds=(lst1, lst2), method='trf')\n",
            "<ipython-input-37-9ee059636719>:6: OptimizeWarning: Covariance of the parameters could not be estimated\n",
            "  popt, pcov = curve_fit(f2, date, T, param, bounds=(lst1, lst2), method='trf')\n",
            "<ipython-input-37-9ee059636719>:6: OptimizeWarning: Covariance of the parameters could not be estimated\n",
            "  popt, pcov = curve_fit(f2, date, T, param, bounds=(lst1, lst2), method='trf')\n",
            "<ipython-input-37-9ee059636719>:6: OptimizeWarning: Covariance of the parameters could not be estimated\n",
            "  popt, pcov = curve_fit(f2, date, T, param, bounds=(lst1, lst2), method='trf')\n"
          ]
        },
        {
          "output_type": "stream",
          "name": "stdout",
          "text": [
            "R^2 score: 0.26038496005566547\n",
            "Максимальная абсолютная ошибка: 293.1850668355243\n",
            "Средняя абсолютная ошибка: 51.369085810826235\n"
          ]
        },
        {
          "output_type": "stream",
          "name": "stderr",
          "text": [
            "<ipython-input-37-9ee059636719>:6: OptimizeWarning: Covariance of the parameters could not be estimated\n",
            "  popt, pcov = curve_fit(f2, date, T, param, bounds=(lst1, lst2), method='trf')\n",
            "<ipython-input-37-9ee059636719>:6: OptimizeWarning: Covariance of the parameters could not be estimated\n",
            "  popt, pcov = curve_fit(f2, date, T, param, bounds=(lst1, lst2), method='trf')\n",
            "<ipython-input-37-9ee059636719>:6: OptimizeWarning: Covariance of the parameters could not be estimated\n",
            "  popt, pcov = curve_fit(f2, date, T, param, bounds=(lst1, lst2), method='trf')\n",
            "<ipython-input-37-9ee059636719>:6: OptimizeWarning: Covariance of the parameters could not be estimated\n",
            "  popt, pcov = curve_fit(f2, date, T, param, bounds=(lst1, lst2), method='trf')\n"
          ]
        },
        {
          "output_type": "stream",
          "name": "stdout",
          "text": [
            "R^2 score: 0.24885000247617972\n",
            "Максимальная абсолютная ошибка: 292.1169454461961\n",
            "Средняя абсолютная ошибка: 52.31984181797345\n"
          ]
        },
        {
          "output_type": "stream",
          "name": "stderr",
          "text": [
            "<ipython-input-37-9ee059636719>:6: OptimizeWarning: Covariance of the parameters could not be estimated\n",
            "  popt, pcov = curve_fit(f2, date, T, param, bounds=(lst1, lst2), method='trf')\n",
            "<ipython-input-37-9ee059636719>:6: OptimizeWarning: Covariance of the parameters could not be estimated\n",
            "  popt, pcov = curve_fit(f2, date, T, param, bounds=(lst1, lst2), method='trf')\n",
            "<ipython-input-37-9ee059636719>:6: OptimizeWarning: Covariance of the parameters could not be estimated\n",
            "  popt, pcov = curve_fit(f2, date, T, param, bounds=(lst1, lst2), method='trf')\n",
            "<ipython-input-37-9ee059636719>:6: OptimizeWarning: Covariance of the parameters could not be estimated\n",
            "  popt, pcov = curve_fit(f2, date, T, param, bounds=(lst1, lst2), method='trf')\n"
          ]
        },
        {
          "output_type": "stream",
          "name": "stdout",
          "text": [
            "R^2 score: 0.2440593181201628\n",
            "Максимальная абсолютная ошибка: 292.1169454461961\n",
            "Средняя абсолютная ошибка: 52.66764596074225\n"
          ]
        },
        {
          "output_type": "stream",
          "name": "stderr",
          "text": [
            "<ipython-input-37-9ee059636719>:6: OptimizeWarning: Covariance of the parameters could not be estimated\n",
            "  popt, pcov = curve_fit(f2, date, T, param, bounds=(lst1, lst2), method='trf')\n",
            "<ipython-input-37-9ee059636719>:6: OptimizeWarning: Covariance of the parameters could not be estimated\n",
            "  popt, pcov = curve_fit(f2, date, T, param, bounds=(lst1, lst2), method='trf')\n",
            "<ipython-input-37-9ee059636719>:6: OptimizeWarning: Covariance of the parameters could not be estimated\n",
            "  popt, pcov = curve_fit(f2, date, T, param, bounds=(lst1, lst2), method='trf')\n",
            "<ipython-input-37-9ee059636719>:6: OptimizeWarning: Covariance of the parameters could not be estimated\n",
            "  popt, pcov = curve_fit(f2, date, T, param, bounds=(lst1, lst2), method='trf')\n"
          ]
        },
        {
          "output_type": "stream",
          "name": "stdout",
          "text": [
            "R^2 score: 0.24044757057082522\n",
            "Максимальная абсолютная ошибка: 292.1169454461961\n",
            "Средняя абсолютная ошибка: 52.771985397744764\n"
          ]
        },
        {
          "output_type": "stream",
          "name": "stderr",
          "text": [
            "<ipython-input-37-9ee059636719>:6: OptimizeWarning: Covariance of the parameters could not be estimated\n",
            "  popt, pcov = curve_fit(f2, date, T, param, bounds=(lst1, lst2), method='trf')\n",
            "<ipython-input-37-9ee059636719>:6: OptimizeWarning: Covariance of the parameters could not be estimated\n",
            "  popt, pcov = curve_fit(f2, date, T, param, bounds=(lst1, lst2), method='trf')\n",
            "<ipython-input-37-9ee059636719>:6: OptimizeWarning: Covariance of the parameters could not be estimated\n",
            "  popt, pcov = curve_fit(f2, date, T, param, bounds=(lst1, lst2), method='trf')\n",
            "<ipython-input-37-9ee059636719>:6: OptimizeWarning: Covariance of the parameters could not be estimated\n",
            "  popt, pcov = curve_fit(f2, date, T, param, bounds=(lst1, lst2), method='trf')\n",
            "<ipython-input-37-9ee059636719>:6: OptimizeWarning: Covariance of the parameters could not be estimated\n",
            "  popt, pcov = curve_fit(f2, date, T, param, bounds=(lst1, lst2), method='trf')\n"
          ]
        },
        {
          "output_type": "stream",
          "name": "stdout",
          "text": [
            "R^2 score: 0.23432804114170702\n",
            "Максимальная абсолютная ошибка: 292.1169454461961\n",
            "Средняя абсолютная ошибка: 53.55896164294718\n"
          ]
        },
        {
          "output_type": "stream",
          "name": "stderr",
          "text": [
            "<ipython-input-37-9ee059636719>:6: OptimizeWarning: Covariance of the parameters could not be estimated\n",
            "  popt, pcov = curve_fit(f2, date, T, param, bounds=(lst1, lst2), method='trf')\n",
            "<ipython-input-37-9ee059636719>:6: OptimizeWarning: Covariance of the parameters could not be estimated\n",
            "  popt, pcov = curve_fit(f2, date, T, param, bounds=(lst1, lst2), method='trf')\n",
            "<ipython-input-37-9ee059636719>:6: OptimizeWarning: Covariance of the parameters could not be estimated\n",
            "  popt, pcov = curve_fit(f2, date, T, param, bounds=(lst1, lst2), method='trf')\n",
            "<ipython-input-37-9ee059636719>:6: OptimizeWarning: Covariance of the parameters could not be estimated\n",
            "  popt, pcov = curve_fit(f2, date, T, param, bounds=(lst1, lst2), method='trf')\n",
            "<ipython-input-37-9ee059636719>:6: OptimizeWarning: Covariance of the parameters could not be estimated\n",
            "  popt, pcov = curve_fit(f2, date, T, param, bounds=(lst1, lst2), method='trf')\n"
          ]
        },
        {
          "output_type": "stream",
          "name": "stdout",
          "text": [
            "R^2 score: 0.23388138523603064\n",
            "Максимальная абсолютная ошибка: 291.3982028988867\n",
            "Средняя абсолютная ошибка: 53.71570174663356\n"
          ]
        },
        {
          "output_type": "stream",
          "name": "stderr",
          "text": [
            "<ipython-input-37-9ee059636719>:6: OptimizeWarning: Covariance of the parameters could not be estimated\n",
            "  popt, pcov = curve_fit(f2, date, T, param, bounds=(lst1, lst2), method='trf')\n",
            "<ipython-input-37-9ee059636719>:6: OptimizeWarning: Covariance of the parameters could not be estimated\n",
            "  popt, pcov = curve_fit(f2, date, T, param, bounds=(lst1, lst2), method='trf')\n",
            "<ipython-input-37-9ee059636719>:6: OptimizeWarning: Covariance of the parameters could not be estimated\n",
            "  popt, pcov = curve_fit(f2, date, T, param, bounds=(lst1, lst2), method='trf')\n",
            "<ipython-input-37-9ee059636719>:6: OptimizeWarning: Covariance of the parameters could not be estimated\n",
            "  popt, pcov = curve_fit(f2, date, T, param, bounds=(lst1, lst2), method='trf')\n",
            "<ipython-input-37-9ee059636719>:6: OptimizeWarning: Covariance of the parameters could not be estimated\n",
            "  popt, pcov = curve_fit(f2, date, T, param, bounds=(lst1, lst2), method='trf')\n"
          ]
        },
        {
          "output_type": "stream",
          "name": "stdout",
          "text": [
            "R^2 score: 0.23238053800023462\n",
            "Максимальная абсолютная ошибка: 291.3982028988867\n",
            "Средняя абсолютная ошибка: 53.62131176567893\n"
          ]
        },
        {
          "output_type": "stream",
          "name": "stderr",
          "text": [
            "<ipython-input-37-9ee059636719>:6: OptimizeWarning: Covariance of the parameters could not be estimated\n",
            "  popt, pcov = curve_fit(f2, date, T, param, bounds=(lst1, lst2), method='trf')\n",
            "<ipython-input-37-9ee059636719>:6: OptimizeWarning: Covariance of the parameters could not be estimated\n",
            "  popt, pcov = curve_fit(f2, date, T, param, bounds=(lst1, lst2), method='trf')\n",
            "<ipython-input-37-9ee059636719>:6: OptimizeWarning: Covariance of the parameters could not be estimated\n",
            "  popt, pcov = curve_fit(f2, date, T, param, bounds=(lst1, lst2), method='trf')\n",
            "<ipython-input-37-9ee059636719>:6: OptimizeWarning: Covariance of the parameters could not be estimated\n",
            "  popt, pcov = curve_fit(f2, date, T, param, bounds=(lst1, lst2), method='trf')\n",
            "<ipython-input-37-9ee059636719>:6: OptimizeWarning: Covariance of the parameters could not be estimated\n",
            "  popt, pcov = curve_fit(f2, date, T, param, bounds=(lst1, lst2), method='trf')\n"
          ]
        },
        {
          "output_type": "stream",
          "name": "stdout",
          "text": [
            "R^2 score: 0.23065976810137756\n",
            "Максимальная абсолютная ошибка: 291.3982028988867\n",
            "Средняя абсолютная ошибка: 53.81427253204109\n"
          ]
        },
        {
          "output_type": "stream",
          "name": "stderr",
          "text": [
            "<ipython-input-37-9ee059636719>:6: OptimizeWarning: Covariance of the parameters could not be estimated\n",
            "  popt, pcov = curve_fit(f2, date, T, param, bounds=(lst1, lst2), method='trf')\n",
            "<ipython-input-37-9ee059636719>:6: OptimizeWarning: Covariance of the parameters could not be estimated\n",
            "  popt, pcov = curve_fit(f2, date, T, param, bounds=(lst1, lst2), method='trf')\n",
            "<ipython-input-37-9ee059636719>:6: OptimizeWarning: Covariance of the parameters could not be estimated\n",
            "  popt, pcov = curve_fit(f2, date, T, param, bounds=(lst1, lst2), method='trf')\n",
            "<ipython-input-37-9ee059636719>:6: OptimizeWarning: Covariance of the parameters could not be estimated\n",
            "  popt, pcov = curve_fit(f2, date, T, param, bounds=(lst1, lst2), method='trf')\n",
            "<ipython-input-37-9ee059636719>:6: OptimizeWarning: Covariance of the parameters could not be estimated\n",
            "  popt, pcov = curve_fit(f2, date, T, param, bounds=(lst1, lst2), method='trf')\n"
          ]
        },
        {
          "output_type": "stream",
          "name": "stdout",
          "text": [
            "R^2 score: 0.22852622647151488\n",
            "Максимальная абсолютная ошибка: 291.3982028988867\n",
            "Средняя абсолютная ошибка: 54.20022061866868\n"
          ]
        },
        {
          "output_type": "stream",
          "name": "stderr",
          "text": [
            "<ipython-input-37-9ee059636719>:6: OptimizeWarning: Covariance of the parameters could not be estimated\n",
            "  popt, pcov = curve_fit(f2, date, T, param, bounds=(lst1, lst2), method='trf')\n",
            "<ipython-input-37-9ee059636719>:6: OptimizeWarning: Covariance of the parameters could not be estimated\n",
            "  popt, pcov = curve_fit(f2, date, T, param, bounds=(lst1, lst2), method='trf')\n"
          ]
        },
        {
          "output_type": "stream",
          "name": "stdout",
          "text": [
            "R^2 score: 0.27818146672798194\n",
            "Максимальная абсолютная ошибка: 287.8708679557247\n",
            "Средняя абсолютная ошибка: 50.577087610170125\n"
          ]
        },
        {
          "output_type": "stream",
          "name": "stderr",
          "text": [
            "<ipython-input-37-9ee059636719>:6: OptimizeWarning: Covariance of the parameters could not be estimated\n",
            "  popt, pcov = curve_fit(f2, date, T, param, bounds=(lst1, lst2), method='trf')\n",
            "<ipython-input-37-9ee059636719>:6: OptimizeWarning: Covariance of the parameters could not be estimated\n",
            "  popt, pcov = curve_fit(f2, date, T, param, bounds=(lst1, lst2), method='trf')\n"
          ]
        },
        {
          "output_type": "stream",
          "name": "stdout",
          "text": [
            "R^2 score: 0.2649461352804948\n",
            "Максимальная абсолютная ошибка: 286.9395615462657\n",
            "Средняя абсолютная ошибка: 51.57303314609499\n"
          ]
        },
        {
          "output_type": "stream",
          "name": "stderr",
          "text": [
            "<ipython-input-37-9ee059636719>:6: OptimizeWarning: Covariance of the parameters could not be estimated\n",
            "  popt, pcov = curve_fit(f2, date, T, param, bounds=(lst1, lst2), method='trf')\n",
            "<ipython-input-37-9ee059636719>:6: OptimizeWarning: Covariance of the parameters could not be estimated\n",
            "  popt, pcov = curve_fit(f2, date, T, param, bounds=(lst1, lst2), method='trf')\n"
          ]
        },
        {
          "output_type": "stream",
          "name": "stdout",
          "text": [
            "R^2 score: 0.26159672455211636\n",
            "Максимальная абсолютная ошибка: 286.9395615462657\n",
            "Средняя абсолютная ошибка: 51.920527618963284\n"
          ]
        },
        {
          "output_type": "stream",
          "name": "stderr",
          "text": [
            "<ipython-input-37-9ee059636719>:6: OptimizeWarning: Covariance of the parameters could not be estimated\n",
            "  popt, pcov = curve_fit(f2, date, T, param, bounds=(lst1, lst2), method='trf')\n",
            "<ipython-input-37-9ee059636719>:6: OptimizeWarning: Covariance of the parameters could not be estimated\n",
            "  popt, pcov = curve_fit(f2, date, T, param, bounds=(lst1, lst2), method='trf')\n"
          ]
        },
        {
          "output_type": "stream",
          "name": "stdout",
          "text": [
            "R^2 score: 0.25744643794151345\n",
            "Максимальная абсолютная ошибка: 286.9395615462657\n",
            "Средняя абсолютная ошибка: 52.38941593614901\n"
          ]
        },
        {
          "output_type": "stream",
          "name": "stderr",
          "text": [
            "<ipython-input-37-9ee059636719>:6: OptimizeWarning: Covariance of the parameters could not be estimated\n",
            "  popt, pcov = curve_fit(f2, date, T, param, bounds=(lst1, lst2), method='trf')\n",
            "<ipython-input-37-9ee059636719>:6: OptimizeWarning: Covariance of the parameters could not be estimated\n",
            "  popt, pcov = curve_fit(f2, date, T, param, bounds=(lst1, lst2), method='trf')\n"
          ]
        },
        {
          "output_type": "stream",
          "name": "stdout",
          "text": [
            "R^2 score: 0.2426025202150789\n",
            "Максимальная абсолютная ошибка: 286.9395615462657\n",
            "Средняя абсолютная ошибка: 52.74734877454389\n"
          ]
        },
        {
          "output_type": "stream",
          "name": "stderr",
          "text": [
            "<ipython-input-37-9ee059636719>:6: OptimizeWarning: Covariance of the parameters could not be estimated\n",
            "  popt, pcov = curve_fit(f2, date, T, param, bounds=(lst1, lst2), method='trf')\n",
            "<ipython-input-37-9ee059636719>:6: OptimizeWarning: Covariance of the parameters could not be estimated\n",
            "  popt, pcov = curve_fit(f2, date, T, param, bounds=(lst1, lst2), method='trf')\n"
          ]
        },
        {
          "output_type": "stream",
          "name": "stdout",
          "text": [
            "R^2 score: 0.23926490918686838\n",
            "Максимальная абсолютная ошибка: 287.3741950238234\n",
            "Средняя абсолютная ошибка: 52.91079335927777\n"
          ]
        },
        {
          "output_type": "stream",
          "name": "stderr",
          "text": [
            "<ipython-input-37-9ee059636719>:6: OptimizeWarning: Covariance of the parameters could not be estimated\n",
            "  popt, pcov = curve_fit(f2, date, T, param, bounds=(lst1, lst2), method='trf')\n",
            "<ipython-input-37-9ee059636719>:6: OptimizeWarning: Covariance of the parameters could not be estimated\n",
            "  popt, pcov = curve_fit(f2, date, T, param, bounds=(lst1, lst2), method='trf')\n"
          ]
        },
        {
          "output_type": "stream",
          "name": "stdout",
          "text": [
            "R^2 score: 0.23713803379297982\n",
            "Максимальная абсолютная ошибка: 287.3741950238234\n",
            "Средняя абсолютная ошибка: 53.11500338927216\n"
          ]
        },
        {
          "output_type": "stream",
          "name": "stderr",
          "text": [
            "<ipython-input-37-9ee059636719>:6: OptimizeWarning: Covariance of the parameters could not be estimated\n",
            "  popt, pcov = curve_fit(f2, date, T, param, bounds=(lst1, lst2), method='trf')\n",
            "<ipython-input-37-9ee059636719>:6: OptimizeWarning: Covariance of the parameters could not be estimated\n",
            "  popt, pcov = curve_fit(f2, date, T, param, bounds=(lst1, lst2), method='trf')\n"
          ]
        },
        {
          "output_type": "stream",
          "name": "stdout",
          "text": [
            "R^2 score: 0.23541115510622945\n",
            "Максимальная абсолютная ошибка: 287.3741950238234\n",
            "Средняя абсолютная ошибка: 53.177849434320684\n"
          ]
        },
        {
          "output_type": "stream",
          "name": "stderr",
          "text": [
            "<ipython-input-37-9ee059636719>:6: OptimizeWarning: Covariance of the parameters could not be estimated\n",
            "  popt, pcov = curve_fit(f2, date, T, param, bounds=(lst1, lst2), method='trf')\n",
            "<ipython-input-37-9ee059636719>:6: OptimizeWarning: Covariance of the parameters could not be estimated\n",
            "  popt, pcov = curve_fit(f2, date, T, param, bounds=(lst1, lst2), method='trf')\n"
          ]
        },
        {
          "output_type": "stream",
          "name": "stdout",
          "text": [
            "R^2 score: 0.23425822406192875\n",
            "Максимальная абсолютная ошибка: 287.3741950238234\n",
            "Средняя абсолютная ошибка: 53.084219928291304\n"
          ]
        },
        {
          "output_type": "stream",
          "name": "stderr",
          "text": [
            "<ipython-input-37-9ee059636719>:6: OptimizeWarning: Covariance of the parameters could not be estimated\n",
            "  popt, pcov = curve_fit(f2, date, T, param, bounds=(lst1, lst2), method='trf')\n"
          ]
        },
        {
          "output_type": "stream",
          "name": "stdout",
          "text": [
            "R^2 score: 0.2801485567395533\n",
            "Максимальная абсолютная ошибка: 288.3904993133217\n",
            "Средняя абсолютная ошибка: 50.24366142365185\n"
          ]
        },
        {
          "output_type": "stream",
          "name": "stderr",
          "text": [
            "<ipython-input-37-9ee059636719>:6: OptimizeWarning: Covariance of the parameters could not be estimated\n",
            "  popt, pcov = curve_fit(f2, date, T, param, bounds=(lst1, lst2), method='trf')\n"
          ]
        },
        {
          "output_type": "stream",
          "name": "stdout",
          "text": [
            "R^2 score: 0.27330618751673286\n",
            "Максимальная абсолютная ошибка: 288.7688830128088\n",
            "Средняя абсолютная ошибка: 50.876847832159044\n"
          ]
        },
        {
          "output_type": "stream",
          "name": "stderr",
          "text": [
            "<ipython-input-37-9ee059636719>:6: OptimizeWarning: Covariance of the parameters could not be estimated\n",
            "  popt, pcov = curve_fit(f2, date, T, param, bounds=(lst1, lst2), method='trf')\n"
          ]
        },
        {
          "output_type": "stream",
          "name": "stdout",
          "text": [
            "R^2 score: 0.2647587086694764\n",
            "Максимальная абсолютная ошибка: 288.7688830128088\n",
            "Средняя абсолютная ошибка: 51.622702527661446\n"
          ]
        },
        {
          "output_type": "stream",
          "name": "stderr",
          "text": [
            "<ipython-input-37-9ee059636719>:6: OptimizeWarning: Covariance of the parameters could not be estimated\n",
            "  popt, pcov = curve_fit(f2, date, T, param, bounds=(lst1, lst2), method='trf')\n"
          ]
        },
        {
          "output_type": "stream",
          "name": "stdout",
          "text": [
            "R^2 score: 0.2555918145343732\n",
            "Максимальная абсолютная ошибка: 288.7688830128088\n",
            "Средняя абсолютная ошибка: 52.05799018058668\n"
          ]
        },
        {
          "output_type": "stream",
          "name": "stderr",
          "text": [
            "<ipython-input-37-9ee059636719>:6: OptimizeWarning: Covariance of the parameters could not be estimated\n",
            "  popt, pcov = curve_fit(f2, date, T, param, bounds=(lst1, lst2), method='trf')\n",
            "<ipython-input-37-9ee059636719>:6: OptimizeWarning: Covariance of the parameters could not be estimated\n",
            "  popt, pcov = curve_fit(f2, date, T, param, bounds=(lst1, lst2), method='trf')\n"
          ]
        },
        {
          "output_type": "stream",
          "name": "stdout",
          "text": [
            "R^2 score: 0.25673011286879577\n",
            "Максимальная абсолютная ошибка: 288.7688830128088\n",
            "Средняя абсолютная ошибка: 51.811870905043826\n"
          ]
        },
        {
          "output_type": "stream",
          "name": "stderr",
          "text": [
            "<ipython-input-37-9ee059636719>:6: OptimizeWarning: Covariance of the parameters could not be estimated\n",
            "  popt, pcov = curve_fit(f2, date, T, param, bounds=(lst1, lst2), method='trf')\n",
            "<ipython-input-37-9ee059636719>:6: OptimizeWarning: Covariance of the parameters could not be estimated\n",
            "  popt, pcov = curve_fit(f2, date, T, param, bounds=(lst1, lst2), method='trf')\n"
          ]
        },
        {
          "output_type": "stream",
          "name": "stdout",
          "text": [
            "R^2 score: 0.253486720353172\n",
            "Максимальная абсолютная ошибка: 289.1153262124247\n",
            "Средняя абсолютная ошибка: 51.9674955899065\n"
          ]
        },
        {
          "output_type": "stream",
          "name": "stderr",
          "text": [
            "<ipython-input-37-9ee059636719>:6: OptimizeWarning: Covariance of the parameters could not be estimated\n",
            "  popt, pcov = curve_fit(f2, date, T, param, bounds=(lst1, lst2), method='trf')\n",
            "<ipython-input-37-9ee059636719>:6: OptimizeWarning: Covariance of the parameters could not be estimated\n",
            "  popt, pcov = curve_fit(f2, date, T, param, bounds=(lst1, lst2), method='trf')\n"
          ]
        },
        {
          "output_type": "stream",
          "name": "stdout",
          "text": [
            "R^2 score: 0.25233790098411535\n",
            "Максимальная абсолютная ошибка: 289.1153262124247\n",
            "Средняя абсолютная ошибка: 51.77883958915039\n"
          ]
        },
        {
          "output_type": "stream",
          "name": "stderr",
          "text": [
            "<ipython-input-37-9ee059636719>:6: OptimizeWarning: Covariance of the parameters could not be estimated\n",
            "  popt, pcov = curve_fit(f2, date, T, param, bounds=(lst1, lst2), method='trf')\n",
            "<ipython-input-37-9ee059636719>:6: OptimizeWarning: Covariance of the parameters could not be estimated\n",
            "  popt, pcov = curve_fit(f2, date, T, param, bounds=(lst1, lst2), method='trf')\n"
          ]
        },
        {
          "output_type": "stream",
          "name": "stdout",
          "text": [
            "R^2 score: 0.2507472602536861\n",
            "Максимальная абсолютная ошибка: 289.1153262124247\n",
            "Средняя абсолютная ошибка: 51.84553157260655\n"
          ]
        },
        {
          "output_type": "stream",
          "name": "stderr",
          "text": [
            "<ipython-input-37-9ee059636719>:6: OptimizeWarning: Covariance of the parameters could not be estimated\n",
            "  popt, pcov = curve_fit(f2, date, T, param, bounds=(lst1, lst2), method='trf')\n",
            "<ipython-input-37-9ee059636719>:6: OptimizeWarning: Covariance of the parameters could not be estimated\n",
            "  popt, pcov = curve_fit(f2, date, T, param, bounds=(lst1, lst2), method='trf')\n"
          ]
        },
        {
          "output_type": "stream",
          "name": "stdout",
          "text": [
            "R^2 score: 0.24960436897979021\n",
            "Максимальная абсолютная ошибка: 289.1153262124247\n",
            "Средняя абсолютная ошибка: 51.802280360805206\n"
          ]
        },
        {
          "output_type": "stream",
          "name": "stderr",
          "text": [
            "<ipython-input-37-9ee059636719>:6: OptimizeWarning: Covariance of the parameters could not be estimated\n",
            "  popt, pcov = curve_fit(f2, date, T, param, bounds=(lst1, lst2), method='trf')\n"
          ]
        },
        {
          "output_type": "stream",
          "name": "stdout",
          "text": [
            "R^2 score: 0.2806760045201919\n",
            "Максимальная абсолютная ошибка: 290.7825120723784\n",
            "Средняя абсолютная ошибка: 49.96292048802061\n"
          ]
        },
        {
          "output_type": "stream",
          "name": "stderr",
          "text": [
            "<ipython-input-37-9ee059636719>:6: OptimizeWarning: Covariance of the parameters could not be estimated\n",
            "  popt, pcov = curve_fit(f2, date, T, param, bounds=(lst1, lst2), method='trf')\n"
          ]
        },
        {
          "output_type": "stream",
          "name": "stdout",
          "text": [
            "R^2 score: 0.27125802574044455\n",
            "Максимальная абсолютная ошибка: 290.66964755666964\n",
            "Средняя абсолютная ошибка: 51.001235413148606\n"
          ]
        },
        {
          "output_type": "stream",
          "name": "stderr",
          "text": [
            "<ipython-input-37-9ee059636719>:6: OptimizeWarning: Covariance of the parameters could not be estimated\n",
            "  popt, pcov = curve_fit(f2, date, T, param, bounds=(lst1, lst2), method='trf')\n"
          ]
        },
        {
          "output_type": "stream",
          "name": "stdout",
          "text": [
            "R^2 score: 0.269414039707913\n",
            "Максимальная абсолютная ошибка: 290.66964755666964\n",
            "Средняя абсолютная ошибка: 51.17077492039714\n"
          ]
        },
        {
          "output_type": "stream",
          "name": "stderr",
          "text": [
            "<ipython-input-37-9ee059636719>:6: OptimizeWarning: Covariance of the parameters could not be estimated\n",
            "  popt, pcov = curve_fit(f2, date, T, param, bounds=(lst1, lst2), method='trf')\n"
          ]
        },
        {
          "output_type": "stream",
          "name": "stdout",
          "text": [
            "R^2 score: 0.26015187946887386\n",
            "Максимальная абсолютная ошибка: 290.66964755666964\n",
            "Средняя абсолютная ошибка: 51.83793936456239\n"
          ]
        },
        {
          "output_type": "stream",
          "name": "stderr",
          "text": [
            "<ipython-input-37-9ee059636719>:6: OptimizeWarning: Covariance of the parameters could not be estimated\n",
            "  popt, pcov = curve_fit(f2, date, T, param, bounds=(lst1, lst2), method='trf')\n"
          ]
        },
        {
          "output_type": "stream",
          "name": "stdout",
          "text": [
            "R^2 score: 0.2551562176929988\n",
            "Максимальная абсолютная ошибка: 290.66964755666964\n",
            "Средняя абсолютная ошибка: 51.55695642139219\n"
          ]
        },
        {
          "output_type": "stream",
          "name": "stderr",
          "text": [
            "<ipython-input-37-9ee059636719>:6: OptimizeWarning: Covariance of the parameters could not be estimated\n",
            "  popt, pcov = curve_fit(f2, date, T, param, bounds=(lst1, lst2), method='trf')\n"
          ]
        },
        {
          "output_type": "stream",
          "name": "stdout",
          "text": [
            "R^2 score: 0.25266965755404114\n",
            "Максимальная абсолютная ошибка: 290.57744740262365\n",
            "Средняя абсолютная ошибка: 51.71262605221297\n"
          ]
        },
        {
          "output_type": "stream",
          "name": "stderr",
          "text": [
            "<ipython-input-37-9ee059636719>:6: OptimizeWarning: Covariance of the parameters could not be estimated\n",
            "  popt, pcov = curve_fit(f2, date, T, param, bounds=(lst1, lst2), method='trf')\n"
          ]
        },
        {
          "output_type": "stream",
          "name": "stdout",
          "text": [
            "R^2 score: 0.25165245125284064\n",
            "Максимальная абсолютная ошибка: 290.57744740262365\n",
            "Средняя абсолютная ошибка: 51.56117921154012\n"
          ]
        },
        {
          "output_type": "stream",
          "name": "stderr",
          "text": [
            "<ipython-input-37-9ee059636719>:6: OptimizeWarning: Covariance of the parameters could not be estimated\n",
            "  popt, pcov = curve_fit(f2, date, T, param, bounds=(lst1, lst2), method='trf')\n"
          ]
        },
        {
          "output_type": "stream",
          "name": "stdout",
          "text": [
            "R^2 score: 0.25021194828758\n",
            "Максимальная абсолютная ошибка: 290.57744740262365\n",
            "Средняя абсолютная ошибка: 51.63036079810435\n"
          ]
        },
        {
          "output_type": "stream",
          "name": "stderr",
          "text": [
            "<ipython-input-37-9ee059636719>:6: OptimizeWarning: Covariance of the parameters could not be estimated\n",
            "  popt, pcov = curve_fit(f2, date, T, param, bounds=(lst1, lst2), method='trf')\n"
          ]
        },
        {
          "output_type": "stream",
          "name": "stdout",
          "text": [
            "R^2 score: 0.2491150681196086\n",
            "Максимальная абсолютная ошибка: 290.57744740262365\n",
            "Средняя абсолютная ошибка: 51.608600856436716\n",
            "R^2 score: 0.29398015087408313\n",
            "Максимальная абсолютная ошибка: 291.5580081451003\n",
            "Средняя абсолютная ошибка: 47.94718135767024\n",
            "R^2 score: 0.2907171688769753\n",
            "Максимальная абсолютная ошибка: 291.4107717419239\n",
            "Средняя абсолютная ошибка: 48.97801278616241\n",
            "R^2 score: 0.2898617936042105\n",
            "Максимальная абсолютная ошибка: 291.4107717419239\n",
            "Средняя абсолютная ошибка: 49.03804482431655\n",
            "R^2 score: 0.28298649147850097\n",
            "Максимальная абсолютная ошибка: 291.4107717419239\n",
            "Средняя абсолютная ошибка: 49.49156504537834\n",
            "R^2 score: 0.2818469033147918\n",
            "Максимальная абсолютная ошибка: 291.4107717419239\n",
            "Средняя абсолютная ошибка: 49.350961054515906\n",
            "R^2 score: 0.2785806982255492\n",
            "Максимальная абсолютная ошибка: 291.26223342994246\n",
            "Средняя абсолютная ошибка: 49.88229344477991\n",
            "R^2 score: 0.2774739127378226\n",
            "Максимальная абсолютная ошибка: 291.26223342994246\n",
            "Средняя абсолютная ошибка: 49.93801788902319\n",
            "R^2 score: 0.276286028380046\n",
            "Максимальная абсолютная ошибка: 291.26223342994246\n",
            "Средняя абсолютная ошибка: 50.01349730576309\n",
            "R^2 score: 0.275326018158195\n",
            "Максимальная абсолютная ошибка: 291.26223342994246\n",
            "Средняя абсолютная ошибка: 50.03328662859289\n",
            "R^2 score: 0.2958749927832609\n",
            "Максимальная абсолютная ошибка: 290.33850450213146\n",
            "Средняя абсолютная ошибка: 48.57175302664411\n",
            "R^2 score: 0.2944368254919508\n",
            "Максимальная абсолютная ошибка: 290.4094914685347\n",
            "Средняя абсолютная ошибка: 48.293602975240525\n",
            "R^2 score: 0.2933708943674347\n",
            "Максимальная абсолютная ошибка: 290.4094914685347\n",
            "Средняя абсолютная ошибка: 48.353693963163295\n",
            "R^2 score: 0.2865571218030053\n",
            "Максимальная абсолютная ошибка: 290.4094914685347\n",
            "Средняя абсолютная ошибка: 48.78403163319443\n",
            "R^2 score: 0.2859714266684511\n",
            "Максимальная абсолютная ошибка: 290.4094914685347\n",
            "Средняя абсолютная ошибка: 48.56053958348408\n",
            "R^2 score: 0.2842812770062897\n",
            "Максимальная абсолютная ошибка: 290.67538826522593\n",
            "Средняя абсолютная ошибка: 48.96788062646157\n",
            "R^2 score: 0.2832523377719325\n",
            "Максимальная абсолютная ошибка: 290.67538826522593\n",
            "Средняя абсолютная ошибка: 49.062243574663945\n",
            "R^2 score: 0.28214583309012353\n",
            "Максимальная абсолютная ошибка: 290.67538826522593\n",
            "Средняя абсолютная ошибка: 49.17584186075944\n",
            "R^2 score: 0.2813340229623277\n",
            "Максимальная абсолютная ошибка: 290.67538826522593\n",
            "Средняя абсолютная ошибка: 49.18556314850695\n",
            "R^2 score: 0.29832679841914667\n",
            "Максимальная абсолютная ошибка: 289.55279332942496\n",
            "Средняя абсолютная ошибка: 48.88922405486126\n",
            "R^2 score: 0.29460915659353226\n",
            "Максимальная абсолютная ошибка: 289.549091595876\n",
            "Средняя абсолютная ошибка: 49.10360400776657\n",
            "R^2 score: 0.29384874131791006\n",
            "Максимальная абсолютная ошибка: 289.549091595876\n",
            "Средняя абсолютная ошибка: 49.11808439150595\n",
            "R^2 score: 0.2870127598718166\n",
            "Максимальная абсолютная ошибка: 289.549091595876\n",
            "Средняя абсолютная ошибка: 49.52785389960152\n",
            "R^2 score: 0.2870340017139281\n",
            "Максимальная абсолютная ошибка: 289.549091595876\n",
            "Средняя абсолютная ошибка: 49.18387535479782\n",
            "R^2 score: 0.287441104431741\n",
            "Максимальная абсолютная ошибка: 289.53155871304824\n",
            "Средняя абсолютная ошибка: 48.91199489272802\n",
            "R^2 score: 0.2867975667895586\n",
            "Максимальная абсолютная ошибка: 289.53155871304824\n",
            "Средняя абсолютная ошибка: 48.952301497961635\n",
            "R^2 score: 0.2860150014013024\n",
            "Максимальная абсолютная ошибка: 289.53155871304824\n",
            "Средняя абсолютная ошибка: 49.01972584629494\n",
            "R^2 score: 0.28527109276524\n",
            "Максимальная абсолютная ошибка: 289.53155871304824\n",
            "Средняя абсолютная ошибка: 49.0668520899165\n",
            "R^2 score: 0.30979985933930376\n",
            "Максимальная абсолютная ошибка: 287.16974611828323\n",
            "Средняя абсолютная ошибка: 47.90749161378364\n",
            "R^2 score: 0.30300183296868\n",
            "Максимальная абсолютная ошибка: 287.51814692605024\n",
            "Средняя абсолютная ошибка: 48.940813126571534\n",
            "R^2 score: 0.3017768351244754\n",
            "Максимальная абсолютная ошибка: 287.51814692605024\n",
            "Средняя абсолютная ошибка: 48.9635922251324\n",
            "R^2 score: 0.29400882376962456\n",
            "Максимальная абсолютная ошибка: 287.51814692605024\n",
            "Средняя абсолютная ошибка: 49.38888840794699\n",
            "R^2 score: 0.294051125316492\n",
            "Максимальная абсолютная ошибка: 287.51814692605024\n",
            "Средняя абсолютная ошибка: 49.08051474784663\n",
            "R^2 score: 0.29311218342244094\n",
            "Максимальная абсолютная ошибка: 287.8356975679622\n",
            "Средняя абсолютная ошибка: 48.99377494483195\n",
            "R^2 score: 0.29255607902268654\n",
            "Максимальная абсолютная ошибка: 287.8356975679622\n",
            "Средняя абсолютная ошибка: 49.05248471025873\n",
            "R^2 score: 0.29195926018838847\n",
            "Максимальная абсолютная ошибка: 287.8356975679622\n",
            "Средняя абсолютная ошибка: 49.10089282100111\n",
            "R^2 score: 0.2913553300372985\n",
            "Максимальная абсолютная ошибка: 287.8356975679622\n",
            "Средняя абсолютная ошибка: 49.134519264170166\n",
            "R^2 score: 0.3108479852487408\n",
            "Максимальная абсолютная ошибка: 287.10717221930616\n",
            "Средняя абсолютная ошибка: 48.51126046723393\n",
            "R^2 score: 0.30642924972979046\n",
            "Максимальная абсолютная ошибка: 287.11875556273736\n",
            "Средняя абсолютная ошибка: 49.1798734033932\n",
            "R^2 score: 0.30518720233716357\n",
            "Максимальная абсолютная ошибка: 287.11875556273736\n",
            "Средняя абсолютная ошибка: 49.266368170498104\n",
            "R^2 score: 0.2973863109491892\n",
            "Максимальная абсолютная ошибка: 287.11875556273736\n",
            "Средняя абсолютная ошибка: 49.750160178340415\n",
            "R^2 score: 0.29717990213120504\n",
            "Максимальная абсолютная ошибка: 287.11875556273736\n",
            "Средняя абсолютная ошибка: 49.49523913510922\n",
            "R^2 score: 0.2966961098225954\n",
            "Максимальная абсолютная ошибка: 287.13090569898793\n",
            "Средняя абсолютная ошибка: 49.53007848326858\n",
            "R^2 score: 0.2962595172632069\n",
            "Максимальная абсолютная ошибка: 287.13090569898793\n",
            "Средняя абсолютная ошибка: 49.45209188827194\n",
            "R^2 score: 0.2961735565338426\n",
            "Максимальная абсолютная ошибка: 287.13090569898793\n",
            "Средняя абсолютная ошибка: 49.43090816134023\n",
            "R^2 score: 0.2956737844936672\n",
            "Максимальная абсолютная ошибка: 287.13090569898793\n",
            "Средняя абсолютная ошибка: 49.464571279586245\n"
          ]
        }
      ]
    },
    {
      "cell_type": "code",
      "execution_count": 59,
      "metadata": {
        "id": "me8c1V4sokaa"
      },
      "outputs": [],
      "source": [
        "results_df1 = pd.DataFrame(results1)\n",
        "results_df2 = pd.DataFrame(results2)"
      ]
    },
    {
      "cell_type": "code",
      "source": [
        "pred_Qmax"
      ],
      "metadata": {
        "id": "YEOLXuhz0G6Y"
      },
      "execution_count": null,
      "outputs": []
    },
    {
      "cell_type": "code",
      "source": [
        "plt.plot(results_df2['pred_Q'])\n",
        "plt.scatter(results_df2['pred_Q'].index,results_df2['pred_Q'])"
      ],
      "metadata": {
        "colab": {
          "base_uri": "https://localhost:8080/",
          "height": 452
        },
        "id": "MPdxRr0E5OeA",
        "outputId": "fb7246d2-74cb-4c67-abbf-50f3381df041"
      },
      "execution_count": 60,
      "outputs": [
        {
          "output_type": "execute_result",
          "data": {
            "text/plain": [
              "<matplotlib.collections.PathCollection at 0x7fdc1c10e680>"
            ]
          },
          "metadata": {},
          "execution_count": 60
        },
        {
          "output_type": "display_data",
          "data": {
            "text/plain": [
              "<Figure size 640x480 with 1 Axes>"
            ],
            "image/png": "[encoded data removed]"
          },
          "metadata": {}
        }
      ]
    },
    {
      "cell_type": "code",
      "execution_count": 54,
      "metadata": {
        "colab": {
          "base_uri": "https://localhost:8080/",
          "height": 447
        },
        "id": "vg3a4J7zokac",
        "outputId": "50845a77-d434-4988-f81e-b85f71e7563b"
      },
      "outputs": [
        {
          "output_type": "execute_result",
          "data": {
            "text/plain": [
              "<matplotlib.collections.PathCollection at 0x7fdc19798b50>"
            ]
          },
          "metadata": {},
          "execution_count": 54
        },
        {
          "output_type": "display_data",
          "data": {
            "text/plain": [
              "<Figure size 640x480 with 1 Axes>"
            ],
            "image/png": "[encoded data removed]"
          },
          "metadata": {}
        }
      ],
      "source": [
        "plt.plot(results_df1['pred_Q'])\n",
        "plt.scatter(results_df1['pred_Q'].index,results_df1['pred_Q'])"
      ]
    },
    {
      "cell_type": "code",
      "execution_count": 51,
      "metadata": {
        "colab": {
          "base_uri": "https://localhost:8080/",
          "height": 424
        },
        "id": "YxKairNEokac",
        "outputId": "1cb2c8ac-18b8-4836-f947-e5fa59c95ce3"
      },
      "outputs": [
        {
          "output_type": "execute_result",
          "data": {
            "text/plain": [
              "    I  J                                          coeff_new  R2_score  \\\n",
              "0   0  0  [{'A0('11-25')': 1.8991128187257627, 'A0('9-16...  0.799038   \n",
              "1   0  1  [{'A0('11-25')': 1.8991128187257627, 'A0('9-16...  0.808669   \n",
              "2   0  2  [{'A0('11-25')': 1.8991128187257627, 'A0('9-16...  0.813488   \n",
              "3   0  3  [{'A0('11-25')': 1.8991128187257627, 'A0('9-16...  0.814365   \n",
              "4   0  4  [{'A0('11-25')': 1.8991128187257627, 'A0('9-16...  0.810883   \n",
              ".. .. ..                                                ...       ...   \n",
              "76  8  4  [{'A0('11-25')': 2.117104834169361, 'A0('9-16'...  0.983623   \n",
              "77  8  5  [{'A0('11-25')': 2.117104834169361, 'A0('9-16'...  0.983701   \n",
              "78  8  6  [{'A0('11-25')': 2.138211082639285, 'A0('9-16'...  0.983902   \n",
              "79  8  7  [{'A0('11-25')': 2.138211082639285, 'A0('9-16'...  0.983954   \n",
              "80  8  8  [{'A0('11-25')': 2.138211082639285, 'A0('9-16'...  0.983389   \n",
              "\n",
              "    max_error        mae    pred_Q  pred_Qmax  \n",
              "0   42.352930  13.185064  0.148705   0.872360  \n",
              "1   41.876260  12.626000  0.143395   0.872360  \n",
              "2   41.876260  12.529353  0.146355   0.872360  \n",
              "3   41.254843  12.846144  0.150884   0.872360  \n",
              "4   41.254843  13.337997  0.151234   0.872360  \n",
              "..        ...        ...       ...        ...  \n",
              "76  12.057661   4.022771  0.040105   0.119243  \n",
              "77  12.057661   3.997497  0.039845   0.119243  \n",
              "78  11.927712   3.972847  0.039685   0.116467  \n",
              "79  11.927712   3.954534  0.039493   0.116467  \n",
              "80  11.927712   4.041996  0.040206   0.116467  \n",
              "\n",
              "[81 rows x 8 columns]"
            ],
            "text/html": [
              "\n",
              "  <div id=\"df-2ba0e8cb-f1a6-4539-81c3-af991bec8aed\" class=\"colab-df-container\">\n",
              "    <div>\n",
              "<style scoped>\n",
              "    .dataframe tbody tr th:only-of-type {\n",
              "        vertical-align: middle;\n",
              "    }\n",
              "\n",
              "    .dataframe tbody tr th {\n",
              "        vertical-align: top;\n",
              "    }\n",
              "\n",
              "    .dataframe thead th {\n",
              "        text-align: right;\n",
              "    }\n",
              "</style>\n",
              "<table border=\"1\" class=\"dataframe\">\n",
              "  <thead>\n",
              "    <tr style=\"text-align: right;\">\n",
              "      <th></th>\n",
              "      <th>I</th>\n",
              "      <th>J</th>\n",
              "      <th>coeff_new</th>\n",
              "      <th>R2_score</th>\n",
              "      <th>max_error</th>\n",
              "      <th>mae</th>\n",
              "      <th>pred_Q</th>\n",
              "      <th>pred_Qmax</th>\n",
              "    </tr>\n",
              "  </thead>\n",
              "  <tbody>\n",
              "    <tr>\n",
              "      <th>0</th>\n",
              "      <td>0</td>\n",
              "      <td>0</td>\n",
              "      <td>[{'A0('11-25')': 1.8991128187257627, 'A0('9-16...</td>\n",
              "      <td>0.799038</td>\n",
              "      <td>42.352930</td>\n",
              "      <td>13.185064</td>\n",
              "      <td>0.148705</td>\n",
              "      <td>0.872360</td>\n",
              "    </tr>\n",
              "    <tr>\n",
              "      <th>1</th>\n",
              "      <td>0</td>\n",
              "      <td>1</td>\n",
              "      <td>[{'A0('11-25')': 1.8991128187257627, 'A0('9-16...</td>\n",
              "      <td>0.808669</td>\n",
              "      <td>41.876260</td>\n",
              "      <td>12.626000</td>\n",
              "      <td>0.143395</td>\n",
              "      <td>0.872360</td>\n",
              "    </tr>\n",
              "    <tr>\n",
              "      <th>2</th>\n",
              "      <td>0</td>\n",
              "      <td>2</td>\n",
              "      <td>[{'A0('11-25')': 1.8991128187257627, 'A0('9-16...</td>\n",
              "      <td>0.813488</td>\n",
              "      <td>41.876260</td>\n",
              "      <td>12.529353</td>\n",
              "      <td>0.146355</td>\n",
              "      <td>0.872360</td>\n",
              "    </tr>\n",
              "    <tr>\n",
              "      <th>3</th>\n",
              "      <td>0</td>\n",
              "      <td>3</td>\n",
              "      <td>[{'A0('11-25')': 1.8991128187257627, 'A0('9-16...</td>\n",
              "      <td>0.814365</td>\n",
              "      <td>41.254843</td>\n",
              "      <td>12.846144</td>\n",
              "      <td>0.150884</td>\n",
              "      <td>0.872360</td>\n",
              "    </tr>\n",
              "    <tr>\n",
              "      <th>4</th>\n",
              "      <td>0</td>\n",
              "      <td>4</td>\n",
              "      <td>[{'A0('11-25')': 1.8991128187257627, 'A0('9-16...</td>\n",
              "      <td>0.810883</td>\n",
              "      <td>41.254843</td>\n",
              "      <td>13.337997</td>\n",
              "      <td>0.151234</td>\n",
              "      <td>0.872360</td>\n",
              "    </tr>\n",
              "    <tr>\n",
              "      <th>...</th>\n",
              "      <td>...</td>\n",
              "      <td>...</td>\n",
              "      <td>...</td>\n",
              "      <td>...</td>\n",
              "      <td>...</td>\n",
              "      <td>...</td>\n",
              "      <td>...</td>\n",
              "      <td>...</td>\n",
              "    </tr>\n",
              "    <tr>\n",
              "      <th>76</th>\n",
              "      <td>8</td>\n",
              "      <td>4</td>\n",
              "      <td>[{'A0('11-25')': 2.117104834169361, 'A0('9-16'...</td>\n",
              "      <td>0.983623</td>\n",
              "      <td>12.057661</td>\n",
              "      <td>4.022771</td>\n",
              "      <td>0.040105</td>\n",
              "      <td>0.119243</td>\n",
              "    </tr>\n",
              "    <tr>\n",
              "      <th>77</th>\n",
              "      <td>8</td>\n",
              "      <td>5</td>\n",
              "      <td>[{'A0('11-25')': 2.117104834169361, 'A0('9-16'...</td>\n",
              "      <td>0.983701</td>\n",
              "      <td>12.057661</td>\n",
              "      <td>3.997497</td>\n",
              "      <td>0.039845</td>\n",
              "      <td>0.119243</td>\n",
              "    </tr>\n",
              "    <tr>\n",
              "      <th>78</th>\n",
              "      <td>8</td>\n",
              "      <td>6</td>\n",
              "      <td>[{'A0('11-25')': 2.138211082639285, 'A0('9-16'...</td>\n",
              "      <td>0.983902</td>\n",
              "      <td>11.927712</td>\n",
              "      <td>3.972847</td>\n",
              "      <td>0.039685</td>\n",
              "      <td>0.116467</td>\n",
              "    </tr>\n",
              "    <tr>\n",
              "      <th>79</th>\n",
              "      <td>8</td>\n",
              "      <td>7</td>\n",
              "      <td>[{'A0('11-25')': 2.138211082639285, 'A0('9-16'...</td>\n",
              "      <td>0.983954</td>\n",
              "      <td>11.927712</td>\n",
              "      <td>3.954534</td>\n",
              "      <td>0.039493</td>\n",
              "      <td>0.116467</td>\n",
              "    </tr>\n",
              "    <tr>\n",
              "      <th>80</th>\n",
              "      <td>8</td>\n",
              "      <td>8</td>\n",
              "      <td>[{'A0('11-25')': 2.138211082639285, 'A0('9-16'...</td>\n",
              "      <td>0.983389</td>\n",
              "      <td>11.927712</td>\n",
              "      <td>4.041996</td>\n",
              "      <td>0.040206</td>\n",
              "      <td>0.116467</td>\n",
              "    </tr>\n",
              "  </tbody>\n",
              "</table>\n",
              "<p>81 rows × 8 columns</p>\n",
              "</div>\n",
              "    <div class=\"colab-df-buttons\">\n",
              "\n",
              "  <div class=\"colab-df-container\">\n",
              "    <button class=\"colab-df-convert\" onclick=\"convertToInteractive('df-2ba0e8cb-f1a6-4539-81c3-af991bec8aed')\"\n",
              "            title=\"Convert this dataframe to an interactive table.\"\n",
              "            style=\"display:none;\">\n",
              "\n",
              "  <svg xmlns=\"http://www.w3.org/2000/svg\" height=\"24px\" viewBox=\"0 -960 960 960\">\n",
              "    <path d=\"M120-120v-720h720v720H120Zm60-500h600v-160H180v160Zm220 220h160v-160H400v160Zm0 220h160v-160H400v160ZM180-400h160v-160H180v160Zm440 0h160v-160H620v160ZM180-180h160v-160H180v160Zm440 0h160v-160H620v160Z\"/>\n",
              "  </svg>\n",
              "    </button>\n",
              "\n",
              "  <style>\n",
              "    .colab-df-container {\n",
              "      display:flex;\n",
              "      gap: 12px;\n",
              "    }\n",
              "\n",
              "    .colab-df-convert {\n",
              "      background-color: #E8F0FE;\n",
              "      border: none;\n",
              "      border-radius: 50%;\n",
              "      cursor: pointer;\n",
              "      display: none;\n",
              "      fill: #1967D2;\n",
              "      height: 32px;\n",
              "      padding: 0 0 0 0;\n",
              "      width: 32px;\n",
              "    }\n",
              "\n",
              "    .colab-df-convert:hover {\n",
              "      background-color: #E2EBFA;\n",
              "      box-shadow: 0px 1px 2px rgba(60, 64, 67, 0.3), 0px 1px 3px 1px rgba(60, 64, 67, 0.15);\n",
              "      fill: #174EA6;\n",
              "    }\n",
              "\n",
              "    .colab-df-buttons div {\n",
              "      margin-bottom: 4px;\n",
              "    }\n",
              "\n",
              "    [theme=dark] .colab-df-convert {\n",
              "      background-color: #3B4455;\n",
              "      fill: #D2E3FC;\n",
              "    }\n",
              "\n",
              "    [theme=dark] .colab-df-convert:hover {\n",
              "      background-color: #434B5C;\n",
              "      box-shadow: 0px 1px 3px 1px rgba(0, 0, 0, 0.15);\n",
              "      filter: drop-shadow(0px 1px 2px rgba(0, 0, 0, 0.3));\n",
              "      fill: #FFFFFF;\n",
              "    }\n",
              "  </style>\n",
              "\n",
              "    <script>\n",
              "      const buttonEl =\n",
              "        document.querySelector('#df-2ba0e8cb-f1a6-4539-81c3-af991bec8aed button.colab-df-convert');\n",
              "      buttonEl.style.display =\n",
              "        google.colab.kernel.accessAllowed ? 'block' : 'none';\n",
              "\n",
              "      async function convertToInteractive(key) {\n",
              "        const element = document.querySelector('#df-2ba0e8cb-f1a6-4539-81c3-af991bec8aed');\n",
              "        const dataTable =\n",
              "          await google.colab.kernel.invokeFunction('convertToInteractive',\n",
              "                                                    [key], {});\n",
              "        if (!dataTable) return;\n",
              "\n",
              "        const docLinkHtml = 'Like what you see? Visit the ' +\n",
              "          '<a target=\"_blank\" href=https://colab.research.google.com/notebooks/data_table.ipynb>data table notebook</a>'\n",
              "          + ' to learn more about interactive tables.';\n",
              "        element.innerHTML = '';\n",
              "        dataTable['output_type'] = 'display_data';\n",
              "        await google.colab.output.renderOutput(dataTable, element);\n",
              "        const docLink = document.createElement('div');\n",
              "        docLink.innerHTML = docLinkHtml;\n",
              "        element.appendChild(docLink);\n",
              "      }\n",
              "    </script>\n",
              "  </div>\n",
              "\n",
              "\n",
              "<div id=\"df-af88d76d-c5de-4983-a392-d06a6af67ad1\">\n",
              "  <button class=\"colab-df-quickchart\" onclick=\"quickchart('df-af88d76d-c5de-4983-a392-d06a6af67ad1')\"\n",
              "            title=\"Suggest charts\"\n",
              "            style=\"display:none;\">\n",
              "\n",
              "<svg xmlns=\"http://www.w3.org/2000/svg\" height=\"24px\"viewBox=\"0 0 24 24\"\n",
              "     width=\"24px\">\n",
              "    <g>\n",
              "        <path d=\"M19 3H5c-1.1 0-2 .9-2 2v14c0 1.1.9 2 2 2h14c1.1 0 2-.9 2-2V5c0-1.1-.9-2-2-2zM9 17H7v-7h2v7zm4 0h-2V7h2v10zm4 0h-2v-4h2v4z\"/>\n",
              "    </g>\n",
              "</svg>\n",
              "  </button>\n",
              "\n",
              "<style>\n",
              "  .colab-df-quickchart {\n",
              "      --bg-color: #E8F0FE;\n",
              "      --fill-color: #1967D2;\n",
              "      --hover-bg-color: #E2EBFA;\n",
              "      --hover-fill-color: #174EA6;\n",
              "      --disabled-fill-color: #AAA;\n",
              "      --disabled-bg-color: #DDD;\n",
              "  }\n",
              "\n",
              "  [theme=dark] .colab-df-quickchart {\n",
              "      --bg-color: #3B4455;\n",
              "      --fill-color: #D2E3FC;\n",
              "      --hover-bg-color: #434B5C;\n",
              "      --hover-fill-color: #FFFFFF;\n",
              "      --disabled-bg-color: #3B4455;\n",
              "      --disabled-fill-color: #666;\n",
              "  }\n",
              "\n",
              "  .colab-df-quickchart {\n",
              "    background-color: var(--bg-color);\n",
              "    border: none;\n",
              "    border-radius: 50%;\n",
              "    cursor: pointer;\n",
              "    display: none;\n",
              "    fill: var(--fill-color);\n",
              "    height: 32px;\n",
              "    padding: 0;\n",
              "    width: 32px;\n",
              "  }\n",
              "\n",
              "  .colab-df-quickchart:hover {\n",
              "    background-color: var(--hover-bg-color);\n",
              "    box-shadow: 0 1px 2px rgba(60, 64, 67, 0.3), 0 1px 3px 1px rgba(60, 64, 67, 0.15);\n",
              "    fill: var(--button-hover-fill-color);\n",
              "  }\n",
              "\n",
              "  .colab-df-quickchart-complete:disabled,\n",
              "  .colab-df-quickchart-complete:disabled:hover {\n",
              "    background-color: var(--disabled-bg-color);\n",
              "    fill: var(--disabled-fill-color);\n",
              "    box-shadow: none;\n",
              "  }\n",
              "\n",
              "  .colab-df-spinner {\n",
              "    border: 2px solid var(--fill-color);\n",
              "    border-color: transparent;\n",
              "    border-bottom-color: var(--fill-color);\n",
              "    animation:\n",
              "      spin 1s steps(1) infinite;\n",
              "  }\n",
              "\n",
              "  @keyframes spin {\n",
              "    0% {\n",
              "      border-color: transparent;\n",
              "      border-bottom-color: var(--fill-color);\n",
              "      border-left-color: var(--fill-color);\n",
              "    }\n",
              "    20% {\n",
              "      border-color: transparent;\n",
              "      border-left-color: var(--fill-color);\n",
              "      border-top-color: var(--fill-color);\n",
              "    }\n",
              "    30% {\n",
              "      border-color: transparent;\n",
              "      border-left-color: var(--fill-color);\n",
              "      border-top-color: var(--fill-color);\n",
              "      border-right-color: var(--fill-color);\n",
              "    }\n",
              "    40% {\n",
              "      border-color: transparent;\n",
              "      border-right-color: var(--fill-color);\n",
              "      border-top-color: var(--fill-color);\n",
              "    }\n",
              "    60% {\n",
              "      border-color: transparent;\n",
              "      border-right-color: var(--fill-color);\n",
              "    }\n",
              "    80% {\n",
              "      border-color: transparent;\n",
              "      border-right-color: var(--fill-color);\n",
              "      border-bottom-color: var(--fill-color);\n",
              "    }\n",
              "    90% {\n",
              "      border-color: transparent;\n",
              "      border-bottom-color: var(--fill-color);\n",
              "    }\n",
              "  }\n",
              "</style>\n",
              "\n",
              "  <script>\n",
              "    async function quickchart(key) {\n",
              "      const quickchartButtonEl =\n",
              "        document.querySelector('#' + key + ' button');\n",
              "      quickchartButtonEl.disabled = true;  // To prevent multiple clicks.\n",
              "      quickchartButtonEl.classList.add('colab-df-spinner');\n",
              "      try {\n",
              "        const charts = await google.colab.kernel.invokeFunction(\n",
              "            'suggestCharts', [key], {});\n",
              "      } catch (error) {\n",
              "        console.error('Error during call to suggestCharts:', error);\n",
              "      }\n",
              "      quickchartButtonEl.classList.remove('colab-df-spinner');\n",
              "      quickchartButtonEl.classList.add('colab-df-quickchart-complete');\n",
              "    }\n",
              "    (() => {\n",
              "      let quickchartButtonEl =\n",
              "        document.querySelector('#df-af88d76d-c5de-4983-a392-d06a6af67ad1 button');\n",
              "      quickchartButtonEl.style.display =\n",
              "        google.colab.kernel.accessAllowed ? 'block' : 'none';\n",
              "    })();\n",
              "  </script>\n",
              "</div>\n",
              "    </div>\n",
              "  </div>\n"
            ],
            "application/vnd.google.colaboratory.intrinsic+json": {
              "type": "dataframe",
              "variable_name": "results_df1",
              "summary": "{\n  \"name\": \"results_df1\",\n  \"rows\": 81,\n  \"fields\": [\n    {\n      \"column\": \"I\",\n      \"properties\": {\n        \"dtype\": \"number\",\n        \"std\": 2,\n        \"min\": 0,\n        \"max\": 8,\n        \"num_unique_values\": 9,\n        \"samples\": [\n          7,\n          1,\n          5\n        ],\n        \"semantic_type\": \"\",\n        \"description\": \"\"\n      }\n    },\n    {\n      \"column\": \"J\",\n      \"properties\": {\n        \"dtype\": \"number\",\n        \"std\": 2,\n        \"min\": 0,\n        \"max\": 8,\n        \"num_unique_values\": 9,\n        \"samples\": [\n          7,\n          1,\n          5\n        ],\n        \"semantic_type\": \"\",\n        \"description\": \"\"\n      }\n    },\n    {\n      \"column\": \"coeff_new\",\n      \"properties\": {\n        \"dtype\": \"object\",\n        \"semantic_type\": \"\",\n        \"description\": \"\"\n      }\n    },\n    {\n      \"column\": \"R2_score\",\n      \"properties\": {\n        \"dtype\": \"number\",\n        \"std\": 0.1101383574455328,\n        \"min\": 0.5071253706543046,\n        \"max\": 0.9839544074757838,\n        \"num_unique_values\": 81,\n        \"samples\": [\n          0.8362713963476277,\n          0.7990380858599488,\n          0.8035667880524305\n        ],\n        \"semantic_type\": \"\",\n        \"description\": \"\"\n      }\n    },\n    {\n      \"column\": \"max_error\",\n      \"properties\": {\n        \"dtype\": \"number\",\n        \"std\": 27.362765341489666,\n        \"min\": 11.927711738066748,\n        \"max\": 137.83531532299355,\n        \"num_unique_values\": 27,\n        \"samples\": [\n          43.113312713844564,\n          42.877965204721306,\n          42.79178339475756\n        ],\n        \"semantic_type\": \"\",\n        \"description\": \"\"\n      }\n    },\n    {\n      \"column\": \"mae\",\n      \"properties\": {\n        \"dtype\": \"number\",\n        \"std\": 2.983123170623864,\n        \"min\": 3.9545337362349886,\n        \"max\": 13.915151645037056,\n        \"num_unique_values\": 81,\n        \"samples\": [\n          11.269051348265315,\n          13.185063520643267,\n          12.317348990882545\n        ],\n        \"semantic_type\": \"\",\n        \"description\": \"\"\n      }\n    },\n    {\n      \"column\": \"pred_Q\",\n      \"properties\": {\n        \"dtype\": \"number\",\n        \"std\": 0.033714937943815165,\n        \"min\": 0.039493285560371634,\n        \"max\": 0.17280890313743993,\n        \"num_unique_values\": 81,\n        \"samples\": [\n          0.1122970092889146,\n          0.14870456336041724,\n          0.12421048805045505\n        ],\n        \"semantic_type\": \"\",\n        \"description\": \"\"\n      }\n    },\n    {\n      \"column\": \"pred_Qmax\",\n      \"properties\": {\n        \"dtype\": \"number\",\n        \"std\": 0.32617714042292484,\n        \"min\": 0.1164669135806231,\n        \"max\": 1.3863532389096596,\n        \"num_unique_values\": 26,\n        \"samples\": [\n          0.3243731467963719,\n          0.3291681060130262,\n          0.8723599823924092\n        ],\n        \"semantic_type\": \"\",\n        \"description\": \"\"\n      }\n    }\n  ]\n}"
            }
          },
          "metadata": {},
          "execution_count": 51
        }
      ],
      "source": [
        "results_df1"
      ]
    },
    {
      "cell_type": "code",
      "execution_count": null,
      "metadata": {
        "id": "A4Ppk5N0okad",
        "outputId": "3ce9e177-f908-4c52-f7f8-0c6c4224aa7c"
      },
      "outputs": [
        {
          "data": {
            "text/plain": [
              "array([   5,   10,    8,   23,   22,   90,  293,  395,  993,    4,   14,\n",
              "          7,   10,   16,   56,  288,  382,  926,   29,   24,    8,   12,\n",
              "         18,   80,  233,  355, 1070,   34,   38,   77,   57,   93,   76,\n",
              "        126,  154,  199,  348,   26,   32,   47,   47,   73,   72,  149,\n",
              "        121,  181,  204,   34,   40,   47,   48,   73,   70,  145,  146,\n",
              "        176,  300])"
            ]
          },
          "execution_count": 32,
          "metadata": {},
          "output_type": "execute_result"
        }
      ],
      "source": [
        "right_bound[0, :]"
      ]
    },
    {
      "cell_type": "code",
      "execution_count": null,
      "metadata": {
        "id": "AMlFc9y4okae",
        "outputId": "61a88815-797c-47d9-dbd6-8c3f96aed7ef"
      },
      "outputs": [
        {
          "data": {
            "text/plain": [
              "array([  0,   3,   1,   5,   4,  15, 100, 113,  76,   0,   4,   5,   5,\n",
              "         3,   9,  98,  45,  90,   2,   4,   0,   5,   3,   5,  89,  91,\n",
              "        83,  17,  18,  15,  23,  28,  31,  49,  26,  61,  59,  17,  19,\n",
              "        12,  22,  29,  31,  49,  48,  86, 133,  16,  17,  17,  21,  23,\n",
              "        32,  56,  19,  51,  45])"
            ]
          },
          "execution_count": 34,
          "metadata": {},
          "output_type": "execute_result"
        }
      ],
      "source": [
        "left_bound[0, :]"
      ]
    },
    {
      "cell_type": "code",
      "execution_count": null,
      "metadata": {
        "colab": {
          "base_uri": "https://localhost:8080/",
          "height": 447
        },
        "id": "JtqQGwcvzN-f",
        "outputId": "13365f44-f748-4e89-9215-963b399b5dba"
      },
      "outputs": [
        {
          "data": {
            "text/plain": [
              "<matplotlib.collections.LineCollection at 0x1bed5e16f30>"
            ]
          },
          "execution_count": 15,
          "metadata": {},
          "output_type": "execute_result"
        },
        {
          "data": {
            "image/png": "[encoded data removed]",
            "text/plain": [
              "<Figure size 640x480 with 1 Axes>"
            ]
          },
          "metadata": {},
          "output_type": "display_data"
        }
      ],
      "source": [
        "plt.plot(B.iloc[:, 44])\n",
        "plt.vlines(idp[44], 0, B.iloc[idp[44], 44])\n",
        "plt.vlines(int(left_bound[0, 44]), 0, B.iloc[int(left_bound[0, 44]), 44])\n",
        "plt.vlines(int(right_bound[0, 44]), 0, B.iloc[int(right_bound[0, 44]), 44])"
      ]
    },
    {
      "cell_type": "code",
      "execution_count": null,
      "metadata": {
        "colab": {
          "base_uri": "https://localhost:8080/"
        },
        "id": "OrufEuwJufqH",
        "outputId": "c13d0844-08d1-4ba5-bd25-d0630fec0065"
      },
      "outputs": [
        {
          "data": {
            "text/plain": [
              "[0.0372,\n",
              " 0.0831,\n",
              " 0.03,\n",
              " 0.0332,\n",
              " 0.0584,\n",
              " 0.0495,\n",
              " 0.0165,\n",
              " 0.0302,\n",
              " 0.0209,\n",
              " 0.0764,\n",
              " 0.0759,\n",
              " 0.0361,\n",
              " 0.0458,\n",
              " 0.0712,\n",
              " 0.0594,\n",
              " 0.0159,\n",
              " 0.0279,\n",
              " 0.02,\n",
              " 0.0342,\n",
              " 0.0679,\n",
              " 0.0316,\n",
              " 0.0454,\n",
              " 0.0649,\n",
              " 0.0532,\n",
              " 0.0172,\n",
              " 0.0247,\n",
              " 0.02,\n",
              " 0.0347,\n",
              " 0.0379,\n",
              " 0.0567,\n",
              " 0.0651,\n",
              " 0.0785,\n",
              " 0.0525,\n",
              " 0.0488,\n",
              " 0.0969,\n",
              " 0.0629,\n",
              " 0.0855,\n",
              " 0.0445,\n",
              " 0.0636,\n",
              " 0.0955,\n",
              " 0.102,\n",
              " 0.1446,\n",
              " 0.0637,\n",
              " 0.0454,\n",
              " 0.1618,\n",
              " 0.0767,\n",
              " 0.1705,\n",
              " 0.0281,\n",
              " 0.0341,\n",
              " 0.0689,\n",
              " 0.0612,\n",
              " 0.079,\n",
              " 0.052,\n",
              " 0.0413,\n",
              " 0.0708,\n",
              " 0.0643,\n",
              " 0.0787]"
            ]
          },
          "execution_count": 30,
          "metadata": {},
          "output_type": "execute_result"
        }
      ],
      "source": [
        "[B.iloc[maxes[i]:, i][B.iloc[maxes[i]:, i] >= np.array(B.iloc[maxes[i]:, i].max()*0.5)].iloc[-1] for i in range(57)]"
      ]
    },
    {
      "cell_type": "code",
      "execution_count": null,
      "metadata": {
        "id": "Q3JlbE8pv8w8"
      },
      "outputs": [],
      "source": []
    }
  ],
  "metadata": {
    "colab": {
      "provenance": [],
      "include_colab_link": true
    },
    "kernelspec": {
      "display_name": "Python 3",
      "name": "python3"
    },
    "language_info": {
      "codemirror_mode": {
        "name": "ipython",
        "version": 3
      },
      "file_extension": ".py",
      "mimetype": "text/x-python",
      "name": "python",
      "nbconvert_exporter": "python",
      "pygments_lexer": "ipython3",
      "version": "3.12.5"
    }
  },
  "nbformat": 4,
  "nbformat_minor": 0
}